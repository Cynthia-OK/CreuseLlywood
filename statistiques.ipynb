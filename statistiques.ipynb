{
 "cells": [
  {
   "cell_type": "markdown",
   "metadata": {},
   "source": [
    "Liste des statistiques à faire :  \n",
    "*films : \n",
    " *Type de films\n",
    " *durée\n",
    " *budget\n",
    "*acteurs : \n",
    " *nb de films\n",
    " *types de films"
   ]
  },
  {
   "cell_type": "code",
   "execution_count": 3,
   "metadata": {},
   "outputs": [],
   "source": [
    "import pandas as pd"
   ]
  },
  {
   "cell_type": "code",
   "execution_count": 4,
   "metadata": {},
   "outputs": [],
   "source": [
    "films = pd.read_csv('./donnees/export_films.csv', sep=\"\\t\", low_memory=False)"
   ]
  },
  {
   "cell_type": "code",
   "execution_count": 5,
   "metadata": {},
   "outputs": [],
   "source": [
    "films_personnes = pd.read_csv('./donnees/export_films_personnes.csv', sep=\"\\t\", low_memory=False)"
   ]
  },
  {
   "cell_type": "markdown",
   "metadata": {},
   "source": [
    "on enlève les colonnes créer lors de l'export"
   ]
  },
  {
   "cell_type": "code",
   "execution_count": 8,
   "metadata": {},
   "outputs": [],
   "source": [
    "films_personnes = films_personnes.drop(['Unnamed: 0.1', 'Unnamed: 0'], axis = 1)"
   ]
  },
  {
   "cell_type": "code",
   "execution_count": 9,
   "metadata": {},
   "outputs": [],
   "source": [
    "films = films.drop(['Unnamed: 0.1', 'Unnamed: 0'], axis = 1)"
   ]
  },
  {
   "cell_type": "code",
   "execution_count": 10,
   "metadata": {},
   "outputs": [
    {
     "name": "stdout",
     "output_type": "stream",
     "text": [
      "<class 'pandas.core.frame.DataFrame'>\n",
      "RangeIndex: 217136 entries, 0 to 217135\n",
      "Data columns (total 27 columns):\n",
      " #   Column                Non-Null Count   Dtype  \n",
      "---  ------                --------------   -----  \n",
      " 0   adult                 217136 non-null  bool   \n",
      " 1   budget                217136 non-null  int64  \n",
      " 2   genres                217136 non-null  object \n",
      " 3   id_tmdb               217136 non-null  int64  \n",
      " 4   imdb_id               217136 non-null  object \n",
      " 5   original_language     217136 non-null  object \n",
      " 6   original_title        217136 non-null  object \n",
      " 7   overview              217136 non-null  object \n",
      " 8   popularity            217136 non-null  float64\n",
      " 9   poster_path           217136 non-null  object \n",
      " 10  production_countries  217136 non-null  object \n",
      " 11  release_date          217136 non-null  object \n",
      " 12  revenue               217136 non-null  int64  \n",
      " 13  runtime               217136 non-null  int64  \n",
      " 14  spoken_languages      217136 non-null  object \n",
      " 15  status                217136 non-null  object \n",
      " 16  title                 217136 non-null  object \n",
      " 17  vote_average          217136 non-null  float64\n",
      " 18  vote_count            217136 non-null  int64  \n",
      " 19  directors             217136 non-null  object \n",
      " 20  writers               217136 non-null  object \n",
      " 21  nconst                217136 non-null  object \n",
      " 22  category              217136 non-null  object \n",
      " 23  characters            217136 non-null  object \n",
      " 24  primaryName           217136 non-null  object \n",
      " 25  knownForTitles        217136 non-null  object \n",
      " 26  year                  217136 non-null  int64  \n",
      "dtypes: bool(1), float64(2), int64(6), object(18)\n",
      "memory usage: 43.3+ MB\n"
     ]
    }
   ],
   "source": [
    "films_personnes.info()"
   ]
  },
  {
   "cell_type": "code",
   "execution_count": 11,
   "metadata": {},
   "outputs": [
    {
     "name": "stdout",
     "output_type": "stream",
     "text": [
      "<class 'pandas.core.frame.DataFrame'>\n",
      "RangeIndex: 11016 entries, 0 to 11015\n",
      "Data columns (total 22 columns):\n",
      " #   Column                Non-Null Count  Dtype  \n",
      "---  ------                --------------  -----  \n",
      " 0   adult                 11016 non-null  bool   \n",
      " 1   budget                11016 non-null  int64  \n",
      " 2   genres_x              11016 non-null  object \n",
      " 3   id_tmdb               11016 non-null  int64  \n",
      " 4   imdb_id               11016 non-null  object \n",
      " 5   original_language     11016 non-null  object \n",
      " 6   original_title        11016 non-null  object \n",
      " 7   overview              11016 non-null  object \n",
      " 8   popularity            11016 non-null  float64\n",
      " 9   poster_path           11016 non-null  object \n",
      " 10  production_countries  11016 non-null  object \n",
      " 11  release_date          11016 non-null  object \n",
      " 12  revenue               11016 non-null  int64  \n",
      " 13  runtime               11016 non-null  int64  \n",
      " 14  spoken_languages      11016 non-null  object \n",
      " 15  status                11016 non-null  object \n",
      " 16  title                 11016 non-null  object \n",
      " 17  vote_average          11016 non-null  float64\n",
      " 18  vote_count            11016 non-null  int64  \n",
      " 19  directors             11016 non-null  object \n",
      " 20  writers               11016 non-null  object \n",
      " 21  year                  11016 non-null  int64  \n",
      "dtypes: bool(1), float64(2), int64(6), object(13)\n",
      "memory usage: 1.8+ MB\n"
     ]
    }
   ],
   "source": [
    "films.info()"
   ]
  },
  {
   "cell_type": "code",
   "execution_count": 12,
   "metadata": {},
   "outputs": [
    {
     "data": {
      "text/plain": [
       "category\n",
       "actor                  70721\n",
       "actress                34055\n",
       "producer               22430\n",
       "writer                 22395\n",
       "editor                 12820\n",
       "director               12117\n",
       "composer               11698\n",
       "cinematographer        11286\n",
       "casting_director        8828\n",
       "production_designer     7467\n",
       "self                    2812\n",
       "archive_footage          491\n",
       "archive_sound             16\n",
       "Name: count, dtype: int64"
      ]
     },
     "execution_count": 12,
     "metadata": {},
     "output_type": "execute_result"
    }
   ],
   "source": [
    "films_personnes['category'].value_counts()"
   ]
  }
 ],
 "metadata": {
  "kernelspec": {
   "display_name": "base",
   "language": "python",
   "name": "python3"
  },
  "language_info": {
   "codemirror_mode": {
    "name": "ipython",
    "version": 3
   },
   "file_extension": ".py",
   "mimetype": "text/x-python",
   "name": "python",
   "nbconvert_exporter": "python",
   "pygments_lexer": "ipython3",
   "version": "3.12.4"
  }
 },
 "nbformat": 4,
 "nbformat_minor": 2
}
