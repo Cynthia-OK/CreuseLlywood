{
 "cells": [
  {
   "cell_type": "markdown",
   "metadata": {},
   "source": [
    "# Recommandations : \n",
    "    - on cherche un film et on sort 5 films voisins\n",
    "    - on cherche un directeur et on sort ses 5 meilleurs films\n",
    "    - on cherche un acteur et on sort ses 5 meilleurs films\n",
    "    - on cherche une année et on sort les 5 meilleurs films\n",
    "    - on cherche un genre et on sort les 5 meilleurs films\n",
    "    - les 5 meilleurs films français"
   ]
  },
  {
   "cell_type": "markdown",
   "metadata": {},
   "source": [
    "## on cherche un film et on sort 5 films voisins"
   ]
  }
 ],
 "metadata": {
  "language_info": {
   "name": "python"
  }
 },
 "nbformat": 4,
 "nbformat_minor": 2
}
