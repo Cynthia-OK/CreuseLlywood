{
 "cells": [
  {
   "cell_type": "markdown",
   "metadata": {},
   "source": [
    "dans ce fichier nous allons mettre les requêtes de filtres et nettoyage des données"
   ]
  },
  {
   "cell_type": "markdown",
   "metadata": {},
   "source": [
    "Import pandas"
   ]
  },
  {
   "cell_type": "code",
   "execution_count": 1,
   "metadata": {},
   "outputs": [],
   "source": [
    "import pandas as pd"
   ]
  },
  {
   "cell_type": "markdown",
   "metadata": {},
   "source": [
    "Import des données : tables entières"
   ]
  },
  {
   "cell_type": "code",
   "execution_count": 2,
   "metadata": {},
   "outputs": [],
   "source": [
    "tmdb = pd.read_csv(\"./donnees/TMDB/tmdb_full.csv\", low_memory=False)"
   ]
  },
  {
   "cell_type": "code",
   "execution_count": 128,
   "metadata": {},
   "outputs": [],
   "source": [
    "title_akas = pd.read_csv(\"./donnees/IMDb/title.akas.tsv/title.akas.tsv\", sep=\"\\t\", low_memory=False)"
   ]
  },
  {
   "cell_type": "code",
   "execution_count": 4,
   "metadata": {},
   "outputs": [],
   "source": [
    "# title_basics = pd.read_csv(\"./donnees/IMDb/title.basics.tsv/title.basics.tsv\", sep=\"\\t\", low_memory=False)\n",
    "# title_basics.head()"
   ]
  },
  {
   "cell_type": "code",
   "execution_count": 5,
   "metadata": {},
   "outputs": [],
   "source": [
    "title_crew = pd.read_csv(\"./donnees/IMDb/title.crew.tsv/title.crew.tsv\", sep=\"\\t\", low_memory=False)"
   ]
  },
  {
   "cell_type": "code",
   "execution_count": 6,
   "metadata": {},
   "outputs": [],
   "source": [
    "# title_episode = pd.read_csv(\"./donnees/IMDb/title.episode.tsv/title.episode.tsv\", sep=\"\\t\", low_memory=False)"
   ]
  },
  {
   "cell_type": "code",
   "execution_count": 7,
   "metadata": {},
   "outputs": [],
   "source": [
    "title_principals = pd.read_csv(\"./donnees/IMDb/title.principals.tsv/title.principals.tsv\", sep=\"\\t\", low_memory=False)"
   ]
  },
  {
   "cell_type": "code",
   "execution_count": 8,
   "metadata": {},
   "outputs": [],
   "source": [
    "# title_ratings = pd.read_csv(\"./donnees/IMDb/title.ratings.tsv/title.ratings.tsv\", sep=\"\\t\", low_memory=False)"
   ]
  },
  {
   "cell_type": "code",
   "execution_count": 9,
   "metadata": {},
   "outputs": [],
   "source": [
    "name_basics = pd.read_csv(\"./donnees/IMDb/name.basics.tsv/name.basics.tsv\", sep=\"\\t\", low_memory=False)"
   ]
  },
  {
   "cell_type": "markdown",
   "metadata": {},
   "source": [
    "Filtre par genre = Action et production countries = FR"
   ]
  },
  {
   "cell_type": "code",
   "execution_count": 10,
   "metadata": {},
   "outputs": [],
   "source": [
    "tmdb_filtre = tmdb[(tmdb['genres'].str.contains('Action'))|(tmdb['production_countries'].str.contains('FR'))]"
   ]
  },
  {
   "cell_type": "code",
   "execution_count": 11,
   "metadata": {},
   "outputs": [
    {
     "name": "stdout",
     "output_type": "stream",
     "text": [
      "<class 'pandas.core.frame.DataFrame'>\n",
      "Index: 45441 entries, 2 to 309568\n",
      "Data columns (total 25 columns):\n",
      " #   Column                        Non-Null Count  Dtype  \n",
      "---  ------                        --------------  -----  \n",
      " 0   adult                         45441 non-null  bool   \n",
      " 1   backdrop_path                 28949 non-null  object \n",
      " 2   budget                        45441 non-null  int64  \n",
      " 3   genres                        45441 non-null  object \n",
      " 4   homepage                      5801 non-null   object \n",
      " 5   id                            45441 non-null  int64  \n",
      " 6   imdb_id                       45441 non-null  object \n",
      " 7   original_language             45441 non-null  object \n",
      " 8   original_title                45441 non-null  object \n",
      " 9   overview                      42712 non-null  object \n",
      " 10  popularity                    45441 non-null  float64\n",
      " 11  poster_path                   42182 non-null  object \n",
      " 12  production_countries          45441 non-null  object \n",
      " 13  release_date                  44826 non-null  object \n",
      " 14  revenue                       45441 non-null  int64  \n",
      " 15  runtime                       45441 non-null  int64  \n",
      " 16  spoken_languages              45441 non-null  object \n",
      " 17  status                        45441 non-null  object \n",
      " 18  tagline                       12783 non-null  object \n",
      " 19  title                         45441 non-null  object \n",
      " 20  video                         45441 non-null  bool   \n",
      " 21  vote_average                  45441 non-null  float64\n",
      " 22  vote_count                    45441 non-null  int64  \n",
      " 23  production_companies_name     45441 non-null  object \n",
      " 24  production_companies_country  21144 non-null  object \n",
      "dtypes: bool(2), float64(2), int64(5), object(16)\n",
      "memory usage: 8.4+ MB\n"
     ]
    }
   ],
   "source": [
    "tmdb_filtre.info()"
   ]
  },
  {
   "cell_type": "markdown",
   "metadata": {},
   "source": [
    "Liaisons à faire :\n",
    "TMDB - Title_crew - title_principals - name_basics\n"
   ]
  },
  {
   "cell_type": "code",
   "execution_count": 12,
   "metadata": {},
   "outputs": [],
   "source": [
    "table_films_select = pd.merge(tmdb_filtre, \n",
    "                              title_crew,\n",
    "                              how=\"inner\", \n",
    "                              left_on = \"imdb_id\",\n",
    "                              right_on = \"tconst\"\n",
    "                              )"
   ]
  },
  {
   "cell_type": "code",
   "execution_count": 13,
   "metadata": {},
   "outputs": [
    {
     "name": "stdout",
     "output_type": "stream",
     "text": [
      "<class 'pandas.core.frame.DataFrame'>\n",
      "RangeIndex: 45272 entries, 0 to 45271\n",
      "Data columns (total 28 columns):\n",
      " #   Column                        Non-Null Count  Dtype  \n",
      "---  ------                        --------------  -----  \n",
      " 0   adult                         45272 non-null  bool   \n",
      " 1   backdrop_path                 28891 non-null  object \n",
      " 2   budget                        45272 non-null  int64  \n",
      " 3   genres                        45272 non-null  object \n",
      " 4   homepage                      5773 non-null   object \n",
      " 5   id                            45272 non-null  int64  \n",
      " 6   imdb_id                       45272 non-null  object \n",
      " 7   original_language             45272 non-null  object \n",
      " 8   original_title                45272 non-null  object \n",
      " 9   overview                      42562 non-null  object \n",
      " 10  popularity                    45272 non-null  float64\n",
      " 11  poster_path                   42070 non-null  object \n",
      " 12  production_countries          45272 non-null  object \n",
      " 13  release_date                  44683 non-null  object \n",
      " 14  revenue                       45272 non-null  int64  \n",
      " 15  runtime                       45272 non-null  int64  \n",
      " 16  spoken_languages              45272 non-null  object \n",
      " 17  status                        45272 non-null  object \n",
      " 18  tagline                       12767 non-null  object \n",
      " 19  title                         45272 non-null  object \n",
      " 20  video                         45272 non-null  bool   \n",
      " 21  vote_average                  45272 non-null  float64\n",
      " 22  vote_count                    45272 non-null  int64  \n",
      " 23  production_companies_name     45272 non-null  object \n",
      " 24  production_companies_country  21063 non-null  object \n",
      " 25  tconst                        45272 non-null  object \n",
      " 26  directors                     45272 non-null  object \n",
      " 27  writers                       45272 non-null  object \n",
      "dtypes: bool(2), float64(2), int64(5), object(19)\n",
      "memory usage: 9.1+ MB\n"
     ]
    }
   ],
   "source": [
    "table_films_select.info()"
   ]
  },
  {
   "cell_type": "code",
   "execution_count": 14,
   "metadata": {},
   "outputs": [],
   "source": [
    "table_films_select = table_films_select.drop(['backdrop_path','homepage','video','production_companies_name','production_companies_country'],axis=1)"
   ]
  },
  {
   "cell_type": "code",
   "execution_count": 15,
   "metadata": {},
   "outputs": [],
   "source": [
    "table_films_select = pd.merge(table_films_select, \n",
    "                              title_principals,\n",
    "                              how=\"left\", \n",
    "                              left_on = \"tconst\",\n",
    "                              right_on = \"tconst\"\n",
    "                              )"
   ]
  },
  {
   "cell_type": "code",
   "execution_count": null,
   "metadata": {},
   "outputs": [],
   "source": [
    "table_films_select.head()"
   ]
  },
  {
   "cell_type": "code",
   "execution_count": 17,
   "metadata": {},
   "outputs": [],
   "source": [
    "table_films_select = table_films_select.drop(['ordering','job'],axis=1)"
   ]
  },
  {
   "cell_type": "code",
   "execution_count": 18,
   "metadata": {},
   "outputs": [],
   "source": [
    "table_films_select = pd.merge(table_films_select, \n",
    "                              name_basics,\n",
    "                              how=\"left\", \n",
    "                              left_on = \"nconst\",\n",
    "                              right_on = \"nconst\"\n",
    "                              )"
   ]
  },
  {
   "cell_type": "code",
   "execution_count": 19,
   "metadata": {},
   "outputs": [
    {
     "data": {
      "text/html": [
       "<div>\n",
       "<style scoped>\n",
       "    .dataframe tbody tr th:only-of-type {\n",
       "        vertical-align: middle;\n",
       "    }\n",
       "\n",
       "    .dataframe tbody tr th {\n",
       "        vertical-align: top;\n",
       "    }\n",
       "\n",
       "    .dataframe thead th {\n",
       "        text-align: right;\n",
       "    }\n",
       "</style>\n",
       "<table border=\"1\" class=\"dataframe\">\n",
       "  <thead>\n",
       "    <tr style=\"text-align: right;\">\n",
       "      <th></th>\n",
       "      <th>adult</th>\n",
       "      <th>budget</th>\n",
       "      <th>genres</th>\n",
       "      <th>id</th>\n",
       "      <th>imdb_id</th>\n",
       "      <th>original_language</th>\n",
       "      <th>original_title</th>\n",
       "      <th>overview</th>\n",
       "      <th>popularity</th>\n",
       "      <th>poster_path</th>\n",
       "      <th>...</th>\n",
       "      <th>directors</th>\n",
       "      <th>writers</th>\n",
       "      <th>nconst</th>\n",
       "      <th>category</th>\n",
       "      <th>characters</th>\n",
       "      <th>primaryName</th>\n",
       "      <th>birthYear</th>\n",
       "      <th>deathYear</th>\n",
       "      <th>primaryProfession</th>\n",
       "      <th>knownForTitles</th>\n",
       "    </tr>\n",
       "  </thead>\n",
       "  <tbody>\n",
       "    <tr>\n",
       "      <th>0</th>\n",
       "      <td>False</td>\n",
       "      <td>0</td>\n",
       "      <td>['Drama', 'Romance']</td>\n",
       "      <td>8773</td>\n",
       "      <td>tt0055747</td>\n",
       "      <td>fr</td>\n",
       "      <td>L'Amour à vingt ans</td>\n",
       "      <td>Love at Twenty unites five directors from five...</td>\n",
       "      <td>3.77</td>\n",
       "      <td>/aup2QCYCsyEeQfpboXy0f4uj8aE.jpg</td>\n",
       "      <td>...</td>\n",
       "      <td>nm0410982,nm0649096,nm0744022,nm0000076,nm0906667</td>\n",
       "      <td>nm0410982,nm0649096,nm0744022,nm0760434,nm0824...</td>\n",
       "      <td>nm0529543</td>\n",
       "      <td>actor</td>\n",
       "      <td>[\"Antoine Doinel (segment \\\"Antoine et Colette...</td>\n",
       "      <td>Jean-Pierre Léaud</td>\n",
       "      <td>1944</td>\n",
       "      <td>\\N</td>\n",
       "      <td>actor,assistant_director,director</td>\n",
       "      <td>tt0053198,tt0099818,tt0060675,tt0065651</td>\n",
       "    </tr>\n",
       "    <tr>\n",
       "      <th>1</th>\n",
       "      <td>False</td>\n",
       "      <td>0</td>\n",
       "      <td>['Drama', 'Romance']</td>\n",
       "      <td>8773</td>\n",
       "      <td>tt0055747</td>\n",
       "      <td>fr</td>\n",
       "      <td>L'Amour à vingt ans</td>\n",
       "      <td>Love at Twenty unites five directors from five...</td>\n",
       "      <td>3.77</td>\n",
       "      <td>/aup2QCYCsyEeQfpboXy0f4uj8aE.jpg</td>\n",
       "      <td>...</td>\n",
       "      <td>nm0410982,nm0649096,nm0744022,nm0000076,nm0906667</td>\n",
       "      <td>nm0410982,nm0649096,nm0744022,nm0760434,nm0824...</td>\n",
       "      <td>nm0685494</td>\n",
       "      <td>actress</td>\n",
       "      <td>[\"Colette (segment \\\"Antoine et Colette\\\")\"]</td>\n",
       "      <td>Marie-France Pisier</td>\n",
       "      <td>1944</td>\n",
       "      <td>2011</td>\n",
       "      <td>actress,writer,director</td>\n",
       "      <td>tt0072826,tt0078771,tt0082156,tt0074184</td>\n",
       "    </tr>\n",
       "    <tr>\n",
       "      <th>2</th>\n",
       "      <td>False</td>\n",
       "      <td>0</td>\n",
       "      <td>['Drama', 'Romance']</td>\n",
       "      <td>8773</td>\n",
       "      <td>tt0055747</td>\n",
       "      <td>fr</td>\n",
       "      <td>L'Amour à vingt ans</td>\n",
       "      <td>Love at Twenty unites five directors from five...</td>\n",
       "      <td>3.77</td>\n",
       "      <td>/aup2QCYCsyEeQfpboXy0f4uj8aE.jpg</td>\n",
       "      <td>...</td>\n",
       "      <td>nm0410982,nm0649096,nm0744022,nm0000076,nm0906667</td>\n",
       "      <td>nm0410982,nm0649096,nm0744022,nm0760434,nm0824...</td>\n",
       "      <td>nm0041756</td>\n",
       "      <td>actor</td>\n",
       "      <td>[\"René (segment \\\"Antoine et Colette\\\")\"]</td>\n",
       "      <td>Patrick Auffay</td>\n",
       "      <td>\\N</td>\n",
       "      <td>\\N</td>\n",
       "      <td>actor</td>\n",
       "      <td>tt0053198,tt1180329,tt0055747,tt7371654</td>\n",
       "    </tr>\n",
       "    <tr>\n",
       "      <th>3</th>\n",
       "      <td>False</td>\n",
       "      <td>0</td>\n",
       "      <td>['Drama', 'Romance']</td>\n",
       "      <td>8773</td>\n",
       "      <td>tt0055747</td>\n",
       "      <td>fr</td>\n",
       "      <td>L'Amour à vingt ans</td>\n",
       "      <td>Love at Twenty unites five directors from five...</td>\n",
       "      <td>3.77</td>\n",
       "      <td>/aup2QCYCsyEeQfpboXy0f4uj8aE.jpg</td>\n",
       "      <td>...</td>\n",
       "      <td>nm0410982,nm0649096,nm0744022,nm0000076,nm0906667</td>\n",
       "      <td>nm0410982,nm0649096,nm0744022,nm0760434,nm0824...</td>\n",
       "      <td>nm0890248</td>\n",
       "      <td>actress</td>\n",
       "      <td>[\"La mère de Colette (segment \\\"Antoine et Col...</td>\n",
       "      <td>Rosy Varte</td>\n",
       "      <td>1923</td>\n",
       "      <td>2012</td>\n",
       "      <td>actress,miscellaneous,archive_footage</td>\n",
       "      <td>tt0167643,tt1180329,tt0055747,tt0122617</td>\n",
       "    </tr>\n",
       "    <tr>\n",
       "      <th>4</th>\n",
       "      <td>False</td>\n",
       "      <td>0</td>\n",
       "      <td>['Drama', 'Romance']</td>\n",
       "      <td>8773</td>\n",
       "      <td>tt0055747</td>\n",
       "      <td>fr</td>\n",
       "      <td>L'Amour à vingt ans</td>\n",
       "      <td>Love at Twenty unites five directors from five...</td>\n",
       "      <td>3.77</td>\n",
       "      <td>/aup2QCYCsyEeQfpboXy0f4uj8aE.jpg</td>\n",
       "      <td>...</td>\n",
       "      <td>nm0410982,nm0649096,nm0744022,nm0000076,nm0906667</td>\n",
       "      <td>nm0410982,nm0649096,nm0744022,nm0760434,nm0824...</td>\n",
       "      <td>nm0200950</td>\n",
       "      <td>actor</td>\n",
       "      <td>[\"Le beau-père de Colette (segment \\\"Antoine e...</td>\n",
       "      <td>François Darbon</td>\n",
       "      <td>1915</td>\n",
       "      <td>1998</td>\n",
       "      <td>actor,miscellaneous,archive_footage</td>\n",
       "      <td>tt1369743,tt0275822,tt0268795,tt1063369</td>\n",
       "    </tr>\n",
       "  </tbody>\n",
       "</table>\n",
       "<p>5 rows × 31 columns</p>\n",
       "</div>"
      ],
      "text/plain": [
       "   adult  budget                genres    id    imdb_id original_language  \\\n",
       "0  False       0  ['Drama', 'Romance']  8773  tt0055747                fr   \n",
       "1  False       0  ['Drama', 'Romance']  8773  tt0055747                fr   \n",
       "2  False       0  ['Drama', 'Romance']  8773  tt0055747                fr   \n",
       "3  False       0  ['Drama', 'Romance']  8773  tt0055747                fr   \n",
       "4  False       0  ['Drama', 'Romance']  8773  tt0055747                fr   \n",
       "\n",
       "        original_title                                           overview  \\\n",
       "0  L'Amour à vingt ans  Love at Twenty unites five directors from five...   \n",
       "1  L'Amour à vingt ans  Love at Twenty unites five directors from five...   \n",
       "2  L'Amour à vingt ans  Love at Twenty unites five directors from five...   \n",
       "3  L'Amour à vingt ans  Love at Twenty unites five directors from five...   \n",
       "4  L'Amour à vingt ans  Love at Twenty unites five directors from five...   \n",
       "\n",
       "   popularity                       poster_path  ...  \\\n",
       "0        3.77  /aup2QCYCsyEeQfpboXy0f4uj8aE.jpg  ...   \n",
       "1        3.77  /aup2QCYCsyEeQfpboXy0f4uj8aE.jpg  ...   \n",
       "2        3.77  /aup2QCYCsyEeQfpboXy0f4uj8aE.jpg  ...   \n",
       "3        3.77  /aup2QCYCsyEeQfpboXy0f4uj8aE.jpg  ...   \n",
       "4        3.77  /aup2QCYCsyEeQfpboXy0f4uj8aE.jpg  ...   \n",
       "\n",
       "                                           directors  \\\n",
       "0  nm0410982,nm0649096,nm0744022,nm0000076,nm0906667   \n",
       "1  nm0410982,nm0649096,nm0744022,nm0000076,nm0906667   \n",
       "2  nm0410982,nm0649096,nm0744022,nm0000076,nm0906667   \n",
       "3  nm0410982,nm0649096,nm0744022,nm0000076,nm0906667   \n",
       "4  nm0410982,nm0649096,nm0744022,nm0000076,nm0906667   \n",
       "\n",
       "                                             writers     nconst  category  \\\n",
       "0  nm0410982,nm0649096,nm0744022,nm0760434,nm0824...  nm0529543     actor   \n",
       "1  nm0410982,nm0649096,nm0744022,nm0760434,nm0824...  nm0685494   actress   \n",
       "2  nm0410982,nm0649096,nm0744022,nm0760434,nm0824...  nm0041756     actor   \n",
       "3  nm0410982,nm0649096,nm0744022,nm0760434,nm0824...  nm0890248   actress   \n",
       "4  nm0410982,nm0649096,nm0744022,nm0760434,nm0824...  nm0200950     actor   \n",
       "\n",
       "                                          characters          primaryName  \\\n",
       "0  [\"Antoine Doinel (segment \\\"Antoine et Colette...    Jean-Pierre Léaud   \n",
       "1       [\"Colette (segment \\\"Antoine et Colette\\\")\"]  Marie-France Pisier   \n",
       "2          [\"René (segment \\\"Antoine et Colette\\\")\"]       Patrick Auffay   \n",
       "3  [\"La mère de Colette (segment \\\"Antoine et Col...           Rosy Varte   \n",
       "4  [\"Le beau-père de Colette (segment \\\"Antoine e...      François Darbon   \n",
       "\n",
       "  birthYear deathYear                      primaryProfession  \\\n",
       "0      1944        \\N      actor,assistant_director,director   \n",
       "1      1944      2011                actress,writer,director   \n",
       "2        \\N        \\N                                  actor   \n",
       "3      1923      2012  actress,miscellaneous,archive_footage   \n",
       "4      1915      1998    actor,miscellaneous,archive_footage   \n",
       "\n",
       "                            knownForTitles  \n",
       "0  tt0053198,tt0099818,tt0060675,tt0065651  \n",
       "1  tt0072826,tt0078771,tt0082156,tt0074184  \n",
       "2  tt0053198,tt1180329,tt0055747,tt7371654  \n",
       "3  tt0167643,tt1180329,tt0055747,tt0122617  \n",
       "4  tt1369743,tt0275822,tt0268795,tt1063369  \n",
       "\n",
       "[5 rows x 31 columns]"
      ]
     },
     "execution_count": 19,
     "metadata": {},
     "output_type": "execute_result"
    }
   ],
   "source": [
    "table_films_select.head()"
   ]
  },
  {
   "cell_type": "code",
   "execution_count": 20,
   "metadata": {},
   "outputs": [],
   "source": [
    "table_films_select = table_films_select.drop(['birthYear','deathYear','primaryProfession'],axis=1)"
   ]
  },
  {
   "cell_type": "code",
   "execution_count": 21,
   "metadata": {},
   "outputs": [
    {
     "name": "stdout",
     "output_type": "stream",
     "text": [
      "<class 'pandas.core.frame.DataFrame'>\n",
      "RangeIndex: 770236 entries, 0 to 770235\n",
      "Data columns (total 28 columns):\n",
      " #   Column                Non-Null Count   Dtype  \n",
      "---  ------                --------------   -----  \n",
      " 0   adult                 770236 non-null  bool   \n",
      " 1   budget                770236 non-null  int64  \n",
      " 2   genres                770236 non-null  object \n",
      " 3   id                    770236 non-null  int64  \n",
      " 4   imdb_id               770236 non-null  object \n",
      " 5   original_language     770236 non-null  object \n",
      " 6   original_title        770236 non-null  object \n",
      " 7   overview              732422 non-null  object \n",
      " 8   popularity            770236 non-null  float64\n",
      " 9   poster_path           729654 non-null  object \n",
      " 10  production_countries  770236 non-null  object \n",
      " 11  release_date          762336 non-null  object \n",
      " 12  revenue               770236 non-null  int64  \n",
      " 13  runtime               770236 non-null  int64  \n",
      " 14  spoken_languages      770236 non-null  object \n",
      " 15  status                770236 non-null  object \n",
      " 16  tagline               244061 non-null  object \n",
      " 17  title                 770236 non-null  object \n",
      " 18  vote_average          770236 non-null  float64\n",
      " 19  vote_count            770236 non-null  int64  \n",
      " 20  tconst                770236 non-null  object \n",
      " 21  directors             770236 non-null  object \n",
      " 22  writers               770236 non-null  object \n",
      " 23  nconst                770138 non-null  object \n",
      " 24  category              770138 non-null  object \n",
      " 25  characters            770138 non-null  object \n",
      " 26  primaryName           770138 non-null  object \n",
      " 27  knownForTitles        770138 non-null  object \n",
      "dtypes: bool(1), float64(2), int64(5), object(20)\n",
      "memory usage: 159.4+ MB\n"
     ]
    }
   ],
   "source": [
    "table_films_select.info()"
   ]
  },
  {
   "cell_type": "code",
   "execution_count": 22,
   "metadata": {},
   "outputs": [
    {
     "data": {
      "text/plain": [
       "Index(['adult', 'budget', 'genres', 'id', 'imdb_id', 'original_language',\n",
       "       'original_title', 'overview', 'popularity', 'poster_path',\n",
       "       'production_countries', 'release_date', 'revenue', 'runtime',\n",
       "       'spoken_languages', 'status', 'tagline', 'title', 'vote_average',\n",
       "       'vote_count', 'tconst', 'directors', 'writers', 'nconst', 'category',\n",
       "       'characters', 'primaryName', 'knownForTitles'],\n",
       "      dtype='object')"
      ]
     },
     "execution_count": 22,
     "metadata": {},
     "output_type": "execute_result"
    }
   ],
   "source": [
    "table_films_select.columns"
   ]
  },
  {
   "cell_type": "code",
   "execution_count": 23,
   "metadata": {},
   "outputs": [],
   "source": [
    "table_films_select.to_csv('./donnees/table_films_select.csv', sep=\"\\t\")"
   ]
  },
  {
   "cell_type": "code",
   "execution_count": 27,
   "metadata": {},
   "outputs": [
    {
     "name": "stdout",
     "output_type": "stream",
     "text": [
      "<class 'pandas.core.frame.DataFrame'>\n",
      "RangeIndex: 770236 entries, 0 to 770235\n",
      "Data columns (total 28 columns):\n",
      " #   Column                Non-Null Count   Dtype  \n",
      "---  ------                --------------   -----  \n",
      " 0   adult                 770236 non-null  bool   \n",
      " 1   budget                770236 non-null  int64  \n",
      " 2   genres                770236 non-null  object \n",
      " 3   id                    770236 non-null  int64  \n",
      " 4   imdb_id               770236 non-null  object \n",
      " 5   original_language     770236 non-null  object \n",
      " 6   original_title        770236 non-null  object \n",
      " 7   overview              732422 non-null  object \n",
      " 8   popularity            770236 non-null  float64\n",
      " 9   poster_path           729654 non-null  object \n",
      " 10  production_countries  770236 non-null  object \n",
      " 11  release_date          762336 non-null  object \n",
      " 12  revenue               770236 non-null  int64  \n",
      " 13  runtime               770236 non-null  int64  \n",
      " 14  spoken_languages      770236 non-null  object \n",
      " 15  status                770236 non-null  object \n",
      " 16  tagline               244061 non-null  object \n",
      " 17  title                 770236 non-null  object \n",
      " 18  vote_average          770236 non-null  float64\n",
      " 19  vote_count            770236 non-null  int64  \n",
      " 20  tconst                770236 non-null  object \n",
      " 21  directors             770236 non-null  object \n",
      " 22  writers               770236 non-null  object \n",
      " 23  nconst                770138 non-null  object \n",
      " 24  category              770138 non-null  object \n",
      " 25  characters            770138 non-null  object \n",
      " 26  primaryName           770138 non-null  object \n",
      " 27  knownForTitles        770138 non-null  object \n",
      "dtypes: bool(1), float64(2), int64(5), object(20)\n",
      "memory usage: 159.4+ MB\n"
     ]
    }
   ],
   "source": [
    "table_films_select.info()"
   ]
  },
  {
   "cell_type": "markdown",
   "metadata": {},
   "source": [
    "On part du csv créer table_films_select.csv"
   ]
  },
  {
   "cell_type": "code",
   "execution_count": 24,
   "metadata": {},
   "outputs": [],
   "source": [
    "films_tmdb_imdb = pd.read_csv(\"./donnees/table_films_select.csv\", sep=\"\\t\", low_memory=False)"
   ]
  },
  {
   "cell_type": "code",
   "execution_count": 25,
   "metadata": {},
   "outputs": [
    {
     "name": "stdout",
     "output_type": "stream",
     "text": [
      "<class 'pandas.core.frame.DataFrame'>\n",
      "RangeIndex: 770236 entries, 0 to 770235\n",
      "Data columns (total 29 columns):\n",
      " #   Column                Non-Null Count   Dtype  \n",
      "---  ------                --------------   -----  \n",
      " 0   Unnamed: 0            770236 non-null  int64  \n",
      " 1   adult                 770236 non-null  bool   \n",
      " 2   budget                770236 non-null  int64  \n",
      " 3   genres                770236 non-null  object \n",
      " 4   id                    770236 non-null  int64  \n",
      " 5   imdb_id               770236 non-null  object \n",
      " 6   original_language     770236 non-null  object \n",
      " 7   original_title        770236 non-null  object \n",
      " 8   overview              732422 non-null  object \n",
      " 9   popularity            770236 non-null  float64\n",
      " 10  poster_path           729654 non-null  object \n",
      " 11  production_countries  770236 non-null  object \n",
      " 12  release_date          762336 non-null  object \n",
      " 13  revenue               770236 non-null  int64  \n",
      " 14  runtime               770236 non-null  int64  \n",
      " 15  spoken_languages      770236 non-null  object \n",
      " 16  status                770236 non-null  object \n",
      " 17  tagline               244061 non-null  object \n",
      " 18  title                 770236 non-null  object \n",
      " 19  vote_average          770236 non-null  float64\n",
      " 20  vote_count            770236 non-null  int64  \n",
      " 21  tconst                770236 non-null  object \n",
      " 22  directors             770236 non-null  object \n",
      " 23  writers               770236 non-null  object \n",
      " 24  nconst                770138 non-null  object \n",
      " 25  category              770138 non-null  object \n",
      " 26  characters            770138 non-null  object \n",
      " 27  primaryName           770138 non-null  object \n",
      " 28  knownForTitles        770138 non-null  object \n",
      "dtypes: bool(1), float64(2), int64(6), object(20)\n",
      "memory usage: 165.3+ MB\n"
     ]
    }
   ],
   "source": [
    "films_tmdb_imdb.info()"
   ]
  },
  {
   "cell_type": "code",
   "execution_count": 29,
   "metadata": {},
   "outputs": [],
   "source": [
    "films_tmdb_imdb = films_tmdb_imdb.drop('Unnamed: 0',axis=1)"
   ]
  },
  {
   "cell_type": "code",
   "execution_count": 30,
   "metadata": {},
   "outputs": [
    {
     "name": "stdout",
     "output_type": "stream",
     "text": [
      "<class 'pandas.core.frame.DataFrame'>\n",
      "RangeIndex: 770236 entries, 0 to 770235\n",
      "Data columns (total 28 columns):\n",
      " #   Column                Non-Null Count   Dtype  \n",
      "---  ------                --------------   -----  \n",
      " 0   adult                 770236 non-null  bool   \n",
      " 1   budget                770236 non-null  int64  \n",
      " 2   genres                770236 non-null  object \n",
      " 3   id                    770236 non-null  int64  \n",
      " 4   imdb_id               770236 non-null  object \n",
      " 5   original_language     770236 non-null  object \n",
      " 6   original_title        770236 non-null  object \n",
      " 7   overview              732422 non-null  object \n",
      " 8   popularity            770236 non-null  float64\n",
      " 9   poster_path           729654 non-null  object \n",
      " 10  production_countries  770236 non-null  object \n",
      " 11  release_date          762336 non-null  object \n",
      " 12  revenue               770236 non-null  int64  \n",
      " 13  runtime               770236 non-null  int64  \n",
      " 14  spoken_languages      770236 non-null  object \n",
      " 15  status                770236 non-null  object \n",
      " 16  tagline               244061 non-null  object \n",
      " 17  title                 770236 non-null  object \n",
      " 18  vote_average          770236 non-null  float64\n",
      " 19  vote_count            770236 non-null  int64  \n",
      " 20  tconst                770236 non-null  object \n",
      " 21  directors             770236 non-null  object \n",
      " 22  writers               770236 non-null  object \n",
      " 23  nconst                770138 non-null  object \n",
      " 24  category              770138 non-null  object \n",
      " 25  characters            770138 non-null  object \n",
      " 26  primaryName           770138 non-null  object \n",
      " 27  knownForTitles        770138 non-null  object \n",
      "dtypes: bool(1), float64(2), int64(5), object(20)\n",
      "memory usage: 159.4+ MB\n"
     ]
    }
   ],
   "source": [
    "films_tmdb_imdb.info()"
   ]
  },
  {
   "cell_type": "code",
   "execution_count": 31,
   "metadata": {},
   "outputs": [
    {
     "data": {
      "text/html": [
       "<div>\n",
       "<style scoped>\n",
       "    .dataframe tbody tr th:only-of-type {\n",
       "        vertical-align: middle;\n",
       "    }\n",
       "\n",
       "    .dataframe tbody tr th {\n",
       "        vertical-align: top;\n",
       "    }\n",
       "\n",
       "    .dataframe thead th {\n",
       "        text-align: right;\n",
       "    }\n",
       "</style>\n",
       "<table border=\"1\" class=\"dataframe\">\n",
       "  <thead>\n",
       "    <tr style=\"text-align: right;\">\n",
       "      <th></th>\n",
       "      <th>budget</th>\n",
       "      <th>id</th>\n",
       "      <th>popularity</th>\n",
       "      <th>revenue</th>\n",
       "      <th>runtime</th>\n",
       "      <th>vote_average</th>\n",
       "      <th>vote_count</th>\n",
       "    </tr>\n",
       "  </thead>\n",
       "  <tbody>\n",
       "    <tr>\n",
       "      <th>count</th>\n",
       "      <td>7.702360e+05</td>\n",
       "      <td>7.702360e+05</td>\n",
       "      <td>770236.000000</td>\n",
       "      <td>7.702360e+05</td>\n",
       "      <td>770236.000000</td>\n",
       "      <td>770236.000000</td>\n",
       "      <td>770236.000000</td>\n",
       "    </tr>\n",
       "    <tr>\n",
       "      <th>mean</th>\n",
       "      <td>3.774859e+06</td>\n",
       "      <td>3.010780e+05</td>\n",
       "      <td>6.191450</td>\n",
       "      <td>9.421314e+06</td>\n",
       "      <td>90.381723</td>\n",
       "      <td>4.998949</td>\n",
       "      <td>223.894323</td>\n",
       "    </tr>\n",
       "    <tr>\n",
       "      <th>std</th>\n",
       "      <td>1.986768e+07</td>\n",
       "      <td>2.875090e+05</td>\n",
       "      <td>47.845206</td>\n",
       "      <td>7.210167e+07</td>\n",
       "      <td>63.002854</td>\n",
       "      <td>2.423442</td>\n",
       "      <td>1243.803580</td>\n",
       "    </tr>\n",
       "    <tr>\n",
       "      <th>min</th>\n",
       "      <td>0.000000e+00</td>\n",
       "      <td>6.000000e+00</td>\n",
       "      <td>0.600000</td>\n",
       "      <td>0.000000e+00</td>\n",
       "      <td>0.000000</td>\n",
       "      <td>0.000000</td>\n",
       "      <td>0.000000</td>\n",
       "    </tr>\n",
       "    <tr>\n",
       "      <th>25%</th>\n",
       "      <td>0.000000e+00</td>\n",
       "      <td>6.454300e+04</td>\n",
       "      <td>0.960000</td>\n",
       "      <td>0.000000e+00</td>\n",
       "      <td>83.000000</td>\n",
       "      <td>4.280000</td>\n",
       "      <td>2.000000</td>\n",
       "    </tr>\n",
       "    <tr>\n",
       "      <th>50%</th>\n",
       "      <td>0.000000e+00</td>\n",
       "      <td>2.071270e+05</td>\n",
       "      <td>1.833000</td>\n",
       "      <td>0.000000e+00</td>\n",
       "      <td>93.000000</td>\n",
       "      <td>5.700000</td>\n",
       "      <td>8.000000</td>\n",
       "    </tr>\n",
       "    <tr>\n",
       "      <th>75%</th>\n",
       "      <td>0.000000e+00</td>\n",
       "      <td>4.654060e+05</td>\n",
       "      <td>4.810000</td>\n",
       "      <td>0.000000e+00</td>\n",
       "      <td>106.000000</td>\n",
       "      <td>6.574000</td>\n",
       "      <td>38.000000</td>\n",
       "    </tr>\n",
       "    <tr>\n",
       "      <th>max</th>\n",
       "      <td>5.793304e+08</td>\n",
       "      <td>1.122427e+06</td>\n",
       "      <td>4665.438000</td>\n",
       "      <td>2.923706e+09</td>\n",
       "      <td>12480.000000</td>\n",
       "      <td>10.000000</td>\n",
       "      <td>33630.000000</td>\n",
       "    </tr>\n",
       "  </tbody>\n",
       "</table>\n",
       "</div>"
      ],
      "text/plain": [
       "             budget            id     popularity       revenue        runtime  \\\n",
       "count  7.702360e+05  7.702360e+05  770236.000000  7.702360e+05  770236.000000   \n",
       "mean   3.774859e+06  3.010780e+05       6.191450  9.421314e+06      90.381723   \n",
       "std    1.986768e+07  2.875090e+05      47.845206  7.210167e+07      63.002854   \n",
       "min    0.000000e+00  6.000000e+00       0.600000  0.000000e+00       0.000000   \n",
       "25%    0.000000e+00  6.454300e+04       0.960000  0.000000e+00      83.000000   \n",
       "50%    0.000000e+00  2.071270e+05       1.833000  0.000000e+00      93.000000   \n",
       "75%    0.000000e+00  4.654060e+05       4.810000  0.000000e+00     106.000000   \n",
       "max    5.793304e+08  1.122427e+06    4665.438000  2.923706e+09   12480.000000   \n",
       "\n",
       "        vote_average     vote_count  \n",
       "count  770236.000000  770236.000000  \n",
       "mean        4.998949     223.894323  \n",
       "std         2.423442    1243.803580  \n",
       "min         0.000000       0.000000  \n",
       "25%         4.280000       2.000000  \n",
       "50%         5.700000       8.000000  \n",
       "75%         6.574000      38.000000  \n",
       "max        10.000000   33630.000000  "
      ]
     },
     "execution_count": 31,
     "metadata": {},
     "output_type": "execute_result"
    }
   ],
   "source": [
    "films_tmdb_imdb.describe()"
   ]
  },
  {
   "cell_type": "code",
   "execution_count": 32,
   "metadata": {},
   "outputs": [],
   "source": [
    "films_tmdb_imdb['release_date']=pd.to_datetime(films_tmdb_imdb['release_date'])"
   ]
  },
  {
   "cell_type": "code",
   "execution_count": 34,
   "metadata": {},
   "outputs": [
    {
     "name": "stdout",
     "output_type": "stream",
     "text": [
      "<class 'pandas.core.frame.DataFrame'>\n",
      "RangeIndex: 770236 entries, 0 to 770235\n",
      "Data columns (total 28 columns):\n",
      " #   Column                Non-Null Count   Dtype         \n",
      "---  ------                --------------   -----         \n",
      " 0   adult                 770236 non-null  bool          \n",
      " 1   budget                770236 non-null  int64         \n",
      " 2   genres                770236 non-null  object        \n",
      " 3   id                    770236 non-null  int64         \n",
      " 4   imdb_id               770236 non-null  object        \n",
      " 5   original_language     770236 non-null  object        \n",
      " 6   original_title        770236 non-null  object        \n",
      " 7   overview              732422 non-null  object        \n",
      " 8   popularity            770236 non-null  float64       \n",
      " 9   poster_path           729654 non-null  object        \n",
      " 10  production_countries  770236 non-null  object        \n",
      " 11  release_date          762336 non-null  datetime64[ns]\n",
      " 12  revenue               770236 non-null  int64         \n",
      " 13  runtime               770236 non-null  int64         \n",
      " 14  spoken_languages      770236 non-null  object        \n",
      " 15  status                770236 non-null  object        \n",
      " 16  tagline               244061 non-null  object        \n",
      " 17  title                 770236 non-null  object        \n",
      " 18  vote_average          770236 non-null  float64       \n",
      " 19  vote_count            770236 non-null  int64         \n",
      " 20  tconst                770236 non-null  object        \n",
      " 21  directors             770236 non-null  object        \n",
      " 22  writers               770236 non-null  object        \n",
      " 23  nconst                770138 non-null  object        \n",
      " 24  category              770138 non-null  object        \n",
      " 25  characters            770138 non-null  object        \n",
      " 26  primaryName           770138 non-null  object        \n",
      " 27  knownForTitles        770138 non-null  object        \n",
      "dtypes: bool(1), datetime64[ns](1), float64(2), int64(5), object(19)\n",
      "memory usage: 159.4+ MB\n"
     ]
    }
   ],
   "source": [
    "films_tmdb_imdb.info()"
   ]
  },
  {
   "cell_type": "markdown",
   "metadata": {},
   "source": [
    "On drop tagline car rarement l'info"
   ]
  },
  {
   "cell_type": "code",
   "execution_count": 37,
   "metadata": {},
   "outputs": [],
   "source": [
    "films_tmdb_imdb = films_tmdb_imdb.drop('tagline', axis=1)"
   ]
  },
  {
   "cell_type": "markdown",
   "metadata": {},
   "source": [
    "On ne garde que ce qui ont un résumé"
   ]
  },
  {
   "cell_type": "code",
   "execution_count": 41,
   "metadata": {},
   "outputs": [],
   "source": [
    "films_tmdb_imdb.dropna(subset = ['overview'], inplace=True)"
   ]
  },
  {
   "cell_type": "code",
   "execution_count": 42,
   "metadata": {},
   "outputs": [
    {
     "name": "stdout",
     "output_type": "stream",
     "text": [
      "<class 'pandas.core.frame.DataFrame'>\n",
      "Index: 732422 entries, 0 to 770235\n",
      "Data columns (total 27 columns):\n",
      " #   Column                Non-Null Count   Dtype         \n",
      "---  ------                --------------   -----         \n",
      " 0   adult                 732422 non-null  bool          \n",
      " 1   budget                732422 non-null  int64         \n",
      " 2   genres                732422 non-null  object        \n",
      " 3   id                    732422 non-null  int64         \n",
      " 4   imdb_id               732422 non-null  object        \n",
      " 5   original_language     732422 non-null  object        \n",
      " 6   original_title        732422 non-null  object        \n",
      " 7   overview              732422 non-null  object        \n",
      " 8   popularity            732422 non-null  float64       \n",
      " 9   poster_path           697788 non-null  object        \n",
      " 10  production_countries  732422 non-null  object        \n",
      " 11  release_date          725935 non-null  datetime64[ns]\n",
      " 12  revenue               732422 non-null  int64         \n",
      " 13  runtime               732422 non-null  int64         \n",
      " 14  spoken_languages      732422 non-null  object        \n",
      " 15  status                732422 non-null  object        \n",
      " 16  title                 732422 non-null  object        \n",
      " 17  vote_average          732422 non-null  float64       \n",
      " 18  vote_count            732422 non-null  int64         \n",
      " 19  tconst                732422 non-null  object        \n",
      " 20  directors             732422 non-null  object        \n",
      " 21  writers               732422 non-null  object        \n",
      " 22  nconst                732333 non-null  object        \n",
      " 23  category              732333 non-null  object        \n",
      " 24  characters            732333 non-null  object        \n",
      " 25  primaryName           732333 non-null  object        \n",
      " 26  knownForTitles        732333 non-null  object        \n",
      "dtypes: bool(1), datetime64[ns](1), float64(2), int64(5), object(18)\n",
      "memory usage: 151.6+ MB\n"
     ]
    }
   ],
   "source": [
    "films_tmdb_imdb.info()"
   ]
  },
  {
   "cell_type": "markdown",
   "metadata": {},
   "source": [
    "On ne garde que ce qui a un poster"
   ]
  },
  {
   "cell_type": "code",
   "execution_count": 43,
   "metadata": {},
   "outputs": [],
   "source": [
    "films_tmdb_imdb.dropna(subset = ['poster_path'], inplace=True)"
   ]
  },
  {
   "cell_type": "code",
   "execution_count": 44,
   "metadata": {},
   "outputs": [
    {
     "data": {
      "text/plain": [
       "adult                      0\n",
       "budget                     0\n",
       "genres                     0\n",
       "id                         0\n",
       "imdb_id                    0\n",
       "original_language          0\n",
       "original_title             0\n",
       "overview                   0\n",
       "popularity                 0\n",
       "poster_path                0\n",
       "production_countries       0\n",
       "release_date            3016\n",
       "revenue                    0\n",
       "runtime                    0\n",
       "spoken_languages           0\n",
       "status                     0\n",
       "title                      0\n",
       "vote_average               0\n",
       "vote_count                 0\n",
       "tconst                     0\n",
       "directors                  0\n",
       "writers                    0\n",
       "nconst                    75\n",
       "category                  75\n",
       "characters                75\n",
       "primaryName               75\n",
       "knownForTitles            75\n",
       "dtype: int64"
      ]
     },
     "execution_count": 44,
     "metadata": {},
     "output_type": "execute_result"
    }
   ],
   "source": [
    "films_tmdb_imdb.isna().sum()"
   ]
  },
  {
   "cell_type": "code",
   "execution_count": 45,
   "metadata": {},
   "outputs": [],
   "source": [
    "films_tmdb_imdb.dropna(subset = ['release_date'], inplace=True)"
   ]
  },
  {
   "cell_type": "code",
   "execution_count": 46,
   "metadata": {},
   "outputs": [
    {
     "data": {
      "text/plain": [
       "adult                    0\n",
       "budget                   0\n",
       "genres                   0\n",
       "id                       0\n",
       "imdb_id                  0\n",
       "original_language        0\n",
       "original_title           0\n",
       "overview                 0\n",
       "popularity               0\n",
       "poster_path              0\n",
       "production_countries     0\n",
       "release_date             0\n",
       "revenue                  0\n",
       "runtime                  0\n",
       "spoken_languages         0\n",
       "status                   0\n",
       "title                    0\n",
       "vote_average             0\n",
       "vote_count               0\n",
       "tconst                   0\n",
       "directors                0\n",
       "writers                  0\n",
       "nconst                  73\n",
       "category                73\n",
       "characters              73\n",
       "primaryName             73\n",
       "knownForTitles          73\n",
       "dtype: int64"
      ]
     },
     "execution_count": 46,
     "metadata": {},
     "output_type": "execute_result"
    }
   ],
   "source": [
    "films_tmdb_imdb.isna().sum()"
   ]
  },
  {
   "cell_type": "markdown",
   "metadata": {},
   "source": [
    "On garde que si info sur personne = nconst, category, ..."
   ]
  },
  {
   "cell_type": "code",
   "execution_count": 47,
   "metadata": {},
   "outputs": [],
   "source": [
    "films_tmdb_imdb.dropna(subset = ['nconst','category','characters','primaryName','knownForTitles'], inplace=True)"
   ]
  },
  {
   "cell_type": "code",
   "execution_count": 48,
   "metadata": {},
   "outputs": [
    {
     "data": {
      "text/plain": [
       "adult                   0\n",
       "budget                  0\n",
       "genres                  0\n",
       "id                      0\n",
       "imdb_id                 0\n",
       "original_language       0\n",
       "original_title          0\n",
       "overview                0\n",
       "popularity              0\n",
       "poster_path             0\n",
       "production_countries    0\n",
       "release_date            0\n",
       "revenue                 0\n",
       "runtime                 0\n",
       "spoken_languages        0\n",
       "status                  0\n",
       "title                   0\n",
       "vote_average            0\n",
       "vote_count              0\n",
       "tconst                  0\n",
       "directors               0\n",
       "writers                 0\n",
       "nconst                  0\n",
       "category                0\n",
       "characters              0\n",
       "primaryName             0\n",
       "knownForTitles          0\n",
       "dtype: int64"
      ]
     },
     "execution_count": 48,
     "metadata": {},
     "output_type": "execute_result"
    }
   ],
   "source": [
    "films_tmdb_imdb.isna().sum()"
   ]
  },
  {
   "cell_type": "code",
   "execution_count": 49,
   "metadata": {},
   "outputs": [
    {
     "name": "stdout",
     "output_type": "stream",
     "text": [
      "<class 'pandas.core.frame.DataFrame'>\n",
      "Index: 694699 entries, 0 to 770235\n",
      "Data columns (total 27 columns):\n",
      " #   Column                Non-Null Count   Dtype         \n",
      "---  ------                --------------   -----         \n",
      " 0   adult                 694699 non-null  bool          \n",
      " 1   budget                694699 non-null  int64         \n",
      " 2   genres                694699 non-null  object        \n",
      " 3   id                    694699 non-null  int64         \n",
      " 4   imdb_id               694699 non-null  object        \n",
      " 5   original_language     694699 non-null  object        \n",
      " 6   original_title        694699 non-null  object        \n",
      " 7   overview              694699 non-null  object        \n",
      " 8   popularity            694699 non-null  float64       \n",
      " 9   poster_path           694699 non-null  object        \n",
      " 10  production_countries  694699 non-null  object        \n",
      " 11  release_date          694699 non-null  datetime64[ns]\n",
      " 12  revenue               694699 non-null  int64         \n",
      " 13  runtime               694699 non-null  int64         \n",
      " 14  spoken_languages      694699 non-null  object        \n",
      " 15  status                694699 non-null  object        \n",
      " 16  title                 694699 non-null  object        \n",
      " 17  vote_average          694699 non-null  float64       \n",
      " 18  vote_count            694699 non-null  int64         \n",
      " 19  tconst                694699 non-null  object        \n",
      " 20  directors             694699 non-null  object        \n",
      " 21  writers               694699 non-null  object        \n",
      " 22  nconst                694699 non-null  object        \n",
      " 23  category              694699 non-null  object        \n",
      " 24  characters            694699 non-null  object        \n",
      " 25  primaryName           694699 non-null  object        \n",
      " 26  knownForTitles        694699 non-null  object        \n",
      "dtypes: bool(1), datetime64[ns](1), float64(2), int64(5), object(18)\n",
      "memory usage: 143.8+ MB\n"
     ]
    }
   ],
   "source": [
    "films_tmdb_imdb.info()"
   ]
  },
  {
   "cell_type": "markdown",
   "metadata": {},
   "source": [
    "On drop tconst car fait doublon avec imdb_id"
   ]
  },
  {
   "cell_type": "code",
   "execution_count": null,
   "metadata": {},
   "outputs": [],
   "source": [
    "films_tmdb_imdb[['tconst','imdb_id']]"
   ]
  },
  {
   "cell_type": "code",
   "execution_count": 51,
   "metadata": {},
   "outputs": [],
   "source": [
    "films_tmdb_imdb = films_tmdb_imdb.drop('tconst', axis=1)"
   ]
  },
  {
   "cell_type": "code",
   "execution_count": 52,
   "metadata": {},
   "outputs": [
    {
     "name": "stdout",
     "output_type": "stream",
     "text": [
      "<class 'pandas.core.frame.DataFrame'>\n",
      "Index: 694699 entries, 0 to 770235\n",
      "Data columns (total 26 columns):\n",
      " #   Column                Non-Null Count   Dtype         \n",
      "---  ------                --------------   -----         \n",
      " 0   adult                 694699 non-null  bool          \n",
      " 1   budget                694699 non-null  int64         \n",
      " 2   genres                694699 non-null  object        \n",
      " 3   id                    694699 non-null  int64         \n",
      " 4   imdb_id               694699 non-null  object        \n",
      " 5   original_language     694699 non-null  object        \n",
      " 6   original_title        694699 non-null  object        \n",
      " 7   overview              694699 non-null  object        \n",
      " 8   popularity            694699 non-null  float64       \n",
      " 9   poster_path           694699 non-null  object        \n",
      " 10  production_countries  694699 non-null  object        \n",
      " 11  release_date          694699 non-null  datetime64[ns]\n",
      " 12  revenue               694699 non-null  int64         \n",
      " 13  runtime               694699 non-null  int64         \n",
      " 14  spoken_languages      694699 non-null  object        \n",
      " 15  status                694699 non-null  object        \n",
      " 16  title                 694699 non-null  object        \n",
      " 17  vote_average          694699 non-null  float64       \n",
      " 18  vote_count            694699 non-null  int64         \n",
      " 19  directors             694699 non-null  object        \n",
      " 20  writers               694699 non-null  object        \n",
      " 21  nconst                694699 non-null  object        \n",
      " 22  category              694699 non-null  object        \n",
      " 23  characters            694699 non-null  object        \n",
      " 24  primaryName           694699 non-null  object        \n",
      " 25  knownForTitles        694699 non-null  object        \n",
      "dtypes: bool(1), datetime64[ns](1), float64(2), int64(5), object(17)\n",
      "memory usage: 138.5+ MB\n"
     ]
    }
   ],
   "source": [
    "films_tmdb_imdb.info()"
   ]
  },
  {
   "cell_type": "markdown",
   "metadata": {},
   "source": [
    "On renomme id  en id_tmdb pour clarifier"
   ]
  },
  {
   "cell_type": "code",
   "execution_count": 55,
   "metadata": {},
   "outputs": [],
   "source": [
    "films_tmdb_imdb = films_tmdb_imdb.rename(columns={'id':'id_tmdb'})"
   ]
  },
  {
   "cell_type": "markdown",
   "metadata": {},
   "source": [
    "on va filtrer selon le vote average basé sur un nombre de vote plutôt  que popularity on ne sait pas trop comment c'est calculé et ce n'est pas cohérent avec vote_average"
   ]
  },
  {
   "cell_type": "code",
   "execution_count": 73,
   "metadata": {},
   "outputs": [
    {
     "data": {
      "text/plain": [
       "vote_average  popularity\n",
       "0.000         0.600         25684\n",
       "              1.400          3689\n",
       "5.000         0.600          3440\n",
       "0.000         0.840          3334\n",
       "6.000         0.600          3332\n",
       "                            ...  \n",
       "6.800         1.294             1\n",
       "4.100         1.031             1\n",
       "6.672         3.988             1\n",
       "4.900         0.854             1\n",
       "5.900         1.820             1\n",
       "Name: count, Length: 29444, dtype: int64"
      ]
     },
     "execution_count": 73,
     "metadata": {},
     "output_type": "execute_result"
    }
   ],
   "source": [
    "films_tmdb_imdb[['vote_average','popularity']].value_counts(sort=True)\n"
   ]
  },
  {
   "cell_type": "markdown",
   "metadata": {},
   "source": [
    "Max de vote_average= 10 = les films sont notés sur 10"
   ]
  },
  {
   "cell_type": "code",
   "execution_count": 78,
   "metadata": {},
   "outputs": [
    {
     "data": {
      "text/plain": [
       "10.0"
      ]
     },
     "execution_count": 78,
     "metadata": {},
     "output_type": "execute_result"
    }
   ],
   "source": [
    "films_tmdb_imdb['vote_average'].max()"
   ]
  },
  {
   "cell_type": "markdown",
   "metadata": {},
   "source": [
    "on prend les films avec votete_average supérieur à 5"
   ]
  },
  {
   "cell_type": "code",
   "execution_count": 80,
   "metadata": {},
   "outputs": [],
   "source": [
    "films_tmdb_imdb_sup5 = films_tmdb_imdb[films_tmdb_imdb['vote_average']>5]"
   ]
  },
  {
   "cell_type": "code",
   "execution_count": 81,
   "metadata": {},
   "outputs": [
    {
     "name": "stdout",
     "output_type": "stream",
     "text": [
      "<class 'pandas.core.frame.DataFrame'>\n",
      "Index: 462885 entries, 0 to 770134\n",
      "Data columns (total 26 columns):\n",
      " #   Column                Non-Null Count   Dtype         \n",
      "---  ------                --------------   -----         \n",
      " 0   adult                 462885 non-null  bool          \n",
      " 1   budget                462885 non-null  int64         \n",
      " 2   genres                462885 non-null  object        \n",
      " 3   id_tmdb               462885 non-null  int64         \n",
      " 4   imdb_id               462885 non-null  object        \n",
      " 5   original_language     462885 non-null  object        \n",
      " 6   original_title        462885 non-null  object        \n",
      " 7   overview              462885 non-null  object        \n",
      " 8   popularity            462885 non-null  float64       \n",
      " 9   poster_path           462885 non-null  object        \n",
      " 10  production_countries  462885 non-null  object        \n",
      " 11  release_date          462885 non-null  datetime64[ns]\n",
      " 12  revenue               462885 non-null  int64         \n",
      " 13  runtime               462885 non-null  int64         \n",
      " 14  spoken_languages      462885 non-null  object        \n",
      " 15  status                462885 non-null  object        \n",
      " 16  title                 462885 non-null  object        \n",
      " 17  vote_average          462885 non-null  float64       \n",
      " 18  vote_count            462885 non-null  int64         \n",
      " 19  directors             462885 non-null  object        \n",
      " 20  writers               462885 non-null  object        \n",
      " 21  nconst                462885 non-null  object        \n",
      " 22  category              462885 non-null  object        \n",
      " 23  characters            462885 non-null  object        \n",
      " 24  primaryName           462885 non-null  object        \n",
      " 25  knownForTitles        462885 non-null  object        \n",
      "dtypes: bool(1), datetime64[ns](1), float64(2), int64(5), object(17)\n",
      "memory usage: 92.3+ MB\n"
     ]
    }
   ],
   "source": [
    "films_tmdb_imdb_sup5.info()"
   ]
  },
  {
   "cell_type": "markdown",
   "metadata": {},
   "source": [
    "filtre selon date de sortie"
   ]
  },
  {
   "cell_type": "code",
   "execution_count": 89,
   "metadata": {},
   "outputs": [],
   "source": [
    "from datetime import datetime"
   ]
  },
  {
   "cell_type": "markdown",
   "metadata": {},
   "source": [
    "on ajoute une colonne année"
   ]
  },
  {
   "cell_type": "code",
   "execution_count": 90,
   "metadata": {},
   "outputs": [
    {
     "name": "stderr",
     "output_type": "stream",
     "text": [
      "C:\\Users\\LOTUS\\AppData\\Local\\Temp\\ipykernel_29564\\2621779178.py:1: SettingWithCopyWarning: \n",
      "A value is trying to be set on a copy of a slice from a DataFrame.\n",
      "Try using .loc[row_indexer,col_indexer] = value instead\n",
      "\n",
      "See the caveats in the documentation: https://pandas.pydata.org/pandas-docs/stable/user_guide/indexing.html#returning-a-view-versus-a-copy\n",
      "  films_tmdb_imdb_sup5['year'] = films_tmdb_imdb_sup5['release_date'].dt.year\n"
     ]
    }
   ],
   "source": [
    "films_tmdb_imdb_sup5['year'] = films_tmdb_imdb_sup5['release_date'].dt.year"
   ]
  },
  {
   "cell_type": "code",
   "execution_count": 91,
   "metadata": {},
   "outputs": [
    {
     "name": "stdout",
     "output_type": "stream",
     "text": [
      "<class 'pandas.core.frame.DataFrame'>\n",
      "Index: 462885 entries, 0 to 770134\n",
      "Data columns (total 27 columns):\n",
      " #   Column                Non-Null Count   Dtype         \n",
      "---  ------                --------------   -----         \n",
      " 0   adult                 462885 non-null  bool          \n",
      " 1   budget                462885 non-null  int64         \n",
      " 2   genres                462885 non-null  object        \n",
      " 3   id_tmdb               462885 non-null  int64         \n",
      " 4   imdb_id               462885 non-null  object        \n",
      " 5   original_language     462885 non-null  object        \n",
      " 6   original_title        462885 non-null  object        \n",
      " 7   overview              462885 non-null  object        \n",
      " 8   popularity            462885 non-null  float64       \n",
      " 9   poster_path           462885 non-null  object        \n",
      " 10  production_countries  462885 non-null  object        \n",
      " 11  release_date          462885 non-null  datetime64[ns]\n",
      " 12  revenue               462885 non-null  int64         \n",
      " 13  runtime               462885 non-null  int64         \n",
      " 14  spoken_languages      462885 non-null  object        \n",
      " 15  status                462885 non-null  object        \n",
      " 16  title                 462885 non-null  object        \n",
      " 17  vote_average          462885 non-null  float64       \n",
      " 18  vote_count            462885 non-null  int64         \n",
      " 19  directors             462885 non-null  object        \n",
      " 20  writers               462885 non-null  object        \n",
      " 21  nconst                462885 non-null  object        \n",
      " 22  category              462885 non-null  object        \n",
      " 23  characters            462885 non-null  object        \n",
      " 24  primaryName           462885 non-null  object        \n",
      " 25  knownForTitles        462885 non-null  object        \n",
      " 26  year                  462885 non-null  int32         \n",
      "dtypes: bool(1), datetime64[ns](1), float64(2), int32(1), int64(5), object(17)\n",
      "memory usage: 94.0+ MB\n"
     ]
    }
   ],
   "source": [
    "films_tmdb_imdb_sup5.info()"
   ]
  },
  {
   "cell_type": "code",
   "execution_count": 92,
   "metadata": {},
   "outputs": [
    {
     "data": {
      "text/plain": [
       "year\n",
       "2019    17487\n",
       "2017    17399\n",
       "2022    16683\n",
       "2018    16511\n",
       "2016    15588\n",
       "        ...  \n",
       "1898       20\n",
       "1894        8\n",
       "1892        7\n",
       "1874        4\n",
       "1878        1\n",
       "Name: count, Length: 133, dtype: int64"
      ]
     },
     "execution_count": 92,
     "metadata": {},
     "output_type": "execute_result"
    }
   ],
   "source": [
    "films_tmdb_imdb_sup5['year'].value_counts(sort=True)"
   ]
  },
  {
   "cell_type": "markdown",
   "metadata": {},
   "source": [
    "On va garder les années après 2000 inclus"
   ]
  },
  {
   "cell_type": "code",
   "execution_count": 94,
   "metadata": {},
   "outputs": [],
   "source": [
    "films_tmdb_imdb_sup5_2000 = films_tmdb_imdb_sup5[films_tmdb_imdb_sup5['year']> 1999]"
   ]
  },
  {
   "cell_type": "code",
   "execution_count": 95,
   "metadata": {},
   "outputs": [
    {
     "name": "stdout",
     "output_type": "stream",
     "text": [
      "<class 'pandas.core.frame.DataFrame'>\n",
      "Index: 272237 entries, 70 to 770046\n",
      "Data columns (total 27 columns):\n",
      " #   Column                Non-Null Count   Dtype         \n",
      "---  ------                --------------   -----         \n",
      " 0   adult                 272237 non-null  bool          \n",
      " 1   budget                272237 non-null  int64         \n",
      " 2   genres                272237 non-null  object        \n",
      " 3   id_tmdb               272237 non-null  int64         \n",
      " 4   imdb_id               272237 non-null  object        \n",
      " 5   original_language     272237 non-null  object        \n",
      " 6   original_title        272237 non-null  object        \n",
      " 7   overview              272237 non-null  object        \n",
      " 8   popularity            272237 non-null  float64       \n",
      " 9   poster_path           272237 non-null  object        \n",
      " 10  production_countries  272237 non-null  object        \n",
      " 11  release_date          272237 non-null  datetime64[ns]\n",
      " 12  revenue               272237 non-null  int64         \n",
      " 13  runtime               272237 non-null  int64         \n",
      " 14  spoken_languages      272237 non-null  object        \n",
      " 15  status                272237 non-null  object        \n",
      " 16  title                 272237 non-null  object        \n",
      " 17  vote_average          272237 non-null  float64       \n",
      " 18  vote_count            272237 non-null  int64         \n",
      " 19  directors             272237 non-null  object        \n",
      " 20  writers               272237 non-null  object        \n",
      " 21  nconst                272237 non-null  object        \n",
      " 22  category              272237 non-null  object        \n",
      " 23  characters            272237 non-null  object        \n",
      " 24  primaryName           272237 non-null  object        \n",
      " 25  knownForTitles        272237 non-null  object        \n",
      " 26  year                  272237 non-null  int32         \n",
      "dtypes: bool(1), datetime64[ns](1), float64(2), int32(1), int64(5), object(17)\n",
      "memory usage: 55.3+ MB\n"
     ]
    }
   ],
   "source": [
    "films_tmdb_imdb_sup5_2000.info()"
   ]
  },
  {
   "cell_type": "markdown",
   "metadata": {},
   "source": [
    "Nombre de films sélectionnés : "
   ]
  },
  {
   "cell_type": "code",
   "execution_count": 97,
   "metadata": {},
   "outputs": [
    {
     "data": {
      "text/plain": [
       "14672"
      ]
     },
     "execution_count": 97,
     "metadata": {},
     "output_type": "execute_result"
    }
   ],
   "source": [
    "len(films_tmdb_imdb_sup5_2000['id_tmdb'].unique())"
   ]
  },
  {
   "cell_type": "markdown",
   "metadata": {},
   "source": [
    "durée des films "
   ]
  },
  {
   "cell_type": "code",
   "execution_count": 110,
   "metadata": {},
   "outputs": [
    {
     "data": {
      "text/plain": [
       "[0,\n",
       " 1,\n",
       " 2,\n",
       " 3,\n",
       " 4,\n",
       " 5,\n",
       " 6,\n",
       " 7,\n",
       " 8,\n",
       " 9,\n",
       " 10,\n",
       " 11,\n",
       " 12,\n",
       " 13,\n",
       " 14,\n",
       " 15,\n",
       " 16,\n",
       " 17,\n",
       " 18,\n",
       " 19,\n",
       " 20,\n",
       " 21,\n",
       " 22,\n",
       " 23,\n",
       " 24,\n",
       " 25,\n",
       " 26,\n",
       " 27,\n",
       " 28,\n",
       " 29,\n",
       " 30,\n",
       " 31,\n",
       " 32,\n",
       " 33,\n",
       " 34,\n",
       " 35,\n",
       " 36,\n",
       " 37,\n",
       " 38,\n",
       " 39,\n",
       " 40,\n",
       " 41,\n",
       " 42,\n",
       " 43,\n",
       " 44,\n",
       " 45,\n",
       " 46,\n",
       " 47,\n",
       " 48,\n",
       " 49,\n",
       " 50,\n",
       " 51,\n",
       " 52,\n",
       " 53,\n",
       " 54,\n",
       " 55,\n",
       " 56,\n",
       " 57,\n",
       " 58,\n",
       " 59,\n",
       " 60,\n",
       " 61,\n",
       " 62,\n",
       " 63,\n",
       " 64,\n",
       " 65,\n",
       " 66,\n",
       " 67,\n",
       " 68,\n",
       " 69,\n",
       " 70,\n",
       " 71,\n",
       " 72,\n",
       " 73,\n",
       " 74,\n",
       " 75,\n",
       " 76,\n",
       " 77,\n",
       " 78,\n",
       " 79,\n",
       " 80,\n",
       " 81,\n",
       " 82,\n",
       " 83,\n",
       " 84,\n",
       " 85,\n",
       " 86,\n",
       " 87,\n",
       " 88,\n",
       " 89,\n",
       " 90,\n",
       " 91,\n",
       " 92,\n",
       " 93,\n",
       " 94,\n",
       " 95,\n",
       " 96,\n",
       " 97,\n",
       " 98,\n",
       " 99,\n",
       " 100,\n",
       " 101,\n",
       " 102,\n",
       " 103,\n",
       " 104,\n",
       " 105,\n",
       " 106,\n",
       " 107,\n",
       " 108,\n",
       " 109,\n",
       " 110,\n",
       " 111,\n",
       " 112,\n",
       " 113,\n",
       " 114,\n",
       " 115,\n",
       " 116,\n",
       " 117,\n",
       " 118,\n",
       " 119,\n",
       " 120,\n",
       " 121,\n",
       " 122,\n",
       " 123,\n",
       " 124,\n",
       " 125,\n",
       " 126,\n",
       " 127,\n",
       " 128,\n",
       " 129,\n",
       " 130,\n",
       " 131,\n",
       " 132,\n",
       " 133,\n",
       " 134,\n",
       " 135,\n",
       " 136,\n",
       " 137,\n",
       " 138,\n",
       " 139,\n",
       " 140,\n",
       " 141,\n",
       " 142,\n",
       " 143,\n",
       " 144,\n",
       " 145,\n",
       " 146,\n",
       " 147,\n",
       " 148,\n",
       " 149,\n",
       " 150,\n",
       " 151,\n",
       " 152,\n",
       " 153,\n",
       " 154,\n",
       " 155,\n",
       " 156,\n",
       " 157,\n",
       " 158,\n",
       " 159,\n",
       " 160,\n",
       " 161,\n",
       " 162,\n",
       " 163,\n",
       " 164,\n",
       " 165,\n",
       " 166,\n",
       " 167,\n",
       " 168,\n",
       " 169,\n",
       " 170,\n",
       " 171,\n",
       " 172,\n",
       " 173,\n",
       " 174,\n",
       " 175,\n",
       " 176,\n",
       " 177,\n",
       " 178,\n",
       " 179,\n",
       " 180,\n",
       " 181,\n",
       " 182,\n",
       " 183,\n",
       " 184,\n",
       " 185,\n",
       " 186,\n",
       " 187,\n",
       " 188,\n",
       " 189,\n",
       " 190,\n",
       " 191,\n",
       " 192,\n",
       " 193,\n",
       " 195,\n",
       " 196,\n",
       " 197,\n",
       " 200,\n",
       " 201,\n",
       " 202,\n",
       " 204,\n",
       " 205,\n",
       " 206,\n",
       " 207,\n",
       " 208,\n",
       " 210,\n",
       " 211,\n",
       " 213,\n",
       " 214,\n",
       " 216,\n",
       " 218,\n",
       " 219,\n",
       " 220,\n",
       " 222,\n",
       " 225,\n",
       " 226,\n",
       " 227,\n",
       " 228,\n",
       " 229,\n",
       " 230,\n",
       " 233,\n",
       " 234,\n",
       " 235,\n",
       " 237,\n",
       " 238,\n",
       " 239,\n",
       " 240,\n",
       " 241,\n",
       " 242,\n",
       " 247,\n",
       " 251,\n",
       " 252,\n",
       " 255,\n",
       " 256,\n",
       " 267,\n",
       " 270,\n",
       " 273,\n",
       " 278,\n",
       " 280,\n",
       " 296,\n",
       " 297,\n",
       " 300,\n",
       " 303,\n",
       " 305,\n",
       " 312,\n",
       " 324,\n",
       " 325,\n",
       " 330,\n",
       " 339,\n",
       " 345,\n",
       " 350,\n",
       " 351,\n",
       " 360,\n",
       " 420,\n",
       " 480,\n",
       " 495,\n",
       " 525,\n",
       " 540,\n",
       " 782,\n",
       " 999]"
      ]
     },
     "execution_count": 110,
     "metadata": {},
     "output_type": "execute_result"
    }
   ],
   "source": [
    "liste = list(films_tmdb_imdb_sup5_2000['runtime'].unique())\n",
    "liste.sort()\n",
    "liste"
   ]
  },
  {
   "cell_type": "markdown",
   "metadata": {},
   "source": [
    "on prend les films plus longs que 60 minutes"
   ]
  },
  {
   "cell_type": "code",
   "execution_count": 112,
   "metadata": {},
   "outputs": [],
   "source": [
    "films_tmdb_imdb_sup5_2000_60 = films_tmdb_imdb_sup5_2000[films_tmdb_imdb_sup5_2000['runtime']>=60]"
   ]
  },
  {
   "cell_type": "code",
   "execution_count": 114,
   "metadata": {},
   "outputs": [
    {
     "name": "stdout",
     "output_type": "stream",
     "text": [
      "<class 'pandas.core.frame.DataFrame'>\n",
      "Index: 246079 entries, 70 to 769918\n",
      "Data columns (total 27 columns):\n",
      " #   Column                Non-Null Count   Dtype         \n",
      "---  ------                --------------   -----         \n",
      " 0   adult                 246079 non-null  bool          \n",
      " 1   budget                246079 non-null  int64         \n",
      " 2   genres                246079 non-null  object        \n",
      " 3   id_tmdb               246079 non-null  int64         \n",
      " 4   imdb_id               246079 non-null  object        \n",
      " 5   original_language     246079 non-null  object        \n",
      " 6   original_title        246079 non-null  object        \n",
      " 7   overview              246079 non-null  object        \n",
      " 8   popularity            246079 non-null  float64       \n",
      " 9   poster_path           246079 non-null  object        \n",
      " 10  production_countries  246079 non-null  object        \n",
      " 11  release_date          246079 non-null  datetime64[ns]\n",
      " 12  revenue               246079 non-null  int64         \n",
      " 13  runtime               246079 non-null  int64         \n",
      " 14  spoken_languages      246079 non-null  object        \n",
      " 15  status                246079 non-null  object        \n",
      " 16  title                 246079 non-null  object        \n",
      " 17  vote_average          246079 non-null  float64       \n",
      " 18  vote_count            246079 non-null  int64         \n",
      " 19  directors             246079 non-null  object        \n",
      " 20  writers               246079 non-null  object        \n",
      " 21  nconst                246079 non-null  object        \n",
      " 22  category              246079 non-null  object        \n",
      " 23  characters            246079 non-null  object        \n",
      " 24  primaryName           246079 non-null  object        \n",
      " 25  knownForTitles        246079 non-null  object        \n",
      " 26  year                  246079 non-null  int32         \n",
      "dtypes: bool(1), datetime64[ns](1), float64(2), int32(1), int64(5), object(17)\n",
      "memory usage: 50.0+ MB\n"
     ]
    }
   ],
   "source": [
    "films_tmdb_imdb_sup5_2000_60.info()"
   ]
  },
  {
   "cell_type": "markdown",
   "metadata": {},
   "source": [
    "Nombre de films qui durent plus de 60 minutes inclues sortis à partir de 2000 et qui ont une note supérieure à 5."
   ]
  },
  {
   "cell_type": "code",
   "execution_count": 115,
   "metadata": {},
   "outputs": [
    {
     "data": {
      "text/plain": [
       "12771"
      ]
     },
     "execution_count": 115,
     "metadata": {},
     "output_type": "execute_result"
    }
   ],
   "source": [
    "len(films_tmdb_imdb_sup5_2000_60['id_tmdb'].unique())"
   ]
  },
  {
   "cell_type": "markdown",
   "metadata": {},
   "source": [
    "On prend les films qui sont sortis (Released) et on enlève les films In Production => en fait il n'y a pas de films en production"
   ]
  },
  {
   "cell_type": "code",
   "execution_count": 123,
   "metadata": {},
   "outputs": [
    {
     "data": {
      "text/html": [
       "<div>\n",
       "<style scoped>\n",
       "    .dataframe tbody tr th:only-of-type {\n",
       "        vertical-align: middle;\n",
       "    }\n",
       "\n",
       "    .dataframe tbody tr th {\n",
       "        vertical-align: top;\n",
       "    }\n",
       "\n",
       "    .dataframe thead th {\n",
       "        text-align: right;\n",
       "    }\n",
       "</style>\n",
       "<table border=\"1\" class=\"dataframe\">\n",
       "  <thead>\n",
       "    <tr style=\"text-align: right;\">\n",
       "      <th></th>\n",
       "      <th>adult</th>\n",
       "      <th>budget</th>\n",
       "      <th>genres</th>\n",
       "      <th>id_tmdb</th>\n",
       "      <th>imdb_id</th>\n",
       "      <th>original_language</th>\n",
       "      <th>original_title</th>\n",
       "      <th>overview</th>\n",
       "      <th>popularity</th>\n",
       "      <th>poster_path</th>\n",
       "      <th>...</th>\n",
       "      <th>vote_average</th>\n",
       "      <th>vote_count</th>\n",
       "      <th>directors</th>\n",
       "      <th>writers</th>\n",
       "      <th>nconst</th>\n",
       "      <th>category</th>\n",
       "      <th>characters</th>\n",
       "      <th>primaryName</th>\n",
       "      <th>knownForTitles</th>\n",
       "      <th>year</th>\n",
       "    </tr>\n",
       "  </thead>\n",
       "  <tbody>\n",
       "  </tbody>\n",
       "</table>\n",
       "<p>0 rows × 27 columns</p>\n",
       "</div>"
      ],
      "text/plain": [
       "Empty DataFrame\n",
       "Columns: [adult, budget, genres, id_tmdb, imdb_id, original_language, original_title, overview, popularity, poster_path, production_countries, release_date, revenue, runtime, spoken_languages, status, title, vote_average, vote_count, directors, writers, nconst, category, characters, primaryName, knownForTitles, year]\n",
       "Index: []\n",
       "\n",
       "[0 rows x 27 columns]"
      ]
     },
     "execution_count": 123,
     "metadata": {},
     "output_type": "execute_result"
    }
   ],
   "source": [
    "films_tmdb_imdb_sup5_2000_60[films_tmdb_imdb_sup5_2000_60['status'] == 'In Production']"
   ]
  },
  {
   "cell_type": "code",
   "execution_count": 120,
   "metadata": {},
   "outputs": [],
   "source": [
    "films_tmdb_imdb_sup5_2000_60_released = films_tmdb_imdb_sup5_2000_60[films_tmdb_imdb_sup5_2000_60['status'] == 'Released']"
   ]
  },
  {
   "cell_type": "code",
   "execution_count": 121,
   "metadata": {},
   "outputs": [
    {
     "name": "stdout",
     "output_type": "stream",
     "text": [
      "<class 'pandas.core.frame.DataFrame'>\n",
      "Index: 246079 entries, 70 to 769918\n",
      "Data columns (total 27 columns):\n",
      " #   Column                Non-Null Count   Dtype         \n",
      "---  ------                --------------   -----         \n",
      " 0   adult                 246079 non-null  bool          \n",
      " 1   budget                246079 non-null  int64         \n",
      " 2   genres                246079 non-null  object        \n",
      " 3   id_tmdb               246079 non-null  int64         \n",
      " 4   imdb_id               246079 non-null  object        \n",
      " 5   original_language     246079 non-null  object        \n",
      " 6   original_title        246079 non-null  object        \n",
      " 7   overview              246079 non-null  object        \n",
      " 8   popularity            246079 non-null  float64       \n",
      " 9   poster_path           246079 non-null  object        \n",
      " 10  production_countries  246079 non-null  object        \n",
      " 11  release_date          246079 non-null  datetime64[ns]\n",
      " 12  revenue               246079 non-null  int64         \n",
      " 13  runtime               246079 non-null  int64         \n",
      " 14  spoken_languages      246079 non-null  object        \n",
      " 15  status                246079 non-null  object        \n",
      " 16  title                 246079 non-null  object        \n",
      " 17  vote_average          246079 non-null  float64       \n",
      " 18  vote_count            246079 non-null  int64         \n",
      " 19  directors             246079 non-null  object        \n",
      " 20  writers               246079 non-null  object        \n",
      " 21  nconst                246079 non-null  object        \n",
      " 22  category              246079 non-null  object        \n",
      " 23  characters            246079 non-null  object        \n",
      " 24  primaryName           246079 non-null  object        \n",
      " 25  knownForTitles        246079 non-null  object        \n",
      " 26  year                  246079 non-null  int32         \n",
      "dtypes: bool(1), datetime64[ns](1), float64(2), int32(1), int64(5), object(17)\n",
      "memory usage: 50.0+ MB\n"
     ]
    }
   ],
   "source": [
    "films_tmdb_imdb_sup5_2000_60_released.info()"
   ]
  },
  {
   "cell_type": "code",
   "execution_count": 155,
   "metadata": {},
   "outputs": [
    {
     "data": {
      "text/plain": [
       "12644"
      ]
     },
     "execution_count": 155,
     "metadata": {},
     "output_type": "execute_result"
    }
   ],
   "source": [
    "len(films_tmdb_imdb_sup5_2000_60_released['original_title'].unique())\n"
   ]
  },
  {
   "cell_type": "code",
   "execution_count": 154,
   "metadata": {},
   "outputs": [
    {
     "data": {
      "text/plain": [
       "12771"
      ]
     },
     "execution_count": 154,
     "metadata": {},
     "output_type": "execute_result"
    }
   ],
   "source": [
    "len(films_tmdb_imdb_sup5_2000_60_released['imdb_id'].unique())"
   ]
  },
  {
   "cell_type": "markdown",
   "metadata": {},
   "source": [
    "Je regarde si les original_title apparaissent plusieurs fois = OUI => on peut filtrer pour avoir un seul par région dans title_akas ? "
   ]
  },
  {
   "cell_type": "code",
   "execution_count": 124,
   "metadata": {},
   "outputs": [
    {
     "data": {
      "text/plain": [
       "original_title\n",
       "Home                                             61\n",
       "Deux                                             61\n",
       "Vendetta                                         59\n",
       "Anna                                             56\n",
       "Charlie's Angels                                 53\n",
       "                                                 ..\n",
       "Antifa: Chasseurs de skins                        1\n",
       "La Vallée close                                   1\n",
       "Musk vs Bezos, la nouvelle guerre des étoiles     1\n",
       "Des traîtres dans la Résistance                   1\n",
       "Ta'ang                                            1\n",
       "Name: count, Length: 12644, dtype: int64"
      ]
     },
     "execution_count": 124,
     "metadata": {},
     "output_type": "execute_result"
    }
   ],
   "source": [
    "films_tmdb_imdb_sup5_2000_60_released['original_title'].value_counts()"
   ]
  },
  {
   "cell_type": "code",
   "execution_count": 204,
   "metadata": {},
   "outputs": [
    {
     "data": {
      "text/plain": [
       "original_title\n",
       "Home                                             61\n",
       "Deux                                             61\n",
       "Vendetta                                         59\n",
       "Anna                                             56\n",
       "Charlie's Angels                                 53\n",
       "                                                 ..\n",
       "Antifa: Chasseurs de skins                        1\n",
       "La Vallée close                                   1\n",
       "Musk vs Bezos, la nouvelle guerre des étoiles     1\n",
       "Des traîtres dans la Résistance                   1\n",
       "Ta'ang                                            1\n",
       "Name: count, Length: 12644, dtype: int64"
      ]
     },
     "execution_count": 204,
     "metadata": {},
     "output_type": "execute_result"
    }
   ],
   "source": [
    "test_ot = films_tmdb_imdb_sup5_2000_60_released.groupby(by='original_title').count()\n",
    "test"
   ]
  },
  {
   "cell_type": "code",
   "execution_count": null,
   "metadata": {},
   "outputs": [],
   "source": [
    "# liste_colonnes_films = ['adult',\n",
    "#                         'budget',\n",
    "#                         'genres',\n",
    "#                         'id_tmdb',\n",
    "#                         'imdb_id',\n",
    "#                         'original_language',\n",
    "#                         'original_title',\n",
    "#                                                 'overview',\n",
    "#                                                 'popularity',\n",
    "#                                                 'poster_path',\n",
    "#                                                 'production_countries',\n",
    "#                                                 'release_date' ,\n",
    "#                                                 'revenue',\n",
    "#                                                 'runtime',\n",
    "#                                                 'spoken_languages',\n",
    "#                                                 'status' ,\n",
    "#                                                 'title' ,                                               \n",
    "#                                                 'vote_average',\n",
    "#                                                 'vote_count ',\n",
    "#                                                 'directors',\n",
    "#                                                 'writers']\n",
    "test_films = films_tmdb_imdb_sup5_2000_60_released[['adult','budget','genres','id_tmdb','imdb_id','original_language','original_title','original_title','overview','popularity','poster_path','production_countries','release_date' ,'revenue','runtime','spoken_languages','status','title' ,'vote_average','vote_count','directors','writers'                        \n",
    "                        \n",
    "                        ]]\n",
    "test_films"
   ]
  },
  {
   "cell_type": "code",
   "execution_count": 205,
   "metadata": {},
   "outputs": [
    {
     "data": {
      "text/html": [
       "<div>\n",
       "<style scoped>\n",
       "    .dataframe tbody tr th:only-of-type {\n",
       "        vertical-align: middle;\n",
       "    }\n",
       "\n",
       "    .dataframe tbody tr th {\n",
       "        vertical-align: top;\n",
       "    }\n",
       "\n",
       "    .dataframe thead th {\n",
       "        text-align: right;\n",
       "    }\n",
       "</style>\n",
       "<table border=\"1\" class=\"dataframe\">\n",
       "  <thead>\n",
       "    <tr style=\"text-align: right;\">\n",
       "      <th></th>\n",
       "      <th>adult</th>\n",
       "      <th>budget</th>\n",
       "      <th>genres</th>\n",
       "      <th>id_tmdb</th>\n",
       "      <th>imdb_id</th>\n",
       "      <th>original_language</th>\n",
       "      <th>original_title</th>\n",
       "      <th>original_title</th>\n",
       "      <th>overview</th>\n",
       "      <th>popularity</th>\n",
       "      <th>...</th>\n",
       "      <th>production_countries</th>\n",
       "      <th>release_date</th>\n",
       "      <th>revenue</th>\n",
       "      <th>runtime</th>\n",
       "      <th>spoken_languages</th>\n",
       "      <th>status</th>\n",
       "      <th>vote_average</th>\n",
       "      <th>vote_count</th>\n",
       "      <th>directors</th>\n",
       "      <th>writers</th>\n",
       "    </tr>\n",
       "    <tr>\n",
       "      <th>title</th>\n",
       "      <th></th>\n",
       "      <th></th>\n",
       "      <th></th>\n",
       "      <th></th>\n",
       "      <th></th>\n",
       "      <th></th>\n",
       "      <th></th>\n",
       "      <th></th>\n",
       "      <th></th>\n",
       "      <th></th>\n",
       "      <th></th>\n",
       "      <th></th>\n",
       "      <th></th>\n",
       "      <th></th>\n",
       "      <th></th>\n",
       "      <th></th>\n",
       "      <th></th>\n",
       "      <th></th>\n",
       "      <th></th>\n",
       "      <th></th>\n",
       "      <th></th>\n",
       "    </tr>\n",
       "  </thead>\n",
       "  <tbody>\n",
       "    <tr>\n",
       "      <th>#Alive</th>\n",
       "      <td>27</td>\n",
       "      <td>27</td>\n",
       "      <td>27</td>\n",
       "      <td>27</td>\n",
       "      <td>27</td>\n",
       "      <td>27</td>\n",
       "      <td>27</td>\n",
       "      <td>27</td>\n",
       "      <td>27</td>\n",
       "      <td>27</td>\n",
       "      <td>...</td>\n",
       "      <td>27</td>\n",
       "      <td>27</td>\n",
       "      <td>27</td>\n",
       "      <td>27</td>\n",
       "      <td>27</td>\n",
       "      <td>27</td>\n",
       "      <td>27</td>\n",
       "      <td>27</td>\n",
       "      <td>27</td>\n",
       "      <td>27</td>\n",
       "    </tr>\n",
       "    <tr>\n",
       "      <th>#Iamhere</th>\n",
       "      <td>25</td>\n",
       "      <td>25</td>\n",
       "      <td>25</td>\n",
       "      <td>25</td>\n",
       "      <td>25</td>\n",
       "      <td>25</td>\n",
       "      <td>25</td>\n",
       "      <td>25</td>\n",
       "      <td>25</td>\n",
       "      <td>25</td>\n",
       "      <td>...</td>\n",
       "      <td>25</td>\n",
       "      <td>25</td>\n",
       "      <td>25</td>\n",
       "      <td>25</td>\n",
       "      <td>25</td>\n",
       "      <td>25</td>\n",
       "      <td>25</td>\n",
       "      <td>25</td>\n",
       "      <td>25</td>\n",
       "      <td>25</td>\n",
       "    </tr>\n",
       "    <tr>\n",
       "      <th>#Moscow on the Beach</th>\n",
       "      <td>18</td>\n",
       "      <td>18</td>\n",
       "      <td>18</td>\n",
       "      <td>18</td>\n",
       "      <td>18</td>\n",
       "      <td>18</td>\n",
       "      <td>18</td>\n",
       "      <td>18</td>\n",
       "      <td>18</td>\n",
       "      <td>18</td>\n",
       "      <td>...</td>\n",
       "      <td>18</td>\n",
       "      <td>18</td>\n",
       "      <td>18</td>\n",
       "      <td>18</td>\n",
       "      <td>18</td>\n",
       "      <td>18</td>\n",
       "      <td>18</td>\n",
       "      <td>18</td>\n",
       "      <td>18</td>\n",
       "      <td>18</td>\n",
       "    </tr>\n",
       "    <tr>\n",
       "      <th>'71</th>\n",
       "      <td>19</td>\n",
       "      <td>19</td>\n",
       "      <td>19</td>\n",
       "      <td>19</td>\n",
       "      <td>19</td>\n",
       "      <td>19</td>\n",
       "      <td>19</td>\n",
       "      <td>19</td>\n",
       "      <td>19</td>\n",
       "      <td>19</td>\n",
       "      <td>...</td>\n",
       "      <td>19</td>\n",
       "      <td>19</td>\n",
       "      <td>19</td>\n",
       "      <td>19</td>\n",
       "      <td>19</td>\n",
       "      <td>19</td>\n",
       "      <td>19</td>\n",
       "      <td>19</td>\n",
       "      <td>19</td>\n",
       "      <td>19</td>\n",
       "    </tr>\n",
       "    <tr>\n",
       "      <th>'R Xmas</th>\n",
       "      <td>22</td>\n",
       "      <td>22</td>\n",
       "      <td>22</td>\n",
       "      <td>22</td>\n",
       "      <td>22</td>\n",
       "      <td>22</td>\n",
       "      <td>22</td>\n",
       "      <td>22</td>\n",
       "      <td>22</td>\n",
       "      <td>22</td>\n",
       "      <td>...</td>\n",
       "      <td>22</td>\n",
       "      <td>22</td>\n",
       "      <td>22</td>\n",
       "      <td>22</td>\n",
       "      <td>22</td>\n",
       "      <td>22</td>\n",
       "      <td>22</td>\n",
       "      <td>22</td>\n",
       "      <td>22</td>\n",
       "      <td>22</td>\n",
       "    </tr>\n",
       "    <tr>\n",
       "      <th>...</th>\n",
       "      <td>...</td>\n",
       "      <td>...</td>\n",
       "      <td>...</td>\n",
       "      <td>...</td>\n",
       "      <td>...</td>\n",
       "      <td>...</td>\n",
       "      <td>...</td>\n",
       "      <td>...</td>\n",
       "      <td>...</td>\n",
       "      <td>...</td>\n",
       "      <td>...</td>\n",
       "      <td>...</td>\n",
       "      <td>...</td>\n",
       "      <td>...</td>\n",
       "      <td>...</td>\n",
       "      <td>...</td>\n",
       "      <td>...</td>\n",
       "      <td>...</td>\n",
       "      <td>...</td>\n",
       "      <td>...</td>\n",
       "      <td>...</td>\n",
       "    </tr>\n",
       "    <tr>\n",
       "      <th>Éoliennes: du rêve aux réalités</th>\n",
       "      <td>17</td>\n",
       "      <td>17</td>\n",
       "      <td>17</td>\n",
       "      <td>17</td>\n",
       "      <td>17</td>\n",
       "      <td>17</td>\n",
       "      <td>17</td>\n",
       "      <td>17</td>\n",
       "      <td>17</td>\n",
       "      <td>17</td>\n",
       "      <td>...</td>\n",
       "      <td>17</td>\n",
       "      <td>17</td>\n",
       "      <td>17</td>\n",
       "      <td>17</td>\n",
       "      <td>17</td>\n",
       "      <td>17</td>\n",
       "      <td>17</td>\n",
       "      <td>17</td>\n",
       "      <td>17</td>\n",
       "      <td>17</td>\n",
       "    </tr>\n",
       "    <tr>\n",
       "      <th>Ô Jerusalem</th>\n",
       "      <td>20</td>\n",
       "      <td>20</td>\n",
       "      <td>20</td>\n",
       "      <td>20</td>\n",
       "      <td>20</td>\n",
       "      <td>20</td>\n",
       "      <td>20</td>\n",
       "      <td>20</td>\n",
       "      <td>20</td>\n",
       "      <td>20</td>\n",
       "      <td>...</td>\n",
       "      <td>20</td>\n",
       "      <td>20</td>\n",
       "      <td>20</td>\n",
       "      <td>20</td>\n",
       "      <td>20</td>\n",
       "      <td>20</td>\n",
       "      <td>20</td>\n",
       "      <td>20</td>\n",
       "      <td>20</td>\n",
       "      <td>20</td>\n",
       "    </tr>\n",
       "    <tr>\n",
       "      <th>Γκίνες</th>\n",
       "      <td>17</td>\n",
       "      <td>17</td>\n",
       "      <td>17</td>\n",
       "      <td>17</td>\n",
       "      <td>17</td>\n",
       "      <td>17</td>\n",
       "      <td>17</td>\n",
       "      <td>17</td>\n",
       "      <td>17</td>\n",
       "      <td>17</td>\n",
       "      <td>...</td>\n",
       "      <td>17</td>\n",
       "      <td>17</td>\n",
       "      <td>17</td>\n",
       "      <td>17</td>\n",
       "      <td>17</td>\n",
       "      <td>17</td>\n",
       "      <td>17</td>\n",
       "      <td>17</td>\n",
       "      <td>17</td>\n",
       "      <td>17</td>\n",
       "    </tr>\n",
       "    <tr>\n",
       "      <th>‎The Slacker‎</th>\n",
       "      <td>19</td>\n",
       "      <td>19</td>\n",
       "      <td>19</td>\n",
       "      <td>19</td>\n",
       "      <td>19</td>\n",
       "      <td>19</td>\n",
       "      <td>19</td>\n",
       "      <td>19</td>\n",
       "      <td>19</td>\n",
       "      <td>19</td>\n",
       "      <td>...</td>\n",
       "      <td>19</td>\n",
       "      <td>19</td>\n",
       "      <td>19</td>\n",
       "      <td>19</td>\n",
       "      <td>19</td>\n",
       "      <td>19</td>\n",
       "      <td>19</td>\n",
       "      <td>19</td>\n",
       "      <td>19</td>\n",
       "      <td>19</td>\n",
       "    </tr>\n",
       "    <tr>\n",
       "      <th>‎What's With This Granny?!‎</th>\n",
       "      <td>21</td>\n",
       "      <td>21</td>\n",
       "      <td>21</td>\n",
       "      <td>21</td>\n",
       "      <td>21</td>\n",
       "      <td>21</td>\n",
       "      <td>21</td>\n",
       "      <td>21</td>\n",
       "      <td>21</td>\n",
       "      <td>21</td>\n",
       "      <td>...</td>\n",
       "      <td>21</td>\n",
       "      <td>21</td>\n",
       "      <td>21</td>\n",
       "      <td>21</td>\n",
       "      <td>21</td>\n",
       "      <td>21</td>\n",
       "      <td>21</td>\n",
       "      <td>21</td>\n",
       "      <td>21</td>\n",
       "      <td>21</td>\n",
       "    </tr>\n",
       "  </tbody>\n",
       "</table>\n",
       "<p>12458 rows × 21 columns</p>\n",
       "</div>"
      ],
      "text/plain": [
       "                                 adult  budget  genres  id_tmdb  imdb_id  \\\n",
       "title                                                                      \n",
       "#Alive                              27      27      27       27       27   \n",
       "#Iamhere                            25      25      25       25       25   \n",
       "#Moscow on the Beach                18      18      18       18       18   \n",
       "'71                                 19      19      19       19       19   \n",
       "'R Xmas                             22      22      22       22       22   \n",
       "...                                ...     ...     ...      ...      ...   \n",
       "Éoliennes: du rêve aux réalités     17      17      17       17       17   \n",
       "Ô Jerusalem                         20      20      20       20       20   \n",
       "Γκίνες                              17      17      17       17       17   \n",
       "‎The Slacker‎                       19      19      19       19       19   \n",
       "‎What's With This Granny?!‎         21      21      21       21       21   \n",
       "\n",
       "                                 original_language  original_title  \\\n",
       "title                                                                \n",
       "#Alive                                          27              27   \n",
       "#Iamhere                                        25              25   \n",
       "#Moscow on the Beach                            18              18   \n",
       "'71                                             19              19   \n",
       "'R Xmas                                         22              22   \n",
       "...                                            ...             ...   \n",
       "Éoliennes: du rêve aux réalités                 17              17   \n",
       "Ô Jerusalem                                     20              20   \n",
       "Γκίνες                                          17              17   \n",
       "‎The Slacker‎                                   19              19   \n",
       "‎What's With This Granny?!‎                     21              21   \n",
       "\n",
       "                                 original_title  overview  popularity  ...  \\\n",
       "title                                                                  ...   \n",
       "#Alive                                       27        27          27  ...   \n",
       "#Iamhere                                     25        25          25  ...   \n",
       "#Moscow on the Beach                         18        18          18  ...   \n",
       "'71                                          19        19          19  ...   \n",
       "'R Xmas                                      22        22          22  ...   \n",
       "...                                         ...       ...         ...  ...   \n",
       "Éoliennes: du rêve aux réalités              17        17          17  ...   \n",
       "Ô Jerusalem                                  20        20          20  ...   \n",
       "Γκίνες                                       17        17          17  ...   \n",
       "‎The Slacker‎                                19        19          19  ...   \n",
       "‎What's With This Granny?!‎                  21        21          21  ...   \n",
       "\n",
       "                                 production_countries  release_date  revenue  \\\n",
       "title                                                                          \n",
       "#Alive                                             27            27       27   \n",
       "#Iamhere                                           25            25       25   \n",
       "#Moscow on the Beach                               18            18       18   \n",
       "'71                                                19            19       19   \n",
       "'R Xmas                                            22            22       22   \n",
       "...                                               ...           ...      ...   \n",
       "Éoliennes: du rêve aux réalités                    17            17       17   \n",
       "Ô Jerusalem                                        20            20       20   \n",
       "Γκίνες                                             17            17       17   \n",
       "‎The Slacker‎                                      19            19       19   \n",
       "‎What's With This Granny?!‎                        21            21       21   \n",
       "\n",
       "                                 runtime  spoken_languages  status  \\\n",
       "title                                                                \n",
       "#Alive                                27                27      27   \n",
       "#Iamhere                              25                25      25   \n",
       "#Moscow on the Beach                  18                18      18   \n",
       "'71                                   19                19      19   \n",
       "'R Xmas                               22                22      22   \n",
       "...                                  ...               ...     ...   \n",
       "Éoliennes: du rêve aux réalités       17                17      17   \n",
       "Ô Jerusalem                           20                20      20   \n",
       "Γκίνες                                17                17      17   \n",
       "‎The Slacker‎                         19                19      19   \n",
       "‎What's With This Granny?!‎           21                21      21   \n",
       "\n",
       "                                 vote_average  vote_count  directors  writers  \n",
       "title                                                                          \n",
       "#Alive                                     27          27         27       27  \n",
       "#Iamhere                                   25          25         25       25  \n",
       "#Moscow on the Beach                       18          18         18       18  \n",
       "'71                                        19          19         19       19  \n",
       "'R Xmas                                    22          22         22       22  \n",
       "...                                       ...         ...        ...      ...  \n",
       "Éoliennes: du rêve aux réalités            17          17         17       17  \n",
       "Ô Jerusalem                                20          20         20       20  \n",
       "Γκίνες                                     17          17         17       17  \n",
       "‎The Slacker‎                              19          19         19       19  \n",
       "‎What's With This Granny?!‎                21          21         21       21  \n",
       "\n",
       "[12458 rows x 21 columns]"
      ]
     },
     "execution_count": 205,
     "metadata": {},
     "output_type": "execute_result"
    }
   ],
   "source": [
    "test_films.groupby('title').count()"
   ]
  },
  {
   "cell_type": "code",
   "execution_count": 213,
   "metadata": {},
   "outputs": [
    {
     "data": {
      "text/plain": [
       "12771"
      ]
     },
     "execution_count": 213,
     "metadata": {},
     "output_type": "execute_result"
    }
   ],
   "source": [
    "len(test_films['id_tmdb'].unique())"
   ]
  },
  {
   "cell_type": "code",
   "execution_count": 214,
   "metadata": {},
   "outputs": [
    {
     "data": {
      "text/plain": [
       "12458"
      ]
     },
     "execution_count": 214,
     "metadata": {},
     "output_type": "execute_result"
    }
   ],
   "source": [
    "len(test_films['title'].unique())"
   ]
  },
  {
   "cell_type": "markdown",
   "metadata": {},
   "source": [
    "On regarde dans title_akas la région de la version du titre et on prend quand France   \n",
    "On met na=False pour ignorer les valeurs NaN sinon on a une erreur"
   ]
  },
  {
   "cell_type": "code",
   "execution_count": 135,
   "metadata": {},
   "outputs": [],
   "source": [
    "title_akas_FR = title_akas[title_akas['region'].str.contains('FR', na=False)]"
   ]
  },
  {
   "cell_type": "code",
   "execution_count": 136,
   "metadata": {},
   "outputs": [
    {
     "name": "stdout",
     "output_type": "stream",
     "text": [
      "<class 'pandas.core.frame.DataFrame'>\n",
      "Index: 4933915 entries, 12 to 50354942\n",
      "Data columns (total 8 columns):\n",
      " #   Column           Dtype \n",
      "---  ------           ----- \n",
      " 0   titleId          object\n",
      " 1   ordering         int64 \n",
      " 2   title            object\n",
      " 3   region           object\n",
      " 4   language         object\n",
      " 5   types            object\n",
      " 6   attributes       object\n",
      " 7   isOriginalTitle  int64 \n",
      "dtypes: int64(2), object(6)\n",
      "memory usage: 338.8+ MB\n"
     ]
    }
   ],
   "source": [
    "title_akas_FR.info()"
   ]
  },
  {
   "cell_type": "code",
   "execution_count": 138,
   "metadata": {},
   "outputs": [
    {
     "name": "stdout",
     "output_type": "stream",
     "text": [
      "<class 'pandas.core.frame.DataFrame'>\n",
      "Index: 4933915 entries, 12 to 50354942\n",
      "Data columns (total 4 columns):\n",
      " #   Column    Dtype \n",
      "---  ------    ----- \n",
      " 0   titleId   object\n",
      " 1   title     object\n",
      " 2   region    object\n",
      " 3   language  object\n",
      "dtypes: object(4)\n",
      "memory usage: 188.2+ MB\n"
     ]
    }
   ],
   "source": [
    "title_akas_FR_reduit = title_akas_FR[['titleId','title','region','language']]\n",
    "title_akas_FR_reduit.info()"
   ]
  },
  {
   "cell_type": "code",
   "execution_count": 139,
   "metadata": {},
   "outputs": [],
   "source": [
    "films_tmdb_imdb_sup5_2000_60_released_regFR = pd.merge(films_tmdb_imdb_sup5_2000_60_released,\n",
    "                                                       title_akas_FR_reduit,\n",
    "                                                       how='inner',\n",
    "                                                       left_on='imdb_id',\n",
    "                                                       right_on='titleId')"
   ]
  },
  {
   "cell_type": "code",
   "execution_count": 140,
   "metadata": {},
   "outputs": [
    {
     "name": "stdout",
     "output_type": "stream",
     "text": [
      "<class 'pandas.core.frame.DataFrame'>\n",
      "RangeIndex: 195241 entries, 0 to 195240\n",
      "Data columns (total 31 columns):\n",
      " #   Column                Non-Null Count   Dtype         \n",
      "---  ------                --------------   -----         \n",
      " 0   adult                 195241 non-null  bool          \n",
      " 1   budget                195241 non-null  int64         \n",
      " 2   genres                195241 non-null  object        \n",
      " 3   id_tmdb               195241 non-null  int64         \n",
      " 4   imdb_id               195241 non-null  object        \n",
      " 5   original_language     195241 non-null  object        \n",
      " 6   original_title        195241 non-null  object        \n",
      " 7   overview              195241 non-null  object        \n",
      " 8   popularity            195241 non-null  float64       \n",
      " 9   poster_path           195241 non-null  object        \n",
      " 10  production_countries  195241 non-null  object        \n",
      " 11  release_date          195241 non-null  datetime64[ns]\n",
      " 12  revenue               195241 non-null  int64         \n",
      " 13  runtime               195241 non-null  int64         \n",
      " 14  spoken_languages      195241 non-null  object        \n",
      " 15  status                195241 non-null  object        \n",
      " 16  title_x               195241 non-null  object        \n",
      " 17  vote_average          195241 non-null  float64       \n",
      " 18  vote_count            195241 non-null  int64         \n",
      " 19  directors             195241 non-null  object        \n",
      " 20  writers               195241 non-null  object        \n",
      " 21  nconst                195241 non-null  object        \n",
      " 22  category              195241 non-null  object        \n",
      " 23  characters            195241 non-null  object        \n",
      " 24  primaryName           195241 non-null  object        \n",
      " 25  knownForTitles        195241 non-null  object        \n",
      " 26  year                  195241 non-null  int32         \n",
      " 27  titleId               195241 non-null  object        \n",
      " 28  title_y               195241 non-null  object        \n",
      " 29  region                195241 non-null  object        \n",
      " 30  language              195241 non-null  object        \n",
      "dtypes: bool(1), datetime64[ns](1), float64(2), int32(1), int64(5), object(21)\n",
      "memory usage: 44.1+ MB\n"
     ]
    }
   ],
   "source": [
    "films_tmdb_imdb_sup5_2000_60_released_regFR.info()"
   ]
  },
  {
   "cell_type": "code",
   "execution_count": 146,
   "metadata": {},
   "outputs": [
    {
     "data": {
      "text/plain": [
       "original_title\n",
       "Le Pharaon, le Sauvage et la Princesse         320\n",
       "Mercredi, folle journée !                      156\n",
       "Ce qui nous lie                                132\n",
       "Et + si @ff                                    115\n",
       "Le Grand Méchant Renard et autres contes...    110\n",
       "                                              ... \n",
       "Antifa: Chasseurs de skins                       1\n",
       "பேரரசு                                           1\n",
       "Tiananmen                                        1\n",
       "Ta'ang                                           1\n",
       "La Vallée close                                  1\n",
       "Name: count, Length: 8443, dtype: int64"
      ]
     },
     "execution_count": 146,
     "metadata": {},
     "output_type": "execute_result"
    }
   ],
   "source": [
    "films_tmdb_imdb_sup5_2000_60_released_regFR['original_title'].value_counts()"
   ]
  }
 ],
 "metadata": {
  "kernelspec": {
   "display_name": "base",
   "language": "python",
   "name": "python3"
  },
  "language_info": {
   "codemirror_mode": {
    "name": "ipython",
    "version": 3
   },
   "file_extension": ".py",
   "mimetype": "text/x-python",
   "name": "python",
   "nbconvert_exporter": "python",
   "pygments_lexer": "ipython3",
   "version": "3.12.4"
  }
 },
 "nbformat": 4,
 "nbformat_minor": 2
}
