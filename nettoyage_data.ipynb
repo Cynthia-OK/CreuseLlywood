{
 "cells": [
  {
   "cell_type": "markdown",
   "metadata": {},
   "source": [
    "dans ce fichier nous allons mettre les requêtes de filtres et nettoyage des données"
   ]
  },
  {
   "cell_type": "markdown",
   "metadata": {},
   "source": [
    "Import pandas"
   ]
  },
  {
   "cell_type": "code",
   "execution_count": 1,
   "metadata": {},
   "outputs": [],
   "source": [
    "import pandas as pd"
   ]
  },
  {
   "cell_type": "markdown",
   "metadata": {},
   "source": [
    "Import des données : tables entières"
   ]
  },
  {
   "cell_type": "code",
   "execution_count": null,
   "metadata": {},
   "outputs": [],
   "source": [
    "# tmdb = pd.read_csv(\"./donnees/TMDB/tmdb_full.csv\", low_memory=False)"
   ]
  },
  {
   "cell_type": "code",
   "execution_count": null,
   "metadata": {},
   "outputs": [],
   "source": [
    "# title_akas = pd.read_csv(\"./donnees/IMDb/title.akas.tsv/title.akas.tsv\", sep=\"\\t\", low_memory=False)"
   ]
  },
  {
   "cell_type": "code",
   "execution_count": 2,
   "metadata": {},
   "outputs": [],
   "source": [
    " title_basics = pd.read_csv(\"./donnees/IMDb/title.basics.tsv/title.basics.tsv\", sep=\"\\t\", low_memory=False)\n",
    "# title_basics.head()"
   ]
  },
  {
   "cell_type": "code",
   "execution_count": null,
   "metadata": {},
   "outputs": [],
   "source": [
    "# title_crew = pd.read_csv(\"./donnees/IMDb/title.crew.tsv/title.crew.tsv\", sep=\"\\t\", low_memory=False)"
   ]
  },
  {
   "cell_type": "code",
   "execution_count": null,
   "metadata": {},
   "outputs": [],
   "source": [
    "# title_episode = pd.read_csv(\"./donnees/IMDb/title.episode.tsv/title.episode.tsv\", sep=\"\\t\", low_memory=False)"
   ]
  },
  {
   "cell_type": "code",
   "execution_count": null,
   "metadata": {},
   "outputs": [],
   "source": [
    "# title_principals = pd.read_csv(\"./donnees/IMDb/title.principals.tsv/title.principals.tsv\", sep=\"\\t\", low_memory=False)"
   ]
  },
  {
   "cell_type": "code",
   "execution_count": null,
   "metadata": {},
   "outputs": [],
   "source": [
    "# title_ratings = pd.read_csv(\"./donnees/IMDb/title.ratings.tsv/title.ratings.tsv\", sep=\"\\t\", low_memory=False)"
   ]
  },
  {
   "cell_type": "code",
   "execution_count": null,
   "metadata": {},
   "outputs": [],
   "source": [
    "# name_basics = pd.read_csv(\"./donnees/IMDb/name.basics.tsv/name.basics.tsv\", sep=\"\\t\", low_memory=False)"
   ]
  },
  {
   "cell_type": "markdown",
   "metadata": {},
   "source": [
    "Filtre par genre = Action et production countries = FR"
   ]
  },
  {
   "cell_type": "code",
   "execution_count": null,
   "metadata": {},
   "outputs": [],
   "source": [
    "tmdb_filtre = tmdb[(tmdb['genres'].str.contains('Action'))|(tmdb['production_countries'].str.contains('FR'))]"
   ]
  },
  {
   "cell_type": "code",
   "execution_count": null,
   "metadata": {},
   "outputs": [],
   "source": [
    "tmdb_filtre.info()"
   ]
  },
  {
   "cell_type": "markdown",
   "metadata": {},
   "source": [
    "Liaisons à faire :\n",
    "TMDB - Title_crew - title_principals - name_basics\n"
   ]
  },
  {
   "cell_type": "code",
   "execution_count": null,
   "metadata": {},
   "outputs": [],
   "source": [
    "table_films_select = pd.merge(tmdb_filtre, \n",
    "                              title_crew,\n",
    "                              how=\"inner\", \n",
    "                              left_on = \"imdb_id\",\n",
    "                              right_on = \"tconst\"\n",
    "                              )"
   ]
  },
  {
   "cell_type": "code",
   "execution_count": null,
   "metadata": {},
   "outputs": [],
   "source": [
    "table_films_select.info()"
   ]
  },
  {
   "cell_type": "code",
   "execution_count": null,
   "metadata": {},
   "outputs": [],
   "source": [
    "table_films_select = table_films_select.drop(['backdrop_path','homepage','video','production_companies_name','production_companies_country'],axis=1)"
   ]
  },
  {
   "cell_type": "code",
   "execution_count": null,
   "metadata": {},
   "outputs": [],
   "source": [
    "table_films_select = pd.merge(table_films_select, \n",
    "                              title_principals,\n",
    "                              how=\"left\", \n",
    "                              left_on = \"tconst\",\n",
    "                              right_on = \"tconst\"\n",
    "                              )"
   ]
  },
  {
   "cell_type": "code",
   "execution_count": null,
   "metadata": {},
   "outputs": [],
   "source": [
    "table_films_select.head()"
   ]
  },
  {
   "cell_type": "code",
   "execution_count": null,
   "metadata": {},
   "outputs": [],
   "source": [
    "table_films_select = table_films_select.drop(['ordering','job'],axis=1)"
   ]
  },
  {
   "cell_type": "code",
   "execution_count": null,
   "metadata": {},
   "outputs": [],
   "source": [
    "table_films_select = pd.merge(table_films_select, \n",
    "                              name_basics,\n",
    "                              how=\"left\", \n",
    "                              left_on = \"nconst\",\n",
    "                              right_on = \"nconst\"\n",
    "                              )"
   ]
  },
  {
   "cell_type": "code",
   "execution_count": null,
   "metadata": {},
   "outputs": [],
   "source": [
    "table_films_select.head()"
   ]
  },
  {
   "cell_type": "code",
   "execution_count": null,
   "metadata": {},
   "outputs": [],
   "source": [
    "table_films_select = table_films_select.drop(['birthYear','deathYear','primaryProfession'],axis=1)"
   ]
  },
  {
   "cell_type": "code",
   "execution_count": null,
   "metadata": {},
   "outputs": [],
   "source": [
    "table_films_select.info()"
   ]
  },
  {
   "cell_type": "code",
   "execution_count": null,
   "metadata": {},
   "outputs": [
    {
     "data": {
      "text/plain": [
       "Index(['adult', 'budget', 'genres', 'id', 'imdb_id', 'original_language',\n",
       "       'original_title', 'overview', 'popularity', 'poster_path',\n",
       "       'production_countries', 'release_date', 'revenue', 'runtime',\n",
       "       'spoken_languages', 'status', 'tagline', 'title', 'vote_average',\n",
       "       'vote_count', 'tconst', 'directors', 'writers', 'nconst', 'category',\n",
       "       'characters', 'primaryName', 'knownForTitles'],\n",
       "      dtype='object')"
      ]
     },
     "execution_count": 22,
     "metadata": {},
     "output_type": "execute_result"
    }
   ],
   "source": [
    "table_films_select.columns"
   ]
  },
  {
   "cell_type": "code",
   "execution_count": null,
   "metadata": {},
   "outputs": [],
   "source": [
    "table_films_select.to_csv('./donnees/table_films_select.csv', sep=\"\\t\")"
   ]
  },
  {
   "cell_type": "code",
   "execution_count": null,
   "metadata": {},
   "outputs": [],
   "source": [
    "table_films_select.info()"
   ]
  },
  {
   "cell_type": "markdown",
   "metadata": {},
   "source": [
    "On part du csv créer table_films_select.csv"
   ]
  },
  {
   "cell_type": "code",
   "execution_count": 4,
   "metadata": {},
   "outputs": [],
   "source": [
    "films_tmdb_imdb = pd.read_csv(\"./donnees/table_films_select.csv\", sep=\"\\t\", low_memory=False)"
   ]
  },
  {
   "cell_type": "code",
   "execution_count": 5,
   "metadata": {},
   "outputs": [
    {
     "name": "stdout",
     "output_type": "stream",
     "text": [
      "<class 'pandas.core.frame.DataFrame'>\n",
      "RangeIndex: 770236 entries, 0 to 770235\n",
      "Data columns (total 29 columns):\n",
      " #   Column                Non-Null Count   Dtype  \n",
      "---  ------                --------------   -----  \n",
      " 0   Unnamed: 0            770236 non-null  int64  \n",
      " 1   adult                 770236 non-null  bool   \n",
      " 2   budget                770236 non-null  int64  \n",
      " 3   genres                770236 non-null  object \n",
      " 4   id                    770236 non-null  int64  \n",
      " 5   imdb_id               770236 non-null  object \n",
      " 6   original_language     770236 non-null  object \n",
      " 7   original_title        770236 non-null  object \n",
      " 8   overview              732422 non-null  object \n",
      " 9   popularity            770236 non-null  float64\n",
      " 10  poster_path           729654 non-null  object \n",
      " 11  production_countries  770236 non-null  object \n",
      " 12  release_date          762336 non-null  object \n",
      " 13  revenue               770236 non-null  int64  \n",
      " 14  runtime               770236 non-null  int64  \n",
      " 15  spoken_languages      770236 non-null  object \n",
      " 16  status                770236 non-null  object \n",
      " 17  tagline               244061 non-null  object \n",
      " 18  title                 770236 non-null  object \n",
      " 19  vote_average          770236 non-null  float64\n",
      " 20  vote_count            770236 non-null  int64  \n",
      " 21  tconst                770236 non-null  object \n",
      " 22  directors             770236 non-null  object \n",
      " 23  writers               770236 non-null  object \n",
      " 24  nconst                770138 non-null  object \n",
      " 25  category              770138 non-null  object \n",
      " 26  characters            770138 non-null  object \n",
      " 27  primaryName           770138 non-null  object \n",
      " 28  knownForTitles        770138 non-null  object \n",
      "dtypes: bool(1), float64(2), int64(6), object(20)\n",
      "memory usage: 165.3+ MB\n"
     ]
    }
   ],
   "source": [
    "films_tmdb_imdb.info()"
   ]
  },
  {
   "cell_type": "code",
   "execution_count": 6,
   "metadata": {},
   "outputs": [],
   "source": [
    "films_tmdb_imdb = films_tmdb_imdb.drop('Unnamed: 0',axis=1)"
   ]
  },
  {
   "cell_type": "code",
   "execution_count": 7,
   "metadata": {},
   "outputs": [
    {
     "name": "stdout",
     "output_type": "stream",
     "text": [
      "<class 'pandas.core.frame.DataFrame'>\n",
      "RangeIndex: 770236 entries, 0 to 770235\n",
      "Data columns (total 28 columns):\n",
      " #   Column                Non-Null Count   Dtype  \n",
      "---  ------                --------------   -----  \n",
      " 0   adult                 770236 non-null  bool   \n",
      " 1   budget                770236 non-null  int64  \n",
      " 2   genres                770236 non-null  object \n",
      " 3   id                    770236 non-null  int64  \n",
      " 4   imdb_id               770236 non-null  object \n",
      " 5   original_language     770236 non-null  object \n",
      " 6   original_title        770236 non-null  object \n",
      " 7   overview              732422 non-null  object \n",
      " 8   popularity            770236 non-null  float64\n",
      " 9   poster_path           729654 non-null  object \n",
      " 10  production_countries  770236 non-null  object \n",
      " 11  release_date          762336 non-null  object \n",
      " 12  revenue               770236 non-null  int64  \n",
      " 13  runtime               770236 non-null  int64  \n",
      " 14  spoken_languages      770236 non-null  object \n",
      " 15  status                770236 non-null  object \n",
      " 16  tagline               244061 non-null  object \n",
      " 17  title                 770236 non-null  object \n",
      " 18  vote_average          770236 non-null  float64\n",
      " 19  vote_count            770236 non-null  int64  \n",
      " 20  tconst                770236 non-null  object \n",
      " 21  directors             770236 non-null  object \n",
      " 22  writers               770236 non-null  object \n",
      " 23  nconst                770138 non-null  object \n",
      " 24  category              770138 non-null  object \n",
      " 25  characters            770138 non-null  object \n",
      " 26  primaryName           770138 non-null  object \n",
      " 27  knownForTitles        770138 non-null  object \n",
      "dtypes: bool(1), float64(2), int64(5), object(20)\n",
      "memory usage: 159.4+ MB\n"
     ]
    }
   ],
   "source": [
    "films_tmdb_imdb.info()"
   ]
  },
  {
   "cell_type": "code",
   "execution_count": null,
   "metadata": {},
   "outputs": [],
   "source": [
    "films_tmdb_imdb.describe()"
   ]
  },
  {
   "cell_type": "code",
   "execution_count": 8,
   "metadata": {},
   "outputs": [],
   "source": [
    "films_tmdb_imdb['release_date']=pd.to_datetime(films_tmdb_imdb['release_date'])"
   ]
  },
  {
   "cell_type": "code",
   "execution_count": null,
   "metadata": {},
   "outputs": [],
   "source": [
    "films_tmdb_imdb.info()"
   ]
  },
  {
   "cell_type": "markdown",
   "metadata": {},
   "source": [
    "On drop tagline car rarement l'info"
   ]
  },
  {
   "cell_type": "code",
   "execution_count": 9,
   "metadata": {},
   "outputs": [],
   "source": [
    "films_tmdb_imdb = films_tmdb_imdb.drop('tagline', axis=1)"
   ]
  },
  {
   "cell_type": "markdown",
   "metadata": {},
   "source": [
    "On ne garde que ce qui ont un résumé"
   ]
  },
  {
   "cell_type": "code",
   "execution_count": 10,
   "metadata": {},
   "outputs": [],
   "source": [
    "films_tmdb_imdb.dropna(subset = ['overview'], inplace=True)"
   ]
  },
  {
   "cell_type": "code",
   "execution_count": null,
   "metadata": {},
   "outputs": [],
   "source": [
    "films_tmdb_imdb.info()"
   ]
  },
  {
   "cell_type": "markdown",
   "metadata": {},
   "source": [
    "On ne garde que ce qui a un poster"
   ]
  },
  {
   "cell_type": "code",
   "execution_count": 11,
   "metadata": {},
   "outputs": [],
   "source": [
    "films_tmdb_imdb.dropna(subset = ['poster_path'], inplace=True)"
   ]
  },
  {
   "cell_type": "code",
   "execution_count": null,
   "metadata": {},
   "outputs": [],
   "source": [
    "films_tmdb_imdb.isna().sum()"
   ]
  },
  {
   "cell_type": "code",
   "execution_count": 12,
   "metadata": {},
   "outputs": [],
   "source": [
    "films_tmdb_imdb.dropna(subset = ['release_date'], inplace=True)"
   ]
  },
  {
   "cell_type": "code",
   "execution_count": null,
   "metadata": {},
   "outputs": [],
   "source": [
    "films_tmdb_imdb.isna().sum()"
   ]
  },
  {
   "cell_type": "markdown",
   "metadata": {},
   "source": [
    "On garde que si info sur personne = nconst, category, ..."
   ]
  },
  {
   "cell_type": "code",
   "execution_count": 13,
   "metadata": {},
   "outputs": [],
   "source": [
    "films_tmdb_imdb.dropna(subset = ['nconst','category','characters','primaryName','knownForTitles'], inplace=True)"
   ]
  },
  {
   "cell_type": "code",
   "execution_count": null,
   "metadata": {},
   "outputs": [],
   "source": [
    "films_tmdb_imdb.isna().sum()"
   ]
  },
  {
   "cell_type": "code",
   "execution_count": null,
   "metadata": {},
   "outputs": [],
   "source": [
    "films_tmdb_imdb.info()"
   ]
  },
  {
   "cell_type": "markdown",
   "metadata": {},
   "source": [
    "On drop tconst car fait doublon avec imdb_id"
   ]
  },
  {
   "cell_type": "code",
   "execution_count": 14,
   "metadata": {},
   "outputs": [
    {
     "data": {
      "text/html": [
       "<div>\n",
       "<style scoped>\n",
       "    .dataframe tbody tr th:only-of-type {\n",
       "        vertical-align: middle;\n",
       "    }\n",
       "\n",
       "    .dataframe tbody tr th {\n",
       "        vertical-align: top;\n",
       "    }\n",
       "\n",
       "    .dataframe thead th {\n",
       "        text-align: right;\n",
       "    }\n",
       "</style>\n",
       "<table border=\"1\" class=\"dataframe\">\n",
       "  <thead>\n",
       "    <tr style=\"text-align: right;\">\n",
       "      <th></th>\n",
       "      <th>tconst</th>\n",
       "      <th>imdb_id</th>\n",
       "    </tr>\n",
       "  </thead>\n",
       "  <tbody>\n",
       "    <tr>\n",
       "      <th>0</th>\n",
       "      <td>tt0055747</td>\n",
       "      <td>tt0055747</td>\n",
       "    </tr>\n",
       "    <tr>\n",
       "      <th>1</th>\n",
       "      <td>tt0055747</td>\n",
       "      <td>tt0055747</td>\n",
       "    </tr>\n",
       "    <tr>\n",
       "      <th>2</th>\n",
       "      <td>tt0055747</td>\n",
       "      <td>tt0055747</td>\n",
       "    </tr>\n",
       "    <tr>\n",
       "      <th>3</th>\n",
       "      <td>tt0055747</td>\n",
       "      <td>tt0055747</td>\n",
       "    </tr>\n",
       "    <tr>\n",
       "      <th>4</th>\n",
       "      <td>tt0055747</td>\n",
       "      <td>tt0055747</td>\n",
       "    </tr>\n",
       "    <tr>\n",
       "      <th>...</th>\n",
       "      <td>...</td>\n",
       "      <td>...</td>\n",
       "    </tr>\n",
       "    <tr>\n",
       "      <th>770231</th>\n",
       "      <td>tt17352384</td>\n",
       "      <td>tt17352384</td>\n",
       "    </tr>\n",
       "    <tr>\n",
       "      <th>770232</th>\n",
       "      <td>tt17352384</td>\n",
       "      <td>tt17352384</td>\n",
       "    </tr>\n",
       "    <tr>\n",
       "      <th>770233</th>\n",
       "      <td>tt17352384</td>\n",
       "      <td>tt17352384</td>\n",
       "    </tr>\n",
       "    <tr>\n",
       "      <th>770234</th>\n",
       "      <td>tt17352384</td>\n",
       "      <td>tt17352384</td>\n",
       "    </tr>\n",
       "    <tr>\n",
       "      <th>770235</th>\n",
       "      <td>tt17352384</td>\n",
       "      <td>tt17352384</td>\n",
       "    </tr>\n",
       "  </tbody>\n",
       "</table>\n",
       "<p>694699 rows × 2 columns</p>\n",
       "</div>"
      ],
      "text/plain": [
       "            tconst     imdb_id\n",
       "0        tt0055747   tt0055747\n",
       "1        tt0055747   tt0055747\n",
       "2        tt0055747   tt0055747\n",
       "3        tt0055747   tt0055747\n",
       "4        tt0055747   tt0055747\n",
       "...            ...         ...\n",
       "770231  tt17352384  tt17352384\n",
       "770232  tt17352384  tt17352384\n",
       "770233  tt17352384  tt17352384\n",
       "770234  tt17352384  tt17352384\n",
       "770235  tt17352384  tt17352384\n",
       "\n",
       "[694699 rows x 2 columns]"
      ]
     },
     "execution_count": 14,
     "metadata": {},
     "output_type": "execute_result"
    }
   ],
   "source": [
    "films_tmdb_imdb[['tconst','imdb_id']]"
   ]
  },
  {
   "cell_type": "code",
   "execution_count": 15,
   "metadata": {},
   "outputs": [],
   "source": [
    "films_tmdb_imdb = films_tmdb_imdb.drop('tconst', axis=1)"
   ]
  },
  {
   "cell_type": "code",
   "execution_count": null,
   "metadata": {},
   "outputs": [],
   "source": [
    "films_tmdb_imdb.info()"
   ]
  },
  {
   "cell_type": "markdown",
   "metadata": {},
   "source": [
    "On renomme id  en id_tmdb pour clarifier"
   ]
  },
  {
   "cell_type": "code",
   "execution_count": 16,
   "metadata": {},
   "outputs": [],
   "source": [
    "films_tmdb_imdb = films_tmdb_imdb.rename(columns={'id':'id_tmdb'})"
   ]
  },
  {
   "cell_type": "markdown",
   "metadata": {},
   "source": [
    "on va filtrer selon le vote average basé sur un nombre de vote plutôt  que popularity on ne sait pas trop comment c'est calculé et ce n'est pas cohérent avec vote_average"
   ]
  },
  {
   "cell_type": "code",
   "execution_count": 17,
   "metadata": {},
   "outputs": [
    {
     "data": {
      "text/plain": [
       "vote_average  popularity\n",
       "0.000         0.600         25684\n",
       "              1.400          3689\n",
       "5.000         0.600          3440\n",
       "0.000         0.840          3334\n",
       "6.000         0.600          3332\n",
       "                            ...  \n",
       "6.800         1.294             1\n",
       "4.100         1.031             1\n",
       "6.672         3.988             1\n",
       "4.900         0.854             1\n",
       "5.900         1.820             1\n",
       "Name: count, Length: 29444, dtype: int64"
      ]
     },
     "execution_count": 17,
     "metadata": {},
     "output_type": "execute_result"
    }
   ],
   "source": [
    "films_tmdb_imdb[['vote_average','popularity']].value_counts(sort=True)\n"
   ]
  },
  {
   "cell_type": "markdown",
   "metadata": {},
   "source": [
    "Max de vote_average= 10 = les films sont notés sur 10"
   ]
  },
  {
   "cell_type": "code",
   "execution_count": 18,
   "metadata": {},
   "outputs": [
    {
     "data": {
      "text/plain": [
       "10.0"
      ]
     },
     "execution_count": 18,
     "metadata": {},
     "output_type": "execute_result"
    }
   ],
   "source": [
    "films_tmdb_imdb['vote_average'].max()"
   ]
  },
  {
   "cell_type": "markdown",
   "metadata": {},
   "source": [
    "on prend les films avec votete_average supérieur à 5"
   ]
  },
  {
   "cell_type": "code",
   "execution_count": 19,
   "metadata": {},
   "outputs": [],
   "source": [
    "films_tmdb_imdb_sup5 = films_tmdb_imdb[films_tmdb_imdb['vote_average']>5]"
   ]
  },
  {
   "cell_type": "code",
   "execution_count": null,
   "metadata": {},
   "outputs": [],
   "source": [
    "films_tmdb_imdb_sup5.info()"
   ]
  },
  {
   "cell_type": "markdown",
   "metadata": {},
   "source": [
    "filtre selon date de sortie"
   ]
  },
  {
   "cell_type": "code",
   "execution_count": 20,
   "metadata": {},
   "outputs": [],
   "source": [
    "from datetime import datetime"
   ]
  },
  {
   "cell_type": "markdown",
   "metadata": {},
   "source": [
    "on ajoute une colonne année"
   ]
  },
  {
   "cell_type": "code",
   "execution_count": 21,
   "metadata": {},
   "outputs": [
    {
     "name": "stderr",
     "output_type": "stream",
     "text": [
      "C:\\Users\\LOTUS\\AppData\\Local\\Temp\\ipykernel_27140\\2621779178.py:1: SettingWithCopyWarning: \n",
      "A value is trying to be set on a copy of a slice from a DataFrame.\n",
      "Try using .loc[row_indexer,col_indexer] = value instead\n",
      "\n",
      "See the caveats in the documentation: https://pandas.pydata.org/pandas-docs/stable/user_guide/indexing.html#returning-a-view-versus-a-copy\n",
      "  films_tmdb_imdb_sup5['year'] = films_tmdb_imdb_sup5['release_date'].dt.year\n"
     ]
    }
   ],
   "source": [
    "films_tmdb_imdb_sup5['year'] = films_tmdb_imdb_sup5['release_date'].dt.year"
   ]
  },
  {
   "cell_type": "code",
   "execution_count": 22,
   "metadata": {},
   "outputs": [
    {
     "name": "stdout",
     "output_type": "stream",
     "text": [
      "<class 'pandas.core.frame.DataFrame'>\n",
      "Index: 462885 entries, 0 to 770134\n",
      "Data columns (total 27 columns):\n",
      " #   Column                Non-Null Count   Dtype         \n",
      "---  ------                --------------   -----         \n",
      " 0   adult                 462885 non-null  bool          \n",
      " 1   budget                462885 non-null  int64         \n",
      " 2   genres                462885 non-null  object        \n",
      " 3   id_tmdb               462885 non-null  int64         \n",
      " 4   imdb_id               462885 non-null  object        \n",
      " 5   original_language     462885 non-null  object        \n",
      " 6   original_title        462885 non-null  object        \n",
      " 7   overview              462885 non-null  object        \n",
      " 8   popularity            462885 non-null  float64       \n",
      " 9   poster_path           462885 non-null  object        \n",
      " 10  production_countries  462885 non-null  object        \n",
      " 11  release_date          462885 non-null  datetime64[ns]\n",
      " 12  revenue               462885 non-null  int64         \n",
      " 13  runtime               462885 non-null  int64         \n",
      " 14  spoken_languages      462885 non-null  object        \n",
      " 15  status                462885 non-null  object        \n",
      " 16  title                 462885 non-null  object        \n",
      " 17  vote_average          462885 non-null  float64       \n",
      " 18  vote_count            462885 non-null  int64         \n",
      " 19  directors             462885 non-null  object        \n",
      " 20  writers               462885 non-null  object        \n",
      " 21  nconst                462885 non-null  object        \n",
      " 22  category              462885 non-null  object        \n",
      " 23  characters            462885 non-null  object        \n",
      " 24  primaryName           462885 non-null  object        \n",
      " 25  knownForTitles        462885 non-null  object        \n",
      " 26  year                  462885 non-null  int32         \n",
      "dtypes: bool(1), datetime64[ns](1), float64(2), int32(1), int64(5), object(17)\n",
      "memory usage: 94.0+ MB\n"
     ]
    }
   ],
   "source": [
    "films_tmdb_imdb_sup5.info()"
   ]
  },
  {
   "cell_type": "code",
   "execution_count": 23,
   "metadata": {},
   "outputs": [
    {
     "data": {
      "text/plain": [
       "year\n",
       "2019    17487\n",
       "2017    17399\n",
       "2022    16683\n",
       "2018    16511\n",
       "2016    15588\n",
       "        ...  \n",
       "1898       20\n",
       "1894        8\n",
       "1892        7\n",
       "1874        4\n",
       "1878        1\n",
       "Name: count, Length: 133, dtype: int64"
      ]
     },
     "execution_count": 23,
     "metadata": {},
     "output_type": "execute_result"
    }
   ],
   "source": [
    "films_tmdb_imdb_sup5['year'].value_counts(sort=True)"
   ]
  },
  {
   "cell_type": "markdown",
   "metadata": {},
   "source": [
    "On va garder les années après 2000 inclus"
   ]
  },
  {
   "cell_type": "code",
   "execution_count": 24,
   "metadata": {},
   "outputs": [],
   "source": [
    "films_tmdb_imdb_sup5_2000 = films_tmdb_imdb_sup5[films_tmdb_imdb_sup5['year']> 1999]"
   ]
  },
  {
   "cell_type": "code",
   "execution_count": 25,
   "metadata": {},
   "outputs": [
    {
     "name": "stdout",
     "output_type": "stream",
     "text": [
      "<class 'pandas.core.frame.DataFrame'>\n",
      "Index: 272237 entries, 70 to 770046\n",
      "Data columns (total 27 columns):\n",
      " #   Column                Non-Null Count   Dtype         \n",
      "---  ------                --------------   -----         \n",
      " 0   adult                 272237 non-null  bool          \n",
      " 1   budget                272237 non-null  int64         \n",
      " 2   genres                272237 non-null  object        \n",
      " 3   id_tmdb               272237 non-null  int64         \n",
      " 4   imdb_id               272237 non-null  object        \n",
      " 5   original_language     272237 non-null  object        \n",
      " 6   original_title        272237 non-null  object        \n",
      " 7   overview              272237 non-null  object        \n",
      " 8   popularity            272237 non-null  float64       \n",
      " 9   poster_path           272237 non-null  object        \n",
      " 10  production_countries  272237 non-null  object        \n",
      " 11  release_date          272237 non-null  datetime64[ns]\n",
      " 12  revenue               272237 non-null  int64         \n",
      " 13  runtime               272237 non-null  int64         \n",
      " 14  spoken_languages      272237 non-null  object        \n",
      " 15  status                272237 non-null  object        \n",
      " 16  title                 272237 non-null  object        \n",
      " 17  vote_average          272237 non-null  float64       \n",
      " 18  vote_count            272237 non-null  int64         \n",
      " 19  directors             272237 non-null  object        \n",
      " 20  writers               272237 non-null  object        \n",
      " 21  nconst                272237 non-null  object        \n",
      " 22  category              272237 non-null  object        \n",
      " 23  characters            272237 non-null  object        \n",
      " 24  primaryName           272237 non-null  object        \n",
      " 25  knownForTitles        272237 non-null  object        \n",
      " 26  year                  272237 non-null  int32         \n",
      "dtypes: bool(1), datetime64[ns](1), float64(2), int32(1), int64(5), object(17)\n",
      "memory usage: 55.3+ MB\n"
     ]
    }
   ],
   "source": [
    "films_tmdb_imdb_sup5_2000.info()"
   ]
  },
  {
   "cell_type": "markdown",
   "metadata": {},
   "source": [
    "Nombre de films sélectionnés : "
   ]
  },
  {
   "cell_type": "code",
   "execution_count": 26,
   "metadata": {},
   "outputs": [
    {
     "data": {
      "text/plain": [
       "14672"
      ]
     },
     "execution_count": 26,
     "metadata": {},
     "output_type": "execute_result"
    }
   ],
   "source": [
    "len(films_tmdb_imdb_sup5_2000['id_tmdb'].unique())"
   ]
  },
  {
   "cell_type": "markdown",
   "metadata": {},
   "source": [
    "durée des films "
   ]
  },
  {
   "cell_type": "code",
   "execution_count": null,
   "metadata": {},
   "outputs": [],
   "source": [
    "liste = list(films_tmdb_imdb_sup5_2000['runtime'].unique())\n",
    "liste.sort()\n",
    "liste"
   ]
  },
  {
   "cell_type": "markdown",
   "metadata": {},
   "source": [
    "on prend les films plus longs que 60 minutes"
   ]
  },
  {
   "cell_type": "code",
   "execution_count": 28,
   "metadata": {},
   "outputs": [],
   "source": [
    "films_tmdb_imdb_sup5_2000_60 = films_tmdb_imdb_sup5_2000[films_tmdb_imdb_sup5_2000['runtime']>=60]"
   ]
  },
  {
   "cell_type": "code",
   "execution_count": null,
   "metadata": {},
   "outputs": [],
   "source": [
    "films_tmdb_imdb_sup5_2000_60.info()"
   ]
  },
  {
   "cell_type": "markdown",
   "metadata": {},
   "source": [
    "Nombre de films qui durent plus de 60 minutes inclues sortis à partir de 2000 et qui ont une note supérieure à 5."
   ]
  },
  {
   "cell_type": "code",
   "execution_count": 30,
   "metadata": {},
   "outputs": [
    {
     "data": {
      "text/plain": [
       "12771"
      ]
     },
     "execution_count": 30,
     "metadata": {},
     "output_type": "execute_result"
    }
   ],
   "source": [
    "len(films_tmdb_imdb_sup5_2000_60['id_tmdb'].unique())"
   ]
  },
  {
   "cell_type": "markdown",
   "metadata": {},
   "source": [
    "On prend les films qui sont sortis (Released) et on enlève les films In Production => en fait il n'y a pas de films en production"
   ]
  },
  {
   "cell_type": "code",
   "execution_count": 31,
   "metadata": {},
   "outputs": [
    {
     "data": {
      "text/html": [
       "<div>\n",
       "<style scoped>\n",
       "    .dataframe tbody tr th:only-of-type {\n",
       "        vertical-align: middle;\n",
       "    }\n",
       "\n",
       "    .dataframe tbody tr th {\n",
       "        vertical-align: top;\n",
       "    }\n",
       "\n",
       "    .dataframe thead th {\n",
       "        text-align: right;\n",
       "    }\n",
       "</style>\n",
       "<table border=\"1\" class=\"dataframe\">\n",
       "  <thead>\n",
       "    <tr style=\"text-align: right;\">\n",
       "      <th></th>\n",
       "      <th>adult</th>\n",
       "      <th>budget</th>\n",
       "      <th>genres</th>\n",
       "      <th>id_tmdb</th>\n",
       "      <th>imdb_id</th>\n",
       "      <th>original_language</th>\n",
       "      <th>original_title</th>\n",
       "      <th>overview</th>\n",
       "      <th>popularity</th>\n",
       "      <th>poster_path</th>\n",
       "      <th>...</th>\n",
       "      <th>vote_average</th>\n",
       "      <th>vote_count</th>\n",
       "      <th>directors</th>\n",
       "      <th>writers</th>\n",
       "      <th>nconst</th>\n",
       "      <th>category</th>\n",
       "      <th>characters</th>\n",
       "      <th>primaryName</th>\n",
       "      <th>knownForTitles</th>\n",
       "      <th>year</th>\n",
       "    </tr>\n",
       "  </thead>\n",
       "  <tbody>\n",
       "  </tbody>\n",
       "</table>\n",
       "<p>0 rows × 27 columns</p>\n",
       "</div>"
      ],
      "text/plain": [
       "Empty DataFrame\n",
       "Columns: [adult, budget, genres, id_tmdb, imdb_id, original_language, original_title, overview, popularity, poster_path, production_countries, release_date, revenue, runtime, spoken_languages, status, title, vote_average, vote_count, directors, writers, nconst, category, characters, primaryName, knownForTitles, year]\n",
       "Index: []\n",
       "\n",
       "[0 rows x 27 columns]"
      ]
     },
     "execution_count": 31,
     "metadata": {},
     "output_type": "execute_result"
    }
   ],
   "source": [
    "films_tmdb_imdb_sup5_2000_60[films_tmdb_imdb_sup5_2000_60['status'] == 'In Production']"
   ]
  },
  {
   "cell_type": "code",
   "execution_count": 32,
   "metadata": {},
   "outputs": [],
   "source": [
    "films_tmdb_imdb_sup5_2000_60_released = films_tmdb_imdb_sup5_2000_60[films_tmdb_imdb_sup5_2000_60['status'] == 'Released']"
   ]
  },
  {
   "cell_type": "code",
   "execution_count": null,
   "metadata": {},
   "outputs": [],
   "source": [
    "films_tmdb_imdb_sup5_2000_60_released.info()"
   ]
  },
  {
   "cell_type": "code",
   "execution_count": 33,
   "metadata": {},
   "outputs": [
    {
     "data": {
      "text/plain": [
       "12644"
      ]
     },
     "execution_count": 33,
     "metadata": {},
     "output_type": "execute_result"
    }
   ],
   "source": [
    "len(films_tmdb_imdb_sup5_2000_60_released['original_title'].unique())\n"
   ]
  },
  {
   "cell_type": "code",
   "execution_count": 34,
   "metadata": {},
   "outputs": [
    {
     "data": {
      "text/plain": [
       "12771"
      ]
     },
     "execution_count": 34,
     "metadata": {},
     "output_type": "execute_result"
    }
   ],
   "source": [
    "len(films_tmdb_imdb_sup5_2000_60_released['imdb_id'].unique())"
   ]
  },
  {
   "cell_type": "markdown",
   "metadata": {},
   "source": [
    "Je regarde si les original_title apparaissent plusieurs fois = OUI => mais c'est normal soit plusieurs films avec même titre soit plusieurs acteurs..."
   ]
  },
  {
   "cell_type": "code",
   "execution_count": null,
   "metadata": {},
   "outputs": [],
   "source": [
    "films_tmdb_imdb_sup5_2000_60_released['original_title'].value_counts()"
   ]
  },
  {
   "cell_type": "code",
   "execution_count": null,
   "metadata": {},
   "outputs": [],
   "source": [
    "films_tmdb_imdb_sup5_2000_60_released[films_tmdb_imdb_sup5_2000_60_released['original_title']==\"Charlie's Angels\"]"
   ]
  },
  {
   "cell_type": "code",
   "execution_count": null,
   "metadata": {},
   "outputs": [
    {
     "data": {
      "text/plain": [
       "12771"
      ]
     },
     "execution_count": 213,
     "metadata": {},
     "output_type": "execute_result"
    }
   ],
   "source": [
    "len(test_films['id_tmdb'].unique())"
   ]
  },
  {
   "cell_type": "code",
   "execution_count": null,
   "metadata": {},
   "outputs": [
    {
     "data": {
      "text/plain": [
       "12458"
      ]
     },
     "execution_count": 214,
     "metadata": {},
     "output_type": "execute_result"
    }
   ],
   "source": [
    "len(test_films['title'].unique())"
   ]
  },
  {
   "cell_type": "markdown",
   "metadata": {},
   "source": [
    "On regarde dans title_akas la région de la version du titre et on prend quand France   \n",
    "On met na=False pour ignorer les valeurs NaN sinon on a une erreur"
   ]
  },
  {
   "cell_type": "code",
   "execution_count": null,
   "metadata": {},
   "outputs": [],
   "source": [
    "# title_akas_FR = title_akas[title_akas['region'].str.contains('FR', na=False)]"
   ]
  },
  {
   "cell_type": "code",
   "execution_count": null,
   "metadata": {},
   "outputs": [],
   "source": [
    "# title_akas_FR.info()"
   ]
  },
  {
   "cell_type": "code",
   "execution_count": null,
   "metadata": {},
   "outputs": [],
   "source": [
    "# title_akas_FR_reduit = title_akas_FR[['titleId','title','region','language']]\n",
    "# title_akas_FR_reduit.info()"
   ]
  },
  {
   "cell_type": "code",
   "execution_count": null,
   "metadata": {},
   "outputs": [],
   "source": [
    "# films_tmdb_imdb_sup5_2000_60_released_regFR = pd.merge(films_tmdb_imdb_sup5_2000_60_released,\n",
    "#                                                        title_akas_FR_reduit,\n",
    "#                                                        how='inner',\n",
    "#                                                        left_on='imdb_id',\n",
    "#                                                        right_on='titleId')"
   ]
  },
  {
   "cell_type": "code",
   "execution_count": 36,
   "metadata": {},
   "outputs": [],
   "source": [
    "films_select = films_tmdb_imdb_sup5_2000_60_released[['adult','budget','genres','id_tmdb','imdb_id','original_language','original_title','original_title','overview','popularity','poster_path','production_countries','release_date' ,'revenue','runtime','spoken_languages','status','title' ,'vote_average','vote_count','directors','writers'                        \n",
    "                        \n",
    "                        ]]\n"
   ]
  },
  {
   "cell_type": "code",
   "execution_count": 37,
   "metadata": {},
   "outputs": [
    {
     "data": {
      "text/plain": [
       "233308"
      ]
     },
     "execution_count": 37,
     "metadata": {},
     "output_type": "execute_result"
    }
   ],
   "source": [
    "films_select.duplicated().sum()"
   ]
  },
  {
   "cell_type": "code",
   "execution_count": 40,
   "metadata": {},
   "outputs": [],
   "source": [
    "films_select = films_select.drop_duplicates()"
   ]
  },
  {
   "cell_type": "code",
   "execution_count": 41,
   "metadata": {},
   "outputs": [
    {
     "name": "stdout",
     "output_type": "stream",
     "text": [
      "<class 'pandas.core.frame.DataFrame'>\n",
      "Index: 12771 entries, 70 to 769907\n",
      "Data columns (total 22 columns):\n",
      " #   Column                Non-Null Count  Dtype         \n",
      "---  ------                --------------  -----         \n",
      " 0   adult                 12771 non-null  bool          \n",
      " 1   budget                12771 non-null  int64         \n",
      " 2   genres                12771 non-null  object        \n",
      " 3   id_tmdb               12771 non-null  int64         \n",
      " 4   imdb_id               12771 non-null  object        \n",
      " 5   original_language     12771 non-null  object        \n",
      " 6   original_title        12771 non-null  object        \n",
      " 7   original_title        12771 non-null  object        \n",
      " 8   overview              12771 non-null  object        \n",
      " 9   popularity            12771 non-null  float64       \n",
      " 10  poster_path           12771 non-null  object        \n",
      " 11  production_countries  12771 non-null  object        \n",
      " 12  release_date          12771 non-null  datetime64[ns]\n",
      " 13  revenue               12771 non-null  int64         \n",
      " 14  runtime               12771 non-null  int64         \n",
      " 15  spoken_languages      12771 non-null  object        \n",
      " 16  status                12771 non-null  object        \n",
      " 17  title                 12771 non-null  object        \n",
      " 18  vote_average          12771 non-null  float64       \n",
      " 19  vote_count            12771 non-null  int64         \n",
      " 20  directors             12771 non-null  object        \n",
      " 21  writers               12771 non-null  object        \n",
      "dtypes: bool(1), datetime64[ns](1), float64(2), int64(5), object(13)\n",
      "memory usage: 2.2+ MB\n"
     ]
    }
   ],
   "source": [
    "films_select.info()"
   ]
  },
  {
   "cell_type": "code",
   "execution_count": null,
   "metadata": {},
   "outputs": [],
   "source": []
  },
  {
   "cell_type": "code",
   "execution_count": 42,
   "metadata": {},
   "outputs": [],
   "source": [
    "films_select.to_csv('./donnees/films_selectionnes.csv', sep=\"\\t\")"
   ]
  },
  {
   "cell_type": "code",
   "execution_count": 46,
   "metadata": {},
   "outputs": [],
   "source": [
    "films_tmdb_imdb_sup5_2000_60_released.to_csv('./donnees/films_tmdb_imdb_sup5_2000_60_released.csv', sep=\"\\t\")"
   ]
  },
  {
   "cell_type": "markdown",
   "metadata": {},
   "source": [
    "Vérif qu'il n'y a que des films dans la liste pas de court métrage... avec table titre.basic"
   ]
  },
  {
   "cell_type": "markdown",
   "metadata": {},
   "source": [
    "J'importe le csv des films que nous avons exportés = films_selectionnes"
   ]
  },
  {
   "cell_type": "code",
   "execution_count": 24,
   "metadata": {},
   "outputs": [],
   "source": [
    "films = pd.read_csv(\"./donnees/films_selectionnes.csv\", sep=\"\\t\", low_memory=False)"
   ]
  },
  {
   "cell_type": "code",
   "execution_count": null,
   "metadata": {},
   "outputs": [],
   "source": [
    "title_basics.head()"
   ]
  },
  {
   "cell_type": "code",
   "execution_count": 14,
   "metadata": {},
   "outputs": [
    {
     "data": {
      "text/plain": [
       "0"
      ]
     },
     "execution_count": 14,
     "metadata": {},
     "output_type": "execute_result"
    }
   ],
   "source": [
    "title_basics.duplicated().sum()"
   ]
  },
  {
   "cell_type": "code",
   "execution_count": null,
   "metadata": {},
   "outputs": [],
   "source": [
    "title_basics['tconst'].value_counts()"
   ]
  },
  {
   "cell_type": "code",
   "execution_count": 16,
   "metadata": {},
   "outputs": [
    {
     "data": {
      "text/plain": [
       "0"
      ]
     },
     "execution_count": 16,
     "metadata": {},
     "output_type": "execute_result"
    }
   ],
   "source": [
    "title_basics['tconst'].duplicated().sum()"
   ]
  },
  {
   "cell_type": "code",
   "execution_count": 25,
   "metadata": {},
   "outputs": [
    {
     "data": {
      "text/plain": [
       "0"
      ]
     },
     "execution_count": 25,
     "metadata": {},
     "output_type": "execute_result"
    }
   ],
   "source": [
    "films.duplicated().sum()"
   ]
  },
  {
   "cell_type": "code",
   "execution_count": 26,
   "metadata": {},
   "outputs": [
    {
     "data": {
      "text/plain": [
       "0"
      ]
     },
     "execution_count": 26,
     "metadata": {},
     "output_type": "execute_result"
    }
   ],
   "source": [
    "films['imdb_id'].duplicated().sum()"
   ]
  },
  {
   "cell_type": "code",
   "execution_count": 27,
   "metadata": {},
   "outputs": [
    {
     "data": {
      "text/html": [
       "<div>\n",
       "<style scoped>\n",
       "    .dataframe tbody tr th:only-of-type {\n",
       "        vertical-align: middle;\n",
       "    }\n",
       "\n",
       "    .dataframe tbody tr th {\n",
       "        vertical-align: top;\n",
       "    }\n",
       "\n",
       "    .dataframe thead th {\n",
       "        text-align: right;\n",
       "    }\n",
       "</style>\n",
       "<table border=\"1\" class=\"dataframe\">\n",
       "  <thead>\n",
       "    <tr style=\"text-align: right;\">\n",
       "      <th></th>\n",
       "      <th>Unnamed: 0</th>\n",
       "      <th>adult</th>\n",
       "      <th>budget</th>\n",
       "      <th>genres</th>\n",
       "      <th>id_tmdb</th>\n",
       "      <th>imdb_id</th>\n",
       "      <th>original_language</th>\n",
       "      <th>original_title</th>\n",
       "      <th>original_title.1</th>\n",
       "      <th>overview</th>\n",
       "      <th>...</th>\n",
       "      <th>release_date</th>\n",
       "      <th>revenue</th>\n",
       "      <th>runtime</th>\n",
       "      <th>spoken_languages</th>\n",
       "      <th>status</th>\n",
       "      <th>title</th>\n",
       "      <th>vote_average</th>\n",
       "      <th>vote_count</th>\n",
       "      <th>directors</th>\n",
       "      <th>writers</th>\n",
       "    </tr>\n",
       "  </thead>\n",
       "  <tbody>\n",
       "    <tr>\n",
       "      <th>0</th>\n",
       "      <td>70</td>\n",
       "      <td>False</td>\n",
       "      <td>12800000</td>\n",
       "      <td>['Drama', 'Crime']</td>\n",
       "      <td>16</td>\n",
       "      <td>tt0168629</td>\n",
       "      <td>en</td>\n",
       "      <td>Dancer in the Dark</td>\n",
       "      <td>Dancer in the Dark</td>\n",
       "      <td>Selma, a Czech immigrant on the verge of blind...</td>\n",
       "      <td>...</td>\n",
       "      <td>2000-06-30</td>\n",
       "      <td>40031879</td>\n",
       "      <td>141</td>\n",
       "      <td>['en']</td>\n",
       "      <td>Released</td>\n",
       "      <td>Dancer in the Dark</td>\n",
       "      <td>7.881</td>\n",
       "      <td>1555</td>\n",
       "      <td>nm0001885</td>\n",
       "      <td>nm0001885,nm0797604</td>\n",
       "    </tr>\n",
       "    <tr>\n",
       "      <th>1</th>\n",
       "      <td>109</td>\n",
       "      <td>False</td>\n",
       "      <td>140000000</td>\n",
       "      <td>['Adventure', 'Fantasy', 'Action']</td>\n",
       "      <td>22</td>\n",
       "      <td>tt0325980</td>\n",
       "      <td>en</td>\n",
       "      <td>Pirates of the Caribbean: The Curse of the Bla...</td>\n",
       "      <td>Pirates of the Caribbean: The Curse of the Bla...</td>\n",
       "      <td>Jack Sparrow, a freewheeling 18th-century pira...</td>\n",
       "      <td>...</td>\n",
       "      <td>2003-07-09</td>\n",
       "      <td>655011224</td>\n",
       "      <td>143</td>\n",
       "      <td>['en']</td>\n",
       "      <td>Released</td>\n",
       "      <td>Pirates of the Caribbean: The Curse of the Bla...</td>\n",
       "      <td>7.800</td>\n",
       "      <td>18710</td>\n",
       "      <td>nm0893659</td>\n",
       "      <td>nm0254645,nm0744429,nm0064181,nm0938684</td>\n",
       "    </tr>\n",
       "    <tr>\n",
       "      <th>2</th>\n",
       "      <td>133</td>\n",
       "      <td>False</td>\n",
       "      <td>30000000</td>\n",
       "      <td>['Action', 'Crime']</td>\n",
       "      <td>24</td>\n",
       "      <td>tt0266697</td>\n",
       "      <td>en</td>\n",
       "      <td>Kill Bill: Vol. 1</td>\n",
       "      <td>Kill Bill: Vol. 1</td>\n",
       "      <td>An assassin is shot by her ruthless employer, ...</td>\n",
       "      <td>...</td>\n",
       "      <td>2003-10-10</td>\n",
       "      <td>180906076</td>\n",
       "      <td>111</td>\n",
       "      <td>['en', 'ja', 'fr']</td>\n",
       "      <td>Released</td>\n",
       "      <td>Kill Bill: Vol. 1</td>\n",
       "      <td>7.970</td>\n",
       "      <td>15748</td>\n",
       "      <td>nm0000233</td>\n",
       "      <td>nm0000233,nm0000235</td>\n",
       "    </tr>\n",
       "    <tr>\n",
       "      <th>3</th>\n",
       "      <td>154</td>\n",
       "      <td>False</td>\n",
       "      <td>200000000</td>\n",
       "      <td>['Adventure', 'Fantasy', 'Action']</td>\n",
       "      <td>58</td>\n",
       "      <td>tt0383574</td>\n",
       "      <td>en</td>\n",
       "      <td>Pirates of the Caribbean: Dead Man's Chest</td>\n",
       "      <td>Pirates of the Caribbean: Dead Man's Chest</td>\n",
       "      <td>Captain Jack Sparrow works his way out of a bl...</td>\n",
       "      <td>...</td>\n",
       "      <td>2006-07-06</td>\n",
       "      <td>1065659812</td>\n",
       "      <td>151</td>\n",
       "      <td>['en', 'tr', 'el', 'zh']</td>\n",
       "      <td>Released</td>\n",
       "      <td>Pirates of the Caribbean: Dead Man's Chest</td>\n",
       "      <td>7.340</td>\n",
       "      <td>14465</td>\n",
       "      <td>nm0893659</td>\n",
       "      <td>nm0254645,nm0744429,nm0064181,nm0938684</td>\n",
       "    </tr>\n",
       "    <tr>\n",
       "      <th>4</th>\n",
       "      <td>196</td>\n",
       "      <td>False</td>\n",
       "      <td>2000000</td>\n",
       "      <td>['Thriller', 'Crime', 'Drama']</td>\n",
       "      <td>67</td>\n",
       "      <td>tt0445620</td>\n",
       "      <td>en</td>\n",
       "      <td>Paradise Now</td>\n",
       "      <td>Paradise Now</td>\n",
       "      <td>Two childhood friends are recruited for a suic...</td>\n",
       "      <td>...</td>\n",
       "      <td>2005-09-07</td>\n",
       "      <td>3395627</td>\n",
       "      <td>90</td>\n",
       "      <td>['ar', 'en']</td>\n",
       "      <td>Released</td>\n",
       "      <td>Paradise Now</td>\n",
       "      <td>6.941</td>\n",
       "      <td>219</td>\n",
       "      <td>nm0009463</td>\n",
       "      <td>nm0009463,nm1178208,nm0388293</td>\n",
       "    </tr>\n",
       "  </tbody>\n",
       "</table>\n",
       "<p>5 rows × 23 columns</p>\n",
       "</div>"
      ],
      "text/plain": [
       "   Unnamed: 0  adult     budget                              genres  id_tmdb  \\\n",
       "0          70  False   12800000                  ['Drama', 'Crime']       16   \n",
       "1         109  False  140000000  ['Adventure', 'Fantasy', 'Action']       22   \n",
       "2         133  False   30000000                 ['Action', 'Crime']       24   \n",
       "3         154  False  200000000  ['Adventure', 'Fantasy', 'Action']       58   \n",
       "4         196  False    2000000      ['Thriller', 'Crime', 'Drama']       67   \n",
       "\n",
       "     imdb_id original_language  \\\n",
       "0  tt0168629                en   \n",
       "1  tt0325980                en   \n",
       "2  tt0266697                en   \n",
       "3  tt0383574                en   \n",
       "4  tt0445620                en   \n",
       "\n",
       "                                      original_title  \\\n",
       "0                                 Dancer in the Dark   \n",
       "1  Pirates of the Caribbean: The Curse of the Bla...   \n",
       "2                                  Kill Bill: Vol. 1   \n",
       "3         Pirates of the Caribbean: Dead Man's Chest   \n",
       "4                                       Paradise Now   \n",
       "\n",
       "                                    original_title.1  \\\n",
       "0                                 Dancer in the Dark   \n",
       "1  Pirates of the Caribbean: The Curse of the Bla...   \n",
       "2                                  Kill Bill: Vol. 1   \n",
       "3         Pirates of the Caribbean: Dead Man's Chest   \n",
       "4                                       Paradise Now   \n",
       "\n",
       "                                            overview  ...  release_date  \\\n",
       "0  Selma, a Czech immigrant on the verge of blind...  ...    2000-06-30   \n",
       "1  Jack Sparrow, a freewheeling 18th-century pira...  ...    2003-07-09   \n",
       "2  An assassin is shot by her ruthless employer, ...  ...    2003-10-10   \n",
       "3  Captain Jack Sparrow works his way out of a bl...  ...    2006-07-06   \n",
       "4  Two childhood friends are recruited for a suic...  ...    2005-09-07   \n",
       "\n",
       "      revenue runtime          spoken_languages    status  \\\n",
       "0    40031879     141                    ['en']  Released   \n",
       "1   655011224     143                    ['en']  Released   \n",
       "2   180906076     111        ['en', 'ja', 'fr']  Released   \n",
       "3  1065659812     151  ['en', 'tr', 'el', 'zh']  Released   \n",
       "4     3395627      90              ['ar', 'en']  Released   \n",
       "\n",
       "                                               title vote_average vote_count  \\\n",
       "0                                 Dancer in the Dark        7.881       1555   \n",
       "1  Pirates of the Caribbean: The Curse of the Bla...        7.800      18710   \n",
       "2                                  Kill Bill: Vol. 1        7.970      15748   \n",
       "3         Pirates of the Caribbean: Dead Man's Chest        7.340      14465   \n",
       "4                                       Paradise Now        6.941        219   \n",
       "\n",
       "   directors                                  writers  \n",
       "0  nm0001885                      nm0001885,nm0797604  \n",
       "1  nm0893659  nm0254645,nm0744429,nm0064181,nm0938684  \n",
       "2  nm0000233                      nm0000233,nm0000235  \n",
       "3  nm0893659  nm0254645,nm0744429,nm0064181,nm0938684  \n",
       "4  nm0009463            nm0009463,nm1178208,nm0388293  \n",
       "\n",
       "[5 rows x 23 columns]"
      ]
     },
     "execution_count": 27,
     "metadata": {},
     "output_type": "execute_result"
    }
   ],
   "source": [
    "films.head()"
   ]
  },
  {
   "cell_type": "code",
   "execution_count": 28,
   "metadata": {},
   "outputs": [
    {
     "data": {
      "text/html": [
       "<div>\n",
       "<style scoped>\n",
       "    .dataframe tbody tr th:only-of-type {\n",
       "        vertical-align: middle;\n",
       "    }\n",
       "\n",
       "    .dataframe tbody tr th {\n",
       "        vertical-align: top;\n",
       "    }\n",
       "\n",
       "    .dataframe thead th {\n",
       "        text-align: right;\n",
       "    }\n",
       "</style>\n",
       "<table border=\"1\" class=\"dataframe\">\n",
       "  <thead>\n",
       "    <tr style=\"text-align: right;\">\n",
       "      <th></th>\n",
       "      <th>Unnamed: 0</th>\n",
       "      <th>adult</th>\n",
       "      <th>budget</th>\n",
       "      <th>genres_x</th>\n",
       "      <th>id_tmdb</th>\n",
       "      <th>imdb_id</th>\n",
       "      <th>original_language</th>\n",
       "      <th>original_title</th>\n",
       "      <th>original_title.1</th>\n",
       "      <th>overview</th>\n",
       "      <th>...</th>\n",
       "      <th>writers</th>\n",
       "      <th>tconst</th>\n",
       "      <th>titleType</th>\n",
       "      <th>primaryTitle</th>\n",
       "      <th>originalTitle</th>\n",
       "      <th>isAdult</th>\n",
       "      <th>startYear</th>\n",
       "      <th>endYear</th>\n",
       "      <th>runtimeMinutes</th>\n",
       "      <th>genres_y</th>\n",
       "    </tr>\n",
       "  </thead>\n",
       "  <tbody>\n",
       "    <tr>\n",
       "      <th>0</th>\n",
       "      <td>70</td>\n",
       "      <td>False</td>\n",
       "      <td>12800000</td>\n",
       "      <td>['Drama', 'Crime']</td>\n",
       "      <td>16</td>\n",
       "      <td>tt0168629</td>\n",
       "      <td>en</td>\n",
       "      <td>Dancer in the Dark</td>\n",
       "      <td>Dancer in the Dark</td>\n",
       "      <td>Selma, a Czech immigrant on the verge of blind...</td>\n",
       "      <td>...</td>\n",
       "      <td>nm0001885,nm0797604</td>\n",
       "      <td>tt0168629</td>\n",
       "      <td>movie</td>\n",
       "      <td>Dancer in the Dark</td>\n",
       "      <td>Dancer in the Dark</td>\n",
       "      <td>0</td>\n",
       "      <td>2000</td>\n",
       "      <td>\\N</td>\n",
       "      <td>140</td>\n",
       "      <td>Crime,Drama,Musical</td>\n",
       "    </tr>\n",
       "    <tr>\n",
       "      <th>1</th>\n",
       "      <td>109</td>\n",
       "      <td>False</td>\n",
       "      <td>140000000</td>\n",
       "      <td>['Adventure', 'Fantasy', 'Action']</td>\n",
       "      <td>22</td>\n",
       "      <td>tt0325980</td>\n",
       "      <td>en</td>\n",
       "      <td>Pirates of the Caribbean: The Curse of the Bla...</td>\n",
       "      <td>Pirates of the Caribbean: The Curse of the Bla...</td>\n",
       "      <td>Jack Sparrow, a freewheeling 18th-century pira...</td>\n",
       "      <td>...</td>\n",
       "      <td>nm0254645,nm0744429,nm0064181,nm0938684</td>\n",
       "      <td>tt0325980</td>\n",
       "      <td>movie</td>\n",
       "      <td>Pirates of the Caribbean: The Curse of the Bla...</td>\n",
       "      <td>Pirates of the Caribbean: The Curse of the Bla...</td>\n",
       "      <td>0</td>\n",
       "      <td>2003</td>\n",
       "      <td>\\N</td>\n",
       "      <td>143</td>\n",
       "      <td>Action,Adventure,Fantasy</td>\n",
       "    </tr>\n",
       "    <tr>\n",
       "      <th>2</th>\n",
       "      <td>133</td>\n",
       "      <td>False</td>\n",
       "      <td>30000000</td>\n",
       "      <td>['Action', 'Crime']</td>\n",
       "      <td>24</td>\n",
       "      <td>tt0266697</td>\n",
       "      <td>en</td>\n",
       "      <td>Kill Bill: Vol. 1</td>\n",
       "      <td>Kill Bill: Vol. 1</td>\n",
       "      <td>An assassin is shot by her ruthless employer, ...</td>\n",
       "      <td>...</td>\n",
       "      <td>nm0000233,nm0000235</td>\n",
       "      <td>tt0266697</td>\n",
       "      <td>movie</td>\n",
       "      <td>Kill Bill: Vol. 1</td>\n",
       "      <td>Kill Bill: Vol. 1</td>\n",
       "      <td>0</td>\n",
       "      <td>2003</td>\n",
       "      <td>\\N</td>\n",
       "      <td>111</td>\n",
       "      <td>Action,Crime,Thriller</td>\n",
       "    </tr>\n",
       "    <tr>\n",
       "      <th>3</th>\n",
       "      <td>154</td>\n",
       "      <td>False</td>\n",
       "      <td>200000000</td>\n",
       "      <td>['Adventure', 'Fantasy', 'Action']</td>\n",
       "      <td>58</td>\n",
       "      <td>tt0383574</td>\n",
       "      <td>en</td>\n",
       "      <td>Pirates of the Caribbean: Dead Man's Chest</td>\n",
       "      <td>Pirates of the Caribbean: Dead Man's Chest</td>\n",
       "      <td>Captain Jack Sparrow works his way out of a bl...</td>\n",
       "      <td>...</td>\n",
       "      <td>nm0254645,nm0744429,nm0064181,nm0938684</td>\n",
       "      <td>tt0383574</td>\n",
       "      <td>movie</td>\n",
       "      <td>Pirates of the Caribbean: Dead Man's Chest</td>\n",
       "      <td>Pirates of the Caribbean: Dead Man's Chest</td>\n",
       "      <td>0</td>\n",
       "      <td>2006</td>\n",
       "      <td>\\N</td>\n",
       "      <td>151</td>\n",
       "      <td>Action,Adventure,Fantasy</td>\n",
       "    </tr>\n",
       "    <tr>\n",
       "      <th>4</th>\n",
       "      <td>196</td>\n",
       "      <td>False</td>\n",
       "      <td>2000000</td>\n",
       "      <td>['Thriller', 'Crime', 'Drama']</td>\n",
       "      <td>67</td>\n",
       "      <td>tt0445620</td>\n",
       "      <td>en</td>\n",
       "      <td>Paradise Now</td>\n",
       "      <td>Paradise Now</td>\n",
       "      <td>Two childhood friends are recruited for a suic...</td>\n",
       "      <td>...</td>\n",
       "      <td>nm0009463,nm1178208,nm0388293</td>\n",
       "      <td>tt0445620</td>\n",
       "      <td>movie</td>\n",
       "      <td>Paradise Now</td>\n",
       "      <td>Paradise Now</td>\n",
       "      <td>0</td>\n",
       "      <td>2005</td>\n",
       "      <td>\\N</td>\n",
       "      <td>91</td>\n",
       "      <td>Crime,Drama,Thriller</td>\n",
       "    </tr>\n",
       "    <tr>\n",
       "      <th>...</th>\n",
       "      <td>...</td>\n",
       "      <td>...</td>\n",
       "      <td>...</td>\n",
       "      <td>...</td>\n",
       "      <td>...</td>\n",
       "      <td>...</td>\n",
       "      <td>...</td>\n",
       "      <td>...</td>\n",
       "      <td>...</td>\n",
       "      <td>...</td>\n",
       "      <td>...</td>\n",
       "      <td>...</td>\n",
       "      <td>...</td>\n",
       "      <td>...</td>\n",
       "      <td>...</td>\n",
       "      <td>...</td>\n",
       "      <td>...</td>\n",
       "      <td>...</td>\n",
       "      <td>...</td>\n",
       "      <td>...</td>\n",
       "      <td>...</td>\n",
       "    </tr>\n",
       "    <tr>\n",
       "      <th>12766</th>\n",
       "      <td>768003</td>\n",
       "      <td>False</td>\n",
       "      <td>0</td>\n",
       "      <td>['Crime']</td>\n",
       "      <td>218455</td>\n",
       "      <td>tt0398990</td>\n",
       "      <td>fr</td>\n",
       "      <td>Les eaux troubles</td>\n",
       "      <td>Les eaux troubles</td>\n",
       "      <td>Clara takes her daughter and her friends to a ...</td>\n",
       "      <td>...</td>\n",
       "      <td>nm1241683,nm1557904,nm1551955</td>\n",
       "      <td>tt0398990</td>\n",
       "      <td>tvMovie</td>\n",
       "      <td>Troubled Waters</td>\n",
       "      <td>Les eaux troubles</td>\n",
       "      <td>0</td>\n",
       "      <td>2004</td>\n",
       "      <td>\\N</td>\n",
       "      <td>190</td>\n",
       "      <td>Crime</td>\n",
       "    </tr>\n",
       "    <tr>\n",
       "      <th>12767</th>\n",
       "      <td>768121</td>\n",
       "      <td>False</td>\n",
       "      <td>0</td>\n",
       "      <td>['Drama']</td>\n",
       "      <td>219173</td>\n",
       "      <td>tt1576452</td>\n",
       "      <td>es</td>\n",
       "      <td>Por tu culpa</td>\n",
       "      <td>Por tu culpa</td>\n",
       "      <td>Are we what others see, or are we what we allo...</td>\n",
       "      <td>...</td>\n",
       "      <td>nm1318393,nm1196938</td>\n",
       "      <td>tt1576452</td>\n",
       "      <td>movie</td>\n",
       "      <td>It's Your Fault</td>\n",
       "      <td>Por tu culpa</td>\n",
       "      <td>0</td>\n",
       "      <td>2010</td>\n",
       "      <td>\\N</td>\n",
       "      <td>87</td>\n",
       "      <td>Drama</td>\n",
       "    </tr>\n",
       "    <tr>\n",
       "      <th>12768</th>\n",
       "      <td>768702</td>\n",
       "      <td>False</td>\n",
       "      <td>0</td>\n",
       "      <td>['Action']</td>\n",
       "      <td>222409</td>\n",
       "      <td>tt1512732</td>\n",
       "      <td>en</td>\n",
       "      <td>Braille</td>\n",
       "      <td>Braille</td>\n",
       "      <td>Nick's blindness is symbolic to his regret for...</td>\n",
       "      <td>...</td>\n",
       "      <td>nm2065393,nm1863128</td>\n",
       "      <td>tt1512732</td>\n",
       "      <td>movie</td>\n",
       "      <td>Braille</td>\n",
       "      <td>Braille</td>\n",
       "      <td>0</td>\n",
       "      <td>2009</td>\n",
       "      <td>\\N</td>\n",
       "      <td>90</td>\n",
       "      <td>Action</td>\n",
       "    </tr>\n",
       "    <tr>\n",
       "      <th>12769</th>\n",
       "      <td>769648</td>\n",
       "      <td>False</td>\n",
       "      <td>0</td>\n",
       "      <td>['Documentary']</td>\n",
       "      <td>228655</td>\n",
       "      <td>tt2007418</td>\n",
       "      <td>fr</td>\n",
       "      <td>Les trois disparitions de Soad Hosni</td>\n",
       "      <td>Les trois disparitions de Soad Hosni</td>\n",
       "      <td>This haunting and beautifully formed documenta...</td>\n",
       "      <td>...</td>\n",
       "      <td>nm1645751</td>\n",
       "      <td>tt2007418</td>\n",
       "      <td>movie</td>\n",
       "      <td>Les trois disparitions de Soad Hosni</td>\n",
       "      <td>Les trois disparitions de Soad Hosni</td>\n",
       "      <td>0</td>\n",
       "      <td>2011</td>\n",
       "      <td>\\N</td>\n",
       "      <td>70</td>\n",
       "      <td>Documentary</td>\n",
       "    </tr>\n",
       "    <tr>\n",
       "      <th>12770</th>\n",
       "      <td>769907</td>\n",
       "      <td>False</td>\n",
       "      <td>0</td>\n",
       "      <td>['Thriller', 'Horror', 'Action', 'Adventure', ...</td>\n",
       "      <td>231003</td>\n",
       "      <td>tt2011045</td>\n",
       "      <td>en</td>\n",
       "      <td>Hombre Y Tierra</td>\n",
       "      <td>Hombre Y Tierra</td>\n",
       "      <td>Mauro Bosque was an adventurer, a survivalist,...</td>\n",
       "      <td>...</td>\n",
       "      <td>nm1870338,nm2566773</td>\n",
       "      <td>tt2011045</td>\n",
       "      <td>movie</td>\n",
       "      <td>Hombre y tierra</td>\n",
       "      <td>Hombre y tierra</td>\n",
       "      <td>0</td>\n",
       "      <td>2011</td>\n",
       "      <td>\\N</td>\n",
       "      <td>113</td>\n",
       "      <td>Adventure,Drama,Thriller</td>\n",
       "    </tr>\n",
       "  </tbody>\n",
       "</table>\n",
       "<p>12771 rows × 32 columns</p>\n",
       "</div>"
      ],
      "text/plain": [
       "       Unnamed: 0  adult     budget  \\\n",
       "0              70  False   12800000   \n",
       "1             109  False  140000000   \n",
       "2             133  False   30000000   \n",
       "3             154  False  200000000   \n",
       "4             196  False    2000000   \n",
       "...           ...    ...        ...   \n",
       "12766      768003  False          0   \n",
       "12767      768121  False          0   \n",
       "12768      768702  False          0   \n",
       "12769      769648  False          0   \n",
       "12770      769907  False          0   \n",
       "\n",
       "                                                genres_x  id_tmdb    imdb_id  \\\n",
       "0                                     ['Drama', 'Crime']       16  tt0168629   \n",
       "1                     ['Adventure', 'Fantasy', 'Action']       22  tt0325980   \n",
       "2                                    ['Action', 'Crime']       24  tt0266697   \n",
       "3                     ['Adventure', 'Fantasy', 'Action']       58  tt0383574   \n",
       "4                         ['Thriller', 'Crime', 'Drama']       67  tt0445620   \n",
       "...                                                  ...      ...        ...   \n",
       "12766                                          ['Crime']   218455  tt0398990   \n",
       "12767                                          ['Drama']   219173  tt1576452   \n",
       "12768                                         ['Action']   222409  tt1512732   \n",
       "12769                                    ['Documentary']   228655  tt2007418   \n",
       "12770  ['Thriller', 'Horror', 'Action', 'Adventure', ...   231003  tt2011045   \n",
       "\n",
       "      original_language                                     original_title  \\\n",
       "0                    en                                 Dancer in the Dark   \n",
       "1                    en  Pirates of the Caribbean: The Curse of the Bla...   \n",
       "2                    en                                  Kill Bill: Vol. 1   \n",
       "3                    en         Pirates of the Caribbean: Dead Man's Chest   \n",
       "4                    en                                       Paradise Now   \n",
       "...                 ...                                                ...   \n",
       "12766                fr                                  Les eaux troubles   \n",
       "12767                es                                       Por tu culpa   \n",
       "12768                en                                            Braille   \n",
       "12769                fr               Les trois disparitions de Soad Hosni   \n",
       "12770                en                                    Hombre Y Tierra   \n",
       "\n",
       "                                        original_title.1  \\\n",
       "0                                     Dancer in the Dark   \n",
       "1      Pirates of the Caribbean: The Curse of the Bla...   \n",
       "2                                      Kill Bill: Vol. 1   \n",
       "3             Pirates of the Caribbean: Dead Man's Chest   \n",
       "4                                           Paradise Now   \n",
       "...                                                  ...   \n",
       "12766                                  Les eaux troubles   \n",
       "12767                                       Por tu culpa   \n",
       "12768                                            Braille   \n",
       "12769               Les trois disparitions de Soad Hosni   \n",
       "12770                                    Hombre Y Tierra   \n",
       "\n",
       "                                                overview  ...  \\\n",
       "0      Selma, a Czech immigrant on the verge of blind...  ...   \n",
       "1      Jack Sparrow, a freewheeling 18th-century pira...  ...   \n",
       "2      An assassin is shot by her ruthless employer, ...  ...   \n",
       "3      Captain Jack Sparrow works his way out of a bl...  ...   \n",
       "4      Two childhood friends are recruited for a suic...  ...   \n",
       "...                                                  ...  ...   \n",
       "12766  Clara takes her daughter and her friends to a ...  ...   \n",
       "12767  Are we what others see, or are we what we allo...  ...   \n",
       "12768  Nick's blindness is symbolic to his regret for...  ...   \n",
       "12769  This haunting and beautifully formed documenta...  ...   \n",
       "12770  Mauro Bosque was an adventurer, a survivalist,...  ...   \n",
       "\n",
       "                                       writers     tconst titleType  \\\n",
       "0                          nm0001885,nm0797604  tt0168629     movie   \n",
       "1      nm0254645,nm0744429,nm0064181,nm0938684  tt0325980     movie   \n",
       "2                          nm0000233,nm0000235  tt0266697     movie   \n",
       "3      nm0254645,nm0744429,nm0064181,nm0938684  tt0383574     movie   \n",
       "4                nm0009463,nm1178208,nm0388293  tt0445620     movie   \n",
       "...                                        ...        ...       ...   \n",
       "12766            nm1241683,nm1557904,nm1551955  tt0398990   tvMovie   \n",
       "12767                      nm1318393,nm1196938  tt1576452     movie   \n",
       "12768                      nm2065393,nm1863128  tt1512732     movie   \n",
       "12769                                nm1645751  tt2007418     movie   \n",
       "12770                      nm1870338,nm2566773  tt2011045     movie   \n",
       "\n",
       "                                            primaryTitle  \\\n",
       "0                                     Dancer in the Dark   \n",
       "1      Pirates of the Caribbean: The Curse of the Bla...   \n",
       "2                                      Kill Bill: Vol. 1   \n",
       "3             Pirates of the Caribbean: Dead Man's Chest   \n",
       "4                                           Paradise Now   \n",
       "...                                                  ...   \n",
       "12766                                    Troubled Waters   \n",
       "12767                                    It's Your Fault   \n",
       "12768                                            Braille   \n",
       "12769               Les trois disparitions de Soad Hosni   \n",
       "12770                                    Hombre y tierra   \n",
       "\n",
       "                                           originalTitle  isAdult startYear  \\\n",
       "0                                     Dancer in the Dark        0      2000   \n",
       "1      Pirates of the Caribbean: The Curse of the Bla...        0      2003   \n",
       "2                                      Kill Bill: Vol. 1        0      2003   \n",
       "3             Pirates of the Caribbean: Dead Man's Chest        0      2006   \n",
       "4                                           Paradise Now        0      2005   \n",
       "...                                                  ...      ...       ...   \n",
       "12766                                  Les eaux troubles        0      2004   \n",
       "12767                                       Por tu culpa        0      2010   \n",
       "12768                                            Braille        0      2009   \n",
       "12769               Les trois disparitions de Soad Hosni        0      2011   \n",
       "12770                                    Hombre y tierra        0      2011   \n",
       "\n",
       "      endYear runtimeMinutes                  genres_y  \n",
       "0          \\N            140       Crime,Drama,Musical  \n",
       "1          \\N            143  Action,Adventure,Fantasy  \n",
       "2          \\N            111     Action,Crime,Thriller  \n",
       "3          \\N            151  Action,Adventure,Fantasy  \n",
       "4          \\N             91      Crime,Drama,Thriller  \n",
       "...       ...            ...                       ...  \n",
       "12766      \\N            190                     Crime  \n",
       "12767      \\N             87                     Drama  \n",
       "12768      \\N             90                    Action  \n",
       "12769      \\N             70               Documentary  \n",
       "12770      \\N            113  Adventure,Drama,Thriller  \n",
       "\n",
       "[12771 rows x 32 columns]"
      ]
     },
     "execution_count": 28,
     "metadata": {},
     "output_type": "execute_result"
    }
   ],
   "source": [
    "verif_que_films = pd.merge(films,\n",
    "                           title_basics,\n",
    "                           how='left',\n",
    "                           left_on='imdb_id',\n",
    "                           right_on = 'tconst')\n",
    "\n",
    "verif_que_films"
   ]
  },
  {
   "cell_type": "code",
   "execution_count": 29,
   "metadata": {},
   "outputs": [
    {
     "data": {
      "text/plain": [
       "titleType\n",
       "movie           11016\n",
       "tvMovie           789\n",
       "video             458\n",
       "tvSpecial         359\n",
       "tvEpisode          79\n",
       "tvSeries           39\n",
       "tvMiniSeries       25\n",
       "videoGame           4\n",
       "short               2\n",
       "Name: count, dtype: int64"
      ]
     },
     "execution_count": 29,
     "metadata": {},
     "output_type": "execute_result"
    }
   ],
   "source": [
    "verif_que_films['titleType'].value_counts()"
   ]
  },
  {
   "cell_type": "markdown",
   "metadata": {},
   "source": [
    "il y a des séries ... dans notre liste de films donc je les supprime = je sélectionne que le titleType = movie"
   ]
  },
  {
   "cell_type": "code",
   "execution_count": 30,
   "metadata": {},
   "outputs": [
    {
     "data": {
      "text/html": [
       "<div>\n",
       "<style scoped>\n",
       "    .dataframe tbody tr th:only-of-type {\n",
       "        vertical-align: middle;\n",
       "    }\n",
       "\n",
       "    .dataframe tbody tr th {\n",
       "        vertical-align: top;\n",
       "    }\n",
       "\n",
       "    .dataframe thead th {\n",
       "        text-align: right;\n",
       "    }\n",
       "</style>\n",
       "<table border=\"1\" class=\"dataframe\">\n",
       "  <thead>\n",
       "    <tr style=\"text-align: right;\">\n",
       "      <th></th>\n",
       "      <th>Unnamed: 0</th>\n",
       "      <th>adult</th>\n",
       "      <th>budget</th>\n",
       "      <th>genres_x</th>\n",
       "      <th>id_tmdb</th>\n",
       "      <th>imdb_id</th>\n",
       "      <th>original_language</th>\n",
       "      <th>original_title</th>\n",
       "      <th>original_title.1</th>\n",
       "      <th>overview</th>\n",
       "      <th>...</th>\n",
       "      <th>writers</th>\n",
       "      <th>tconst</th>\n",
       "      <th>titleType</th>\n",
       "      <th>primaryTitle</th>\n",
       "      <th>originalTitle</th>\n",
       "      <th>isAdult</th>\n",
       "      <th>startYear</th>\n",
       "      <th>endYear</th>\n",
       "      <th>runtimeMinutes</th>\n",
       "      <th>genres_y</th>\n",
       "    </tr>\n",
       "  </thead>\n",
       "  <tbody>\n",
       "    <tr>\n",
       "      <th>0</th>\n",
       "      <td>70</td>\n",
       "      <td>False</td>\n",
       "      <td>12800000</td>\n",
       "      <td>['Drama', 'Crime']</td>\n",
       "      <td>16</td>\n",
       "      <td>tt0168629</td>\n",
       "      <td>en</td>\n",
       "      <td>Dancer in the Dark</td>\n",
       "      <td>Dancer in the Dark</td>\n",
       "      <td>Selma, a Czech immigrant on the verge of blind...</td>\n",
       "      <td>...</td>\n",
       "      <td>nm0001885,nm0797604</td>\n",
       "      <td>tt0168629</td>\n",
       "      <td>movie</td>\n",
       "      <td>Dancer in the Dark</td>\n",
       "      <td>Dancer in the Dark</td>\n",
       "      <td>0</td>\n",
       "      <td>2000</td>\n",
       "      <td>\\N</td>\n",
       "      <td>140</td>\n",
       "      <td>Crime,Drama,Musical</td>\n",
       "    </tr>\n",
       "    <tr>\n",
       "      <th>1</th>\n",
       "      <td>109</td>\n",
       "      <td>False</td>\n",
       "      <td>140000000</td>\n",
       "      <td>['Adventure', 'Fantasy', 'Action']</td>\n",
       "      <td>22</td>\n",
       "      <td>tt0325980</td>\n",
       "      <td>en</td>\n",
       "      <td>Pirates of the Caribbean: The Curse of the Bla...</td>\n",
       "      <td>Pirates of the Caribbean: The Curse of the Bla...</td>\n",
       "      <td>Jack Sparrow, a freewheeling 18th-century pira...</td>\n",
       "      <td>...</td>\n",
       "      <td>nm0254645,nm0744429,nm0064181,nm0938684</td>\n",
       "      <td>tt0325980</td>\n",
       "      <td>movie</td>\n",
       "      <td>Pirates of the Caribbean: The Curse of the Bla...</td>\n",
       "      <td>Pirates of the Caribbean: The Curse of the Bla...</td>\n",
       "      <td>0</td>\n",
       "      <td>2003</td>\n",
       "      <td>\\N</td>\n",
       "      <td>143</td>\n",
       "      <td>Action,Adventure,Fantasy</td>\n",
       "    </tr>\n",
       "    <tr>\n",
       "      <th>2</th>\n",
       "      <td>133</td>\n",
       "      <td>False</td>\n",
       "      <td>30000000</td>\n",
       "      <td>['Action', 'Crime']</td>\n",
       "      <td>24</td>\n",
       "      <td>tt0266697</td>\n",
       "      <td>en</td>\n",
       "      <td>Kill Bill: Vol. 1</td>\n",
       "      <td>Kill Bill: Vol. 1</td>\n",
       "      <td>An assassin is shot by her ruthless employer, ...</td>\n",
       "      <td>...</td>\n",
       "      <td>nm0000233,nm0000235</td>\n",
       "      <td>tt0266697</td>\n",
       "      <td>movie</td>\n",
       "      <td>Kill Bill: Vol. 1</td>\n",
       "      <td>Kill Bill: Vol. 1</td>\n",
       "      <td>0</td>\n",
       "      <td>2003</td>\n",
       "      <td>\\N</td>\n",
       "      <td>111</td>\n",
       "      <td>Action,Crime,Thriller</td>\n",
       "    </tr>\n",
       "    <tr>\n",
       "      <th>3</th>\n",
       "      <td>154</td>\n",
       "      <td>False</td>\n",
       "      <td>200000000</td>\n",
       "      <td>['Adventure', 'Fantasy', 'Action']</td>\n",
       "      <td>58</td>\n",
       "      <td>tt0383574</td>\n",
       "      <td>en</td>\n",
       "      <td>Pirates of the Caribbean: Dead Man's Chest</td>\n",
       "      <td>Pirates of the Caribbean: Dead Man's Chest</td>\n",
       "      <td>Captain Jack Sparrow works his way out of a bl...</td>\n",
       "      <td>...</td>\n",
       "      <td>nm0254645,nm0744429,nm0064181,nm0938684</td>\n",
       "      <td>tt0383574</td>\n",
       "      <td>movie</td>\n",
       "      <td>Pirates of the Caribbean: Dead Man's Chest</td>\n",
       "      <td>Pirates of the Caribbean: Dead Man's Chest</td>\n",
       "      <td>0</td>\n",
       "      <td>2006</td>\n",
       "      <td>\\N</td>\n",
       "      <td>151</td>\n",
       "      <td>Action,Adventure,Fantasy</td>\n",
       "    </tr>\n",
       "    <tr>\n",
       "      <th>4</th>\n",
       "      <td>196</td>\n",
       "      <td>False</td>\n",
       "      <td>2000000</td>\n",
       "      <td>['Thriller', 'Crime', 'Drama']</td>\n",
       "      <td>67</td>\n",
       "      <td>tt0445620</td>\n",
       "      <td>en</td>\n",
       "      <td>Paradise Now</td>\n",
       "      <td>Paradise Now</td>\n",
       "      <td>Two childhood friends are recruited for a suic...</td>\n",
       "      <td>...</td>\n",
       "      <td>nm0009463,nm1178208,nm0388293</td>\n",
       "      <td>tt0445620</td>\n",
       "      <td>movie</td>\n",
       "      <td>Paradise Now</td>\n",
       "      <td>Paradise Now</td>\n",
       "      <td>0</td>\n",
       "      <td>2005</td>\n",
       "      <td>\\N</td>\n",
       "      <td>91</td>\n",
       "      <td>Crime,Drama,Thriller</td>\n",
       "    </tr>\n",
       "  </tbody>\n",
       "</table>\n",
       "<p>5 rows × 32 columns</p>\n",
       "</div>"
      ],
      "text/plain": [
       "   Unnamed: 0  adult     budget                            genres_x  id_tmdb  \\\n",
       "0          70  False   12800000                  ['Drama', 'Crime']       16   \n",
       "1         109  False  140000000  ['Adventure', 'Fantasy', 'Action']       22   \n",
       "2         133  False   30000000                 ['Action', 'Crime']       24   \n",
       "3         154  False  200000000  ['Adventure', 'Fantasy', 'Action']       58   \n",
       "4         196  False    2000000      ['Thriller', 'Crime', 'Drama']       67   \n",
       "\n",
       "     imdb_id original_language  \\\n",
       "0  tt0168629                en   \n",
       "1  tt0325980                en   \n",
       "2  tt0266697                en   \n",
       "3  tt0383574                en   \n",
       "4  tt0445620                en   \n",
       "\n",
       "                                      original_title  \\\n",
       "0                                 Dancer in the Dark   \n",
       "1  Pirates of the Caribbean: The Curse of the Bla...   \n",
       "2                                  Kill Bill: Vol. 1   \n",
       "3         Pirates of the Caribbean: Dead Man's Chest   \n",
       "4                                       Paradise Now   \n",
       "\n",
       "                                    original_title.1  \\\n",
       "0                                 Dancer in the Dark   \n",
       "1  Pirates of the Caribbean: The Curse of the Bla...   \n",
       "2                                  Kill Bill: Vol. 1   \n",
       "3         Pirates of the Caribbean: Dead Man's Chest   \n",
       "4                                       Paradise Now   \n",
       "\n",
       "                                            overview  ...  \\\n",
       "0  Selma, a Czech immigrant on the verge of blind...  ...   \n",
       "1  Jack Sparrow, a freewheeling 18th-century pira...  ...   \n",
       "2  An assassin is shot by her ruthless employer, ...  ...   \n",
       "3  Captain Jack Sparrow works his way out of a bl...  ...   \n",
       "4  Two childhood friends are recruited for a suic...  ...   \n",
       "\n",
       "                                   writers     tconst titleType  \\\n",
       "0                      nm0001885,nm0797604  tt0168629     movie   \n",
       "1  nm0254645,nm0744429,nm0064181,nm0938684  tt0325980     movie   \n",
       "2                      nm0000233,nm0000235  tt0266697     movie   \n",
       "3  nm0254645,nm0744429,nm0064181,nm0938684  tt0383574     movie   \n",
       "4            nm0009463,nm1178208,nm0388293  tt0445620     movie   \n",
       "\n",
       "                                        primaryTitle  \\\n",
       "0                                 Dancer in the Dark   \n",
       "1  Pirates of the Caribbean: The Curse of the Bla...   \n",
       "2                                  Kill Bill: Vol. 1   \n",
       "3         Pirates of the Caribbean: Dead Man's Chest   \n",
       "4                                       Paradise Now   \n",
       "\n",
       "                                       originalTitle  isAdult startYear  \\\n",
       "0                                 Dancer in the Dark        0      2000   \n",
       "1  Pirates of the Caribbean: The Curse of the Bla...        0      2003   \n",
       "2                                  Kill Bill: Vol. 1        0      2003   \n",
       "3         Pirates of the Caribbean: Dead Man's Chest        0      2006   \n",
       "4                                       Paradise Now        0      2005   \n",
       "\n",
       "  endYear runtimeMinutes                  genres_y  \n",
       "0      \\N            140       Crime,Drama,Musical  \n",
       "1      \\N            143  Action,Adventure,Fantasy  \n",
       "2      \\N            111     Action,Crime,Thriller  \n",
       "3      \\N            151  Action,Adventure,Fantasy  \n",
       "4      \\N             91      Crime,Drama,Thriller  \n",
       "\n",
       "[5 rows x 32 columns]"
      ]
     },
     "execution_count": 30,
     "metadata": {},
     "output_type": "execute_result"
    }
   ],
   "source": [
    "films_v2 = verif_que_films[verif_que_films['titleType'] == 'movie']\n",
    "films_v2.head()"
   ]
  },
  {
   "cell_type": "markdown",
   "metadata": {},
   "source": [
    "J'importe le fichier contenant les films et les personnes"
   ]
  },
  {
   "cell_type": "code",
   "execution_count": 31,
   "metadata": {},
   "outputs": [],
   "source": [
    "films_personnes_import = pd.read_csv('./donnees/films_tmdb_imdb_sup5_2000_60_released.csv', sep=\"\\t\")"
   ]
  },
  {
   "cell_type": "markdown",
   "metadata": {},
   "source": [
    "Je filtre ce fichier pour enlever les series..."
   ]
  },
  {
   "cell_type": "markdown",
   "metadata": {},
   "source": [
    "on liste les id_tmdb de films_v2"
   ]
  },
  {
   "cell_type": "code",
   "execution_count": null,
   "metadata": {},
   "outputs": [],
   "source": [
    "liste_code_tmdb = list(films_v2['id_tmdb'])\n",
    "liste_code_tmdb"
   ]
  },
  {
   "cell_type": "markdown",
   "metadata": {},
   "source": [
    "On vérifie que les idètmsd de notre import soit dans la liste des id_tmdb des films sélectionnés après tous nos filtres (films_v2)"
   ]
  },
  {
   "cell_type": "code",
   "execution_count": null,
   "metadata": {},
   "outputs": [],
   "source": [
    "films_personnes = films_personnes_import [films_personnes_import['id_tmdb'].isin(liste_code_tmdb)]\n",
    "films_personnes.head()"
   ]
  },
  {
   "cell_type": "code",
   "execution_count": null,
   "metadata": {},
   "outputs": [],
   "source": [
    "films_v2.info()"
   ]
  },
  {
   "cell_type": "code",
   "execution_count": null,
   "metadata": {},
   "outputs": [],
   "source": [
    "films_personnes.info()"
   ]
  },
  {
   "cell_type": "code",
   "execution_count": 43,
   "metadata": {},
   "outputs": [
    {
     "data": {
      "text/plain": [
       "Index(['Unnamed: 0', 'adult', 'budget', 'genres', 'id_tmdb', 'imdb_id',\n",
       "       'original_language', 'original_title', 'original_title.1', 'overview',\n",
       "       'popularity', 'poster_path', 'production_countries', 'release_date',\n",
       "       'revenue', 'runtime', 'spoken_languages', 'status', 'title',\n",
       "       'vote_average', 'vote_count', 'directors', 'writers'],\n",
       "      dtype='object')"
      ]
     },
     "execution_count": 43,
     "metadata": {},
     "output_type": "execute_result"
    }
   ],
   "source": [
    "films.columns"
   ]
  },
  {
   "cell_type": "code",
   "execution_count": 44,
   "metadata": {},
   "outputs": [
    {
     "data": {
      "text/plain": [
       "Index(['Unnamed: 0', 'adult', 'budget', 'genres', 'id_tmdb', 'imdb_id',\n",
       "       'original_language', 'original_title', 'overview', 'popularity',\n",
       "       'poster_path', 'production_countries', 'release_date', 'revenue',\n",
       "       'runtime', 'spoken_languages', 'status', 'title', 'vote_average',\n",
       "       'vote_count', 'directors', 'writers', 'nconst', 'category',\n",
       "       'characters', 'primaryName', 'knownForTitles', 'year'],\n",
       "      dtype='object')"
      ]
     },
     "execution_count": 44,
     "metadata": {},
     "output_type": "execute_result"
    }
   ],
   "source": [
    "films_personnes.columns"
   ]
  }
 ],
 "metadata": {
  "kernelspec": {
   "display_name": "base",
   "language": "python",
   "name": "python3"
  },
  "language_info": {
   "codemirror_mode": {
    "name": "ipython",
    "version": 3
   },
   "file_extension": ".py",
   "mimetype": "text/x-python",
   "name": "python",
   "nbconvert_exporter": "python",
   "pygments_lexer": "ipython3",
   "version": "3.12.4"
  }
 },
 "nbformat": 4,
 "nbformat_minor": 2
}
