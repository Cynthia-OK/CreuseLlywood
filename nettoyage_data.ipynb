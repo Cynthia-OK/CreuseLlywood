{
 "cells": [
  {
   "cell_type": "markdown",
   "metadata": {},
   "source": [
    "dans ce fichier nous allons mettre les requêtes de filtres et nettoyage des données"
   ]
  },
  {
   "cell_type": "markdown",
   "metadata": {},
   "source": [
    "Import pandas"
   ]
  },
  {
   "cell_type": "code",
   "execution_count": 1,
   "metadata": {},
   "outputs": [],
   "source": [
    "import pandas as pd"
   ]
  },
  {
   "cell_type": "markdown",
   "metadata": {},
   "source": [
    "Import des données : tables entières"
   ]
  },
  {
   "cell_type": "code",
   "execution_count": null,
   "metadata": {},
   "outputs": [],
   "source": [
    "# tmdb = pd.read_csv(\"./donnees/TMDB/tmdb_full.csv\", low_memory=False)"
   ]
  },
  {
   "cell_type": "code",
   "execution_count": null,
   "metadata": {},
   "outputs": [],
   "source": [
    "# title_akas = pd.read_csv(\"./donnees/IMDb/title.akas.tsv/title.akas.tsv\", sep=\"\\t\", low_memory=False)"
   ]
  },
  {
   "cell_type": "code",
   "execution_count": null,
   "metadata": {},
   "outputs": [],
   "source": [
    "# title_basics = pd.read_csv(\"./donnees/IMDb/title.basics.tsv/title.basics.tsv\", sep=\"\\t\", low_memory=False)\n",
    "# title_basics.head()"
   ]
  },
  {
   "cell_type": "code",
   "execution_count": null,
   "metadata": {},
   "outputs": [],
   "source": [
    "# title_crew = pd.read_csv(\"./donnees/IMDb/title.crew.tsv/title.crew.tsv\", sep=\"\\t\", low_memory=False)"
   ]
  },
  {
   "cell_type": "code",
   "execution_count": null,
   "metadata": {},
   "outputs": [],
   "source": [
    "# title_episode = pd.read_csv(\"./donnees/IMDb/title.episode.tsv/title.episode.tsv\", sep=\"\\t\", low_memory=False)"
   ]
  },
  {
   "cell_type": "code",
   "execution_count": null,
   "metadata": {},
   "outputs": [],
   "source": [
    "# title_principals = pd.read_csv(\"./donnees/IMDb/title.principals.tsv/title.principals.tsv\", sep=\"\\t\", low_memory=False)"
   ]
  },
  {
   "cell_type": "code",
   "execution_count": null,
   "metadata": {},
   "outputs": [],
   "source": [
    "# title_ratings = pd.read_csv(\"./donnees/IMDb/title.ratings.tsv/title.ratings.tsv\", sep=\"\\t\", low_memory=False)"
   ]
  },
  {
   "cell_type": "code",
   "execution_count": null,
   "metadata": {},
   "outputs": [],
   "source": [
    "# name_basics = pd.read_csv(\"./donnees/IMDb/name.basics.tsv/name.basics.tsv\", sep=\"\\t\", low_memory=False)"
   ]
  },
  {
   "cell_type": "markdown",
   "metadata": {},
   "source": [
    "Filtre par genre = Action et production countries = FR"
   ]
  },
  {
   "cell_type": "code",
   "execution_count": null,
   "metadata": {},
   "outputs": [],
   "source": [
    "tmdb_filtre = tmdb[(tmdb['genres'].str.contains('Action'))|(tmdb['production_countries'].str.contains('FR'))]"
   ]
  },
  {
   "cell_type": "code",
   "execution_count": null,
   "metadata": {},
   "outputs": [],
   "source": [
    "tmdb_filtre.info()"
   ]
  },
  {
   "cell_type": "markdown",
   "metadata": {},
   "source": [
    "Liaisons à faire :\n",
    "TMDB - Title_crew - title_principals - name_basics\n"
   ]
  },
  {
   "cell_type": "code",
   "execution_count": null,
   "metadata": {},
   "outputs": [],
   "source": [
    "table_films_select = pd.merge(tmdb_filtre, \n",
    "                              title_crew,\n",
    "                              how=\"inner\", \n",
    "                              left_on = \"imdb_id\",\n",
    "                              right_on = \"tconst\"\n",
    "                              )"
   ]
  },
  {
   "cell_type": "code",
   "execution_count": null,
   "metadata": {},
   "outputs": [],
   "source": [
    "table_films_select.info()"
   ]
  },
  {
   "cell_type": "code",
   "execution_count": null,
   "metadata": {},
   "outputs": [],
   "source": [
    "table_films_select = table_films_select.drop(['backdrop_path','homepage','video','production_companies_name','production_companies_country'],axis=1)"
   ]
  },
  {
   "cell_type": "code",
   "execution_count": null,
   "metadata": {},
   "outputs": [],
   "source": [
    "table_films_select = pd.merge(table_films_select, \n",
    "                              title_principals,\n",
    "                              how=\"left\", \n",
    "                              left_on = \"tconst\",\n",
    "                              right_on = \"tconst\"\n",
    "                              )"
   ]
  },
  {
   "cell_type": "code",
   "execution_count": null,
   "metadata": {},
   "outputs": [],
   "source": [
    "table_films_select.head()"
   ]
  },
  {
   "cell_type": "code",
   "execution_count": null,
   "metadata": {},
   "outputs": [],
   "source": [
    "table_films_select = table_films_select.drop(['ordering','job'],axis=1)"
   ]
  },
  {
   "cell_type": "code",
   "execution_count": null,
   "metadata": {},
   "outputs": [],
   "source": [
    "table_films_select = pd.merge(table_films_select, \n",
    "                              name_basics,\n",
    "                              how=\"left\", \n",
    "                              left_on = \"nconst\",\n",
    "                              right_on = \"nconst\"\n",
    "                              )"
   ]
  },
  {
   "cell_type": "code",
   "execution_count": null,
   "metadata": {},
   "outputs": [],
   "source": [
    "table_films_select.head()"
   ]
  },
  {
   "cell_type": "code",
   "execution_count": null,
   "metadata": {},
   "outputs": [],
   "source": [
    "table_films_select = table_films_select.drop(['birthYear','deathYear','primaryProfession'],axis=1)"
   ]
  },
  {
   "cell_type": "code",
   "execution_count": null,
   "metadata": {},
   "outputs": [],
   "source": [
    "table_films_select.info()"
   ]
  },
  {
   "cell_type": "code",
   "execution_count": null,
   "metadata": {},
   "outputs": [
    {
     "data": {
      "text/plain": [
       "Index(['adult', 'budget', 'genres', 'id', 'imdb_id', 'original_language',\n",
       "       'original_title', 'overview', 'popularity', 'poster_path',\n",
       "       'production_countries', 'release_date', 'revenue', 'runtime',\n",
       "       'spoken_languages', 'status', 'tagline', 'title', 'vote_average',\n",
       "       'vote_count', 'tconst', 'directors', 'writers', 'nconst', 'category',\n",
       "       'characters', 'primaryName', 'knownForTitles'],\n",
       "      dtype='object')"
      ]
     },
     "execution_count": 22,
     "metadata": {},
     "output_type": "execute_result"
    }
   ],
   "source": [
    "table_films_select.columns"
   ]
  },
  {
   "cell_type": "code",
   "execution_count": null,
   "metadata": {},
   "outputs": [],
   "source": [
    "table_films_select.to_csv('./donnees/table_films_select.csv', sep=\"\\t\")"
   ]
  },
  {
   "cell_type": "code",
   "execution_count": null,
   "metadata": {},
   "outputs": [],
   "source": [
    "table_films_select.info()"
   ]
  },
  {
   "cell_type": "markdown",
   "metadata": {},
   "source": [
    "On part du csv créer table_films_select.csv"
   ]
  },
  {
   "cell_type": "code",
   "execution_count": 4,
   "metadata": {},
   "outputs": [],
   "source": [
    "films_tmdb_imdb = pd.read_csv(\"./donnees/table_films_select.csv\", sep=\"\\t\", low_memory=False)"
   ]
  },
  {
   "cell_type": "code",
   "execution_count": 5,
   "metadata": {},
   "outputs": [
    {
     "name": "stdout",
     "output_type": "stream",
     "text": [
      "<class 'pandas.core.frame.DataFrame'>\n",
      "RangeIndex: 770236 entries, 0 to 770235\n",
      "Data columns (total 29 columns):\n",
      " #   Column                Non-Null Count   Dtype  \n",
      "---  ------                --------------   -----  \n",
      " 0   Unnamed: 0            770236 non-null  int64  \n",
      " 1   adult                 770236 non-null  bool   \n",
      " 2   budget                770236 non-null  int64  \n",
      " 3   genres                770236 non-null  object \n",
      " 4   id                    770236 non-null  int64  \n",
      " 5   imdb_id               770236 non-null  object \n",
      " 6   original_language     770236 non-null  object \n",
      " 7   original_title        770236 non-null  object \n",
      " 8   overview              732422 non-null  object \n",
      " 9   popularity            770236 non-null  float64\n",
      " 10  poster_path           729654 non-null  object \n",
      " 11  production_countries  770236 non-null  object \n",
      " 12  release_date          762336 non-null  object \n",
      " 13  revenue               770236 non-null  int64  \n",
      " 14  runtime               770236 non-null  int64  \n",
      " 15  spoken_languages      770236 non-null  object \n",
      " 16  status                770236 non-null  object \n",
      " 17  tagline               244061 non-null  object \n",
      " 18  title                 770236 non-null  object \n",
      " 19  vote_average          770236 non-null  float64\n",
      " 20  vote_count            770236 non-null  int64  \n",
      " 21  tconst                770236 non-null  object \n",
      " 22  directors             770236 non-null  object \n",
      " 23  writers               770236 non-null  object \n",
      " 24  nconst                770138 non-null  object \n",
      " 25  category              770138 non-null  object \n",
      " 26  characters            770138 non-null  object \n",
      " 27  primaryName           770138 non-null  object \n",
      " 28  knownForTitles        770138 non-null  object \n",
      "dtypes: bool(1), float64(2), int64(6), object(20)\n",
      "memory usage: 165.3+ MB\n"
     ]
    }
   ],
   "source": [
    "films_tmdb_imdb.info()"
   ]
  },
  {
   "cell_type": "code",
   "execution_count": 6,
   "metadata": {},
   "outputs": [],
   "source": [
    "films_tmdb_imdb = films_tmdb_imdb.drop('Unnamed: 0',axis=1)"
   ]
  },
  {
   "cell_type": "code",
   "execution_count": 7,
   "metadata": {},
   "outputs": [
    {
     "name": "stdout",
     "output_type": "stream",
     "text": [
      "<class 'pandas.core.frame.DataFrame'>\n",
      "RangeIndex: 770236 entries, 0 to 770235\n",
      "Data columns (total 28 columns):\n",
      " #   Column                Non-Null Count   Dtype  \n",
      "---  ------                --------------   -----  \n",
      " 0   adult                 770236 non-null  bool   \n",
      " 1   budget                770236 non-null  int64  \n",
      " 2   genres                770236 non-null  object \n",
      " 3   id                    770236 non-null  int64  \n",
      " 4   imdb_id               770236 non-null  object \n",
      " 5   original_language     770236 non-null  object \n",
      " 6   original_title        770236 non-null  object \n",
      " 7   overview              732422 non-null  object \n",
      " 8   popularity            770236 non-null  float64\n",
      " 9   poster_path           729654 non-null  object \n",
      " 10  production_countries  770236 non-null  object \n",
      " 11  release_date          762336 non-null  object \n",
      " 12  revenue               770236 non-null  int64  \n",
      " 13  runtime               770236 non-null  int64  \n",
      " 14  spoken_languages      770236 non-null  object \n",
      " 15  status                770236 non-null  object \n",
      " 16  tagline               244061 non-null  object \n",
      " 17  title                 770236 non-null  object \n",
      " 18  vote_average          770236 non-null  float64\n",
      " 19  vote_count            770236 non-null  int64  \n",
      " 20  tconst                770236 non-null  object \n",
      " 21  directors             770236 non-null  object \n",
      " 22  writers               770236 non-null  object \n",
      " 23  nconst                770138 non-null  object \n",
      " 24  category              770138 non-null  object \n",
      " 25  characters            770138 non-null  object \n",
      " 26  primaryName           770138 non-null  object \n",
      " 27  knownForTitles        770138 non-null  object \n",
      "dtypes: bool(1), float64(2), int64(5), object(20)\n",
      "memory usage: 159.4+ MB\n"
     ]
    }
   ],
   "source": [
    "films_tmdb_imdb.info()"
   ]
  },
  {
   "cell_type": "code",
   "execution_count": null,
   "metadata": {},
   "outputs": [],
   "source": [
    "films_tmdb_imdb.describe()"
   ]
  },
  {
   "cell_type": "code",
   "execution_count": 8,
   "metadata": {},
   "outputs": [],
   "source": [
    "films_tmdb_imdb['release_date']=pd.to_datetime(films_tmdb_imdb['release_date'])"
   ]
  },
  {
   "cell_type": "code",
   "execution_count": null,
   "metadata": {},
   "outputs": [],
   "source": [
    "films_tmdb_imdb.info()"
   ]
  },
  {
   "cell_type": "markdown",
   "metadata": {},
   "source": [
    "On drop tagline car rarement l'info"
   ]
  },
  {
   "cell_type": "code",
   "execution_count": 9,
   "metadata": {},
   "outputs": [],
   "source": [
    "films_tmdb_imdb = films_tmdb_imdb.drop('tagline', axis=1)"
   ]
  },
  {
   "cell_type": "markdown",
   "metadata": {},
   "source": [
    "On ne garde que ce qui ont un résumé"
   ]
  },
  {
   "cell_type": "code",
   "execution_count": 10,
   "metadata": {},
   "outputs": [],
   "source": [
    "films_tmdb_imdb.dropna(subset = ['overview'], inplace=True)"
   ]
  },
  {
   "cell_type": "code",
   "execution_count": null,
   "metadata": {},
   "outputs": [],
   "source": [
    "films_tmdb_imdb.info()"
   ]
  },
  {
   "cell_type": "markdown",
   "metadata": {},
   "source": [
    "On ne garde que ce qui a un poster"
   ]
  },
  {
   "cell_type": "code",
   "execution_count": 11,
   "metadata": {},
   "outputs": [],
   "source": [
    "films_tmdb_imdb.dropna(subset = ['poster_path'], inplace=True)"
   ]
  },
  {
   "cell_type": "code",
   "execution_count": null,
   "metadata": {},
   "outputs": [],
   "source": [
    "films_tmdb_imdb.isna().sum()"
   ]
  },
  {
   "cell_type": "code",
   "execution_count": 12,
   "metadata": {},
   "outputs": [],
   "source": [
    "films_tmdb_imdb.dropna(subset = ['release_date'], inplace=True)"
   ]
  },
  {
   "cell_type": "code",
   "execution_count": null,
   "metadata": {},
   "outputs": [],
   "source": [
    "films_tmdb_imdb.isna().sum()"
   ]
  },
  {
   "cell_type": "markdown",
   "metadata": {},
   "source": [
    "On garde que si info sur personne = nconst, category, ..."
   ]
  },
  {
   "cell_type": "code",
   "execution_count": 13,
   "metadata": {},
   "outputs": [],
   "source": [
    "films_tmdb_imdb.dropna(subset = ['nconst','category','characters','primaryName','knownForTitles'], inplace=True)"
   ]
  },
  {
   "cell_type": "code",
   "execution_count": null,
   "metadata": {},
   "outputs": [],
   "source": [
    "films_tmdb_imdb.isna().sum()"
   ]
  },
  {
   "cell_type": "code",
   "execution_count": null,
   "metadata": {},
   "outputs": [],
   "source": [
    "films_tmdb_imdb.info()"
   ]
  },
  {
   "cell_type": "markdown",
   "metadata": {},
   "source": [
    "On drop tconst car fait doublon avec imdb_id"
   ]
  },
  {
   "cell_type": "code",
   "execution_count": 14,
   "metadata": {},
   "outputs": [
    {
     "data": {
      "text/html": [
       "<div>\n",
       "<style scoped>\n",
       "    .dataframe tbody tr th:only-of-type {\n",
       "        vertical-align: middle;\n",
       "    }\n",
       "\n",
       "    .dataframe tbody tr th {\n",
       "        vertical-align: top;\n",
       "    }\n",
       "\n",
       "    .dataframe thead th {\n",
       "        text-align: right;\n",
       "    }\n",
       "</style>\n",
       "<table border=\"1\" class=\"dataframe\">\n",
       "  <thead>\n",
       "    <tr style=\"text-align: right;\">\n",
       "      <th></th>\n",
       "      <th>tconst</th>\n",
       "      <th>imdb_id</th>\n",
       "    </tr>\n",
       "  </thead>\n",
       "  <tbody>\n",
       "    <tr>\n",
       "      <th>0</th>\n",
       "      <td>tt0055747</td>\n",
       "      <td>tt0055747</td>\n",
       "    </tr>\n",
       "    <tr>\n",
       "      <th>1</th>\n",
       "      <td>tt0055747</td>\n",
       "      <td>tt0055747</td>\n",
       "    </tr>\n",
       "    <tr>\n",
       "      <th>2</th>\n",
       "      <td>tt0055747</td>\n",
       "      <td>tt0055747</td>\n",
       "    </tr>\n",
       "    <tr>\n",
       "      <th>3</th>\n",
       "      <td>tt0055747</td>\n",
       "      <td>tt0055747</td>\n",
       "    </tr>\n",
       "    <tr>\n",
       "      <th>4</th>\n",
       "      <td>tt0055747</td>\n",
       "      <td>tt0055747</td>\n",
       "    </tr>\n",
       "    <tr>\n",
       "      <th>...</th>\n",
       "      <td>...</td>\n",
       "      <td>...</td>\n",
       "    </tr>\n",
       "    <tr>\n",
       "      <th>770231</th>\n",
       "      <td>tt17352384</td>\n",
       "      <td>tt17352384</td>\n",
       "    </tr>\n",
       "    <tr>\n",
       "      <th>770232</th>\n",
       "      <td>tt17352384</td>\n",
       "      <td>tt17352384</td>\n",
       "    </tr>\n",
       "    <tr>\n",
       "      <th>770233</th>\n",
       "      <td>tt17352384</td>\n",
       "      <td>tt17352384</td>\n",
       "    </tr>\n",
       "    <tr>\n",
       "      <th>770234</th>\n",
       "      <td>tt17352384</td>\n",
       "      <td>tt17352384</td>\n",
       "    </tr>\n",
       "    <tr>\n",
       "      <th>770235</th>\n",
       "      <td>tt17352384</td>\n",
       "      <td>tt17352384</td>\n",
       "    </tr>\n",
       "  </tbody>\n",
       "</table>\n",
       "<p>694699 rows × 2 columns</p>\n",
       "</div>"
      ],
      "text/plain": [
       "            tconst     imdb_id\n",
       "0        tt0055747   tt0055747\n",
       "1        tt0055747   tt0055747\n",
       "2        tt0055747   tt0055747\n",
       "3        tt0055747   tt0055747\n",
       "4        tt0055747   tt0055747\n",
       "...            ...         ...\n",
       "770231  tt17352384  tt17352384\n",
       "770232  tt17352384  tt17352384\n",
       "770233  tt17352384  tt17352384\n",
       "770234  tt17352384  tt17352384\n",
       "770235  tt17352384  tt17352384\n",
       "\n",
       "[694699 rows x 2 columns]"
      ]
     },
     "execution_count": 14,
     "metadata": {},
     "output_type": "execute_result"
    }
   ],
   "source": [
    "films_tmdb_imdb[['tconst','imdb_id']]"
   ]
  },
  {
   "cell_type": "code",
   "execution_count": 15,
   "metadata": {},
   "outputs": [],
   "source": [
    "films_tmdb_imdb = films_tmdb_imdb.drop('tconst', axis=1)"
   ]
  },
  {
   "cell_type": "code",
   "execution_count": null,
   "metadata": {},
   "outputs": [],
   "source": [
    "films_tmdb_imdb.info()"
   ]
  },
  {
   "cell_type": "markdown",
   "metadata": {},
   "source": [
    "On renomme id  en id_tmdb pour clarifier"
   ]
  },
  {
   "cell_type": "code",
   "execution_count": 16,
   "metadata": {},
   "outputs": [],
   "source": [
    "films_tmdb_imdb = films_tmdb_imdb.rename(columns={'id':'id_tmdb'})"
   ]
  },
  {
   "cell_type": "markdown",
   "metadata": {},
   "source": [
    "on va filtrer selon le vote average basé sur un nombre de vote plutôt  que popularity on ne sait pas trop comment c'est calculé et ce n'est pas cohérent avec vote_average"
   ]
  },
  {
   "cell_type": "code",
   "execution_count": 17,
   "metadata": {},
   "outputs": [
    {
     "data": {
      "text/plain": [
       "vote_average  popularity\n",
       "0.000         0.600         25684\n",
       "              1.400          3689\n",
       "5.000         0.600          3440\n",
       "0.000         0.840          3334\n",
       "6.000         0.600          3332\n",
       "                            ...  \n",
       "6.800         1.294             1\n",
       "4.100         1.031             1\n",
       "6.672         3.988             1\n",
       "4.900         0.854             1\n",
       "5.900         1.820             1\n",
       "Name: count, Length: 29444, dtype: int64"
      ]
     },
     "execution_count": 17,
     "metadata": {},
     "output_type": "execute_result"
    }
   ],
   "source": [
    "films_tmdb_imdb[['vote_average','popularity']].value_counts(sort=True)\n"
   ]
  },
  {
   "cell_type": "markdown",
   "metadata": {},
   "source": [
    "Max de vote_average= 10 = les films sont notés sur 10"
   ]
  },
  {
   "cell_type": "code",
   "execution_count": 18,
   "metadata": {},
   "outputs": [
    {
     "data": {
      "text/plain": [
       "10.0"
      ]
     },
     "execution_count": 18,
     "metadata": {},
     "output_type": "execute_result"
    }
   ],
   "source": [
    "films_tmdb_imdb['vote_average'].max()"
   ]
  },
  {
   "cell_type": "markdown",
   "metadata": {},
   "source": [
    "on prend les films avec votete_average supérieur à 5"
   ]
  },
  {
   "cell_type": "code",
   "execution_count": 19,
   "metadata": {},
   "outputs": [],
   "source": [
    "films_tmdb_imdb_sup5 = films_tmdb_imdb[films_tmdb_imdb['vote_average']>5]"
   ]
  },
  {
   "cell_type": "code",
   "execution_count": null,
   "metadata": {},
   "outputs": [],
   "source": [
    "films_tmdb_imdb_sup5.info()"
   ]
  },
  {
   "cell_type": "markdown",
   "metadata": {},
   "source": [
    "filtre selon date de sortie"
   ]
  },
  {
   "cell_type": "code",
   "execution_count": 20,
   "metadata": {},
   "outputs": [],
   "source": [
    "from datetime import datetime"
   ]
  },
  {
   "cell_type": "markdown",
   "metadata": {},
   "source": [
    "on ajoute une colonne année"
   ]
  },
  {
   "cell_type": "code",
   "execution_count": 21,
   "metadata": {},
   "outputs": [
    {
     "name": "stderr",
     "output_type": "stream",
     "text": [
      "C:\\Users\\LOTUS\\AppData\\Local\\Temp\\ipykernel_27140\\2621779178.py:1: SettingWithCopyWarning: \n",
      "A value is trying to be set on a copy of a slice from a DataFrame.\n",
      "Try using .loc[row_indexer,col_indexer] = value instead\n",
      "\n",
      "See the caveats in the documentation: https://pandas.pydata.org/pandas-docs/stable/user_guide/indexing.html#returning-a-view-versus-a-copy\n",
      "  films_tmdb_imdb_sup5['year'] = films_tmdb_imdb_sup5['release_date'].dt.year\n"
     ]
    }
   ],
   "source": [
    "films_tmdb_imdb_sup5['year'] = films_tmdb_imdb_sup5['release_date'].dt.year"
   ]
  },
  {
   "cell_type": "code",
   "execution_count": 22,
   "metadata": {},
   "outputs": [
    {
     "name": "stdout",
     "output_type": "stream",
     "text": [
      "<class 'pandas.core.frame.DataFrame'>\n",
      "Index: 462885 entries, 0 to 770134\n",
      "Data columns (total 27 columns):\n",
      " #   Column                Non-Null Count   Dtype         \n",
      "---  ------                --------------   -----         \n",
      " 0   adult                 462885 non-null  bool          \n",
      " 1   budget                462885 non-null  int64         \n",
      " 2   genres                462885 non-null  object        \n",
      " 3   id_tmdb               462885 non-null  int64         \n",
      " 4   imdb_id               462885 non-null  object        \n",
      " 5   original_language     462885 non-null  object        \n",
      " 6   original_title        462885 non-null  object        \n",
      " 7   overview              462885 non-null  object        \n",
      " 8   popularity            462885 non-null  float64       \n",
      " 9   poster_path           462885 non-null  object        \n",
      " 10  production_countries  462885 non-null  object        \n",
      " 11  release_date          462885 non-null  datetime64[ns]\n",
      " 12  revenue               462885 non-null  int64         \n",
      " 13  runtime               462885 non-null  int64         \n",
      " 14  spoken_languages      462885 non-null  object        \n",
      " 15  status                462885 non-null  object        \n",
      " 16  title                 462885 non-null  object        \n",
      " 17  vote_average          462885 non-null  float64       \n",
      " 18  vote_count            462885 non-null  int64         \n",
      " 19  directors             462885 non-null  object        \n",
      " 20  writers               462885 non-null  object        \n",
      " 21  nconst                462885 non-null  object        \n",
      " 22  category              462885 non-null  object        \n",
      " 23  characters            462885 non-null  object        \n",
      " 24  primaryName           462885 non-null  object        \n",
      " 25  knownForTitles        462885 non-null  object        \n",
      " 26  year                  462885 non-null  int32         \n",
      "dtypes: bool(1), datetime64[ns](1), float64(2), int32(1), int64(5), object(17)\n",
      "memory usage: 94.0+ MB\n"
     ]
    }
   ],
   "source": [
    "films_tmdb_imdb_sup5.info()"
   ]
  },
  {
   "cell_type": "code",
   "execution_count": 23,
   "metadata": {},
   "outputs": [
    {
     "data": {
      "text/plain": [
       "year\n",
       "2019    17487\n",
       "2017    17399\n",
       "2022    16683\n",
       "2018    16511\n",
       "2016    15588\n",
       "        ...  \n",
       "1898       20\n",
       "1894        8\n",
       "1892        7\n",
       "1874        4\n",
       "1878        1\n",
       "Name: count, Length: 133, dtype: int64"
      ]
     },
     "execution_count": 23,
     "metadata": {},
     "output_type": "execute_result"
    }
   ],
   "source": [
    "films_tmdb_imdb_sup5['year'].value_counts(sort=True)"
   ]
  },
  {
   "cell_type": "markdown",
   "metadata": {},
   "source": [
    "On va garder les années après 2000 inclus"
   ]
  },
  {
   "cell_type": "code",
   "execution_count": 24,
   "metadata": {},
   "outputs": [],
   "source": [
    "films_tmdb_imdb_sup5_2000 = films_tmdb_imdb_sup5[films_tmdb_imdb_sup5['year']> 1999]"
   ]
  },
  {
   "cell_type": "code",
   "execution_count": 25,
   "metadata": {},
   "outputs": [
    {
     "name": "stdout",
     "output_type": "stream",
     "text": [
      "<class 'pandas.core.frame.DataFrame'>\n",
      "Index: 272237 entries, 70 to 770046\n",
      "Data columns (total 27 columns):\n",
      " #   Column                Non-Null Count   Dtype         \n",
      "---  ------                --------------   -----         \n",
      " 0   adult                 272237 non-null  bool          \n",
      " 1   budget                272237 non-null  int64         \n",
      " 2   genres                272237 non-null  object        \n",
      " 3   id_tmdb               272237 non-null  int64         \n",
      " 4   imdb_id               272237 non-null  object        \n",
      " 5   original_language     272237 non-null  object        \n",
      " 6   original_title        272237 non-null  object        \n",
      " 7   overview              272237 non-null  object        \n",
      " 8   popularity            272237 non-null  float64       \n",
      " 9   poster_path           272237 non-null  object        \n",
      " 10  production_countries  272237 non-null  object        \n",
      " 11  release_date          272237 non-null  datetime64[ns]\n",
      " 12  revenue               272237 non-null  int64         \n",
      " 13  runtime               272237 non-null  int64         \n",
      " 14  spoken_languages      272237 non-null  object        \n",
      " 15  status                272237 non-null  object        \n",
      " 16  title                 272237 non-null  object        \n",
      " 17  vote_average          272237 non-null  float64       \n",
      " 18  vote_count            272237 non-null  int64         \n",
      " 19  directors             272237 non-null  object        \n",
      " 20  writers               272237 non-null  object        \n",
      " 21  nconst                272237 non-null  object        \n",
      " 22  category              272237 non-null  object        \n",
      " 23  characters            272237 non-null  object        \n",
      " 24  primaryName           272237 non-null  object        \n",
      " 25  knownForTitles        272237 non-null  object        \n",
      " 26  year                  272237 non-null  int32         \n",
      "dtypes: bool(1), datetime64[ns](1), float64(2), int32(1), int64(5), object(17)\n",
      "memory usage: 55.3+ MB\n"
     ]
    }
   ],
   "source": [
    "films_tmdb_imdb_sup5_2000.info()"
   ]
  },
  {
   "cell_type": "markdown",
   "metadata": {},
   "source": [
    "Nombre de films sélectionnés : "
   ]
  },
  {
   "cell_type": "code",
   "execution_count": 26,
   "metadata": {},
   "outputs": [
    {
     "data": {
      "text/plain": [
       "14672"
      ]
     },
     "execution_count": 26,
     "metadata": {},
     "output_type": "execute_result"
    }
   ],
   "source": [
    "len(films_tmdb_imdb_sup5_2000['id_tmdb'].unique())"
   ]
  },
  {
   "cell_type": "markdown",
   "metadata": {},
   "source": [
    "durée des films "
   ]
  },
  {
   "cell_type": "code",
   "execution_count": null,
   "metadata": {},
   "outputs": [],
   "source": [
    "liste = list(films_tmdb_imdb_sup5_2000['runtime'].unique())\n",
    "liste.sort()\n",
    "liste"
   ]
  },
  {
   "cell_type": "markdown",
   "metadata": {},
   "source": [
    "on prend les films plus longs que 60 minutes"
   ]
  },
  {
   "cell_type": "code",
   "execution_count": 28,
   "metadata": {},
   "outputs": [],
   "source": [
    "films_tmdb_imdb_sup5_2000_60 = films_tmdb_imdb_sup5_2000[films_tmdb_imdb_sup5_2000['runtime']>=60]"
   ]
  },
  {
   "cell_type": "code",
   "execution_count": null,
   "metadata": {},
   "outputs": [],
   "source": [
    "films_tmdb_imdb_sup5_2000_60.info()"
   ]
  },
  {
   "cell_type": "markdown",
   "metadata": {},
   "source": [
    "Nombre de films qui durent plus de 60 minutes inclues sortis à partir de 2000 et qui ont une note supérieure à 5."
   ]
  },
  {
   "cell_type": "code",
   "execution_count": 30,
   "metadata": {},
   "outputs": [
    {
     "data": {
      "text/plain": [
       "12771"
      ]
     },
     "execution_count": 30,
     "metadata": {},
     "output_type": "execute_result"
    }
   ],
   "source": [
    "len(films_tmdb_imdb_sup5_2000_60['id_tmdb'].unique())"
   ]
  },
  {
   "cell_type": "markdown",
   "metadata": {},
   "source": [
    "On prend les films qui sont sortis (Released) et on enlève les films In Production => en fait il n'y a pas de films en production"
   ]
  },
  {
   "cell_type": "code",
   "execution_count": 31,
   "metadata": {},
   "outputs": [
    {
     "data": {
      "text/html": [
       "<div>\n",
       "<style scoped>\n",
       "    .dataframe tbody tr th:only-of-type {\n",
       "        vertical-align: middle;\n",
       "    }\n",
       "\n",
       "    .dataframe tbody tr th {\n",
       "        vertical-align: top;\n",
       "    }\n",
       "\n",
       "    .dataframe thead th {\n",
       "        text-align: right;\n",
       "    }\n",
       "</style>\n",
       "<table border=\"1\" class=\"dataframe\">\n",
       "  <thead>\n",
       "    <tr style=\"text-align: right;\">\n",
       "      <th></th>\n",
       "      <th>adult</th>\n",
       "      <th>budget</th>\n",
       "      <th>genres</th>\n",
       "      <th>id_tmdb</th>\n",
       "      <th>imdb_id</th>\n",
       "      <th>original_language</th>\n",
       "      <th>original_title</th>\n",
       "      <th>overview</th>\n",
       "      <th>popularity</th>\n",
       "      <th>poster_path</th>\n",
       "      <th>...</th>\n",
       "      <th>vote_average</th>\n",
       "      <th>vote_count</th>\n",
       "      <th>directors</th>\n",
       "      <th>writers</th>\n",
       "      <th>nconst</th>\n",
       "      <th>category</th>\n",
       "      <th>characters</th>\n",
       "      <th>primaryName</th>\n",
       "      <th>knownForTitles</th>\n",
       "      <th>year</th>\n",
       "    </tr>\n",
       "  </thead>\n",
       "  <tbody>\n",
       "  </tbody>\n",
       "</table>\n",
       "<p>0 rows × 27 columns</p>\n",
       "</div>"
      ],
      "text/plain": [
       "Empty DataFrame\n",
       "Columns: [adult, budget, genres, id_tmdb, imdb_id, original_language, original_title, overview, popularity, poster_path, production_countries, release_date, revenue, runtime, spoken_languages, status, title, vote_average, vote_count, directors, writers, nconst, category, characters, primaryName, knownForTitles, year]\n",
       "Index: []\n",
       "\n",
       "[0 rows x 27 columns]"
      ]
     },
     "execution_count": 31,
     "metadata": {},
     "output_type": "execute_result"
    }
   ],
   "source": [
    "films_tmdb_imdb_sup5_2000_60[films_tmdb_imdb_sup5_2000_60['status'] == 'In Production']"
   ]
  },
  {
   "cell_type": "code",
   "execution_count": 32,
   "metadata": {},
   "outputs": [],
   "source": [
    "films_tmdb_imdb_sup5_2000_60_released = films_tmdb_imdb_sup5_2000_60[films_tmdb_imdb_sup5_2000_60['status'] == 'Released']"
   ]
  },
  {
   "cell_type": "code",
   "execution_count": null,
   "metadata": {},
   "outputs": [],
   "source": [
    "films_tmdb_imdb_sup5_2000_60_released.info()"
   ]
  },
  {
   "cell_type": "code",
   "execution_count": 33,
   "metadata": {},
   "outputs": [
    {
     "data": {
      "text/plain": [
       "12644"
      ]
     },
     "execution_count": 33,
     "metadata": {},
     "output_type": "execute_result"
    }
   ],
   "source": [
    "len(films_tmdb_imdb_sup5_2000_60_released['original_title'].unique())\n"
   ]
  },
  {
   "cell_type": "code",
   "execution_count": 34,
   "metadata": {},
   "outputs": [
    {
     "data": {
      "text/plain": [
       "12771"
      ]
     },
     "execution_count": 34,
     "metadata": {},
     "output_type": "execute_result"
    }
   ],
   "source": [
    "len(films_tmdb_imdb_sup5_2000_60_released['imdb_id'].unique())"
   ]
  },
  {
   "cell_type": "markdown",
   "metadata": {},
   "source": [
    "Je regarde si les original_title apparaissent plusieurs fois = OUI => mais c'est normal soit plusieurs films avec même titre soit plusieurs acteurs..."
   ]
  },
  {
   "cell_type": "code",
   "execution_count": null,
   "metadata": {},
   "outputs": [],
   "source": [
    "films_tmdb_imdb_sup5_2000_60_released['original_title'].value_counts()"
   ]
  },
  {
   "cell_type": "code",
   "execution_count": null,
   "metadata": {},
   "outputs": [],
   "source": [
    "films_tmdb_imdb_sup5_2000_60_released[films_tmdb_imdb_sup5_2000_60_released['original_title']==\"Charlie's Angels\"]"
   ]
  },
  {
   "cell_type": "code",
   "execution_count": null,
   "metadata": {},
   "outputs": [
    {
     "data": {
      "text/plain": [
       "12771"
      ]
     },
     "execution_count": 213,
     "metadata": {},
     "output_type": "execute_result"
    }
   ],
   "source": [
    "len(test_films['id_tmdb'].unique())"
   ]
  },
  {
   "cell_type": "code",
   "execution_count": null,
   "metadata": {},
   "outputs": [
    {
     "data": {
      "text/plain": [
       "12458"
      ]
     },
     "execution_count": 214,
     "metadata": {},
     "output_type": "execute_result"
    }
   ],
   "source": [
    "len(test_films['title'].unique())"
   ]
  },
  {
   "cell_type": "markdown",
   "metadata": {},
   "source": [
    "On regarde dans title_akas la région de la version du titre et on prend quand France   \n",
    "On met na=False pour ignorer les valeurs NaN sinon on a une erreur"
   ]
  },
  {
   "cell_type": "code",
   "execution_count": null,
   "metadata": {},
   "outputs": [],
   "source": [
    "# title_akas_FR = title_akas[title_akas['region'].str.contains('FR', na=False)]"
   ]
  },
  {
   "cell_type": "code",
   "execution_count": null,
   "metadata": {},
   "outputs": [],
   "source": [
    "# title_akas_FR.info()"
   ]
  },
  {
   "cell_type": "code",
   "execution_count": null,
   "metadata": {},
   "outputs": [],
   "source": [
    "# title_akas_FR_reduit = title_akas_FR[['titleId','title','region','language']]\n",
    "# title_akas_FR_reduit.info()"
   ]
  },
  {
   "cell_type": "code",
   "execution_count": null,
   "metadata": {},
   "outputs": [],
   "source": [
    "# films_tmdb_imdb_sup5_2000_60_released_regFR = pd.merge(films_tmdb_imdb_sup5_2000_60_released,\n",
    "#                                                        title_akas_FR_reduit,\n",
    "#                                                        how='inner',\n",
    "#                                                        left_on='imdb_id',\n",
    "#                                                        right_on='titleId')"
   ]
  },
  {
   "cell_type": "code",
   "execution_count": 36,
   "metadata": {},
   "outputs": [],
   "source": [
    "films_select = films_tmdb_imdb_sup5_2000_60_released[['adult','budget','genres','id_tmdb','imdb_id','original_language','original_title','original_title','overview','popularity','poster_path','production_countries','release_date' ,'revenue','runtime','spoken_languages','status','title' ,'vote_average','vote_count','directors','writers'                        \n",
    "                        \n",
    "                        ]]\n"
   ]
  },
  {
   "cell_type": "code",
   "execution_count": 37,
   "metadata": {},
   "outputs": [
    {
     "data": {
      "text/plain": [
       "233308"
      ]
     },
     "execution_count": 37,
     "metadata": {},
     "output_type": "execute_result"
    }
   ],
   "source": [
    "films_select.duplicated().sum()"
   ]
  },
  {
   "cell_type": "code",
   "execution_count": 40,
   "metadata": {},
   "outputs": [],
   "source": [
    "films_select = films_select.drop_duplicates()"
   ]
  },
  {
   "cell_type": "code",
   "execution_count": 41,
   "metadata": {},
   "outputs": [
    {
     "name": "stdout",
     "output_type": "stream",
     "text": [
      "<class 'pandas.core.frame.DataFrame'>\n",
      "Index: 12771 entries, 70 to 769907\n",
      "Data columns (total 22 columns):\n",
      " #   Column                Non-Null Count  Dtype         \n",
      "---  ------                --------------  -----         \n",
      " 0   adult                 12771 non-null  bool          \n",
      " 1   budget                12771 non-null  int64         \n",
      " 2   genres                12771 non-null  object        \n",
      " 3   id_tmdb               12771 non-null  int64         \n",
      " 4   imdb_id               12771 non-null  object        \n",
      " 5   original_language     12771 non-null  object        \n",
      " 6   original_title        12771 non-null  object        \n",
      " 7   original_title        12771 non-null  object        \n",
      " 8   overview              12771 non-null  object        \n",
      " 9   popularity            12771 non-null  float64       \n",
      " 10  poster_path           12771 non-null  object        \n",
      " 11  production_countries  12771 non-null  object        \n",
      " 12  release_date          12771 non-null  datetime64[ns]\n",
      " 13  revenue               12771 non-null  int64         \n",
      " 14  runtime               12771 non-null  int64         \n",
      " 15  spoken_languages      12771 non-null  object        \n",
      " 16  status                12771 non-null  object        \n",
      " 17  title                 12771 non-null  object        \n",
      " 18  vote_average          12771 non-null  float64       \n",
      " 19  vote_count            12771 non-null  int64         \n",
      " 20  directors             12771 non-null  object        \n",
      " 21  writers               12771 non-null  object        \n",
      "dtypes: bool(1), datetime64[ns](1), float64(2), int64(5), object(13)\n",
      "memory usage: 2.2+ MB\n"
     ]
    }
   ],
   "source": [
    "films_select.info()"
   ]
  },
  {
   "cell_type": "code",
   "execution_count": 42,
   "metadata": {},
   "outputs": [],
   "source": [
    "films_select.to_csv('./donnees/films_selectionnes.csv', sep=\"\\t\")"
   ]
  },
  {
   "cell_type": "code",
   "execution_count": 46,
   "metadata": {},
   "outputs": [],
   "source": [
    "films_tmdb_imdb_sup5_2000_60_released.to_csv('./donnees/films_tmdb_imdb_sup5_2000_60_released.csv', sep=\"\\t\")"
   ]
  }
 ],
 "metadata": {
  "kernelspec": {
   "display_name": "base",
   "language": "python",
   "name": "python3"
  },
  "language_info": {
   "codemirror_mode": {
    "name": "ipython",
    "version": 3
   },
   "file_extension": ".py",
   "mimetype": "text/x-python",
   "name": "python",
   "nbconvert_exporter": "python",
   "pygments_lexer": "ipython3",
   "version": "3.12.4"
  }
 },
 "nbformat": 4,
 "nbformat_minor": 2
}
