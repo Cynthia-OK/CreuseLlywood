{
 "cells": [
  {
   "cell_type": "markdown",
   "metadata": {},
   "source": [
    "## Nettoyage et filtres des données"
   ]
  },
  {
   "cell_type": "markdown",
   "metadata": {},
   "source": [
    "Ce fichier contient l'import des données,  les filtres et le nettoyage des données"
   ]
  },
  {
   "cell_type": "markdown",
   "metadata": {},
   "source": [
    "# Import pandas"
   ]
  },
  {
   "cell_type": "code",
   "execution_count": 4,
   "metadata": {},
   "outputs": [],
   "source": [
    "import pandas as pd"
   ]
  },
  {
   "cell_type": "markdown",
   "metadata": {},
   "source": [
    "# Import des données sources: tables entières"
   ]
  },
  {
   "cell_type": "code",
   "execution_count": 5,
   "metadata": {},
   "outputs": [],
   "source": [
    "tmdb = pd.read_csv(\"./donnees/TMDB/tmdb_full.csv\", low_memory=False)"
   ]
  },
  {
   "cell_type": "code",
   "execution_count": 6,
   "metadata": {},
   "outputs": [],
   "source": [
    "# title_akas = pd.read_csv(\"./donnees/IMDb/title.akas.tsv/title.akas.tsv\", sep=\"\\t\", low_memory=False)"
   ]
  },
  {
   "cell_type": "code",
   "execution_count": 7,
   "metadata": {},
   "outputs": [],
   "source": [
    "title_basics = pd.read_csv(\"./donnees/IMDb/title.basics.tsv/title.basics.tsv\", sep=\"\\t\", low_memory=False)"
   ]
  },
  {
   "cell_type": "code",
   "execution_count": 8,
   "metadata": {},
   "outputs": [
    {
     "ename": "KeyboardInterrupt",
     "evalue": "",
     "output_type": "error",
     "traceback": [
      "\u001b[1;31m---------------------------------------------------------------------------\u001b[0m",
      "\u001b[1;31mKeyboardInterrupt\u001b[0m                         Traceback (most recent call last)",
      "Cell \u001b[1;32mIn[8], line 1\u001b[0m\n\u001b[1;32m----> 1\u001b[0m title_crew \u001b[38;5;241m=\u001b[39m pd\u001b[38;5;241m.\u001b[39mread_csv(\u001b[38;5;124m\"\u001b[39m\u001b[38;5;124m./donnees/IMDb/title.crew.tsv/title.crew.tsv\u001b[39m\u001b[38;5;124m\"\u001b[39m, sep\u001b[38;5;241m=\u001b[39m\u001b[38;5;124m\"\u001b[39m\u001b[38;5;130;01m\\t\u001b[39;00m\u001b[38;5;124m\"\u001b[39m, low_memory\u001b[38;5;241m=\u001b[39m\u001b[38;5;28;01mFalse\u001b[39;00m)\n",
      "File \u001b[1;32mc:\\Users\\LOTUS\\anaconda3\\Lib\\site-packages\\pandas\\io\\parsers\\readers.py:1026\u001b[0m, in \u001b[0;36mread_csv\u001b[1;34m(filepath_or_buffer, sep, delimiter, header, names, index_col, usecols, dtype, engine, converters, true_values, false_values, skipinitialspace, skiprows, skipfooter, nrows, na_values, keep_default_na, na_filter, verbose, skip_blank_lines, parse_dates, infer_datetime_format, keep_date_col, date_parser, date_format, dayfirst, cache_dates, iterator, chunksize, compression, thousands, decimal, lineterminator, quotechar, quoting, doublequote, escapechar, comment, encoding, encoding_errors, dialect, on_bad_lines, delim_whitespace, low_memory, memory_map, float_precision, storage_options, dtype_backend)\u001b[0m\n\u001b[0;32m   1013\u001b[0m kwds_defaults \u001b[38;5;241m=\u001b[39m _refine_defaults_read(\n\u001b[0;32m   1014\u001b[0m     dialect,\n\u001b[0;32m   1015\u001b[0m     delimiter,\n\u001b[1;32m   (...)\u001b[0m\n\u001b[0;32m   1022\u001b[0m     dtype_backend\u001b[38;5;241m=\u001b[39mdtype_backend,\n\u001b[0;32m   1023\u001b[0m )\n\u001b[0;32m   1024\u001b[0m kwds\u001b[38;5;241m.\u001b[39mupdate(kwds_defaults)\n\u001b[1;32m-> 1026\u001b[0m \u001b[38;5;28;01mreturn\u001b[39;00m _read(filepath_or_buffer, kwds)\n",
      "File \u001b[1;32mc:\\Users\\LOTUS\\anaconda3\\Lib\\site-packages\\pandas\\io\\parsers\\readers.py:626\u001b[0m, in \u001b[0;36m_read\u001b[1;34m(filepath_or_buffer, kwds)\u001b[0m\n\u001b[0;32m    623\u001b[0m     \u001b[38;5;28;01mreturn\u001b[39;00m parser\n\u001b[0;32m    625\u001b[0m \u001b[38;5;28;01mwith\u001b[39;00m parser:\n\u001b[1;32m--> 626\u001b[0m     \u001b[38;5;28;01mreturn\u001b[39;00m parser\u001b[38;5;241m.\u001b[39mread(nrows)\n",
      "File \u001b[1;32mc:\\Users\\LOTUS\\anaconda3\\Lib\\site-packages\\pandas\\io\\parsers\\readers.py:1923\u001b[0m, in \u001b[0;36mTextFileReader.read\u001b[1;34m(self, nrows)\u001b[0m\n\u001b[0;32m   1916\u001b[0m nrows \u001b[38;5;241m=\u001b[39m validate_integer(\u001b[38;5;124m\"\u001b[39m\u001b[38;5;124mnrows\u001b[39m\u001b[38;5;124m\"\u001b[39m, nrows)\n\u001b[0;32m   1917\u001b[0m \u001b[38;5;28;01mtry\u001b[39;00m:\n\u001b[0;32m   1918\u001b[0m     \u001b[38;5;66;03m# error: \"ParserBase\" has no attribute \"read\"\u001b[39;00m\n\u001b[0;32m   1919\u001b[0m     (\n\u001b[0;32m   1920\u001b[0m         index,\n\u001b[0;32m   1921\u001b[0m         columns,\n\u001b[0;32m   1922\u001b[0m         col_dict,\n\u001b[1;32m-> 1923\u001b[0m     ) \u001b[38;5;241m=\u001b[39m \u001b[38;5;28mself\u001b[39m\u001b[38;5;241m.\u001b[39m_engine\u001b[38;5;241m.\u001b[39mread(  \u001b[38;5;66;03m# type: ignore[attr-defined]\u001b[39;00m\n\u001b[0;32m   1924\u001b[0m         nrows\n\u001b[0;32m   1925\u001b[0m     )\n\u001b[0;32m   1926\u001b[0m \u001b[38;5;28;01mexcept\u001b[39;00m \u001b[38;5;167;01mException\u001b[39;00m:\n\u001b[0;32m   1927\u001b[0m     \u001b[38;5;28mself\u001b[39m\u001b[38;5;241m.\u001b[39mclose()\n",
      "File \u001b[1;32mc:\\Users\\LOTUS\\anaconda3\\Lib\\site-packages\\pandas\\io\\parsers\\c_parser_wrapper.py:239\u001b[0m, in \u001b[0;36mCParserWrapper.read\u001b[1;34m(self, nrows)\u001b[0m\n\u001b[0;32m    236\u001b[0m         data \u001b[38;5;241m=\u001b[39m _concatenate_chunks(chunks)\n\u001b[0;32m    238\u001b[0m     \u001b[38;5;28;01melse\u001b[39;00m:\n\u001b[1;32m--> 239\u001b[0m         data \u001b[38;5;241m=\u001b[39m \u001b[38;5;28mself\u001b[39m\u001b[38;5;241m.\u001b[39m_reader\u001b[38;5;241m.\u001b[39mread(nrows)\n\u001b[0;32m    240\u001b[0m \u001b[38;5;28;01mexcept\u001b[39;00m \u001b[38;5;167;01mStopIteration\u001b[39;00m:\n\u001b[0;32m    241\u001b[0m     \u001b[38;5;28;01mif\u001b[39;00m \u001b[38;5;28mself\u001b[39m\u001b[38;5;241m.\u001b[39m_first_chunk:\n",
      "\u001b[1;31mKeyboardInterrupt\u001b[0m: "
     ]
    }
   ],
   "source": [
    "title_crew = pd.read_csv(\"./donnees/IMDb/title.crew.tsv/title.crew.tsv\", sep=\"\\t\", low_memory=False)"
   ]
  },
  {
   "cell_type": "code",
   "execution_count": 13,
   "metadata": {},
   "outputs": [],
   "source": [
    "# title_episode = pd.read_csv(\"./donnees/IMDb/title.episode.tsv/title.episode.tsv\", sep=\"\\t\", low_memory=False)"
   ]
  },
  {
   "cell_type": "code",
   "execution_count": 14,
   "metadata": {},
   "outputs": [],
   "source": [
    "title_principals = pd.read_csv(\"./donnees/IMDb/title.principals.tsv/title.principals.tsv\", sep=\"\\t\", low_memory=False)"
   ]
  },
  {
   "cell_type": "code",
   "execution_count": 15,
   "metadata": {},
   "outputs": [],
   "source": [
    "# title_ratings = pd.read_csv(\"./donnees/IMDb/title.ratings.tsv/title.ratings.tsv\", sep=\"\\t\", low_memory=False)"
   ]
  },
  {
   "cell_type": "code",
   "execution_count": 16,
   "metadata": {},
   "outputs": [],
   "source": [
    "name_basics = pd.read_csv(\"./donnees/IMDb/name.basics.tsv/name.basics.tsv\", sep=\"\\t\", low_memory=False)"
   ]
  },
  {
   "cell_type": "markdown",
   "metadata": {},
   "source": [
    "# Suite à l'étude de marché nous avons décidé de prendre les films français et les films d'action.\n",
    "\n",
    "* Pour les films français, cela ne correspond pas à un genre alors nous avons choisi les films produits en France : production countries = FR\n",
    "* Pour les films d'action, nous prenons les films qui contiennent Action dans les genres\n",
    "\n",
    "Nous sommes parties de la table tmdb qui rassemble le plus d'informations dont nous avons besoin"
   ]
  },
  {
   "cell_type": "code",
   "execution_count": 17,
   "metadata": {},
   "outputs": [],
   "source": [
    "tmdb_filtre = tmdb[(tmdb['genres'].str.contains('Action'))|(tmdb['production_countries'].str.contains('FR'))]"
   ]
  },
  {
   "cell_type": "code",
   "execution_count": 18,
   "metadata": {},
   "outputs": [
    {
     "name": "stdout",
     "output_type": "stream",
     "text": [
      "<class 'pandas.core.frame.DataFrame'>\n",
      "Index: 45441 entries, 2 to 309568\n",
      "Data columns (total 25 columns):\n",
      " #   Column                        Non-Null Count  Dtype  \n",
      "---  ------                        --------------  -----  \n",
      " 0   adult                         45441 non-null  bool   \n",
      " 1   backdrop_path                 28949 non-null  object \n",
      " 2   budget                        45441 non-null  int64  \n",
      " 3   genres                        45441 non-null  object \n",
      " 4   homepage                      5801 non-null   object \n",
      " 5   id                            45441 non-null  int64  \n",
      " 6   imdb_id                       45441 non-null  object \n",
      " 7   original_language             45441 non-null  object \n",
      " 8   original_title                45441 non-null  object \n",
      " 9   overview                      42712 non-null  object \n",
      " 10  popularity                    45441 non-null  float64\n",
      " 11  poster_path                   42182 non-null  object \n",
      " 12  production_countries          45441 non-null  object \n",
      " 13  release_date                  44826 non-null  object \n",
      " 14  revenue                       45441 non-null  int64  \n",
      " 15  runtime                       45441 non-null  int64  \n",
      " 16  spoken_languages              45441 non-null  object \n",
      " 17  status                        45441 non-null  object \n",
      " 18  tagline                       12783 non-null  object \n",
      " 19  title                         45441 non-null  object \n",
      " 20  video                         45441 non-null  bool   \n",
      " 21  vote_average                  45441 non-null  float64\n",
      " 22  vote_count                    45441 non-null  int64  \n",
      " 23  production_companies_name     45441 non-null  object \n",
      " 24  production_companies_country  21144 non-null  object \n",
      "dtypes: bool(2), float64(2), int64(5), object(16)\n",
      "memory usage: 8.4+ MB\n"
     ]
    }
   ],
   "source": [
    "tmdb_filtre.info()"
   ]
  },
  {
   "cell_type": "markdown",
   "metadata": {},
   "source": [
    "# Fusion avec d'autres tables"
   ]
  },
  {
   "cell_type": "markdown",
   "metadata": {},
   "source": [
    "Certaines informations dont nous avons besoin sont dans d'autres tables (title_crew, title_principals, names_basics). \n",
    "\n",
    "Nous allons donc fusionner notre table filtrée issues de tmdb avec ces tables"
   ]
  },
  {
   "cell_type": "markdown",
   "metadata": {},
   "source": [
    "## Fusion avec title_crew\n",
    "\n",
    "how = inner car on veut les films qui sont dans tmdb mais pour lesquels on a les directeurs et les writers qui sont dans title_crew"
   ]
  },
  {
   "cell_type": "code",
   "execution_count": 19,
   "metadata": {},
   "outputs": [],
   "source": [
    "table_films_select = pd.merge(tmdb_filtre, \n",
    "                              title_crew,\n",
    "                              how=\"inner\", \n",
    "                              left_on = \"imdb_id\",\n",
    "                              right_on = \"tconst\"\n",
    "                              )"
   ]
  },
  {
   "cell_type": "code",
   "execution_count": 20,
   "metadata": {},
   "outputs": [
    {
     "name": "stdout",
     "output_type": "stream",
     "text": [
      "<class 'pandas.core.frame.DataFrame'>\n",
      "RangeIndex: 45272 entries, 0 to 45271\n",
      "Data columns (total 28 columns):\n",
      " #   Column                        Non-Null Count  Dtype  \n",
      "---  ------                        --------------  -----  \n",
      " 0   adult                         45272 non-null  bool   \n",
      " 1   backdrop_path                 28891 non-null  object \n",
      " 2   budget                        45272 non-null  int64  \n",
      " 3   genres                        45272 non-null  object \n",
      " 4   homepage                      5773 non-null   object \n",
      " 5   id                            45272 non-null  int64  \n",
      " 6   imdb_id                       45272 non-null  object \n",
      " 7   original_language             45272 non-null  object \n",
      " 8   original_title                45272 non-null  object \n",
      " 9   overview                      42562 non-null  object \n",
      " 10  popularity                    45272 non-null  float64\n",
      " 11  poster_path                   42070 non-null  object \n",
      " 12  production_countries          45272 non-null  object \n",
      " 13  release_date                  44683 non-null  object \n",
      " 14  revenue                       45272 non-null  int64  \n",
      " 15  runtime                       45272 non-null  int64  \n",
      " 16  spoken_languages              45272 non-null  object \n",
      " 17  status                        45272 non-null  object \n",
      " 18  tagline                       12767 non-null  object \n",
      " 19  title                         45272 non-null  object \n",
      " 20  video                         45272 non-null  bool   \n",
      " 21  vote_average                  45272 non-null  float64\n",
      " 22  vote_count                    45272 non-null  int64  \n",
      " 23  production_companies_name     45272 non-null  object \n",
      " 24  production_companies_country  21063 non-null  object \n",
      " 25  tconst                        45272 non-null  object \n",
      " 26  directors                     45272 non-null  object \n",
      " 27  writers                       45272 non-null  object \n",
      "dtypes: bool(2), float64(2), int64(5), object(19)\n",
      "memory usage: 9.1+ MB\n"
     ]
    }
   ],
   "source": [
    "table_films_select.info()"
   ]
  },
  {
   "cell_type": "markdown",
   "metadata": {},
   "source": [
    "Nous avons décidé de ne pas garder les champs : 'backdrop_path','homepage','video','production_companies_name','production_companies_country'"
   ]
  },
  {
   "cell_type": "code",
   "execution_count": 21,
   "metadata": {},
   "outputs": [],
   "source": [
    "table_films_select = table_films_select.drop(['backdrop_path','homepage','video','production_companies_name','production_companies_country'],axis=1)"
   ]
  },
  {
   "cell_type": "markdown",
   "metadata": {},
   "source": [
    "## Fusion avec title_principals\n",
    "\n",
    "how = inner car on veut conserver les films qui sont dans notre sélection précédente et qui sont dans la table title_principals. L'objectif est de pouvoir récupérer les acteurs."
   ]
  },
  {
   "cell_type": "code",
   "execution_count": 22,
   "metadata": {},
   "outputs": [],
   "source": [
    "table_films_select = pd.merge(table_films_select, \n",
    "                              title_principals,\n",
    "                              how=\"inner\", \n",
    "                              left_on = \"tconst\",\n",
    "                              right_on = \"tconst\"\n",
    "                              )"
   ]
  },
  {
   "cell_type": "code",
   "execution_count": 23,
   "metadata": {},
   "outputs": [
    {
     "name": "stdout",
     "output_type": "stream",
     "text": [
      "<class 'pandas.core.frame.DataFrame'>\n",
      "RangeIndex: 770138 entries, 0 to 770137\n",
      "Data columns (total 28 columns):\n",
      " #   Column                Non-Null Count   Dtype  \n",
      "---  ------                --------------   -----  \n",
      " 0   adult                 770138 non-null  bool   \n",
      " 1   budget                770138 non-null  int64  \n",
      " 2   genres                770138 non-null  object \n",
      " 3   id                    770138 non-null  int64  \n",
      " 4   imdb_id               770138 non-null  object \n",
      " 5   original_language     770138 non-null  object \n",
      " 6   original_title        770138 non-null  object \n",
      " 7   overview              732333 non-null  object \n",
      " 8   popularity            770138 non-null  float64\n",
      " 9   poster_path           729572 non-null  object \n",
      " 10  production_countries  770138 non-null  object \n",
      " 11  release_date          762244 non-null  object \n",
      " 12  revenue               770138 non-null  int64  \n",
      " 13  runtime               770138 non-null  int64  \n",
      " 14  spoken_languages      770138 non-null  object \n",
      " 15  status                770138 non-null  object \n",
      " 16  tagline               244053 non-null  object \n",
      " 17  title                 770138 non-null  object \n",
      " 18  vote_average          770138 non-null  float64\n",
      " 19  vote_count            770138 non-null  int64  \n",
      " 20  tconst                770138 non-null  object \n",
      " 21  directors             770138 non-null  object \n",
      " 22  writers               770138 non-null  object \n",
      " 23  ordering              770138 non-null  int64  \n",
      " 24  nconst                770138 non-null  object \n",
      " 25  category              770138 non-null  object \n",
      " 26  job                   770138 non-null  object \n",
      " 27  characters            770138 non-null  object \n",
      "dtypes: bool(1), float64(2), int64(6), object(19)\n",
      "memory usage: 159.4+ MB\n"
     ]
    }
   ],
   "source": [
    "table_films_select.info()"
   ]
  },
  {
   "cell_type": "markdown",
   "metadata": {},
   "source": [
    "Nous avons décidé de ne pas garder les champs : 'ordering','job'"
   ]
  },
  {
   "cell_type": "code",
   "execution_count": 24,
   "metadata": {},
   "outputs": [],
   "source": [
    "table_films_select = table_films_select.drop(['ordering','job'],axis=1)"
   ]
  },
  {
   "cell_type": "markdown",
   "metadata": {},
   "source": [
    "## Fusion avec name_basics\n",
    "\n",
    "how = inner car on veut les films qui sont dans notre sélection précédente et dans la table name_basics. L'objectif est de pouvoir récupérer le nom des directeurs, auteurs, acteurs"
   ]
  },
  {
   "cell_type": "code",
   "execution_count": 25,
   "metadata": {},
   "outputs": [],
   "source": [
    "table_films_select = pd.merge(table_films_select, \n",
    "                              name_basics,\n",
    "                              how=\"inner\", \n",
    "                              left_on = \"nconst\",\n",
    "                              right_on = \"nconst\"\n",
    "                              )"
   ]
  },
  {
   "cell_type": "code",
   "execution_count": 26,
   "metadata": {},
   "outputs": [
    {
     "name": "stdout",
     "output_type": "stream",
     "text": [
      "<class 'pandas.core.frame.DataFrame'>\n",
      "RangeIndex: 770138 entries, 0 to 770137\n",
      "Data columns (total 31 columns):\n",
      " #   Column                Non-Null Count   Dtype  \n",
      "---  ------                --------------   -----  \n",
      " 0   adult                 770138 non-null  bool   \n",
      " 1   budget                770138 non-null  int64  \n",
      " 2   genres                770138 non-null  object \n",
      " 3   id                    770138 non-null  int64  \n",
      " 4   imdb_id               770138 non-null  object \n",
      " 5   original_language     770138 non-null  object \n",
      " 6   original_title        770138 non-null  object \n",
      " 7   overview              732333 non-null  object \n",
      " 8   popularity            770138 non-null  float64\n",
      " 9   poster_path           729572 non-null  object \n",
      " 10  production_countries  770138 non-null  object \n",
      " 11  release_date          762244 non-null  object \n",
      " 12  revenue               770138 non-null  int64  \n",
      " 13  runtime               770138 non-null  int64  \n",
      " 14  spoken_languages      770138 non-null  object \n",
      " 15  status                770138 non-null  object \n",
      " 16  tagline               244053 non-null  object \n",
      " 17  title                 770138 non-null  object \n",
      " 18  vote_average          770138 non-null  float64\n",
      " 19  vote_count            770138 non-null  int64  \n",
      " 20  tconst                770138 non-null  object \n",
      " 21  directors             770138 non-null  object \n",
      " 22  writers               770138 non-null  object \n",
      " 23  nconst                770138 non-null  object \n",
      " 24  category              770138 non-null  object \n",
      " 25  characters            770138 non-null  object \n",
      " 26  primaryName           770138 non-null  object \n",
      " 27  birthYear             770138 non-null  object \n",
      " 28  deathYear             770138 non-null  object \n",
      " 29  primaryProfession     770138 non-null  object \n",
      " 30  knownForTitles        770138 non-null  object \n",
      "dtypes: bool(1), float64(2), int64(5), object(23)\n",
      "memory usage: 177.0+ MB\n"
     ]
    }
   ],
   "source": [
    "table_films_select.info()"
   ]
  },
  {
   "cell_type": "markdown",
   "metadata": {},
   "source": [
    "Nous avons décidé de ne pas garder les champs : 'birthYear','deathYear','primaryProfession'"
   ]
  },
  {
   "cell_type": "code",
   "execution_count": 27,
   "metadata": {},
   "outputs": [],
   "source": [
    "table_films_select = table_films_select.drop(['birthYear','deathYear','primaryProfession'],axis=1)"
   ]
  },
  {
   "cell_type": "code",
   "execution_count": 28,
   "metadata": {},
   "outputs": [
    {
     "name": "stdout",
     "output_type": "stream",
     "text": [
      "<class 'pandas.core.frame.DataFrame'>\n",
      "RangeIndex: 770138 entries, 0 to 770137\n",
      "Data columns (total 28 columns):\n",
      " #   Column                Non-Null Count   Dtype  \n",
      "---  ------                --------------   -----  \n",
      " 0   adult                 770138 non-null  bool   \n",
      " 1   budget                770138 non-null  int64  \n",
      " 2   genres                770138 non-null  object \n",
      " 3   id                    770138 non-null  int64  \n",
      " 4   imdb_id               770138 non-null  object \n",
      " 5   original_language     770138 non-null  object \n",
      " 6   original_title        770138 non-null  object \n",
      " 7   overview              732333 non-null  object \n",
      " 8   popularity            770138 non-null  float64\n",
      " 9   poster_path           729572 non-null  object \n",
      " 10  production_countries  770138 non-null  object \n",
      " 11  release_date          762244 non-null  object \n",
      " 12  revenue               770138 non-null  int64  \n",
      " 13  runtime               770138 non-null  int64  \n",
      " 14  spoken_languages      770138 non-null  object \n",
      " 15  status                770138 non-null  object \n",
      " 16  tagline               244053 non-null  object \n",
      " 17  title                 770138 non-null  object \n",
      " 18  vote_average          770138 non-null  float64\n",
      " 19  vote_count            770138 non-null  int64  \n",
      " 20  tconst                770138 non-null  object \n",
      " 21  directors             770138 non-null  object \n",
      " 22  writers               770138 non-null  object \n",
      " 23  nconst                770138 non-null  object \n",
      " 24  category              770138 non-null  object \n",
      " 25  characters            770138 non-null  object \n",
      " 26  primaryName           770138 non-null  object \n",
      " 27  knownForTitles        770138 non-null  object \n",
      "dtypes: bool(1), float64(2), int64(5), object(20)\n",
      "memory usage: 159.4+ MB\n"
     ]
    }
   ],
   "source": [
    "table_films_select.info()"
   ]
  },
  {
   "cell_type": "markdown",
   "metadata": {},
   "source": [
    "## Fusion avec title_basics\n",
    "\n",
    "how = inner car on veut les films qui sont dans notre sélection précédente et dans la table title_basics. L'objectif est de pouvoir récupérer le type"
   ]
  },
  {
   "cell_type": "code",
   "execution_count": 29,
   "metadata": {},
   "outputs": [
    {
     "data": {
      "text/html": [
       "<div>\n",
       "<style scoped>\n",
       "    .dataframe tbody tr th:only-of-type {\n",
       "        vertical-align: middle;\n",
       "    }\n",
       "\n",
       "    .dataframe tbody tr th {\n",
       "        vertical-align: top;\n",
       "    }\n",
       "\n",
       "    .dataframe thead th {\n",
       "        text-align: right;\n",
       "    }\n",
       "</style>\n",
       "<table border=\"1\" class=\"dataframe\">\n",
       "  <thead>\n",
       "    <tr style=\"text-align: right;\">\n",
       "      <th></th>\n",
       "      <th>adult</th>\n",
       "      <th>budget</th>\n",
       "      <th>genres_x</th>\n",
       "      <th>id</th>\n",
       "      <th>imdb_id</th>\n",
       "      <th>original_language</th>\n",
       "      <th>original_title</th>\n",
       "      <th>overview</th>\n",
       "      <th>popularity</th>\n",
       "      <th>poster_path</th>\n",
       "      <th>...</th>\n",
       "      <th>knownForTitles</th>\n",
       "      <th>tconst_y</th>\n",
       "      <th>titleType</th>\n",
       "      <th>primaryTitle</th>\n",
       "      <th>originalTitle</th>\n",
       "      <th>isAdult</th>\n",
       "      <th>startYear</th>\n",
       "      <th>endYear</th>\n",
       "      <th>runtimeMinutes</th>\n",
       "      <th>genres_y</th>\n",
       "    </tr>\n",
       "  </thead>\n",
       "  <tbody>\n",
       "    <tr>\n",
       "      <th>0</th>\n",
       "      <td>False</td>\n",
       "      <td>0</td>\n",
       "      <td>['Drama', 'Romance']</td>\n",
       "      <td>8773</td>\n",
       "      <td>tt0055747</td>\n",
       "      <td>fr</td>\n",
       "      <td>L'Amour à vingt ans</td>\n",
       "      <td>Love at Twenty unites five directors from five...</td>\n",
       "      <td>3.770</td>\n",
       "      <td>/aup2QCYCsyEeQfpboXy0f4uj8aE.jpg</td>\n",
       "      <td>...</td>\n",
       "      <td>tt0053198,tt0099818,tt0060675,tt0065651</td>\n",
       "      <td>tt0055747</td>\n",
       "      <td>movie</td>\n",
       "      <td>Love at Twenty</td>\n",
       "      <td>L'amour à vingt ans</td>\n",
       "      <td>0</td>\n",
       "      <td>1962</td>\n",
       "      <td>\\N</td>\n",
       "      <td>110</td>\n",
       "      <td>Drama,Romance</td>\n",
       "    </tr>\n",
       "    <tr>\n",
       "      <th>1</th>\n",
       "      <td>False</td>\n",
       "      <td>0</td>\n",
       "      <td>['Drama', 'Romance']</td>\n",
       "      <td>8773</td>\n",
       "      <td>tt0055747</td>\n",
       "      <td>fr</td>\n",
       "      <td>L'Amour à vingt ans</td>\n",
       "      <td>Love at Twenty unites five directors from five...</td>\n",
       "      <td>3.770</td>\n",
       "      <td>/aup2QCYCsyEeQfpboXy0f4uj8aE.jpg</td>\n",
       "      <td>...</td>\n",
       "      <td>tt0072826,tt0078771,tt0082156,tt0074184</td>\n",
       "      <td>tt0055747</td>\n",
       "      <td>movie</td>\n",
       "      <td>Love at Twenty</td>\n",
       "      <td>L'amour à vingt ans</td>\n",
       "      <td>0</td>\n",
       "      <td>1962</td>\n",
       "      <td>\\N</td>\n",
       "      <td>110</td>\n",
       "      <td>Drama,Romance</td>\n",
       "    </tr>\n",
       "    <tr>\n",
       "      <th>2</th>\n",
       "      <td>False</td>\n",
       "      <td>0</td>\n",
       "      <td>['Drama', 'Romance']</td>\n",
       "      <td>8773</td>\n",
       "      <td>tt0055747</td>\n",
       "      <td>fr</td>\n",
       "      <td>L'Amour à vingt ans</td>\n",
       "      <td>Love at Twenty unites five directors from five...</td>\n",
       "      <td>3.770</td>\n",
       "      <td>/aup2QCYCsyEeQfpboXy0f4uj8aE.jpg</td>\n",
       "      <td>...</td>\n",
       "      <td>tt0053198,tt1180329,tt0055747,tt7371654</td>\n",
       "      <td>tt0055747</td>\n",
       "      <td>movie</td>\n",
       "      <td>Love at Twenty</td>\n",
       "      <td>L'amour à vingt ans</td>\n",
       "      <td>0</td>\n",
       "      <td>1962</td>\n",
       "      <td>\\N</td>\n",
       "      <td>110</td>\n",
       "      <td>Drama,Romance</td>\n",
       "    </tr>\n",
       "    <tr>\n",
       "      <th>3</th>\n",
       "      <td>False</td>\n",
       "      <td>0</td>\n",
       "      <td>['Drama', 'Romance']</td>\n",
       "      <td>8773</td>\n",
       "      <td>tt0055747</td>\n",
       "      <td>fr</td>\n",
       "      <td>L'Amour à vingt ans</td>\n",
       "      <td>Love at Twenty unites five directors from five...</td>\n",
       "      <td>3.770</td>\n",
       "      <td>/aup2QCYCsyEeQfpboXy0f4uj8aE.jpg</td>\n",
       "      <td>...</td>\n",
       "      <td>tt0167643,tt1180329,tt0055747,tt0122617</td>\n",
       "      <td>tt0055747</td>\n",
       "      <td>movie</td>\n",
       "      <td>Love at Twenty</td>\n",
       "      <td>L'amour à vingt ans</td>\n",
       "      <td>0</td>\n",
       "      <td>1962</td>\n",
       "      <td>\\N</td>\n",
       "      <td>110</td>\n",
       "      <td>Drama,Romance</td>\n",
       "    </tr>\n",
       "    <tr>\n",
       "      <th>4</th>\n",
       "      <td>False</td>\n",
       "      <td>0</td>\n",
       "      <td>['Drama', 'Romance']</td>\n",
       "      <td>8773</td>\n",
       "      <td>tt0055747</td>\n",
       "      <td>fr</td>\n",
       "      <td>L'Amour à vingt ans</td>\n",
       "      <td>Love at Twenty unites five directors from five...</td>\n",
       "      <td>3.770</td>\n",
       "      <td>/aup2QCYCsyEeQfpboXy0f4uj8aE.jpg</td>\n",
       "      <td>...</td>\n",
       "      <td>tt1369743,tt0275822,tt0268795,tt1063369</td>\n",
       "      <td>tt0055747</td>\n",
       "      <td>movie</td>\n",
       "      <td>Love at Twenty</td>\n",
       "      <td>L'amour à vingt ans</td>\n",
       "      <td>0</td>\n",
       "      <td>1962</td>\n",
       "      <td>\\N</td>\n",
       "      <td>110</td>\n",
       "      <td>Drama,Romance</td>\n",
       "    </tr>\n",
       "    <tr>\n",
       "      <th>...</th>\n",
       "      <td>...</td>\n",
       "      <td>...</td>\n",
       "      <td>...</td>\n",
       "      <td>...</td>\n",
       "      <td>...</td>\n",
       "      <td>...</td>\n",
       "      <td>...</td>\n",
       "      <td>...</td>\n",
       "      <td>...</td>\n",
       "      <td>...</td>\n",
       "      <td>...</td>\n",
       "      <td>...</td>\n",
       "      <td>...</td>\n",
       "      <td>...</td>\n",
       "      <td>...</td>\n",
       "      <td>...</td>\n",
       "      <td>...</td>\n",
       "      <td>...</td>\n",
       "      <td>...</td>\n",
       "      <td>...</td>\n",
       "      <td>...</td>\n",
       "    </tr>\n",
       "    <tr>\n",
       "      <th>770133</th>\n",
       "      <td>False</td>\n",
       "      <td>0</td>\n",
       "      <td>['Action', 'War']</td>\n",
       "      <td>918692</td>\n",
       "      <td>tt17352384</td>\n",
       "      <td>ru</td>\n",
       "      <td>Гранит</td>\n",
       "      <td>Mozambique requests from Russia is being helpe...</td>\n",
       "      <td>1.238</td>\n",
       "      <td>/nqMk6TIUwqSMRc6QPKYguNr9Ql0.jpg</td>\n",
       "      <td>...</td>\n",
       "      <td>tt15251228,tt15237914,tt16402682,tt17066696</td>\n",
       "      <td>tt17352384</td>\n",
       "      <td>movie</td>\n",
       "      <td>Granit</td>\n",
       "      <td>Granit</td>\n",
       "      <td>0</td>\n",
       "      <td>2021</td>\n",
       "      <td>\\N</td>\n",
       "      <td>100</td>\n",
       "      <td>Action</td>\n",
       "    </tr>\n",
       "    <tr>\n",
       "      <th>770134</th>\n",
       "      <td>False</td>\n",
       "      <td>0</td>\n",
       "      <td>['Action', 'War']</td>\n",
       "      <td>918692</td>\n",
       "      <td>tt17352384</td>\n",
       "      <td>ru</td>\n",
       "      <td>Гранит</td>\n",
       "      <td>Mozambique requests from Russia is being helpe...</td>\n",
       "      <td>1.238</td>\n",
       "      <td>/nqMk6TIUwqSMRc6QPKYguNr9Ql0.jpg</td>\n",
       "      <td>...</td>\n",
       "      <td>tt15237914,tt16402682,tt17066696,tt17352384</td>\n",
       "      <td>tt17352384</td>\n",
       "      <td>movie</td>\n",
       "      <td>Granit</td>\n",
       "      <td>Granit</td>\n",
       "      <td>0</td>\n",
       "      <td>2021</td>\n",
       "      <td>\\N</td>\n",
       "      <td>100</td>\n",
       "      <td>Action</td>\n",
       "    </tr>\n",
       "    <tr>\n",
       "      <th>770135</th>\n",
       "      <td>False</td>\n",
       "      <td>0</td>\n",
       "      <td>['Action', 'War']</td>\n",
       "      <td>918692</td>\n",
       "      <td>tt17352384</td>\n",
       "      <td>ru</td>\n",
       "      <td>Гранит</td>\n",
       "      <td>Mozambique requests from Russia is being helpe...</td>\n",
       "      <td>1.238</td>\n",
       "      <td>/nqMk6TIUwqSMRc6QPKYguNr9Ql0.jpg</td>\n",
       "      <td>...</td>\n",
       "      <td>tt4553722,tt11871384,tt15237914,tt16402682</td>\n",
       "      <td>tt17352384</td>\n",
       "      <td>movie</td>\n",
       "      <td>Granit</td>\n",
       "      <td>Granit</td>\n",
       "      <td>0</td>\n",
       "      <td>2021</td>\n",
       "      <td>\\N</td>\n",
       "      <td>100</td>\n",
       "      <td>Action</td>\n",
       "    </tr>\n",
       "    <tr>\n",
       "      <th>770136</th>\n",
       "      <td>False</td>\n",
       "      <td>0</td>\n",
       "      <td>['Action', 'War']</td>\n",
       "      <td>918692</td>\n",
       "      <td>tt17352384</td>\n",
       "      <td>ru</td>\n",
       "      <td>Гранит</td>\n",
       "      <td>Mozambique requests from Russia is being helpe...</td>\n",
       "      <td>1.238</td>\n",
       "      <td>/nqMk6TIUwqSMRc6QPKYguNr9Ql0.jpg</td>\n",
       "      <td>...</td>\n",
       "      <td>tt3725432,tt15237914,tt17352384,tt21191770</td>\n",
       "      <td>tt17352384</td>\n",
       "      <td>movie</td>\n",
       "      <td>Granit</td>\n",
       "      <td>Granit</td>\n",
       "      <td>0</td>\n",
       "      <td>2021</td>\n",
       "      <td>\\N</td>\n",
       "      <td>100</td>\n",
       "      <td>Action</td>\n",
       "    </tr>\n",
       "    <tr>\n",
       "      <th>770137</th>\n",
       "      <td>False</td>\n",
       "      <td>0</td>\n",
       "      <td>['Action', 'War']</td>\n",
       "      <td>918692</td>\n",
       "      <td>tt17352384</td>\n",
       "      <td>ru</td>\n",
       "      <td>Гранит</td>\n",
       "      <td>Mozambique requests from Russia is being helpe...</td>\n",
       "      <td>1.238</td>\n",
       "      <td>/nqMk6TIUwqSMRc6QPKYguNr9Ql0.jpg</td>\n",
       "      <td>...</td>\n",
       "      <td>tt15237914,tt16402682,tt17066696,tt17352384</td>\n",
       "      <td>tt17352384</td>\n",
       "      <td>movie</td>\n",
       "      <td>Granit</td>\n",
       "      <td>Granit</td>\n",
       "      <td>0</td>\n",
       "      <td>2021</td>\n",
       "      <td>\\N</td>\n",
       "      <td>100</td>\n",
       "      <td>Action</td>\n",
       "    </tr>\n",
       "  </tbody>\n",
       "</table>\n",
       "<p>770138 rows × 37 columns</p>\n",
       "</div>"
      ],
      "text/plain": [
       "        adult  budget              genres_x      id     imdb_id  \\\n",
       "0       False       0  ['Drama', 'Romance']    8773   tt0055747   \n",
       "1       False       0  ['Drama', 'Romance']    8773   tt0055747   \n",
       "2       False       0  ['Drama', 'Romance']    8773   tt0055747   \n",
       "3       False       0  ['Drama', 'Romance']    8773   tt0055747   \n",
       "4       False       0  ['Drama', 'Romance']    8773   tt0055747   \n",
       "...       ...     ...                   ...     ...         ...   \n",
       "770133  False       0     ['Action', 'War']  918692  tt17352384   \n",
       "770134  False       0     ['Action', 'War']  918692  tt17352384   \n",
       "770135  False       0     ['Action', 'War']  918692  tt17352384   \n",
       "770136  False       0     ['Action', 'War']  918692  tt17352384   \n",
       "770137  False       0     ['Action', 'War']  918692  tt17352384   \n",
       "\n",
       "       original_language       original_title  \\\n",
       "0                     fr  L'Amour à vingt ans   \n",
       "1                     fr  L'Amour à vingt ans   \n",
       "2                     fr  L'Amour à vingt ans   \n",
       "3                     fr  L'Amour à vingt ans   \n",
       "4                     fr  L'Amour à vingt ans   \n",
       "...                  ...                  ...   \n",
       "770133                ru               Гранит   \n",
       "770134                ru               Гранит   \n",
       "770135                ru               Гранит   \n",
       "770136                ru               Гранит   \n",
       "770137                ru               Гранит   \n",
       "\n",
       "                                                 overview  popularity  \\\n",
       "0       Love at Twenty unites five directors from five...       3.770   \n",
       "1       Love at Twenty unites five directors from five...       3.770   \n",
       "2       Love at Twenty unites five directors from five...       3.770   \n",
       "3       Love at Twenty unites five directors from five...       3.770   \n",
       "4       Love at Twenty unites five directors from five...       3.770   \n",
       "...                                                   ...         ...   \n",
       "770133  Mozambique requests from Russia is being helpe...       1.238   \n",
       "770134  Mozambique requests from Russia is being helpe...       1.238   \n",
       "770135  Mozambique requests from Russia is being helpe...       1.238   \n",
       "770136  Mozambique requests from Russia is being helpe...       1.238   \n",
       "770137  Mozambique requests from Russia is being helpe...       1.238   \n",
       "\n",
       "                             poster_path  ...  \\\n",
       "0       /aup2QCYCsyEeQfpboXy0f4uj8aE.jpg  ...   \n",
       "1       /aup2QCYCsyEeQfpboXy0f4uj8aE.jpg  ...   \n",
       "2       /aup2QCYCsyEeQfpboXy0f4uj8aE.jpg  ...   \n",
       "3       /aup2QCYCsyEeQfpboXy0f4uj8aE.jpg  ...   \n",
       "4       /aup2QCYCsyEeQfpboXy0f4uj8aE.jpg  ...   \n",
       "...                                  ...  ...   \n",
       "770133  /nqMk6TIUwqSMRc6QPKYguNr9Ql0.jpg  ...   \n",
       "770134  /nqMk6TIUwqSMRc6QPKYguNr9Ql0.jpg  ...   \n",
       "770135  /nqMk6TIUwqSMRc6QPKYguNr9Ql0.jpg  ...   \n",
       "770136  /nqMk6TIUwqSMRc6QPKYguNr9Ql0.jpg  ...   \n",
       "770137  /nqMk6TIUwqSMRc6QPKYguNr9Ql0.jpg  ...   \n",
       "\n",
       "                                     knownForTitles    tconst_y  titleType  \\\n",
       "0           tt0053198,tt0099818,tt0060675,tt0065651   tt0055747      movie   \n",
       "1           tt0072826,tt0078771,tt0082156,tt0074184   tt0055747      movie   \n",
       "2           tt0053198,tt1180329,tt0055747,tt7371654   tt0055747      movie   \n",
       "3           tt0167643,tt1180329,tt0055747,tt0122617   tt0055747      movie   \n",
       "4           tt1369743,tt0275822,tt0268795,tt1063369   tt0055747      movie   \n",
       "...                                             ...         ...        ...   \n",
       "770133  tt15251228,tt15237914,tt16402682,tt17066696  tt17352384      movie   \n",
       "770134  tt15237914,tt16402682,tt17066696,tt17352384  tt17352384      movie   \n",
       "770135   tt4553722,tt11871384,tt15237914,tt16402682  tt17352384      movie   \n",
       "770136   tt3725432,tt15237914,tt17352384,tt21191770  tt17352384      movie   \n",
       "770137  tt15237914,tt16402682,tt17066696,tt17352384  tt17352384      movie   \n",
       "\n",
       "          primaryTitle        originalTitle isAdult startYear endYear  \\\n",
       "0       Love at Twenty  L'amour à vingt ans       0      1962      \\N   \n",
       "1       Love at Twenty  L'amour à vingt ans       0      1962      \\N   \n",
       "2       Love at Twenty  L'amour à vingt ans       0      1962      \\N   \n",
       "3       Love at Twenty  L'amour à vingt ans       0      1962      \\N   \n",
       "4       Love at Twenty  L'amour à vingt ans       0      1962      \\N   \n",
       "...                ...                  ...     ...       ...     ...   \n",
       "770133          Granit               Granit       0      2021      \\N   \n",
       "770134          Granit               Granit       0      2021      \\N   \n",
       "770135          Granit               Granit       0      2021      \\N   \n",
       "770136          Granit               Granit       0      2021      \\N   \n",
       "770137          Granit               Granit       0      2021      \\N   \n",
       "\n",
       "        runtimeMinutes       genres_y  \n",
       "0                  110  Drama,Romance  \n",
       "1                  110  Drama,Romance  \n",
       "2                  110  Drama,Romance  \n",
       "3                  110  Drama,Romance  \n",
       "4                  110  Drama,Romance  \n",
       "...                ...            ...  \n",
       "770133             100         Action  \n",
       "770134             100         Action  \n",
       "770135             100         Action  \n",
       "770136             100         Action  \n",
       "770137             100         Action  \n",
       "\n",
       "[770138 rows x 37 columns]"
      ]
     },
     "execution_count": 29,
     "metadata": {},
     "output_type": "execute_result"
    }
   ],
   "source": [
    "table_films_select = pd.merge(table_films_select,\n",
    "                           title_basics,\n",
    "                           how='left',\n",
    "                           left_on='imdb_id',\n",
    "                           right_on = 'tconst')\n",
    "\n",
    "table_films_select"
   ]
  },
  {
   "cell_type": "markdown",
   "metadata": {},
   "source": [
    "On sélectionne les titres de type movie"
   ]
  },
  {
   "cell_type": "code",
   "execution_count": 30,
   "metadata": {},
   "outputs": [],
   "source": [
    "table_films_select = table_films_select[table_films_select['titleType'] == 'movie']"
   ]
  },
  {
   "cell_type": "code",
   "execution_count": 31,
   "metadata": {},
   "outputs": [
    {
     "data": {
      "text/plain": [
       "Index(['adult', 'budget', 'genres_x', 'id', 'imdb_id', 'original_language',\n",
       "       'original_title', 'overview', 'popularity', 'poster_path',\n",
       "       'production_countries', 'release_date', 'revenue', 'runtime',\n",
       "       'spoken_languages', 'status', 'tagline', 'title', 'vote_average',\n",
       "       'vote_count', 'tconst_x', 'directors', 'writers', 'nconst', 'category',\n",
       "       'characters', 'primaryName', 'knownForTitles', 'tconst_y', 'titleType',\n",
       "       'primaryTitle', 'originalTitle', 'isAdult', 'startYear', 'endYear',\n",
       "       'runtimeMinutes', 'genres_y'],\n",
       "      dtype='object')"
      ]
     },
     "execution_count": 31,
     "metadata": {},
     "output_type": "execute_result"
    }
   ],
   "source": [
    "table_films_select.columns"
   ]
  },
  {
   "cell_type": "code",
   "execution_count": 32,
   "metadata": {},
   "outputs": [],
   "source": [
    "table_films_select = table_films_select.drop(['tconst_y','primaryTitle', 'originalTitle', 'isAdult', 'startYear', 'endYear',\n",
    "       'runtimeMinutes', 'genres_y','titleType','tconst_x'], axis=1)"
   ]
  },
  {
   "cell_type": "code",
   "execution_count": 33,
   "metadata": {},
   "outputs": [],
   "source": [
    "table_films_select = table_films_select.rename(columns={'genres_x':'genres'})"
   ]
  },
  {
   "cell_type": "code",
   "execution_count": 34,
   "metadata": {},
   "outputs": [
    {
     "data": {
      "text/plain": [
       "Index(['adult', 'budget', 'genres', 'id', 'imdb_id', 'original_language',\n",
       "       'original_title', 'overview', 'popularity', 'poster_path',\n",
       "       'production_countries', 'release_date', 'revenue', 'runtime',\n",
       "       'spoken_languages', 'status', 'tagline', 'title', 'vote_average',\n",
       "       'vote_count', 'directors', 'writers', 'nconst', 'category',\n",
       "       'characters', 'primaryName', 'knownForTitles'],\n",
       "      dtype='object')"
      ]
     },
     "execution_count": 34,
     "metadata": {},
     "output_type": "execute_result"
    }
   ],
   "source": [
    "table_films_select.columns"
   ]
  },
  {
   "cell_type": "markdown",
   "metadata": {},
   "source": [
    "On regarde les genres, on voit qu'il existe TV Movies, on décide de les exclure"
   ]
  },
  {
   "cell_type": "code",
   "execution_count": 35,
   "metadata": {},
   "outputs": [],
   "source": [
    "table_films_select = table_films_select[table_films_select['genres'].str.contains('TV Movie')==False]"
   ]
  },
  {
   "cell_type": "code",
   "execution_count": 36,
   "metadata": {},
   "outputs": [
    {
     "name": "stdout",
     "output_type": "stream",
     "text": [
      "<class 'pandas.core.frame.DataFrame'>\n",
      "Index: 626807 entries, 0 to 770137\n",
      "Data columns (total 27 columns):\n",
      " #   Column                Non-Null Count   Dtype  \n",
      "---  ------                --------------   -----  \n",
      " 0   adult                 626807 non-null  bool   \n",
      " 1   budget                626807 non-null  int64  \n",
      " 2   genres                626807 non-null  object \n",
      " 3   id                    626807 non-null  int64  \n",
      " 4   imdb_id               626807 non-null  object \n",
      " 5   original_language     626807 non-null  object \n",
      " 6   original_title        626807 non-null  object \n",
      " 7   overview              605385 non-null  object \n",
      " 8   popularity            626807 non-null  float64\n",
      " 9   poster_path           601165 non-null  object \n",
      " 10  production_countries  626807 non-null  object \n",
      " 11  release_date          620602 non-null  object \n",
      " 12  revenue               626807 non-null  int64  \n",
      " 13  runtime               626807 non-null  int64  \n",
      " 14  spoken_languages      626807 non-null  object \n",
      " 15  status                626807 non-null  object \n",
      " 16  tagline               213175 non-null  object \n",
      " 17  title                 626807 non-null  object \n",
      " 18  vote_average          626807 non-null  float64\n",
      " 19  vote_count            626807 non-null  int64  \n",
      " 20  directors             626807 non-null  object \n",
      " 21  writers               626807 non-null  object \n",
      " 22  nconst                626807 non-null  object \n",
      " 23  category              626807 non-null  object \n",
      " 24  characters            626807 non-null  object \n",
      " 25  primaryName           626807 non-null  object \n",
      " 26  knownForTitles        626807 non-null  object \n",
      "dtypes: bool(1), float64(2), int64(5), object(19)\n",
      "memory usage: 129.7+ MB\n"
     ]
    }
   ],
   "source": [
    "table_films_select.info()"
   ]
  },
  {
   "cell_type": "markdown",
   "metadata": {},
   "source": [
    "# Export de la sélection pour ne pas avoir besoin de réimporter toutes les tables à chaque lancement"
   ]
  },
  {
   "cell_type": "code",
   "execution_count": 37,
   "metadata": {},
   "outputs": [],
   "source": [
    "table_films_select.to_csv('./donnees/table_films_select.csv', sep=\"\\t\", index=False)"
   ]
  },
  {
   "cell_type": "markdown",
   "metadata": {},
   "source": [
    "# On part du csv créé table_films_select.csv"
   ]
  },
  {
   "cell_type": "code",
   "execution_count": 38,
   "metadata": {},
   "outputs": [],
   "source": [
    "films_tmdb_imdb = pd.read_csv(\"./donnees/table_films_select.csv\", sep=\"\\t\", low_memory=False)"
   ]
  },
  {
   "cell_type": "markdown",
   "metadata": {},
   "source": [
    "## on regarde le contenu de notre table avec info et describe"
   ]
  },
  {
   "cell_type": "code",
   "execution_count": 39,
   "metadata": {},
   "outputs": [
    {
     "name": "stdout",
     "output_type": "stream",
     "text": [
      "<class 'pandas.core.frame.DataFrame'>\n",
      "RangeIndex: 626807 entries, 0 to 626806\n",
      "Data columns (total 27 columns):\n",
      " #   Column                Non-Null Count   Dtype  \n",
      "---  ------                --------------   -----  \n",
      " 0   adult                 626807 non-null  bool   \n",
      " 1   budget                626807 non-null  int64  \n",
      " 2   genres                626807 non-null  object \n",
      " 3   id                    626807 non-null  int64  \n",
      " 4   imdb_id               626807 non-null  object \n",
      " 5   original_language     626807 non-null  object \n",
      " 6   original_title        626807 non-null  object \n",
      " 7   overview              605385 non-null  object \n",
      " 8   popularity            626807 non-null  float64\n",
      " 9   poster_path           601165 non-null  object \n",
      " 10  production_countries  626807 non-null  object \n",
      " 11  release_date          620602 non-null  object \n",
      " 12  revenue               626807 non-null  int64  \n",
      " 13  runtime               626807 non-null  int64  \n",
      " 14  spoken_languages      626807 non-null  object \n",
      " 15  status                626807 non-null  object \n",
      " 16  tagline               213175 non-null  object \n",
      " 17  title                 626807 non-null  object \n",
      " 18  vote_average          626807 non-null  float64\n",
      " 19  vote_count            626807 non-null  int64  \n",
      " 20  directors             626807 non-null  object \n",
      " 21  writers               626807 non-null  object \n",
      " 22  nconst                626807 non-null  object \n",
      " 23  category              626807 non-null  object \n",
      " 24  characters            626807 non-null  object \n",
      " 25  primaryName           626807 non-null  object \n",
      " 26  knownForTitles        626807 non-null  object \n",
      "dtypes: bool(1), float64(2), int64(5), object(19)\n",
      "memory usage: 124.9+ MB\n"
     ]
    }
   ],
   "source": [
    "films_tmdb_imdb.info()"
   ]
  },
  {
   "cell_type": "code",
   "execution_count": 40,
   "metadata": {},
   "outputs": [
    {
     "data": {
      "text/html": [
       "<div>\n",
       "<style scoped>\n",
       "    .dataframe tbody tr th:only-of-type {\n",
       "        vertical-align: middle;\n",
       "    }\n",
       "\n",
       "    .dataframe tbody tr th {\n",
       "        vertical-align: top;\n",
       "    }\n",
       "\n",
       "    .dataframe thead th {\n",
       "        text-align: right;\n",
       "    }\n",
       "</style>\n",
       "<table border=\"1\" class=\"dataframe\">\n",
       "  <thead>\n",
       "    <tr style=\"text-align: right;\">\n",
       "      <th></th>\n",
       "      <th>budget</th>\n",
       "      <th>id</th>\n",
       "      <th>popularity</th>\n",
       "      <th>revenue</th>\n",
       "      <th>runtime</th>\n",
       "      <th>vote_average</th>\n",
       "      <th>vote_count</th>\n",
       "    </tr>\n",
       "  </thead>\n",
       "  <tbody>\n",
       "    <tr>\n",
       "      <th>count</th>\n",
       "      <td>6.268070e+05</td>\n",
       "      <td>6.268070e+05</td>\n",
       "      <td>626807.000000</td>\n",
       "      <td>6.268070e+05</td>\n",
       "      <td>626807.000000</td>\n",
       "      <td>626807.000000</td>\n",
       "      <td>626807.000000</td>\n",
       "    </tr>\n",
       "    <tr>\n",
       "      <th>mean</th>\n",
       "      <td>4.592321e+06</td>\n",
       "      <td>2.793050e+05</td>\n",
       "      <td>6.921072</td>\n",
       "      <td>1.154845e+07</td>\n",
       "      <td>96.242971</td>\n",
       "      <td>5.042463</td>\n",
       "      <td>268.881571</td>\n",
       "    </tr>\n",
       "    <tr>\n",
       "      <th>std</th>\n",
       "      <td>2.187168e+07</td>\n",
       "      <td>2.755366e+05</td>\n",
       "      <td>52.616728</td>\n",
       "      <td>7.973241e+07</td>\n",
       "      <td>62.993622</td>\n",
       "      <td>2.316040</td>\n",
       "      <td>1373.509270</td>\n",
       "    </tr>\n",
       "    <tr>\n",
       "      <th>min</th>\n",
       "      <td>0.000000e+00</td>\n",
       "      <td>6.000000e+00</td>\n",
       "      <td>0.600000</td>\n",
       "      <td>0.000000e+00</td>\n",
       "      <td>0.000000</td>\n",
       "      <td>0.000000</td>\n",
       "      <td>0.000000</td>\n",
       "    </tr>\n",
       "    <tr>\n",
       "      <th>25%</th>\n",
       "      <td>0.000000e+00</td>\n",
       "      <td>5.948400e+04</td>\n",
       "      <td>1.081000</td>\n",
       "      <td>0.000000e+00</td>\n",
       "      <td>87.000000</td>\n",
       "      <td>4.400000</td>\n",
       "      <td>2.000000</td>\n",
       "    </tr>\n",
       "    <tr>\n",
       "      <th>50%</th>\n",
       "      <td>0.000000e+00</td>\n",
       "      <td>1.820300e+05</td>\n",
       "      <td>2.020000</td>\n",
       "      <td>0.000000e+00</td>\n",
       "      <td>95.000000</td>\n",
       "      <td>5.700000</td>\n",
       "      <td>9.000000</td>\n",
       "    </tr>\n",
       "    <tr>\n",
       "      <th>75%</th>\n",
       "      <td>0.000000e+00</td>\n",
       "      <td>4.375430e+05</td>\n",
       "      <td>5.496000</td>\n",
       "      <td>0.000000e+00</td>\n",
       "      <td>109.000000</td>\n",
       "      <td>6.500000</td>\n",
       "      <td>50.000000</td>\n",
       "    </tr>\n",
       "    <tr>\n",
       "      <th>max</th>\n",
       "      <td>5.793304e+08</td>\n",
       "      <td>1.122061e+06</td>\n",
       "      <td>4665.438000</td>\n",
       "      <td>2.923706e+09</td>\n",
       "      <td>12480.000000</td>\n",
       "      <td>10.000000</td>\n",
       "      <td>33630.000000</td>\n",
       "    </tr>\n",
       "  </tbody>\n",
       "</table>\n",
       "</div>"
      ],
      "text/plain": [
       "             budget            id     popularity       revenue        runtime  \\\n",
       "count  6.268070e+05  6.268070e+05  626807.000000  6.268070e+05  626807.000000   \n",
       "mean   4.592321e+06  2.793050e+05       6.921072  1.154845e+07      96.242971   \n",
       "std    2.187168e+07  2.755366e+05      52.616728  7.973241e+07      62.993622   \n",
       "min    0.000000e+00  6.000000e+00       0.600000  0.000000e+00       0.000000   \n",
       "25%    0.000000e+00  5.948400e+04       1.081000  0.000000e+00      87.000000   \n",
       "50%    0.000000e+00  1.820300e+05       2.020000  0.000000e+00      95.000000   \n",
       "75%    0.000000e+00  4.375430e+05       5.496000  0.000000e+00     109.000000   \n",
       "max    5.793304e+08  1.122061e+06    4665.438000  2.923706e+09   12480.000000   \n",
       "\n",
       "        vote_average     vote_count  \n",
       "count  626807.000000  626807.000000  \n",
       "mean        5.042463     268.881571  \n",
       "std         2.316040    1373.509270  \n",
       "min         0.000000       0.000000  \n",
       "25%         4.400000       2.000000  \n",
       "50%         5.700000       9.000000  \n",
       "75%         6.500000      50.000000  \n",
       "max        10.000000   33630.000000  "
      ]
     },
     "execution_count": 40,
     "metadata": {},
     "output_type": "execute_result"
    }
   ],
   "source": [
    "films_tmdb_imdb.describe()"
   ]
  },
  {
   "cell_type": "markdown",
   "metadata": {},
   "source": [
    "La colonne release_date n'est pas au format date donc on la transforme"
   ]
  },
  {
   "cell_type": "code",
   "execution_count": 41,
   "metadata": {},
   "outputs": [],
   "source": [
    "films_tmdb_imdb['release_date']=pd.to_datetime(films_tmdb_imdb['release_date'])"
   ]
  },
  {
   "cell_type": "code",
   "execution_count": 42,
   "metadata": {},
   "outputs": [
    {
     "name": "stdout",
     "output_type": "stream",
     "text": [
      "<class 'pandas.core.frame.DataFrame'>\n",
      "RangeIndex: 626807 entries, 0 to 626806\n",
      "Data columns (total 27 columns):\n",
      " #   Column                Non-Null Count   Dtype         \n",
      "---  ------                --------------   -----         \n",
      " 0   adult                 626807 non-null  bool          \n",
      " 1   budget                626807 non-null  int64         \n",
      " 2   genres                626807 non-null  object        \n",
      " 3   id                    626807 non-null  int64         \n",
      " 4   imdb_id               626807 non-null  object        \n",
      " 5   original_language     626807 non-null  object        \n",
      " 6   original_title        626807 non-null  object        \n",
      " 7   overview              605385 non-null  object        \n",
      " 8   popularity            626807 non-null  float64       \n",
      " 9   poster_path           601165 non-null  object        \n",
      " 10  production_countries  626807 non-null  object        \n",
      " 11  release_date          620602 non-null  datetime64[ns]\n",
      " 12  revenue               626807 non-null  int64         \n",
      " 13  runtime               626807 non-null  int64         \n",
      " 14  spoken_languages      626807 non-null  object        \n",
      " 15  status                626807 non-null  object        \n",
      " 16  tagline               213175 non-null  object        \n",
      " 17  title                 626807 non-null  object        \n",
      " 18  vote_average          626807 non-null  float64       \n",
      " 19  vote_count            626807 non-null  int64         \n",
      " 20  directors             626807 non-null  object        \n",
      " 21  writers               626807 non-null  object        \n",
      " 22  nconst                626807 non-null  object        \n",
      " 23  category              626807 non-null  object        \n",
      " 24  characters            626807 non-null  object        \n",
      " 25  primaryName           626807 non-null  object        \n",
      " 26  knownForTitles        626807 non-null  object        \n",
      "dtypes: bool(1), datetime64[ns](1), float64(2), int64(5), object(18)\n",
      "memory usage: 124.9+ MB\n"
     ]
    }
   ],
   "source": [
    "films_tmdb_imdb.info()"
   ]
  },
  {
   "cell_type": "markdown",
   "metadata": {},
   "source": [
    "Il y a rarement l'info tagline donc on drop la colonne"
   ]
  },
  {
   "cell_type": "code",
   "execution_count": 43,
   "metadata": {},
   "outputs": [],
   "source": [
    "films_tmdb_imdb = films_tmdb_imdb.drop('tagline', axis=1)"
   ]
  },
  {
   "cell_type": "markdown",
   "metadata": {},
   "source": [
    "On ne garde que les films qui ont un résumé car on veut l'afficher"
   ]
  },
  {
   "cell_type": "code",
   "execution_count": 44,
   "metadata": {},
   "outputs": [],
   "source": [
    "films_tmdb_imdb.dropna(subset = ['overview'], inplace=True)"
   ]
  },
  {
   "cell_type": "code",
   "execution_count": 45,
   "metadata": {},
   "outputs": [
    {
     "name": "stdout",
     "output_type": "stream",
     "text": [
      "<class 'pandas.core.frame.DataFrame'>\n",
      "Index: 605385 entries, 0 to 626806\n",
      "Data columns (total 26 columns):\n",
      " #   Column                Non-Null Count   Dtype         \n",
      "---  ------                --------------   -----         \n",
      " 0   adult                 605385 non-null  bool          \n",
      " 1   budget                605385 non-null  int64         \n",
      " 2   genres                605385 non-null  object        \n",
      " 3   id                    605385 non-null  int64         \n",
      " 4   imdb_id               605385 non-null  object        \n",
      " 5   original_language     605385 non-null  object        \n",
      " 6   original_title        605385 non-null  object        \n",
      " 7   overview              605385 non-null  object        \n",
      " 8   popularity            605385 non-null  float64       \n",
      " 9   poster_path           582468 non-null  object        \n",
      " 10  production_countries  605385 non-null  object        \n",
      " 11  release_date          600263 non-null  datetime64[ns]\n",
      " 12  revenue               605385 non-null  int64         \n",
      " 13  runtime               605385 non-null  int64         \n",
      " 14  spoken_languages      605385 non-null  object        \n",
      " 15  status                605385 non-null  object        \n",
      " 16  title                 605385 non-null  object        \n",
      " 17  vote_average          605385 non-null  float64       \n",
      " 18  vote_count            605385 non-null  int64         \n",
      " 19  directors             605385 non-null  object        \n",
      " 20  writers               605385 non-null  object        \n",
      " 21  nconst                605385 non-null  object        \n",
      " 22  category              605385 non-null  object        \n",
      " 23  characters            605385 non-null  object        \n",
      " 24  primaryName           605385 non-null  object        \n",
      " 25  knownForTitles        605385 non-null  object        \n",
      "dtypes: bool(1), datetime64[ns](1), float64(2), int64(5), object(17)\n",
      "memory usage: 120.7+ MB\n"
     ]
    }
   ],
   "source": [
    "films_tmdb_imdb.info()"
   ]
  },
  {
   "cell_type": "markdown",
   "metadata": {},
   "source": [
    "On ne garde que les films qui ont un poster car on veut l'afficher"
   ]
  },
  {
   "cell_type": "code",
   "execution_count": 46,
   "metadata": {},
   "outputs": [],
   "source": [
    "films_tmdb_imdb.dropna(subset = ['poster_path'], inplace=True)"
   ]
  },
  {
   "cell_type": "code",
   "execution_count": 47,
   "metadata": {},
   "outputs": [
    {
     "name": "stdout",
     "output_type": "stream",
     "text": [
      "<class 'pandas.core.frame.DataFrame'>\n",
      "Index: 582468 entries, 0 to 626806\n",
      "Data columns (total 26 columns):\n",
      " #   Column                Non-Null Count   Dtype         \n",
      "---  ------                --------------   -----         \n",
      " 0   adult                 582468 non-null  bool          \n",
      " 1   budget                582468 non-null  int64         \n",
      " 2   genres                582468 non-null  object        \n",
      " 3   id                    582468 non-null  int64         \n",
      " 4   imdb_id               582468 non-null  object        \n",
      " 5   original_language     582468 non-null  object        \n",
      " 6   original_title        582468 non-null  object        \n",
      " 7   overview              582468 non-null  object        \n",
      " 8   popularity            582468 non-null  float64       \n",
      " 9   poster_path           582468 non-null  object        \n",
      " 10  production_countries  582468 non-null  object        \n",
      " 11  release_date          579897 non-null  datetime64[ns]\n",
      " 12  revenue               582468 non-null  int64         \n",
      " 13  runtime               582468 non-null  int64         \n",
      " 14  spoken_languages      582468 non-null  object        \n",
      " 15  status                582468 non-null  object        \n",
      " 16  title                 582468 non-null  object        \n",
      " 17  vote_average          582468 non-null  float64       \n",
      " 18  vote_count            582468 non-null  int64         \n",
      " 19  directors             582468 non-null  object        \n",
      " 20  writers               582468 non-null  object        \n",
      " 21  nconst                582468 non-null  object        \n",
      " 22  category              582468 non-null  object        \n",
      " 23  characters            582468 non-null  object        \n",
      " 24  primaryName           582468 non-null  object        \n",
      " 25  knownForTitles        582468 non-null  object        \n",
      "dtypes: bool(1), datetime64[ns](1), float64(2), int64(5), object(17)\n",
      "memory usage: 116.1+ MB\n"
     ]
    }
   ],
   "source": [
    "films_tmdb_imdb.info()"
   ]
  },
  {
   "cell_type": "markdown",
   "metadata": {},
   "source": [
    "On regarde quelles sont les colonnes restantes qui ont des valeurs nulles et on supprime les lignes ayant des valeurs nulles"
   ]
  },
  {
   "cell_type": "code",
   "execution_count": 48,
   "metadata": {},
   "outputs": [
    {
     "data": {
      "text/plain": [
       "adult                      0\n",
       "budget                     0\n",
       "genres                     0\n",
       "id                         0\n",
       "imdb_id                    0\n",
       "original_language          0\n",
       "original_title             0\n",
       "overview                   0\n",
       "popularity                 0\n",
       "poster_path                0\n",
       "production_countries       0\n",
       "release_date            2571\n",
       "revenue                    0\n",
       "runtime                    0\n",
       "spoken_languages           0\n",
       "status                     0\n",
       "title                      0\n",
       "vote_average               0\n",
       "vote_count                 0\n",
       "directors                  0\n",
       "writers                    0\n",
       "nconst                     0\n",
       "category                   0\n",
       "characters                 0\n",
       "primaryName                0\n",
       "knownForTitles             0\n",
       "dtype: int64"
      ]
     },
     "execution_count": 48,
     "metadata": {},
     "output_type": "execute_result"
    }
   ],
   "source": [
    "films_tmdb_imdb.isna().sum()"
   ]
  },
  {
   "cell_type": "code",
   "execution_count": 49,
   "metadata": {},
   "outputs": [],
   "source": [
    "films_tmdb_imdb.dropna(subset = ['release_date'], inplace=True)"
   ]
  },
  {
   "cell_type": "code",
   "execution_count": 50,
   "metadata": {},
   "outputs": [
    {
     "data": {
      "text/plain": [
       "adult                   0\n",
       "budget                  0\n",
       "genres                  0\n",
       "id                      0\n",
       "imdb_id                 0\n",
       "original_language       0\n",
       "original_title          0\n",
       "overview                0\n",
       "popularity              0\n",
       "poster_path             0\n",
       "production_countries    0\n",
       "release_date            0\n",
       "revenue                 0\n",
       "runtime                 0\n",
       "spoken_languages        0\n",
       "status                  0\n",
       "title                   0\n",
       "vote_average            0\n",
       "vote_count              0\n",
       "directors               0\n",
       "writers                 0\n",
       "nconst                  0\n",
       "category                0\n",
       "characters              0\n",
       "primaryName             0\n",
       "knownForTitles          0\n",
       "dtype: int64"
      ]
     },
     "execution_count": 50,
     "metadata": {},
     "output_type": "execute_result"
    }
   ],
   "source": [
    "films_tmdb_imdb.isna().sum()"
   ]
  },
  {
   "cell_type": "markdown",
   "metadata": {},
   "source": [
    "On renomme id  en id_tmdb pour clarifier"
   ]
  },
  {
   "cell_type": "code",
   "execution_count": 51,
   "metadata": {},
   "outputs": [],
   "source": [
    "films_tmdb_imdb = films_tmdb_imdb.rename(columns={'id':'id_tmdb'})"
   ]
  },
  {
   "cell_type": "markdown",
   "metadata": {},
   "source": [
    "on regarde le vote average et la popularity. Les 2 ne vont pas toujours dans le même sens, un film bien noté peut ne pas être populaire et inversement\n",
    "\n",
    "On choisit de faire un filtre sur le vote_average"
   ]
  },
  {
   "cell_type": "code",
   "execution_count": 52,
   "metadata": {},
   "outputs": [
    {
     "data": {
      "text/plain": [
       "vote_average  popularity\n",
       "0.000         0.600         17957\n",
       "              0.840          2846\n",
       "              1.400          2802\n",
       "5.000         0.600          2586\n",
       "6.000         0.600          2245\n",
       "                            ...  \n",
       "6.833         1.282             1\n",
       "6.045         0.686             1\n",
       "7.000         0.976             1\n",
       "4.000         0.728             1\n",
       "6.400         1.662             1\n",
       "Name: count, Length: 24613, dtype: int64"
      ]
     },
     "execution_count": 52,
     "metadata": {},
     "output_type": "execute_result"
    }
   ],
   "source": [
    "films_tmdb_imdb[['vote_average','popularity']].value_counts(sort=True)\n"
   ]
  },
  {
   "cell_type": "markdown",
   "metadata": {},
   "source": [
    "On cherche le max de vote_average : il est de 10 on en déduit que les films sont notés sur 10"
   ]
  },
  {
   "cell_type": "code",
   "execution_count": 53,
   "metadata": {},
   "outputs": [
    {
     "data": {
      "text/plain": [
       "10.0"
      ]
     },
     "execution_count": 53,
     "metadata": {},
     "output_type": "execute_result"
    }
   ],
   "source": [
    "films_tmdb_imdb['vote_average'].max()"
   ]
  },
  {
   "cell_type": "markdown",
   "metadata": {},
   "source": [
    "on prend les films avec vote_average supérieur à 5"
   ]
  },
  {
   "cell_type": "code",
   "execution_count": 54,
   "metadata": {},
   "outputs": [],
   "source": [
    "films_tmdb_imdb_sup5 = films_tmdb_imdb[films_tmdb_imdb['vote_average']>5]"
   ]
  },
  {
   "cell_type": "code",
   "execution_count": 55,
   "metadata": {},
   "outputs": [
    {
     "name": "stdout",
     "output_type": "stream",
     "text": [
      "<class 'pandas.core.frame.DataFrame'>\n",
      "Index: 390841 entries, 0 to 626664\n",
      "Data columns (total 26 columns):\n",
      " #   Column                Non-Null Count   Dtype         \n",
      "---  ------                --------------   -----         \n",
      " 0   adult                 390841 non-null  bool          \n",
      " 1   budget                390841 non-null  int64         \n",
      " 2   genres                390841 non-null  object        \n",
      " 3   id_tmdb               390841 non-null  int64         \n",
      " 4   imdb_id               390841 non-null  object        \n",
      " 5   original_language     390841 non-null  object        \n",
      " 6   original_title        390841 non-null  object        \n",
      " 7   overview              390841 non-null  object        \n",
      " 8   popularity            390841 non-null  float64       \n",
      " 9   poster_path           390841 non-null  object        \n",
      " 10  production_countries  390841 non-null  object        \n",
      " 11  release_date          390841 non-null  datetime64[ns]\n",
      " 12  revenue               390841 non-null  int64         \n",
      " 13  runtime               390841 non-null  int64         \n",
      " 14  spoken_languages      390841 non-null  object        \n",
      " 15  status                390841 non-null  object        \n",
      " 16  title                 390841 non-null  object        \n",
      " 17  vote_average          390841 non-null  float64       \n",
      " 18  vote_count            390841 non-null  int64         \n",
      " 19  directors             390841 non-null  object        \n",
      " 20  writers               390841 non-null  object        \n",
      " 21  nconst                390841 non-null  object        \n",
      " 22  category              390841 non-null  object        \n",
      " 23  characters            390841 non-null  object        \n",
      " 24  primaryName           390841 non-null  object        \n",
      " 25  knownForTitles        390841 non-null  object        \n",
      "dtypes: bool(1), datetime64[ns](1), float64(2), int64(5), object(17)\n",
      "memory usage: 77.9+ MB\n"
     ]
    }
   ],
   "source": [
    "films_tmdb_imdb_sup5.info()"
   ]
  },
  {
   "cell_type": "markdown",
   "metadata": {},
   "source": [
    "On filtre selon date de sortie pour cela on ajoute une colonne year qui contient l'année de sortie et on prend les films à partir de 2000."
   ]
  },
  {
   "cell_type": "code",
   "execution_count": 56,
   "metadata": {},
   "outputs": [],
   "source": [
    "from datetime import datetime"
   ]
  },
  {
   "cell_type": "markdown",
   "metadata": {},
   "source": [
    "on ajoute une colonne année"
   ]
  },
  {
   "cell_type": "code",
   "execution_count": 57,
   "metadata": {},
   "outputs": [
    {
     "name": "stderr",
     "output_type": "stream",
     "text": [
      "C:\\Users\\LOTUS\\AppData\\Local\\Temp\\ipykernel_15832\\2621779178.py:1: SettingWithCopyWarning: \n",
      "A value is trying to be set on a copy of a slice from a DataFrame.\n",
      "Try using .loc[row_indexer,col_indexer] = value instead\n",
      "\n",
      "See the caveats in the documentation: https://pandas.pydata.org/pandas-docs/stable/user_guide/indexing.html#returning-a-view-versus-a-copy\n",
      "  films_tmdb_imdb_sup5['year'] = films_tmdb_imdb_sup5['release_date'].dt.year\n"
     ]
    }
   ],
   "source": [
    "films_tmdb_imdb_sup5['year'] = films_tmdb_imdb_sup5['release_date'].dt.year"
   ]
  },
  {
   "cell_type": "code",
   "execution_count": 58,
   "metadata": {},
   "outputs": [
    {
     "name": "stdout",
     "output_type": "stream",
     "text": [
      "<class 'pandas.core.frame.DataFrame'>\n",
      "Index: 390841 entries, 0 to 626664\n",
      "Data columns (total 27 columns):\n",
      " #   Column                Non-Null Count   Dtype         \n",
      "---  ------                --------------   -----         \n",
      " 0   adult                 390841 non-null  bool          \n",
      " 1   budget                390841 non-null  int64         \n",
      " 2   genres                390841 non-null  object        \n",
      " 3   id_tmdb               390841 non-null  int64         \n",
      " 4   imdb_id               390841 non-null  object        \n",
      " 5   original_language     390841 non-null  object        \n",
      " 6   original_title        390841 non-null  object        \n",
      " 7   overview              390841 non-null  object        \n",
      " 8   popularity            390841 non-null  float64       \n",
      " 9   poster_path           390841 non-null  object        \n",
      " 10  production_countries  390841 non-null  object        \n",
      " 11  release_date          390841 non-null  datetime64[ns]\n",
      " 12  revenue               390841 non-null  int64         \n",
      " 13  runtime               390841 non-null  int64         \n",
      " 14  spoken_languages      390841 non-null  object        \n",
      " 15  status                390841 non-null  object        \n",
      " 16  title                 390841 non-null  object        \n",
      " 17  vote_average          390841 non-null  float64       \n",
      " 18  vote_count            390841 non-null  int64         \n",
      " 19  directors             390841 non-null  object        \n",
      " 20  writers               390841 non-null  object        \n",
      " 21  nconst                390841 non-null  object        \n",
      " 22  category              390841 non-null  object        \n",
      " 23  characters            390841 non-null  object        \n",
      " 24  primaryName           390841 non-null  object        \n",
      " 25  knownForTitles        390841 non-null  object        \n",
      " 26  year                  390841 non-null  int32         \n",
      "dtypes: bool(1), datetime64[ns](1), float64(2), int32(1), int64(5), object(17)\n",
      "memory usage: 79.4+ MB\n"
     ]
    }
   ],
   "source": [
    "films_tmdb_imdb_sup5.info()"
   ]
  },
  {
   "cell_type": "code",
   "execution_count": 59,
   "metadata": {},
   "outputs": [
    {
     "data": {
      "text/plain": [
       "year\n",
       "2017    14731\n",
       "2019    14032\n",
       "2022    13847\n",
       "2018    13655\n",
       "2016    12988\n",
       "        ...  \n",
       "1914       39\n",
       "1917       36\n",
       "1915       26\n",
       "1906       20\n",
       "1903        4\n",
       "Name: count, Length: 113, dtype: int64"
      ]
     },
     "execution_count": 59,
     "metadata": {},
     "output_type": "execute_result"
    }
   ],
   "source": [
    "films_tmdb_imdb_sup5['year'].value_counts(sort=True)"
   ]
  },
  {
   "cell_type": "markdown",
   "metadata": {},
   "source": [
    "On va garder les années après 2000 inclus"
   ]
  },
  {
   "cell_type": "code",
   "execution_count": 60,
   "metadata": {},
   "outputs": [],
   "source": [
    "films_tmdb_imdb_sup5_2000 = films_tmdb_imdb_sup5[films_tmdb_imdb_sup5['year']> 1999]"
   ]
  },
  {
   "cell_type": "code",
   "execution_count": 61,
   "metadata": {},
   "outputs": [
    {
     "name": "stdout",
     "output_type": "stream",
     "text": [
      "<class 'pandas.core.frame.DataFrame'>\n",
      "Index: 222022 entries, 70 to 626664\n",
      "Data columns (total 27 columns):\n",
      " #   Column                Non-Null Count   Dtype         \n",
      "---  ------                --------------   -----         \n",
      " 0   adult                 222022 non-null  bool          \n",
      " 1   budget                222022 non-null  int64         \n",
      " 2   genres                222022 non-null  object        \n",
      " 3   id_tmdb               222022 non-null  int64         \n",
      " 4   imdb_id               222022 non-null  object        \n",
      " 5   original_language     222022 non-null  object        \n",
      " 6   original_title        222022 non-null  object        \n",
      " 7   overview              222022 non-null  object        \n",
      " 8   popularity            222022 non-null  float64       \n",
      " 9   poster_path           222022 non-null  object        \n",
      " 10  production_countries  222022 non-null  object        \n",
      " 11  release_date          222022 non-null  datetime64[ns]\n",
      " 12  revenue               222022 non-null  int64         \n",
      " 13  runtime               222022 non-null  int64         \n",
      " 14  spoken_languages      222022 non-null  object        \n",
      " 15  status                222022 non-null  object        \n",
      " 16  title                 222022 non-null  object        \n",
      " 17  vote_average          222022 non-null  float64       \n",
      " 18  vote_count            222022 non-null  int64         \n",
      " 19  directors             222022 non-null  object        \n",
      " 20  writers               222022 non-null  object        \n",
      " 21  nconst                222022 non-null  object        \n",
      " 22  category              222022 non-null  object        \n",
      " 23  characters            222022 non-null  object        \n",
      " 24  primaryName           222022 non-null  object        \n",
      " 25  knownForTitles        222022 non-null  object        \n",
      " 26  year                  222022 non-null  int32         \n",
      "dtypes: bool(1), datetime64[ns](1), float64(2), int32(1), int64(5), object(17)\n",
      "memory usage: 45.1+ MB\n"
     ]
    }
   ],
   "source": [
    "films_tmdb_imdb_sup5_2000.info()"
   ]
  },
  {
   "cell_type": "markdown",
   "metadata": {},
   "source": [
    "Nombre de films sélectionnés jusqu'à cette étape: "
   ]
  },
  {
   "cell_type": "code",
   "execution_count": 62,
   "metadata": {},
   "outputs": [
    {
     "data": {
      "text/plain": [
       "11329"
      ]
     },
     "execution_count": 62,
     "metadata": {},
     "output_type": "execute_result"
    }
   ],
   "source": [
    "len(films_tmdb_imdb_sup5_2000['id_tmdb'].unique())"
   ]
  },
  {
   "cell_type": "markdown",
   "metadata": {},
   "source": [
    "On regarde la durée des films puis on choisit de ne conserver que les films de plus de 60 min. "
   ]
  },
  {
   "cell_type": "code",
   "execution_count": 63,
   "metadata": {},
   "outputs": [
    {
     "data": {
      "text/plain": [
       "[0,\n",
       " 2,\n",
       " 12,\n",
       " 40,\n",
       " 43,\n",
       " 44,\n",
       " 45,\n",
       " 46,\n",
       " 47,\n",
       " 48,\n",
       " 49,\n",
       " 50,\n",
       " 51,\n",
       " 52,\n",
       " 53,\n",
       " 54,\n",
       " 55,\n",
       " 56,\n",
       " 57,\n",
       " 58,\n",
       " 59,\n",
       " 60,\n",
       " 61,\n",
       " 62,\n",
       " 63,\n",
       " 64,\n",
       " 65,\n",
       " 66,\n",
       " 67,\n",
       " 68,\n",
       " 69,\n",
       " 70,\n",
       " 71,\n",
       " 72,\n",
       " 73,\n",
       " 74,\n",
       " 75,\n",
       " 76,\n",
       " 77,\n",
       " 78,\n",
       " 79,\n",
       " 80,\n",
       " 81,\n",
       " 82,\n",
       " 83,\n",
       " 84,\n",
       " 85,\n",
       " 86,\n",
       " 87,\n",
       " 88,\n",
       " 89,\n",
       " 90,\n",
       " 91,\n",
       " 92,\n",
       " 93,\n",
       " 94,\n",
       " 95,\n",
       " 96,\n",
       " 97,\n",
       " 98,\n",
       " 99,\n",
       " 100,\n",
       " 101,\n",
       " 102,\n",
       " 103,\n",
       " 104,\n",
       " 105,\n",
       " 106,\n",
       " 107,\n",
       " 108,\n",
       " 109,\n",
       " 110,\n",
       " 111,\n",
       " 112,\n",
       " 113,\n",
       " 114,\n",
       " 115,\n",
       " 116,\n",
       " 117,\n",
       " 118,\n",
       " 119,\n",
       " 120,\n",
       " 121,\n",
       " 122,\n",
       " 123,\n",
       " 124,\n",
       " 125,\n",
       " 126,\n",
       " 127,\n",
       " 128,\n",
       " 129,\n",
       " 130,\n",
       " 131,\n",
       " 132,\n",
       " 133,\n",
       " 134,\n",
       " 135,\n",
       " 136,\n",
       " 137,\n",
       " 138,\n",
       " 139,\n",
       " 140,\n",
       " 141,\n",
       " 142,\n",
       " 143,\n",
       " 144,\n",
       " 145,\n",
       " 146,\n",
       " 147,\n",
       " 148,\n",
       " 149,\n",
       " 150,\n",
       " 151,\n",
       " 152,\n",
       " 153,\n",
       " 154,\n",
       " 155,\n",
       " 156,\n",
       " 157,\n",
       " 158,\n",
       " 159,\n",
       " 160,\n",
       " 161,\n",
       " 162,\n",
       " 163,\n",
       " 164,\n",
       " 165,\n",
       " 166,\n",
       " 167,\n",
       " 168,\n",
       " 169,\n",
       " 170,\n",
       " 171,\n",
       " 172,\n",
       " 173,\n",
       " 174,\n",
       " 175,\n",
       " 176,\n",
       " 177,\n",
       " 178,\n",
       " 179,\n",
       " 180,\n",
       " 181,\n",
       " 182,\n",
       " 183,\n",
       " 184,\n",
       " 185,\n",
       " 186,\n",
       " 187,\n",
       " 188,\n",
       " 189,\n",
       " 190,\n",
       " 191,\n",
       " 192,\n",
       " 195,\n",
       " 196,\n",
       " 201,\n",
       " 205,\n",
       " 208,\n",
       " 210,\n",
       " 218,\n",
       " 219,\n",
       " 222,\n",
       " 225,\n",
       " 226,\n",
       " 227,\n",
       " 237,\n",
       " 242,\n",
       " 247,\n",
       " 255,\n",
       " 270,\n",
       " 278,\n",
       " 280,\n",
       " 296,\n",
       " 345,\n",
       " 495]"
      ]
     },
     "execution_count": 63,
     "metadata": {},
     "output_type": "execute_result"
    }
   ],
   "source": [
    "liste = list(films_tmdb_imdb_sup5_2000['runtime'].unique())\n",
    "liste.sort()\n",
    "liste"
   ]
  },
  {
   "cell_type": "markdown",
   "metadata": {},
   "source": [
    "on prend les films plus longs que 60 minutes"
   ]
  },
  {
   "cell_type": "code",
   "execution_count": 64,
   "metadata": {},
   "outputs": [],
   "source": [
    "films_tmdb_imdb_sup5_2000_60 = films_tmdb_imdb_sup5_2000[films_tmdb_imdb_sup5_2000['runtime']>=60]"
   ]
  },
  {
   "cell_type": "code",
   "execution_count": 65,
   "metadata": {},
   "outputs": [
    {
     "name": "stdout",
     "output_type": "stream",
     "text": [
      "<class 'pandas.core.frame.DataFrame'>\n",
      "Index: 216752 entries, 70 to 626664\n",
      "Data columns (total 27 columns):\n",
      " #   Column                Non-Null Count   Dtype         \n",
      "---  ------                --------------   -----         \n",
      " 0   adult                 216752 non-null  bool          \n",
      " 1   budget                216752 non-null  int64         \n",
      " 2   genres                216752 non-null  object        \n",
      " 3   id_tmdb               216752 non-null  int64         \n",
      " 4   imdb_id               216752 non-null  object        \n",
      " 5   original_language     216752 non-null  object        \n",
      " 6   original_title        216752 non-null  object        \n",
      " 7   overview              216752 non-null  object        \n",
      " 8   popularity            216752 non-null  float64       \n",
      " 9   poster_path           216752 non-null  object        \n",
      " 10  production_countries  216752 non-null  object        \n",
      " 11  release_date          216752 non-null  datetime64[ns]\n",
      " 12  revenue               216752 non-null  int64         \n",
      " 13  runtime               216752 non-null  int64         \n",
      " 14  spoken_languages      216752 non-null  object        \n",
      " 15  status                216752 non-null  object        \n",
      " 16  title                 216752 non-null  object        \n",
      " 17  vote_average          216752 non-null  float64       \n",
      " 18  vote_count            216752 non-null  int64         \n",
      " 19  directors             216752 non-null  object        \n",
      " 20  writers               216752 non-null  object        \n",
      " 21  nconst                216752 non-null  object        \n",
      " 22  category              216752 non-null  object        \n",
      " 23  characters            216752 non-null  object        \n",
      " 24  primaryName           216752 non-null  object        \n",
      " 25  knownForTitles        216752 non-null  object        \n",
      " 26  year                  216752 non-null  int32         \n",
      "dtypes: bool(1), datetime64[ns](1), float64(2), int32(1), int64(5), object(17)\n",
      "memory usage: 44.0+ MB\n"
     ]
    }
   ],
   "source": [
    "films_tmdb_imdb_sup5_2000_60.info()"
   ]
  },
  {
   "cell_type": "markdown",
   "metadata": {},
   "source": [
    "Nombre de films qui durent plus de 60 minutes inclues sortis à partir de 2000 et qui ont une note supérieure à 5."
   ]
  },
  {
   "cell_type": "code",
   "execution_count": 66,
   "metadata": {},
   "outputs": [
    {
     "data": {
      "text/plain": [
       "10994"
      ]
     },
     "execution_count": 66,
     "metadata": {},
     "output_type": "execute_result"
    }
   ],
   "source": [
    "len(films_tmdb_imdb_sup5_2000_60['id_tmdb'].unique())"
   ]
  },
  {
   "cell_type": "markdown",
   "metadata": {},
   "source": [
    "On regarde le statut des films on veut conserver Released et enlèver les films In Production => en fait il n'y a pas de films en production"
   ]
  },
  {
   "cell_type": "code",
   "execution_count": 85,
   "metadata": {},
   "outputs": [],
   "source": [
    "films_tmdb_imdb_sup5_2000_60_released = films_tmdb_imdb_sup5_2000_60[films_tmdb_imdb_sup5_2000_60['status'] == 'Released']"
   ]
  },
  {
   "cell_type": "code",
   "execution_count": 86,
   "metadata": {},
   "outputs": [
    {
     "name": "stdout",
     "output_type": "stream",
     "text": [
      "<class 'pandas.core.frame.DataFrame'>\n",
      "Index: 216752 entries, 70 to 626664\n",
      "Data columns (total 27 columns):\n",
      " #   Column                Non-Null Count   Dtype         \n",
      "---  ------                --------------   -----         \n",
      " 0   adult                 216752 non-null  bool          \n",
      " 1   budget                216752 non-null  int64         \n",
      " 2   genres                216752 non-null  object        \n",
      " 3   id_tmdb               216752 non-null  int64         \n",
      " 4   imdb_id               216752 non-null  object        \n",
      " 5   original_language     216752 non-null  object        \n",
      " 6   original_title        216752 non-null  object        \n",
      " 7   overview              216752 non-null  object        \n",
      " 8   popularity            216752 non-null  float64       \n",
      " 9   poster_path           216752 non-null  object        \n",
      " 10  production_countries  216752 non-null  object        \n",
      " 11  release_date          216752 non-null  datetime64[ns]\n",
      " 12  revenue               216752 non-null  int64         \n",
      " 13  runtime               216752 non-null  int64         \n",
      " 14  spoken_languages      216752 non-null  object        \n",
      " 15  status                216752 non-null  object        \n",
      " 16  title                 216752 non-null  object        \n",
      " 17  vote_average          216752 non-null  float64       \n",
      " 18  vote_count            216752 non-null  int64         \n",
      " 19  directors             216752 non-null  object        \n",
      " 20  writers               216752 non-null  object        \n",
      " 21  nconst                216752 non-null  object        \n",
      " 22  category              216752 non-null  object        \n",
      " 23  characters            216752 non-null  object        \n",
      " 24  primaryName           216752 non-null  object        \n",
      " 25  knownForTitles        216752 non-null  object        \n",
      " 26  year                  216752 non-null  int32         \n",
      "dtypes: bool(1), datetime64[ns](1), float64(2), int32(1), int64(5), object(17)\n",
      "memory usage: 44.0+ MB\n"
     ]
    }
   ],
   "source": [
    "films_tmdb_imdb_sup5_2000_60_released.info()"
   ]
  },
  {
   "cell_type": "code",
   "execution_count": 87,
   "metadata": {},
   "outputs": [
    {
     "data": {
      "text/plain": [
       "10907"
      ]
     },
     "execution_count": 87,
     "metadata": {},
     "output_type": "execute_result"
    }
   ],
   "source": [
    "len(films_tmdb_imdb_sup5_2000_60_released['original_title'].unique())\n"
   ]
  },
  {
   "cell_type": "code",
   "execution_count": 88,
   "metadata": {},
   "outputs": [
    {
     "data": {
      "text/plain": [
       "10994"
      ]
     },
     "execution_count": 88,
     "metadata": {},
     "output_type": "execute_result"
    }
   ],
   "source": [
    "len(films_tmdb_imdb_sup5_2000_60_released['imdb_id'].unique())"
   ]
  },
  {
   "cell_type": "markdown",
   "metadata": {},
   "source": [
    "Dans le DataFrame complet on ne garde que les lignes dont la category de personnes est actor, actress. Pour director et writer on les a déjà et le reste ne nous sera pas utile"
   ]
  },
  {
   "cell_type": "code",
   "execution_count": 89,
   "metadata": {},
   "outputs": [],
   "source": [
    "films_tmdb_imdb_sup5_2000_60_released_acteur = films_tmdb_imdb_sup5_2000_60_released[(films_tmdb_imdb_sup5_2000_60_released['category'] =='actor')|(films_tmdb_imdb_sup5_2000_60_released['category'] =='actress')]"
   ]
  },
  {
   "cell_type": "code",
   "execution_count": 90,
   "metadata": {},
   "outputs": [
    {
     "name": "stdout",
     "output_type": "stream",
     "text": [
      "<class 'pandas.core.frame.DataFrame'>\n",
      "Index: 104636 entries, 70 to 626655\n",
      "Data columns (total 27 columns):\n",
      " #   Column                Non-Null Count   Dtype         \n",
      "---  ------                --------------   -----         \n",
      " 0   adult                 104636 non-null  bool          \n",
      " 1   budget                104636 non-null  int64         \n",
      " 2   genres                104636 non-null  object        \n",
      " 3   id_tmdb               104636 non-null  int64         \n",
      " 4   imdb_id               104636 non-null  object        \n",
      " 5   original_language     104636 non-null  object        \n",
      " 6   original_title        104636 non-null  object        \n",
      " 7   overview              104636 non-null  object        \n",
      " 8   popularity            104636 non-null  float64       \n",
      " 9   poster_path           104636 non-null  object        \n",
      " 10  production_countries  104636 non-null  object        \n",
      " 11  release_date          104636 non-null  datetime64[ns]\n",
      " 12  revenue               104636 non-null  int64         \n",
      " 13  runtime               104636 non-null  int64         \n",
      " 14  spoken_languages      104636 non-null  object        \n",
      " 15  status                104636 non-null  object        \n",
      " 16  title                 104636 non-null  object        \n",
      " 17  vote_average          104636 non-null  float64       \n",
      " 18  vote_count            104636 non-null  int64         \n",
      " 19  directors             104636 non-null  object        \n",
      " 20  writers               104636 non-null  object        \n",
      " 21  nconst                104636 non-null  object        \n",
      " 22  category              104636 non-null  object        \n",
      " 23  characters            104636 non-null  object        \n",
      " 24  primaryName           104636 non-null  object        \n",
      " 25  knownForTitles        104636 non-null  object        \n",
      " 26  year                  104636 non-null  int32         \n",
      "dtypes: bool(1), datetime64[ns](1), float64(2), int32(1), int64(5), object(17)\n",
      "memory usage: 21.3+ MB\n"
     ]
    }
   ],
   "source": [
    "films_tmdb_imdb_sup5_2000_60_released_acteur.info()"
   ]
  },
  {
   "cell_type": "markdown",
   "metadata": {},
   "source": [
    "# On créer un DataFrame avec les informations ne consernant que les films (pas les acteurs ... pour avoir une ligne par film)\n",
    "\n",
    "on sélectionne les colonnes puis on enlève les doublons"
   ]
  },
  {
   "cell_type": "code",
   "execution_count": 96,
   "metadata": {},
   "outputs": [],
   "source": [
    "films_select = films_tmdb_imdb_sup5_2000_60_released_acteur[['adult','budget','genres','id_tmdb','imdb_id','original_language','original_title','original_title','overview','popularity','poster_path','production_countries','release_date' ,'revenue','runtime','spoken_languages','status','title' ,'vote_average','vote_count','directors','writers','year'                        \n",
    "                        \n",
    "                        ]]\n"
   ]
  },
  {
   "cell_type": "code",
   "execution_count": 97,
   "metadata": {},
   "outputs": [
    {
     "data": {
      "text/plain": [
       "94162"
      ]
     },
     "execution_count": 97,
     "metadata": {},
     "output_type": "execute_result"
    }
   ],
   "source": [
    "films_select.duplicated().sum()"
   ]
  },
  {
   "cell_type": "code",
   "execution_count": 98,
   "metadata": {},
   "outputs": [],
   "source": [
    "films_select = films_select.drop_duplicates()"
   ]
  },
  {
   "cell_type": "code",
   "execution_count": 99,
   "metadata": {},
   "outputs": [
    {
     "name": "stdout",
     "output_type": "stream",
     "text": [
      "<class 'pandas.core.frame.DataFrame'>\n",
      "Index: 10474 entries, 70 to 626653\n",
      "Data columns (total 23 columns):\n",
      " #   Column                Non-Null Count  Dtype         \n",
      "---  ------                --------------  -----         \n",
      " 0   adult                 10474 non-null  bool          \n",
      " 1   budget                10474 non-null  int64         \n",
      " 2   genres                10474 non-null  object        \n",
      " 3   id_tmdb               10474 non-null  int64         \n",
      " 4   imdb_id               10474 non-null  object        \n",
      " 5   original_language     10474 non-null  object        \n",
      " 6   original_title        10474 non-null  object        \n",
      " 7   original_title        10474 non-null  object        \n",
      " 8   overview              10474 non-null  object        \n",
      " 9   popularity            10474 non-null  float64       \n",
      " 10  poster_path           10474 non-null  object        \n",
      " 11  production_countries  10474 non-null  object        \n",
      " 12  release_date          10474 non-null  datetime64[ns]\n",
      " 13  revenue               10474 non-null  int64         \n",
      " 14  runtime               10474 non-null  int64         \n",
      " 15  spoken_languages      10474 non-null  object        \n",
      " 16  status                10474 non-null  object        \n",
      " 17  title                 10474 non-null  object        \n",
      " 18  vote_average          10474 non-null  float64       \n",
      " 19  vote_count            10474 non-null  int64         \n",
      " 20  directors             10474 non-null  object        \n",
      " 21  writers               10474 non-null  object        \n",
      " 22  year                  10474 non-null  int32         \n",
      "dtypes: bool(1), datetime64[ns](1), float64(2), int32(1), int64(5), object(13)\n",
      "memory usage: 1.8+ MB\n"
     ]
    }
   ],
   "source": [
    "films_select.info()"
   ]
  },
  {
   "cell_type": "markdown",
   "metadata": {},
   "source": [
    "On export les DataFrames de films sans les acteurs et avec les acteurs"
   ]
  },
  {
   "cell_type": "code",
   "execution_count": 100,
   "metadata": {},
   "outputs": [],
   "source": [
    "films_select.to_csv('./donnees/films_selectionnes.csv', sep=\"\\t\", index=False)"
   ]
  },
  {
   "cell_type": "code",
   "execution_count": 101,
   "metadata": {},
   "outputs": [],
   "source": [
    "films_tmdb_imdb_sup5_2000_60_released_acteur.to_csv('./donnees/films_selectionnes_avec_acteurs.csv', sep=\"\\t\", index=False)"
   ]
  },
  {
   "cell_type": "markdown",
   "metadata": {},
   "source": [
    "J'importe le csv des films que nous avons exportés = films_selectionnes"
   ]
  },
  {
   "cell_type": "code",
   "execution_count": 2,
   "metadata": {},
   "outputs": [
    {
     "ename": "NameError",
     "evalue": "name 'pd' is not defined",
     "output_type": "error",
     "traceback": [
      "\u001b[1;31m---------------------------------------------------------------------------\u001b[0m",
      "\u001b[1;31mNameError\u001b[0m                                 Traceback (most recent call last)",
      "Cell \u001b[1;32mIn[2], line 1\u001b[0m\n\u001b[1;32m----> 1\u001b[0m films \u001b[38;5;241m=\u001b[39m pd\u001b[38;5;241m.\u001b[39mread_csv(\u001b[38;5;124m\"\u001b[39m\u001b[38;5;124m./donnees/films_selectionnes.csv\u001b[39m\u001b[38;5;124m\"\u001b[39m, sep\u001b[38;5;241m=\u001b[39m\u001b[38;5;124m\"\u001b[39m\u001b[38;5;130;01m\\t\u001b[39;00m\u001b[38;5;124m\"\u001b[39m, low_memory\u001b[38;5;241m=\u001b[39m\u001b[38;5;28;01mFalse\u001b[39;00m)\n",
      "\u001b[1;31mNameError\u001b[0m: name 'pd' is not defined"
     ]
    }
   ],
   "source": [
    "films = pd.read_csv(\"./donnees/films_selectionnes.csv\", sep=\"\\t\", low_memory=False)"
   ]
  },
  {
   "cell_type": "code",
   "execution_count": 103,
   "metadata": {},
   "outputs": [
    {
     "name": "stdout",
     "output_type": "stream",
     "text": [
      "<class 'pandas.core.frame.DataFrame'>\n",
      "RangeIndex: 10474 entries, 0 to 10473\n",
      "Data columns (total 23 columns):\n",
      " #   Column                Non-Null Count  Dtype  \n",
      "---  ------                --------------  -----  \n",
      " 0   adult                 10474 non-null  bool   \n",
      " 1   budget                10474 non-null  int64  \n",
      " 2   genres                10474 non-null  object \n",
      " 3   id_tmdb               10474 non-null  int64  \n",
      " 4   imdb_id               10474 non-null  object \n",
      " 5   original_language     10474 non-null  object \n",
      " 6   original_title        10474 non-null  object \n",
      " 7   original_title.1      10474 non-null  object \n",
      " 8   overview              10474 non-null  object \n",
      " 9   popularity            10474 non-null  float64\n",
      " 10  poster_path           10474 non-null  object \n",
      " 11  production_countries  10474 non-null  object \n",
      " 12  release_date          10474 non-null  object \n",
      " 13  revenue               10474 non-null  int64  \n",
      " 14  runtime               10474 non-null  int64  \n",
      " 15  spoken_languages      10474 non-null  object \n",
      " 16  status                10474 non-null  object \n",
      " 17  title                 10474 non-null  object \n",
      " 18  vote_average          10474 non-null  float64\n",
      " 19  vote_count            10474 non-null  int64  \n",
      " 20  directors             10474 non-null  object \n",
      " 21  writers               10474 non-null  object \n",
      " 22  year                  10474 non-null  int64  \n",
      "dtypes: bool(1), float64(2), int64(6), object(14)\n",
      "memory usage: 1.8+ MB\n"
     ]
    }
   ],
   "source": [
    "films.info()"
   ]
  },
  {
   "cell_type": "markdown",
   "metadata": {},
   "source": [
    "J'importe le fichier contenant les films et les acteurs"
   ]
  },
  {
   "cell_type": "code",
   "execution_count": 104,
   "metadata": {},
   "outputs": [],
   "source": [
    "films_acteurs = pd.read_csv('./donnees/films_selectionnes_avec_acteurs.csv', sep=\"\\t\")"
   ]
  },
  {
   "cell_type": "markdown",
   "metadata": {},
   "source": [
    "On ajoute crée un dataframe avec la liste des acteurs par film et on ajoute la liste des acteurs au dataframe films"
   ]
  },
  {
   "cell_type": "code",
   "execution_count": 105,
   "metadata": {},
   "outputs": [
    {
     "data": {
      "text/html": [
       "<div>\n",
       "<style scoped>\n",
       "    .dataframe tbody tr th:only-of-type {\n",
       "        vertical-align: middle;\n",
       "    }\n",
       "\n",
       "    .dataframe tbody tr th {\n",
       "        vertical-align: top;\n",
       "    }\n",
       "\n",
       "    .dataframe thead th {\n",
       "        text-align: right;\n",
       "    }\n",
       "</style>\n",
       "<table border=\"1\" class=\"dataframe\">\n",
       "  <thead>\n",
       "    <tr style=\"text-align: right;\">\n",
       "      <th></th>\n",
       "      <th>id_tmdb</th>\n",
       "      <th>liste_acteurs</th>\n",
       "    </tr>\n",
       "  </thead>\n",
       "  <tbody>\n",
       "    <tr>\n",
       "      <th>0</th>\n",
       "      <td>16</td>\n",
       "      <td>[Björk, Catherine Deneuve, David Morse, Peter ...</td>\n",
       "    </tr>\n",
       "    <tr>\n",
       "      <th>1</th>\n",
       "      <td>22</td>\n",
       "      <td>[Johnny Depp, Geoffrey Rush, Orlando Bloom, Ke...</td>\n",
       "    </tr>\n",
       "    <tr>\n",
       "      <th>2</th>\n",
       "      <td>24</td>\n",
       "      <td>[Uma Thurman, David Carradine, Daryl Hannah, M...</td>\n",
       "    </tr>\n",
       "    <tr>\n",
       "      <th>3</th>\n",
       "      <td>58</td>\n",
       "      <td>[Johnny Depp, Orlando Bloom, Keira Knightley, ...</td>\n",
       "    </tr>\n",
       "    <tr>\n",
       "      <th>4</th>\n",
       "      <td>67</td>\n",
       "      <td>[Kais Nashif, Ali Suliman, Lubna Azabal, Hamza...</td>\n",
       "    </tr>\n",
       "    <tr>\n",
       "      <th>...</th>\n",
       "      <td>...</td>\n",
       "      <td>...</td>\n",
       "    </tr>\n",
       "    <tr>\n",
       "      <th>10469</th>\n",
       "      <td>214142</td>\n",
       "      <td>[Ralph Amoussou, Ralph Amoussou, Marème Demba ...</td>\n",
       "    </tr>\n",
       "    <tr>\n",
       "      <th>10470</th>\n",
       "      <td>215034</td>\n",
       "      <td>[Chedly Arfaoui, Tawfik Bahri, Lasaad Ben Abda...</td>\n",
       "    </tr>\n",
       "    <tr>\n",
       "      <th>10471</th>\n",
       "      <td>219173</td>\n",
       "      <td>[Erica Rivas, Nicasio Galán, Zenón Galán, Rubé...</td>\n",
       "    </tr>\n",
       "    <tr>\n",
       "      <th>10472</th>\n",
       "      <td>222409</td>\n",
       "      <td>[Nicky Wright, Renny Holder, Zero Murray, Dave...</td>\n",
       "    </tr>\n",
       "    <tr>\n",
       "      <th>10473</th>\n",
       "      <td>231003</td>\n",
       "      <td>[Maurice Ripke, Julian Guevara, Robert Stewart]</td>\n",
       "    </tr>\n",
       "  </tbody>\n",
       "</table>\n",
       "<p>10474 rows × 2 columns</p>\n",
       "</div>"
      ],
      "text/plain": [
       "      id_tmdb                                      liste_acteurs\n",
       "0          16  [Björk, Catherine Deneuve, David Morse, Peter ...\n",
       "1          22  [Johnny Depp, Geoffrey Rush, Orlando Bloom, Ke...\n",
       "2          24  [Uma Thurman, David Carradine, Daryl Hannah, M...\n",
       "3          58  [Johnny Depp, Orlando Bloom, Keira Knightley, ...\n",
       "4          67  [Kais Nashif, Ali Suliman, Lubna Azabal, Hamza...\n",
       "...       ...                                                ...\n",
       "10469  214142  [Ralph Amoussou, Ralph Amoussou, Marème Demba ...\n",
       "10470  215034  [Chedly Arfaoui, Tawfik Bahri, Lasaad Ben Abda...\n",
       "10471  219173  [Erica Rivas, Nicasio Galán, Zenón Galán, Rubé...\n",
       "10472  222409  [Nicky Wright, Renny Holder, Zero Murray, Dave...\n",
       "10473  231003    [Maurice Ripke, Julian Guevara, Robert Stewart]\n",
       "\n",
       "[10474 rows x 2 columns]"
      ]
     },
     "execution_count": 105,
     "metadata": {},
     "output_type": "execute_result"
    }
   ],
   "source": [
    "df_films_liste_acteurs=pd.DataFrame(columns=['id_tmdb','liste_acteurs'])\n",
    "\n",
    "for i in films_acteurs['id_tmdb'].unique():\n",
    "  liste_acteurs = films_acteurs.loc[films_acteurs['id_tmdb'] == i, 'primaryName'].tolist()\n",
    "  # print(i)\n",
    "  if i not in df_films_liste_acteurs['id_tmdb']:\n",
    "    new_row = pd.DataFrame([{'id_tmdb': i, 'liste_acteurs': liste_acteurs}])\n",
    "    df_films_liste_acteurs = pd.concat([df_films_liste_acteurs, new_row], ignore_index=True)\n",
    "df_films_liste_acteurs"
   ]
  },
  {
   "cell_type": "code",
   "execution_count": 109,
   "metadata": {},
   "outputs": [],
   "source": [
    "films = pd.merge(films,\n",
    "                 df_films_liste_acteurs,\n",
    "                 how= 'inner', \n",
    "                 on = 'id_tmdb')"
   ]
  },
  {
   "cell_type": "code",
   "execution_count": 119,
   "metadata": {},
   "outputs": [
    {
     "data": {
      "text/html": [
       "<div>\n",
       "<style scoped>\n",
       "    .dataframe tbody tr th:only-of-type {\n",
       "        vertical-align: middle;\n",
       "    }\n",
       "\n",
       "    .dataframe tbody tr th {\n",
       "        vertical-align: top;\n",
       "    }\n",
       "\n",
       "    .dataframe thead th {\n",
       "        text-align: right;\n",
       "    }\n",
       "</style>\n",
       "<table border=\"1\" class=\"dataframe\">\n",
       "  <thead>\n",
       "    <tr style=\"text-align: right;\">\n",
       "      <th></th>\n",
       "      <th>adult</th>\n",
       "      <th>budget</th>\n",
       "      <th>genres</th>\n",
       "      <th>id_tmdb</th>\n",
       "      <th>imdb_id</th>\n",
       "      <th>original_language</th>\n",
       "      <th>original_title</th>\n",
       "      <th>original_title.1</th>\n",
       "      <th>overview</th>\n",
       "      <th>popularity</th>\n",
       "      <th>...</th>\n",
       "      <th>runtime</th>\n",
       "      <th>spoken_languages</th>\n",
       "      <th>status</th>\n",
       "      <th>title</th>\n",
       "      <th>vote_average</th>\n",
       "      <th>vote_count</th>\n",
       "      <th>directors</th>\n",
       "      <th>writers</th>\n",
       "      <th>year</th>\n",
       "      <th>liste_acteurs</th>\n",
       "    </tr>\n",
       "  </thead>\n",
       "  <tbody>\n",
       "    <tr>\n",
       "      <th>0</th>\n",
       "      <td>False</td>\n",
       "      <td>12800000</td>\n",
       "      <td>['Drama', 'Crime']</td>\n",
       "      <td>16</td>\n",
       "      <td>tt0168629</td>\n",
       "      <td>en</td>\n",
       "      <td>Dancer in the Dark</td>\n",
       "      <td>Dancer in the Dark</td>\n",
       "      <td>Selma, a Czech immigrant on the verge of blind...</td>\n",
       "      <td>13.781</td>\n",
       "      <td>...</td>\n",
       "      <td>141</td>\n",
       "      <td>['en']</td>\n",
       "      <td>Released</td>\n",
       "      <td>Dancer in the Dark</td>\n",
       "      <td>7.881</td>\n",
       "      <td>1555</td>\n",
       "      <td>nm0001885</td>\n",
       "      <td>nm0001885,nm0797604</td>\n",
       "      <td>2000</td>\n",
       "      <td>[Björk, Catherine Deneuve, David Morse, Peter ...</td>\n",
       "    </tr>\n",
       "    <tr>\n",
       "      <th>1</th>\n",
       "      <td>False</td>\n",
       "      <td>140000000</td>\n",
       "      <td>['Adventure', 'Fantasy', 'Action']</td>\n",
       "      <td>22</td>\n",
       "      <td>tt0325980</td>\n",
       "      <td>en</td>\n",
       "      <td>Pirates of the Caribbean: The Curse of the Bla...</td>\n",
       "      <td>Pirates of the Caribbean: The Curse of the Bla...</td>\n",
       "      <td>Jack Sparrow, a freewheeling 18th-century pira...</td>\n",
       "      <td>88.516</td>\n",
       "      <td>...</td>\n",
       "      <td>143</td>\n",
       "      <td>['en']</td>\n",
       "      <td>Released</td>\n",
       "      <td>Pirates of the Caribbean: The Curse of the Bla...</td>\n",
       "      <td>7.800</td>\n",
       "      <td>18710</td>\n",
       "      <td>nm0893659</td>\n",
       "      <td>nm0254645,nm0744429,nm0064181,nm0938684</td>\n",
       "      <td>2003</td>\n",
       "      <td>[Johnny Depp, Geoffrey Rush, Orlando Bloom, Ke...</td>\n",
       "    </tr>\n",
       "    <tr>\n",
       "      <th>2</th>\n",
       "      <td>False</td>\n",
       "      <td>30000000</td>\n",
       "      <td>['Action', 'Crime']</td>\n",
       "      <td>24</td>\n",
       "      <td>tt0266697</td>\n",
       "      <td>en</td>\n",
       "      <td>Kill Bill: Vol. 1</td>\n",
       "      <td>Kill Bill: Vol. 1</td>\n",
       "      <td>An assassin is shot by her ruthless employer, ...</td>\n",
       "      <td>31.556</td>\n",
       "      <td>...</td>\n",
       "      <td>111</td>\n",
       "      <td>['en', 'ja', 'fr']</td>\n",
       "      <td>Released</td>\n",
       "      <td>Kill Bill: Vol. 1</td>\n",
       "      <td>7.970</td>\n",
       "      <td>15748</td>\n",
       "      <td>nm0000233</td>\n",
       "      <td>nm0000233,nm0000235</td>\n",
       "      <td>2003</td>\n",
       "      <td>[Uma Thurman, David Carradine, Daryl Hannah, M...</td>\n",
       "    </tr>\n",
       "    <tr>\n",
       "      <th>3</th>\n",
       "      <td>False</td>\n",
       "      <td>200000000</td>\n",
       "      <td>['Adventure', 'Fantasy', 'Action']</td>\n",
       "      <td>58</td>\n",
       "      <td>tt0383574</td>\n",
       "      <td>en</td>\n",
       "      <td>Pirates of the Caribbean: Dead Man's Chest</td>\n",
       "      <td>Pirates of the Caribbean: Dead Man's Chest</td>\n",
       "      <td>Captain Jack Sparrow works his way out of a bl...</td>\n",
       "      <td>71.717</td>\n",
       "      <td>...</td>\n",
       "      <td>151</td>\n",
       "      <td>['en', 'tr', 'el', 'zh']</td>\n",
       "      <td>Released</td>\n",
       "      <td>Pirates of the Caribbean: Dead Man's Chest</td>\n",
       "      <td>7.340</td>\n",
       "      <td>14465</td>\n",
       "      <td>nm0893659</td>\n",
       "      <td>nm0254645,nm0744429,nm0064181,nm0938684</td>\n",
       "      <td>2006</td>\n",
       "      <td>[Johnny Depp, Orlando Bloom, Keira Knightley, ...</td>\n",
       "    </tr>\n",
       "    <tr>\n",
       "      <th>4</th>\n",
       "      <td>False</td>\n",
       "      <td>2000000</td>\n",
       "      <td>['Thriller', 'Crime', 'Drama']</td>\n",
       "      <td>67</td>\n",
       "      <td>tt0445620</td>\n",
       "      <td>en</td>\n",
       "      <td>Paradise Now</td>\n",
       "      <td>Paradise Now</td>\n",
       "      <td>Two childhood friends are recruited for a suic...</td>\n",
       "      <td>7.400</td>\n",
       "      <td>...</td>\n",
       "      <td>90</td>\n",
       "      <td>['ar', 'en']</td>\n",
       "      <td>Released</td>\n",
       "      <td>Paradise Now</td>\n",
       "      <td>6.941</td>\n",
       "      <td>219</td>\n",
       "      <td>nm0009463</td>\n",
       "      <td>nm0009463,nm1178208,nm0388293</td>\n",
       "      <td>2005</td>\n",
       "      <td>[Kais Nashif, Ali Suliman, Lubna Azabal, Hamza...</td>\n",
       "    </tr>\n",
       "  </tbody>\n",
       "</table>\n",
       "<p>5 rows × 24 columns</p>\n",
       "</div>"
      ],
      "text/plain": [
       "   adult     budget                              genres id_tmdb    imdb_id  \\\n",
       "0  False   12800000                  ['Drama', 'Crime']      16  tt0168629   \n",
       "1  False  140000000  ['Adventure', 'Fantasy', 'Action']      22  tt0325980   \n",
       "2  False   30000000                 ['Action', 'Crime']      24  tt0266697   \n",
       "3  False  200000000  ['Adventure', 'Fantasy', 'Action']      58  tt0383574   \n",
       "4  False    2000000      ['Thriller', 'Crime', 'Drama']      67  tt0445620   \n",
       "\n",
       "  original_language                                     original_title  \\\n",
       "0                en                                 Dancer in the Dark   \n",
       "1                en  Pirates of the Caribbean: The Curse of the Bla...   \n",
       "2                en                                  Kill Bill: Vol. 1   \n",
       "3                en         Pirates of the Caribbean: Dead Man's Chest   \n",
       "4                en                                       Paradise Now   \n",
       "\n",
       "                                    original_title.1  \\\n",
       "0                                 Dancer in the Dark   \n",
       "1  Pirates of the Caribbean: The Curse of the Bla...   \n",
       "2                                  Kill Bill: Vol. 1   \n",
       "3         Pirates of the Caribbean: Dead Man's Chest   \n",
       "4                                       Paradise Now   \n",
       "\n",
       "                                            overview  popularity  ... runtime  \\\n",
       "0  Selma, a Czech immigrant on the verge of blind...      13.781  ...     141   \n",
       "1  Jack Sparrow, a freewheeling 18th-century pira...      88.516  ...     143   \n",
       "2  An assassin is shot by her ruthless employer, ...      31.556  ...     111   \n",
       "3  Captain Jack Sparrow works his way out of a bl...      71.717  ...     151   \n",
       "4  Two childhood friends are recruited for a suic...       7.400  ...      90   \n",
       "\n",
       "           spoken_languages    status  \\\n",
       "0                    ['en']  Released   \n",
       "1                    ['en']  Released   \n",
       "2        ['en', 'ja', 'fr']  Released   \n",
       "3  ['en', 'tr', 'el', 'zh']  Released   \n",
       "4              ['ar', 'en']  Released   \n",
       "\n",
       "                                               title  vote_average vote_count  \\\n",
       "0                                 Dancer in the Dark         7.881       1555   \n",
       "1  Pirates of the Caribbean: The Curse of the Bla...         7.800      18710   \n",
       "2                                  Kill Bill: Vol. 1         7.970      15748   \n",
       "3         Pirates of the Caribbean: Dead Man's Chest         7.340      14465   \n",
       "4                                       Paradise Now         6.941        219   \n",
       "\n",
       "   directors                                  writers  year  \\\n",
       "0  nm0001885                      nm0001885,nm0797604  2000   \n",
       "1  nm0893659  nm0254645,nm0744429,nm0064181,nm0938684  2003   \n",
       "2  nm0000233                      nm0000233,nm0000235  2003   \n",
       "3  nm0893659  nm0254645,nm0744429,nm0064181,nm0938684  2006   \n",
       "4  nm0009463            nm0009463,nm1178208,nm0388293  2005   \n",
       "\n",
       "                                       liste_acteurs  \n",
       "0  [Björk, Catherine Deneuve, David Morse, Peter ...  \n",
       "1  [Johnny Depp, Geoffrey Rush, Orlando Bloom, Ke...  \n",
       "2  [Uma Thurman, David Carradine, Daryl Hannah, M...  \n",
       "3  [Johnny Depp, Orlando Bloom, Keira Knightley, ...  \n",
       "4  [Kais Nashif, Ali Suliman, Lubna Azabal, Hamza...  \n",
       "\n",
       "[5 rows x 24 columns]"
      ]
     },
     "execution_count": 119,
     "metadata": {},
     "output_type": "execute_result"
    }
   ],
   "source": [
    "films.head()"
   ]
  },
  {
   "cell_type": "markdown",
   "metadata": {},
   "source": [
    "#On explode la colonne genre pour permettre le ml dessus"
   ]
  },
  {
   "cell_type": "markdown",
   "metadata": {},
   "source": [
    "fonction pour transformer str en liste"
   ]
  },
  {
   "cell_type": "code",
   "execution_count": 120,
   "metadata": {},
   "outputs": [],
   "source": [
    "import ast"
   ]
  },
  {
   "cell_type": "code",
   "execution_count": 121,
   "metadata": {},
   "outputs": [],
   "source": [
    "def transfo_liste(x):\n",
    "  if isinstance(x, str):\n",
    "    return ast.literal_eval(x)\n",
    "  else:\n",
    "    return x"
   ]
  },
  {
   "cell_type": "markdown",
   "metadata": {},
   "source": [
    "# transformer la colonne genre en liste = dans une nouvelle colonne"
   ]
  },
  {
   "cell_type": "code",
   "execution_count": 122,
   "metadata": {},
   "outputs": [
    {
     "data": {
      "text/html": [
       "<div>\n",
       "<style scoped>\n",
       "    .dataframe tbody tr th:only-of-type {\n",
       "        vertical-align: middle;\n",
       "    }\n",
       "\n",
       "    .dataframe tbody tr th {\n",
       "        vertical-align: top;\n",
       "    }\n",
       "\n",
       "    .dataframe thead th {\n",
       "        text-align: right;\n",
       "    }\n",
       "</style>\n",
       "<table border=\"1\" class=\"dataframe\">\n",
       "  <thead>\n",
       "    <tr style=\"text-align: right;\">\n",
       "      <th></th>\n",
       "      <th>adult</th>\n",
       "      <th>budget</th>\n",
       "      <th>genres</th>\n",
       "      <th>id_tmdb</th>\n",
       "      <th>imdb_id</th>\n",
       "      <th>original_language</th>\n",
       "      <th>original_title</th>\n",
       "      <th>original_title.1</th>\n",
       "      <th>overview</th>\n",
       "      <th>popularity</th>\n",
       "      <th>...</th>\n",
       "      <th>spoken_languages</th>\n",
       "      <th>status</th>\n",
       "      <th>title</th>\n",
       "      <th>vote_average</th>\n",
       "      <th>vote_count</th>\n",
       "      <th>directors</th>\n",
       "      <th>writers</th>\n",
       "      <th>year</th>\n",
       "      <th>liste_acteurs</th>\n",
       "      <th>genre_liste</th>\n",
       "    </tr>\n",
       "  </thead>\n",
       "  <tbody>\n",
       "    <tr>\n",
       "      <th>0</th>\n",
       "      <td>False</td>\n",
       "      <td>12800000</td>\n",
       "      <td>['Drama', 'Crime']</td>\n",
       "      <td>16</td>\n",
       "      <td>tt0168629</td>\n",
       "      <td>en</td>\n",
       "      <td>Dancer in the Dark</td>\n",
       "      <td>Dancer in the Dark</td>\n",
       "      <td>Selma, a Czech immigrant on the verge of blind...</td>\n",
       "      <td>13.781</td>\n",
       "      <td>...</td>\n",
       "      <td>['en']</td>\n",
       "      <td>Released</td>\n",
       "      <td>Dancer in the Dark</td>\n",
       "      <td>7.881</td>\n",
       "      <td>1555</td>\n",
       "      <td>nm0001885</td>\n",
       "      <td>nm0001885,nm0797604</td>\n",
       "      <td>2000</td>\n",
       "      <td>[Björk, Catherine Deneuve, David Morse, Peter ...</td>\n",
       "      <td>[Drama, Crime]</td>\n",
       "    </tr>\n",
       "    <tr>\n",
       "      <th>1</th>\n",
       "      <td>False</td>\n",
       "      <td>140000000</td>\n",
       "      <td>['Adventure', 'Fantasy', 'Action']</td>\n",
       "      <td>22</td>\n",
       "      <td>tt0325980</td>\n",
       "      <td>en</td>\n",
       "      <td>Pirates of the Caribbean: The Curse of the Bla...</td>\n",
       "      <td>Pirates of the Caribbean: The Curse of the Bla...</td>\n",
       "      <td>Jack Sparrow, a freewheeling 18th-century pira...</td>\n",
       "      <td>88.516</td>\n",
       "      <td>...</td>\n",
       "      <td>['en']</td>\n",
       "      <td>Released</td>\n",
       "      <td>Pirates of the Caribbean: The Curse of the Bla...</td>\n",
       "      <td>7.800</td>\n",
       "      <td>18710</td>\n",
       "      <td>nm0893659</td>\n",
       "      <td>nm0254645,nm0744429,nm0064181,nm0938684</td>\n",
       "      <td>2003</td>\n",
       "      <td>[Johnny Depp, Geoffrey Rush, Orlando Bloom, Ke...</td>\n",
       "      <td>[Adventure, Fantasy, Action]</td>\n",
       "    </tr>\n",
       "    <tr>\n",
       "      <th>2</th>\n",
       "      <td>False</td>\n",
       "      <td>30000000</td>\n",
       "      <td>['Action', 'Crime']</td>\n",
       "      <td>24</td>\n",
       "      <td>tt0266697</td>\n",
       "      <td>en</td>\n",
       "      <td>Kill Bill: Vol. 1</td>\n",
       "      <td>Kill Bill: Vol. 1</td>\n",
       "      <td>An assassin is shot by her ruthless employer, ...</td>\n",
       "      <td>31.556</td>\n",
       "      <td>...</td>\n",
       "      <td>['en', 'ja', 'fr']</td>\n",
       "      <td>Released</td>\n",
       "      <td>Kill Bill: Vol. 1</td>\n",
       "      <td>7.970</td>\n",
       "      <td>15748</td>\n",
       "      <td>nm0000233</td>\n",
       "      <td>nm0000233,nm0000235</td>\n",
       "      <td>2003</td>\n",
       "      <td>[Uma Thurman, David Carradine, Daryl Hannah, M...</td>\n",
       "      <td>[Action, Crime]</td>\n",
       "    </tr>\n",
       "    <tr>\n",
       "      <th>3</th>\n",
       "      <td>False</td>\n",
       "      <td>200000000</td>\n",
       "      <td>['Adventure', 'Fantasy', 'Action']</td>\n",
       "      <td>58</td>\n",
       "      <td>tt0383574</td>\n",
       "      <td>en</td>\n",
       "      <td>Pirates of the Caribbean: Dead Man's Chest</td>\n",
       "      <td>Pirates of the Caribbean: Dead Man's Chest</td>\n",
       "      <td>Captain Jack Sparrow works his way out of a bl...</td>\n",
       "      <td>71.717</td>\n",
       "      <td>...</td>\n",
       "      <td>['en', 'tr', 'el', 'zh']</td>\n",
       "      <td>Released</td>\n",
       "      <td>Pirates of the Caribbean: Dead Man's Chest</td>\n",
       "      <td>7.340</td>\n",
       "      <td>14465</td>\n",
       "      <td>nm0893659</td>\n",
       "      <td>nm0254645,nm0744429,nm0064181,nm0938684</td>\n",
       "      <td>2006</td>\n",
       "      <td>[Johnny Depp, Orlando Bloom, Keira Knightley, ...</td>\n",
       "      <td>[Adventure, Fantasy, Action]</td>\n",
       "    </tr>\n",
       "    <tr>\n",
       "      <th>4</th>\n",
       "      <td>False</td>\n",
       "      <td>2000000</td>\n",
       "      <td>['Thriller', 'Crime', 'Drama']</td>\n",
       "      <td>67</td>\n",
       "      <td>tt0445620</td>\n",
       "      <td>en</td>\n",
       "      <td>Paradise Now</td>\n",
       "      <td>Paradise Now</td>\n",
       "      <td>Two childhood friends are recruited for a suic...</td>\n",
       "      <td>7.400</td>\n",
       "      <td>...</td>\n",
       "      <td>['ar', 'en']</td>\n",
       "      <td>Released</td>\n",
       "      <td>Paradise Now</td>\n",
       "      <td>6.941</td>\n",
       "      <td>219</td>\n",
       "      <td>nm0009463</td>\n",
       "      <td>nm0009463,nm1178208,nm0388293</td>\n",
       "      <td>2005</td>\n",
       "      <td>[Kais Nashif, Ali Suliman, Lubna Azabal, Hamza...</td>\n",
       "      <td>[Thriller, Crime, Drama]</td>\n",
       "    </tr>\n",
       "    <tr>\n",
       "      <th>...</th>\n",
       "      <td>...</td>\n",
       "      <td>...</td>\n",
       "      <td>...</td>\n",
       "      <td>...</td>\n",
       "      <td>...</td>\n",
       "      <td>...</td>\n",
       "      <td>...</td>\n",
       "      <td>...</td>\n",
       "      <td>...</td>\n",
       "      <td>...</td>\n",
       "      <td>...</td>\n",
       "      <td>...</td>\n",
       "      <td>...</td>\n",
       "      <td>...</td>\n",
       "      <td>...</td>\n",
       "      <td>...</td>\n",
       "      <td>...</td>\n",
       "      <td>...</td>\n",
       "      <td>...</td>\n",
       "      <td>...</td>\n",
       "      <td>...</td>\n",
       "    </tr>\n",
       "    <tr>\n",
       "      <th>10469</th>\n",
       "      <td>False</td>\n",
       "      <td>0</td>\n",
       "      <td>['Drama']</td>\n",
       "      <td>214142</td>\n",
       "      <td>tt3035858</td>\n",
       "      <td>fr</td>\n",
       "      <td>Des étoiles</td>\n",
       "      <td>Des étoiles</td>\n",
       "      <td>The debut feature from Franco-Senegalese filmm...</td>\n",
       "      <td>0.994</td>\n",
       "      <td>...</td>\n",
       "      <td>['fr', 'wo', 'it', 'en']</td>\n",
       "      <td>Released</td>\n",
       "      <td>Under the Starry Sky</td>\n",
       "      <td>6.600</td>\n",
       "      <td>5</td>\n",
       "      <td>nm1441432</td>\n",
       "      <td>nm0889761,nm1441432</td>\n",
       "      <td>2014</td>\n",
       "      <td>[Ralph Amoussou, Ralph Amoussou, Marème Demba ...</td>\n",
       "      <td>[Drama]</td>\n",
       "    </tr>\n",
       "    <tr>\n",
       "      <th>10470</th>\n",
       "      <td>False</td>\n",
       "      <td>0</td>\n",
       "      <td>['Drama']</td>\n",
       "      <td>215034</td>\n",
       "      <td>tt3118628</td>\n",
       "      <td>en</td>\n",
       "      <td>Bastardo</td>\n",
       "      <td>Bastardo</td>\n",
       "      <td>Larger-than-life characters populate director ...</td>\n",
       "      <td>1.378</td>\n",
       "      <td>...</td>\n",
       "      <td>['ar']</td>\n",
       "      <td>Released</td>\n",
       "      <td>Bastard</td>\n",
       "      <td>7.000</td>\n",
       "      <td>1</td>\n",
       "      <td>nm0067946</td>\n",
       "      <td>nm0067946,nm2144991</td>\n",
       "      <td>2013</td>\n",
       "      <td>[Chedly Arfaoui, Tawfik Bahri, Lasaad Ben Abda...</td>\n",
       "      <td>[Drama]</td>\n",
       "    </tr>\n",
       "    <tr>\n",
       "      <th>10471</th>\n",
       "      <td>False</td>\n",
       "      <td>0</td>\n",
       "      <td>['Drama']</td>\n",
       "      <td>219173</td>\n",
       "      <td>tt1576452</td>\n",
       "      <td>es</td>\n",
       "      <td>Por tu culpa</td>\n",
       "      <td>Por tu culpa</td>\n",
       "      <td>Are we what others see, or are we what we allo...</td>\n",
       "      <td>0.743</td>\n",
       "      <td>...</td>\n",
       "      <td>['es']</td>\n",
       "      <td>Released</td>\n",
       "      <td>It's Your Fault</td>\n",
       "      <td>6.000</td>\n",
       "      <td>5</td>\n",
       "      <td>nm1318393</td>\n",
       "      <td>nm1318393,nm1196938</td>\n",
       "      <td>2010</td>\n",
       "      <td>[Erica Rivas, Nicasio Galán, Zenón Galán, Rubé...</td>\n",
       "      <td>[Drama]</td>\n",
       "    </tr>\n",
       "    <tr>\n",
       "      <th>10472</th>\n",
       "      <td>False</td>\n",
       "      <td>0</td>\n",
       "      <td>['Action']</td>\n",
       "      <td>222409</td>\n",
       "      <td>tt1512732</td>\n",
       "      <td>en</td>\n",
       "      <td>Braille</td>\n",
       "      <td>Braille</td>\n",
       "      <td>Nick's blindness is symbolic to his regret for...</td>\n",
       "      <td>0.824</td>\n",
       "      <td>...</td>\n",
       "      <td>[]</td>\n",
       "      <td>Released</td>\n",
       "      <td>Braille</td>\n",
       "      <td>6.000</td>\n",
       "      <td>1</td>\n",
       "      <td>nm2065393</td>\n",
       "      <td>nm2065393,nm1863128</td>\n",
       "      <td>2011</td>\n",
       "      <td>[Nicky Wright, Renny Holder, Zero Murray, Dave...</td>\n",
       "      <td>[Action]</td>\n",
       "    </tr>\n",
       "    <tr>\n",
       "      <th>10473</th>\n",
       "      <td>False</td>\n",
       "      <td>0</td>\n",
       "      <td>['Thriller', 'Horror', 'Action', 'Adventure', ...</td>\n",
       "      <td>231003</td>\n",
       "      <td>tt2011045</td>\n",
       "      <td>en</td>\n",
       "      <td>Hombre Y Tierra</td>\n",
       "      <td>Hombre Y Tierra</td>\n",
       "      <td>Mauro Bosque was an adventurer, a survivalist,...</td>\n",
       "      <td>0.840</td>\n",
       "      <td>...</td>\n",
       "      <td>['es']</td>\n",
       "      <td>Released</td>\n",
       "      <td>Hombre Y Tierra</td>\n",
       "      <td>5.200</td>\n",
       "      <td>3</td>\n",
       "      <td>nm1870338</td>\n",
       "      <td>nm1870338,nm2566773</td>\n",
       "      <td>2011</td>\n",
       "      <td>[Maurice Ripke, Julian Guevara, Robert Stewart]</td>\n",
       "      <td>[Thriller, Horror, Action, Adventure, Drama]</td>\n",
       "    </tr>\n",
       "  </tbody>\n",
       "</table>\n",
       "<p>10474 rows × 25 columns</p>\n",
       "</div>"
      ],
      "text/plain": [
       "       adult     budget                                             genres  \\\n",
       "0      False   12800000                                 ['Drama', 'Crime']   \n",
       "1      False  140000000                 ['Adventure', 'Fantasy', 'Action']   \n",
       "2      False   30000000                                ['Action', 'Crime']   \n",
       "3      False  200000000                 ['Adventure', 'Fantasy', 'Action']   \n",
       "4      False    2000000                     ['Thriller', 'Crime', 'Drama']   \n",
       "...      ...        ...                                                ...   \n",
       "10469  False          0                                          ['Drama']   \n",
       "10470  False          0                                          ['Drama']   \n",
       "10471  False          0                                          ['Drama']   \n",
       "10472  False          0                                         ['Action']   \n",
       "10473  False          0  ['Thriller', 'Horror', 'Action', 'Adventure', ...   \n",
       "\n",
       "      id_tmdb    imdb_id original_language  \\\n",
       "0          16  tt0168629                en   \n",
       "1          22  tt0325980                en   \n",
       "2          24  tt0266697                en   \n",
       "3          58  tt0383574                en   \n",
       "4          67  tt0445620                en   \n",
       "...       ...        ...               ...   \n",
       "10469  214142  tt3035858                fr   \n",
       "10470  215034  tt3118628                en   \n",
       "10471  219173  tt1576452                es   \n",
       "10472  222409  tt1512732                en   \n",
       "10473  231003  tt2011045                en   \n",
       "\n",
       "                                          original_title  \\\n",
       "0                                     Dancer in the Dark   \n",
       "1      Pirates of the Caribbean: The Curse of the Bla...   \n",
       "2                                      Kill Bill: Vol. 1   \n",
       "3             Pirates of the Caribbean: Dead Man's Chest   \n",
       "4                                           Paradise Now   \n",
       "...                                                  ...   \n",
       "10469                                        Des étoiles   \n",
       "10470                                           Bastardo   \n",
       "10471                                       Por tu culpa   \n",
       "10472                                            Braille   \n",
       "10473                                    Hombre Y Tierra   \n",
       "\n",
       "                                        original_title.1  \\\n",
       "0                                     Dancer in the Dark   \n",
       "1      Pirates of the Caribbean: The Curse of the Bla...   \n",
       "2                                      Kill Bill: Vol. 1   \n",
       "3             Pirates of the Caribbean: Dead Man's Chest   \n",
       "4                                           Paradise Now   \n",
       "...                                                  ...   \n",
       "10469                                        Des étoiles   \n",
       "10470                                           Bastardo   \n",
       "10471                                       Por tu culpa   \n",
       "10472                                            Braille   \n",
       "10473                                    Hombre Y Tierra   \n",
       "\n",
       "                                                overview  popularity  ...  \\\n",
       "0      Selma, a Czech immigrant on the verge of blind...      13.781  ...   \n",
       "1      Jack Sparrow, a freewheeling 18th-century pira...      88.516  ...   \n",
       "2      An assassin is shot by her ruthless employer, ...      31.556  ...   \n",
       "3      Captain Jack Sparrow works his way out of a bl...      71.717  ...   \n",
       "4      Two childhood friends are recruited for a suic...       7.400  ...   \n",
       "...                                                  ...         ...  ...   \n",
       "10469  The debut feature from Franco-Senegalese filmm...       0.994  ...   \n",
       "10470  Larger-than-life characters populate director ...       1.378  ...   \n",
       "10471  Are we what others see, or are we what we allo...       0.743  ...   \n",
       "10472  Nick's blindness is symbolic to his regret for...       0.824  ...   \n",
       "10473  Mauro Bosque was an adventurer, a survivalist,...       0.840  ...   \n",
       "\n",
       "               spoken_languages    status  \\\n",
       "0                        ['en']  Released   \n",
       "1                        ['en']  Released   \n",
       "2            ['en', 'ja', 'fr']  Released   \n",
       "3      ['en', 'tr', 'el', 'zh']  Released   \n",
       "4                  ['ar', 'en']  Released   \n",
       "...                         ...       ...   \n",
       "10469  ['fr', 'wo', 'it', 'en']  Released   \n",
       "10470                    ['ar']  Released   \n",
       "10471                    ['es']  Released   \n",
       "10472                        []  Released   \n",
       "10473                    ['es']  Released   \n",
       "\n",
       "                                                   title  vote_average  \\\n",
       "0                                     Dancer in the Dark         7.881   \n",
       "1      Pirates of the Caribbean: The Curse of the Bla...         7.800   \n",
       "2                                      Kill Bill: Vol. 1         7.970   \n",
       "3             Pirates of the Caribbean: Dead Man's Chest         7.340   \n",
       "4                                           Paradise Now         6.941   \n",
       "...                                                  ...           ...   \n",
       "10469                               Under the Starry Sky         6.600   \n",
       "10470                                            Bastard         7.000   \n",
       "10471                                    It's Your Fault         6.000   \n",
       "10472                                            Braille         6.000   \n",
       "10473                                    Hombre Y Tierra         5.200   \n",
       "\n",
       "       vote_count  directors                                  writers  year  \\\n",
       "0            1555  nm0001885                      nm0001885,nm0797604  2000   \n",
       "1           18710  nm0893659  nm0254645,nm0744429,nm0064181,nm0938684  2003   \n",
       "2           15748  nm0000233                      nm0000233,nm0000235  2003   \n",
       "3           14465  nm0893659  nm0254645,nm0744429,nm0064181,nm0938684  2006   \n",
       "4             219  nm0009463            nm0009463,nm1178208,nm0388293  2005   \n",
       "...           ...        ...                                      ...   ...   \n",
       "10469           5  nm1441432                      nm0889761,nm1441432  2014   \n",
       "10470           1  nm0067946                      nm0067946,nm2144991  2013   \n",
       "10471           5  nm1318393                      nm1318393,nm1196938  2010   \n",
       "10472           1  nm2065393                      nm2065393,nm1863128  2011   \n",
       "10473           3  nm1870338                      nm1870338,nm2566773  2011   \n",
       "\n",
       "                                           liste_acteurs  \\\n",
       "0      [Björk, Catherine Deneuve, David Morse, Peter ...   \n",
       "1      [Johnny Depp, Geoffrey Rush, Orlando Bloom, Ke...   \n",
       "2      [Uma Thurman, David Carradine, Daryl Hannah, M...   \n",
       "3      [Johnny Depp, Orlando Bloom, Keira Knightley, ...   \n",
       "4      [Kais Nashif, Ali Suliman, Lubna Azabal, Hamza...   \n",
       "...                                                  ...   \n",
       "10469  [Ralph Amoussou, Ralph Amoussou, Marème Demba ...   \n",
       "10470  [Chedly Arfaoui, Tawfik Bahri, Lasaad Ben Abda...   \n",
       "10471  [Erica Rivas, Nicasio Galán, Zenón Galán, Rubé...   \n",
       "10472  [Nicky Wright, Renny Holder, Zero Murray, Dave...   \n",
       "10473    [Maurice Ripke, Julian Guevara, Robert Stewart]   \n",
       "\n",
       "                                        genre_liste  \n",
       "0                                    [Drama, Crime]  \n",
       "1                      [Adventure, Fantasy, Action]  \n",
       "2                                   [Action, Crime]  \n",
       "3                      [Adventure, Fantasy, Action]  \n",
       "4                          [Thriller, Crime, Drama]  \n",
       "...                                             ...  \n",
       "10469                                       [Drama]  \n",
       "10470                                       [Drama]  \n",
       "10471                                       [Drama]  \n",
       "10472                                      [Action]  \n",
       "10473  [Thriller, Horror, Action, Adventure, Drama]  \n",
       "\n",
       "[10474 rows x 25 columns]"
      ]
     },
     "execution_count": 122,
     "metadata": {},
     "output_type": "execute_result"
    }
   ],
   "source": [
    "films['genre_liste'] = films['genres'].apply(transfo_liste)\n",
    "films"
   ]
  },
  {
   "cell_type": "markdown",
   "metadata": {},
   "source": [
    "#ensemble qui va contenir tous les genres"
   ]
  },
  {
   "cell_type": "code",
   "execution_count": 123,
   "metadata": {},
   "outputs": [],
   "source": [
    "tous_les_genres = set()"
   ]
  },
  {
   "cell_type": "markdown",
   "metadata": {},
   "source": [
    "# on applique à tous les genre_liste de films"
   ]
  },
  {
   "cell_type": "code",
   "execution_count": 124,
   "metadata": {},
   "outputs": [
    {
     "data": {
      "text/plain": [
       "Index(['adult', 'budget', 'genres', 'id_tmdb', 'imdb_id', 'original_language',\n",
       "       'original_title', 'original_title.1', 'overview', 'popularity',\n",
       "       'poster_path', 'production_countries', 'release_date', 'revenue',\n",
       "       'runtime', 'spoken_languages', 'status', 'title', 'vote_average',\n",
       "       'vote_count', 'directors', 'writers', 'year', 'liste_acteurs',\n",
       "       'genre_liste', 'genre_Music', 'genre_History', 'genre_Thriller',\n",
       "       'genre_Mystery', 'genre_Action', 'genre_Comedy', 'genre_Fantasy',\n",
       "       'genre_Western', 'genre_Drama', 'genre_Family', 'genre_War',\n",
       "       'genre_Crime', 'genre_Romance', 'genre_Adventure', 'genre_Horror',\n",
       "       'genre_Animation', 'genre_Science Fiction', 'genre_Documentary'],\n",
       "      dtype='object')"
      ]
     },
     "execution_count": 124,
     "metadata": {},
     "output_type": "execute_result"
    }
   ],
   "source": [
    "for genres in films['genre_liste']:\n",
    "  tous_les_genres.update(genres)\n",
    "\n",
    "tous_les_genres\n",
    "\n",
    "for genre in tous_les_genres:\n",
    "  films[f'genre_{genre}'] = films['genre_liste'].apply(lambda x: genre in x)\n",
    "\n",
    "films.columns"
   ]
  },
  {
   "cell_type": "markdown",
   "metadata": {},
   "source": [
    "On export ce dataframe "
   ]
  },
  {
   "cell_type": "code",
   "execution_count": 125,
   "metadata": {},
   "outputs": [],
   "source": [
    "films.to_csv('./donnees/films_selectionnes.csv', sep=\"\\t\", index=False)"
   ]
  },
  {
   "cell_type": "code",
   "execution_count": 9,
   "metadata": {},
   "outputs": [],
   "source": [
    "films = pd.read_csv('./donnees/films_selectionnes.csv', sep=\"\\t\")"
   ]
  },
  {
   "cell_type": "markdown",
   "metadata": {},
   "source": [
    ">On vérifie l'année de sortie max pour être sur qu'il n'y a pas de valeurs aberrantes ex futur"
   ]
  },
  {
   "cell_type": "code",
   "execution_count": 11,
   "metadata": {},
   "outputs": [
    {
     "data": {
      "text/plain": [
       "2023"
      ]
     },
     "execution_count": 11,
     "metadata": {},
     "output_type": "execute_result"
    }
   ],
   "source": [
    "max_year = films['year'].max()\n",
    "max_year"
   ]
  },
  {
   "cell_type": "code",
   "execution_count": 17,
   "metadata": {},
   "outputs": [],
   "source": [
    "import seaborn as sns"
   ]
  },
  {
   "cell_type": "markdown",
   "metadata": {},
   "source": [
    "On vérifie les budgets : il y a beaucoup de valeurs à 0, on suppose que cela signifie que l'info n'est pas dispo. On les enlèvera pour les stat mais on garde dans la liste de films"
   ]
  },
  {
   "cell_type": "code",
   "execution_count": 18,
   "metadata": {},
   "outputs": [
    {
     "data": {
      "image/png": "[encoded data removed]",
      "text/plain": [
       "<Figure size 640x480 with 1 Axes>"
      ]
     },
     "metadata": {},
     "output_type": "display_data"
    }
   ],
   "source": [
    "sns.boxplot(films, x='budget');"
   ]
  },
  {
   "cell_type": "markdown",
   "metadata": {},
   "source": [
    "On regarde le revenue il y a également bcp de 0. On les enlèvera pour les stat mais on garde dans la liste de films"
   ]
  },
  {
   "cell_type": "code",
   "execution_count": 19,
   "metadata": {},
   "outputs": [
    {
     "data": {
      "image/png": "[encoded data removed]",
      "text/plain": [
       "<Figure size 640x480 with 1 Axes>"
      ]
     },
     "metadata": {},
     "output_type": "display_data"
    }
   ],
   "source": [
    "sns.boxplot(films, x='revenue');"
   ]
  },
  {
   "cell_type": "markdown",
   "metadata": {},
   "source": [
    "On vérifie la durée des films : il y en a des longs mais c'est plausible : un très long documentaire"
   ]
  },
  {
   "cell_type": "code",
   "execution_count": 20,
   "metadata": {},
   "outputs": [
    {
     "data": {
      "image/png": "[encoded data removed]",
      "text/plain": [
       "<Figure size 640x480 with 1 Axes>"
      ]
     },
     "metadata": {},
     "output_type": "display_data"
    }
   ],
   "source": [
    "sns.boxplot(films, x='runtime');"
   ]
  },
  {
   "cell_type": "code",
   "execution_count": 21,
   "metadata": {},
   "outputs": [
    {
     "data": {
      "text/plain": [
       "345"
      ]
     },
     "execution_count": 21,
     "metadata": {},
     "output_type": "execute_result"
    }
   ],
   "source": [
    "films['runtime'].max()"
   ]
  },
  {
   "cell_type": "markdown",
   "metadata": {},
   "source": [
    "On regarde la moyenne des votes: il y a bien quelques films qui se démarquent mais ça reste < 10 donc c'est plausible"
   ]
  },
  {
   "cell_type": "code",
   "execution_count": 22,
   "metadata": {},
   "outputs": [
    {
     "data": {
      "image/png": "[encoded data removed]",
      "text/plain": [
       "<Figure size 640x480 with 1 Axes>"
      ]
     },
     "metadata": {},
     "output_type": "display_data"
    }
   ],
   "source": [
    "sns.boxplot(films, x='vote_average');"
   ]
  },
  {
   "cell_type": "markdown",
   "metadata": {},
   "source": [
    "on regarde le nombre de vote : pas interprétable"
   ]
  },
  {
   "cell_type": "code",
   "execution_count": 23,
   "metadata": {},
   "outputs": [
    {
     "data": {
      "image/png": "[encoded data removed]",
      "text/plain": [
       "<Figure size 640x480 with 1 Axes>"
      ]
     },
     "metadata": {},
     "output_type": "display_data"
    }
   ],
   "source": [
    "sns.boxplot(films, x='vote_count');"
   ]
  },
  {
   "cell_type": "markdown",
   "metadata": {},
   "source": [
    "# On modifie le chemin vers le poster pour qu'il fonctionne"
   ]
  },
  {
   "cell_type": "code",
   "execution_count": 24,
   "metadata": {},
   "outputs": [
    {
     "data": {
      "text/plain": [
       "0        /8Wdd3fQfbbQeoSfWpHrDfaFNhBU.jpg\n",
       "1        /z8onk7LV9Mmw6zKz4hT6pzzvmvl.jpg\n",
       "2        /v7TaX8kXMXs5yFFGR41guUDNcnB.jpg\n",
       "3        /uXEqmloGyP7UXAiphJUu2v2pcuE.jpg\n",
       "4        /qWZkYa8VdcDZk8uzRB2PfhpM9IL.jpg\n",
       "                       ...               \n",
       "10469    /o1XT2U0wm61NYt9HoE2Xn1B6NDl.jpg\n",
       "10470    /kB7iD9kXd0gAwdq8L6l4FcEcXQc.jpg\n",
       "10471    /hzwxXtf72bgajNHRZrrWPlfhJSX.jpg\n",
       "10472    /1DxERMJ0vi9IoDnO4QM6HNrzvdW.jpg\n",
       "10473    /4XkuT5L61uFDp7f2VAzKhVhzi5F.jpg\n",
       "Name: poster_path, Length: 10474, dtype: object"
      ]
     },
     "execution_count": 24,
     "metadata": {},
     "output_type": "execute_result"
    }
   ],
   "source": [
    "films['poster_path']"
   ]
  },
  {
   "cell_type": "code",
   "execution_count": 25,
   "metadata": {},
   "outputs": [],
   "source": [
    "films['poster_path'] = 'https://image.tmdb.org/t/p/w600_and_h900_bestv2' + films['poster_path']"
   ]
  },
  {
   "cell_type": "code",
   "execution_count": 29,
   "metadata": {},
   "outputs": [
    {
     "data": {
      "text/plain": [
       "'https://image.tmdb.org/t/p/w600_and_h900_bestv2/8Wdd3fQfbbQeoSfWpHrDfaFNhBU.jpg'"
      ]
     },
     "execution_count": 29,
     "metadata": {},
     "output_type": "execute_result"
    }
   ],
   "source": [
    "films['poster_path'].iloc[0]"
   ]
  },
  {
   "cell_type": "markdown",
   "metadata": {},
   "source": [
    "On exporte ce fichier final"
   ]
  },
  {
   "cell_type": "code",
   "execution_count": 30,
   "metadata": {},
   "outputs": [],
   "source": [
    "films.to_csv('./donnees/films_selectionnes.csv', sep=\"\\t\", index=False)"
   ]
  }
 ],
 "metadata": {
  "kernelspec": {
   "display_name": "base",
   "language": "python",
   "name": "python3"
  },
  "language_info": {
   "codemirror_mode": {
    "name": "ipython",
    "version": 3
   },
   "file_extension": ".py",
   "mimetype": "text/x-python",
   "name": "python",
   "nbconvert_exporter": "python",
   "pygments_lexer": "ipython3",
   "version": "3.12.4"
  }
 },
 "nbformat": 4,
 "nbformat_minor": 2
}
