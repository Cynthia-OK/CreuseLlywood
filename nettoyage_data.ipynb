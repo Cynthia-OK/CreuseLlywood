{
 "cells": [
  {
   "cell_type": "markdown",
   "metadata": {},
   "source": [
    "dans ce fichier nous allons mettre les requêtes de filtres et nettoyage des données"
   ]
  },
  {
   "cell_type": "code",
   "execution_count": 2,
   "metadata": {},
   "outputs": [],
   "source": [
    "import pandas as pd\n",
    "films_tmdb_imdb = pd.read_csv(\"./donnees/table_films_select.csv\",sep='\\t', low_memory=False)"
   ]
  },
  {
   "cell_type": "code",
   "execution_count": 5,
   "metadata": {},
   "outputs": [],
   "source": [
    "films_tmdb_imdb = films_tmdb_imdb.drop('Unnamed: 0',axis=1)"
   ]
  },
  {
   "cell_type": "code",
   "execution_count": 13,
   "metadata": {},
   "outputs": [
    {
     "name": "stdout",
     "output_type": "stream",
     "text": [
      "<class 'pandas.core.frame.DataFrame'>\n",
      "RangeIndex: 770236 entries, 0 to 770235\n",
      "Data columns (total 27 columns):\n",
      " #   Column                Non-Null Count   Dtype         \n",
      "---  ------                --------------   -----         \n",
      " 0   adult                 770236 non-null  bool          \n",
      " 1   budget                770236 non-null  int64         \n",
      " 2   genres                770236 non-null  object        \n",
      " 3   id                    770236 non-null  int64         \n",
      " 4   imdb_id               770236 non-null  object        \n",
      " 5   original_language     770236 non-null  object        \n",
      " 6   original_title        770236 non-null  object        \n",
      " 7   overview              732422 non-null  object        \n",
      " 8   popularity            770236 non-null  float64       \n",
      " 9   poster_path           729654 non-null  object        \n",
      " 10  production_countries  770236 non-null  object        \n",
      " 11  release_date          762336 non-null  datetime64[ns]\n",
      " 12  revenue               770236 non-null  int64         \n",
      " 13  runtime               770236 non-null  int64         \n",
      " 14  spoken_languages      770236 non-null  object        \n",
      " 15  status                770236 non-null  object        \n",
      " 16  title                 770236 non-null  object        \n",
      " 17  vote_average          770236 non-null  float64       \n",
      " 18  vote_count            770236 non-null  int64         \n",
      " 19  tconst                770236 non-null  object        \n",
      " 20  directors             770236 non-null  object        \n",
      " 21  writers               770236 non-null  object        \n",
      " 22  nconst                770138 non-null  object        \n",
      " 23  category              770138 non-null  object        \n",
      " 24  characters            770138 non-null  object        \n",
      " 25  primaryName           770138 non-null  object        \n",
      " 26  knownForTitles        770138 non-null  object        \n",
      "dtypes: bool(1), datetime64[ns](1), float64(2), int64(5), object(18)\n",
      "memory usage: 153.5+ MB\n"
     ]
    }
   ],
   "source": [
    "films_tmdb_imdb.info()"
   ]
  },
  {
   "cell_type": "code",
   "execution_count": 9,
   "metadata": {},
   "outputs": [],
   "source": [
    "films_tmdb_imdb['release_date'] = pd.to_datetime(films_tmdb_imdb['release_date'])"
   ]
  },
  {
   "cell_type": "code",
   "execution_count": null,
   "metadata": {},
   "outputs": [],
   "source": [
    "films_tmdb_imdb = films_tmdb_imdb.drop('tagline',axis=1)"
   ]
  },
  {
   "cell_type": "code",
   "execution_count": 21,
   "metadata": {},
   "outputs": [
    {
     "data": {
      "text/plain": [
       "adult                   0\n",
       "budget                  0\n",
       "genres                  0\n",
       "id                      0\n",
       "imdb_id                 0\n",
       "original_language       0\n",
       "original_title          0\n",
       "overview                0\n",
       "popularity              0\n",
       "poster_path             0\n",
       "production_countries    0\n",
       "release_date            0\n",
       "revenue                 0\n",
       "runtime                 0\n",
       "spoken_languages        0\n",
       "status                  0\n",
       "title                   0\n",
       "vote_average            0\n",
       "vote_count              0\n",
       "tconst                  0\n",
       "directors               0\n",
       "writers                 0\n",
       "nconst                  0\n",
       "category                0\n",
       "characters              0\n",
       "primaryName             0\n",
       "knownForTitles          0\n",
       "dtype: int64"
      ]
     },
     "execution_count": 21,
     "metadata": {},
     "output_type": "execute_result"
    }
   ],
   "source": [
    "films_tmdb_imdb.isna().sum()"
   ]
  },
  {
   "cell_type": "code",
   "execution_count": 16,
   "metadata": {},
   "outputs": [],
   "source": [
    "films_tmdb_imdb.dropna(subset=['overview'],inplace=True)"
   ]
  },
  {
   "cell_type": "code",
   "execution_count": 17,
   "metadata": {},
   "outputs": [],
   "source": [
    "films_tmdb_imdb.dropna(subset=['poster_path'],inplace=True)"
   ]
  },
  {
   "cell_type": "code",
   "execution_count": 18,
   "metadata": {},
   "outputs": [],
   "source": [
    "films_tmdb_imdb.dropna(subset=['release_date'],inplace=True)"
   ]
  },
  {
   "cell_type": "code",
   "execution_count": 20,
   "metadata": {},
   "outputs": [],
   "source": [
    "films_tmdb_imdb.dropna(subset=['nconst','category','characters','primaryName','knownForTitles'],inplace=True)"
   ]
  },
  {
   "cell_type": "code",
   "execution_count": 22,
   "metadata": {},
   "outputs": [],
   "source": [
    "films_tmdb_imdb = films_tmdb_imdb.drop('tconst',axis=1)"
   ]
  },
  {
   "cell_type": "code",
   "execution_count": 25,
   "metadata": {},
   "outputs": [
    {
     "name": "stdout",
     "output_type": "stream",
     "text": [
      "<class 'pandas.core.frame.DataFrame'>\n",
      "Index: 694699 entries, 0 to 770235\n",
      "Data columns (total 26 columns):\n",
      " #   Column                Non-Null Count   Dtype         \n",
      "---  ------                --------------   -----         \n",
      " 0   adult                 694699 non-null  bool          \n",
      " 1   budget                694699 non-null  int64         \n",
      " 2   genres                694699 non-null  object        \n",
      " 3   id                    694699 non-null  int64         \n",
      " 4   imdb_id               694699 non-null  object        \n",
      " 5   original_language     694699 non-null  object        \n",
      " 6   original_title        694699 non-null  object        \n",
      " 7   overview              694699 non-null  object        \n",
      " 8   popularity            694699 non-null  float64       \n",
      " 9   poster_path           694699 non-null  object        \n",
      " 10  production_countries  694699 non-null  object        \n",
      " 11  release_date          694699 non-null  datetime64[ns]\n",
      " 12  revenue               694699 non-null  int64         \n",
      " 13  runtime               694699 non-null  int64         \n",
      " 14  spoken_languages      694699 non-null  object        \n",
      " 15  status                694699 non-null  object        \n",
      " 16  title                 694699 non-null  object        \n",
      " 17  vote_average          694699 non-null  float64       \n",
      " 18  vote_count            694699 non-null  int64         \n",
      " 19  directors             694699 non-null  object        \n",
      " 20  writers               694699 non-null  object        \n",
      " 21  nconst                694699 non-null  object        \n",
      " 22  category              694699 non-null  object        \n",
      " 23  characters            694699 non-null  object        \n",
      " 24  primaryName           694699 non-null  object        \n",
      " 25  knownForTitles        694699 non-null  object        \n",
      "dtypes: bool(1), datetime64[ns](1), float64(2), int64(5), object(17)\n",
      "memory usage: 138.5+ MB\n"
     ]
    }
   ],
   "source": [
    "films_tmdb_imdb.info()"
   ]
  },
  {
   "cell_type": "code",
   "execution_count": 26,
   "metadata": {},
   "outputs": [],
   "source": [
    "films_tmdb_imdb = films_tmdb_imdb.rename(columns={'id': 'id_tmdb'})"
   ]
  },
  {
   "cell_type": "code",
   "execution_count": 30,
   "metadata": {},
   "outputs": [
    {
     "data": {
      "text/plain": [
       "vote_average  popularity\n",
       "0.000         0.600         25684\n",
       "              1.400          3689\n",
       "5.000         0.600          3440\n",
       "0.000         0.840          3334\n",
       "6.000         0.600          3332\n",
       "                            ...  \n",
       "6.800         1.294             1\n",
       "4.100         1.031             1\n",
       "6.672         3.988             1\n",
       "4.900         0.854             1\n",
       "5.900         1.820             1\n",
       "Name: count, Length: 29444, dtype: int64"
      ]
     },
     "execution_count": 30,
     "metadata": {},
     "output_type": "execute_result"
    }
   ],
   "source": [
    "films_tmdb_imdb[['vote_average','popularity']].sort_values(by='vote_average', ascending=False).value_counts()"
   ]
  },
  {
   "cell_type": "code",
   "execution_count": 31,
   "metadata": {},
   "outputs": [],
   "source": [
    "#on va filtrer les films ayant une note sup à 5\n",
    "films_tmdb_imdb_sup5 = films_tmdb_imdb[films_tmdb_imdb['vote_average']>5]"
   ]
  },
  {
   "cell_type": "code",
   "execution_count": 32,
   "metadata": {},
   "outputs": [
    {
     "name": "stdout",
     "output_type": "stream",
     "text": [
      "<class 'pandas.core.frame.DataFrame'>\n",
      "Index: 462885 entries, 0 to 770134\n",
      "Data columns (total 26 columns):\n",
      " #   Column                Non-Null Count   Dtype         \n",
      "---  ------                --------------   -----         \n",
      " 0   adult                 462885 non-null  bool          \n",
      " 1   budget                462885 non-null  int64         \n",
      " 2   genres                462885 non-null  object        \n",
      " 3   id_tmdb               462885 non-null  int64         \n",
      " 4   imdb_id               462885 non-null  object        \n",
      " 5   original_language     462885 non-null  object        \n",
      " 6   original_title        462885 non-null  object        \n",
      " 7   overview              462885 non-null  object        \n",
      " 8   popularity            462885 non-null  float64       \n",
      " 9   poster_path           462885 non-null  object        \n",
      " 10  production_countries  462885 non-null  object        \n",
      " 11  release_date          462885 non-null  datetime64[ns]\n",
      " 12  revenue               462885 non-null  int64         \n",
      " 13  runtime               462885 non-null  int64         \n",
      " 14  spoken_languages      462885 non-null  object        \n",
      " 15  status                462885 non-null  object        \n",
      " 16  title                 462885 non-null  object        \n",
      " 17  vote_average          462885 non-null  float64       \n",
      " 18  vote_count            462885 non-null  int64         \n",
      " 19  directors             462885 non-null  object        \n",
      " 20  writers               462885 non-null  object        \n",
      " 21  nconst                462885 non-null  object        \n",
      " 22  category              462885 non-null  object        \n",
      " 23  characters            462885 non-null  object        \n",
      " 24  primaryName           462885 non-null  object        \n",
      " 25  knownForTitles        462885 non-null  object        \n",
      "dtypes: bool(1), datetime64[ns](1), float64(2), int64(5), object(17)\n",
      "memory usage: 92.3+ MB\n"
     ]
    }
   ],
   "source": [
    "films_tmdb_imdb_sup5.info()"
   ]
  },
  {
   "cell_type": "code",
   "execution_count": 35,
   "metadata": {},
   "outputs": [],
   "source": [
    "from datetime import datetime"
   ]
  },
  {
   "cell_type": "code",
   "execution_count": 36,
   "metadata": {},
   "outputs": [
    {
     "name": "stderr",
     "output_type": "stream",
     "text": [
      "C:\\Users\\gueye\\AppData\\Local\\Temp\\ipykernel_4844\\2621779178.py:1: SettingWithCopyWarning: \n",
      "A value is trying to be set on a copy of a slice from a DataFrame.\n",
      "Try using .loc[row_indexer,col_indexer] = value instead\n",
      "\n",
      "See the caveats in the documentation: https://pandas.pydata.org/pandas-docs/stable/user_guide/indexing.html#returning-a-view-versus-a-copy\n",
      "  films_tmdb_imdb_sup5['year'] = films_tmdb_imdb_sup5['release_date'].dt.year\n"
     ]
    }
   ],
   "source": [
    "films_tmdb_imdb_sup5['year'] = films_tmdb_imdb_sup5['release_date'].dt.year"
   ]
  },
  {
   "cell_type": "code",
   "execution_count": 37,
   "metadata": {},
   "outputs": [
    {
     "name": "stdout",
     "output_type": "stream",
     "text": [
      "<class 'pandas.core.frame.DataFrame'>\n",
      "Index: 462885 entries, 0 to 770134\n",
      "Data columns (total 27 columns):\n",
      " #   Column                Non-Null Count   Dtype         \n",
      "---  ------                --------------   -----         \n",
      " 0   adult                 462885 non-null  bool          \n",
      " 1   budget                462885 non-null  int64         \n",
      " 2   genres                462885 non-null  object        \n",
      " 3   id_tmdb               462885 non-null  int64         \n",
      " 4   imdb_id               462885 non-null  object        \n",
      " 5   original_language     462885 non-null  object        \n",
      " 6   original_title        462885 non-null  object        \n",
      " 7   overview              462885 non-null  object        \n",
      " 8   popularity            462885 non-null  float64       \n",
      " 9   poster_path           462885 non-null  object        \n",
      " 10  production_countries  462885 non-null  object        \n",
      " 11  release_date          462885 non-null  datetime64[ns]\n",
      " 12  revenue               462885 non-null  int64         \n",
      " 13  runtime               462885 non-null  int64         \n",
      " 14  spoken_languages      462885 non-null  object        \n",
      " 15  status                462885 non-null  object        \n",
      " 16  title                 462885 non-null  object        \n",
      " 17  vote_average          462885 non-null  float64       \n",
      " 18  vote_count            462885 non-null  int64         \n",
      " 19  directors             462885 non-null  object        \n",
      " 20  writers               462885 non-null  object        \n",
      " 21  nconst                462885 non-null  object        \n",
      " 22  category              462885 non-null  object        \n",
      " 23  characters            462885 non-null  object        \n",
      " 24  primaryName           462885 non-null  object        \n",
      " 25  knownForTitles        462885 non-null  object        \n",
      " 26  year                  462885 non-null  int32         \n",
      "dtypes: bool(1), datetime64[ns](1), float64(2), int32(1), int64(5), object(17)\n",
      "memory usage: 94.0+ MB\n"
     ]
    }
   ],
   "source": [
    "films_tmdb_imdb_sup5.info()"
   ]
  },
  {
   "cell_type": "code",
   "execution_count": 39,
   "metadata": {},
   "outputs": [],
   "source": [
    "films_tmdb_imdb_sup5_2000 = films_tmdb_imdb_sup5[films_tmdb_imdb_sup5['year']>=2000]"
   ]
  },
  {
   "cell_type": "code",
   "execution_count": 40,
   "metadata": {},
   "outputs": [
    {
     "name": "stdout",
     "output_type": "stream",
     "text": [
      "<class 'pandas.core.frame.DataFrame'>\n",
      "Index: 272237 entries, 70 to 770046\n",
      "Data columns (total 27 columns):\n",
      " #   Column                Non-Null Count   Dtype         \n",
      "---  ------                --------------   -----         \n",
      " 0   adult                 272237 non-null  bool          \n",
      " 1   budget                272237 non-null  int64         \n",
      " 2   genres                272237 non-null  object        \n",
      " 3   id_tmdb               272237 non-null  int64         \n",
      " 4   imdb_id               272237 non-null  object        \n",
      " 5   original_language     272237 non-null  object        \n",
      " 6   original_title        272237 non-null  object        \n",
      " 7   overview              272237 non-null  object        \n",
      " 8   popularity            272237 non-null  float64       \n",
      " 9   poster_path           272237 non-null  object        \n",
      " 10  production_countries  272237 non-null  object        \n",
      " 11  release_date          272237 non-null  datetime64[ns]\n",
      " 12  revenue               272237 non-null  int64         \n",
      " 13  runtime               272237 non-null  int64         \n",
      " 14  spoken_languages      272237 non-null  object        \n",
      " 15  status                272237 non-null  object        \n",
      " 16  title                 272237 non-null  object        \n",
      " 17  vote_average          272237 non-null  float64       \n",
      " 18  vote_count            272237 non-null  int64         \n",
      " 19  directors             272237 non-null  object        \n",
      " 20  writers               272237 non-null  object        \n",
      " 21  nconst                272237 non-null  object        \n",
      " 22  category              272237 non-null  object        \n",
      " 23  characters            272237 non-null  object        \n",
      " 24  primaryName           272237 non-null  object        \n",
      " 25  knownForTitles        272237 non-null  object        \n",
      " 26  year                  272237 non-null  int32         \n",
      "dtypes: bool(1), datetime64[ns](1), float64(2), int32(1), int64(5), object(17)\n",
      "memory usage: 55.3+ MB\n"
     ]
    }
   ],
   "source": [
    "films_tmdb_imdb_sup5_2000.info()"
   ]
  },
  {
   "cell_type": "code",
   "execution_count": 41,
   "metadata": {},
   "outputs": [
    {
     "data": {
      "text/plain": [
       "14672"
      ]
     },
     "execution_count": 41,
     "metadata": {},
     "output_type": "execute_result"
    }
   ],
   "source": [
    "len(films_tmdb_imdb_sup5_2000['id_tmdb'].unique())"
   ]
  },
  {
   "cell_type": "code",
   "execution_count": 44,
   "metadata": {},
   "outputs": [],
   "source": [
    "films_tmdb_imdb_sup5_2000_60 = films_tmdb_imdb_sup5_2000[films_tmdb_imdb_sup5_2000['runtime']>=60]"
   ]
  },
  {
   "cell_type": "code",
   "execution_count": 45,
   "metadata": {},
   "outputs": [
    {
     "name": "stdout",
     "output_type": "stream",
     "text": [
      "<class 'pandas.core.frame.DataFrame'>\n",
      "Index: 246079 entries, 70 to 769918\n",
      "Data columns (total 27 columns):\n",
      " #   Column                Non-Null Count   Dtype         \n",
      "---  ------                --------------   -----         \n",
      " 0   adult                 246079 non-null  bool          \n",
      " 1   budget                246079 non-null  int64         \n",
      " 2   genres                246079 non-null  object        \n",
      " 3   id_tmdb               246079 non-null  int64         \n",
      " 4   imdb_id               246079 non-null  object        \n",
      " 5   original_language     246079 non-null  object        \n",
      " 6   original_title        246079 non-null  object        \n",
      " 7   overview              246079 non-null  object        \n",
      " 8   popularity            246079 non-null  float64       \n",
      " 9   poster_path           246079 non-null  object        \n",
      " 10  production_countries  246079 non-null  object        \n",
      " 11  release_date          246079 non-null  datetime64[ns]\n",
      " 12  revenue               246079 non-null  int64         \n",
      " 13  runtime               246079 non-null  int64         \n",
      " 14  spoken_languages      246079 non-null  object        \n",
      " 15  status                246079 non-null  object        \n",
      " 16  title                 246079 non-null  object        \n",
      " 17  vote_average          246079 non-null  float64       \n",
      " 18  vote_count            246079 non-null  int64         \n",
      " 19  directors             246079 non-null  object        \n",
      " 20  writers               246079 non-null  object        \n",
      " 21  nconst                246079 non-null  object        \n",
      " 22  category              246079 non-null  object        \n",
      " 23  characters            246079 non-null  object        \n",
      " 24  primaryName           246079 non-null  object        \n",
      " 25  knownForTitles        246079 non-null  object        \n",
      " 26  year                  246079 non-null  int32         \n",
      "dtypes: bool(1), datetime64[ns](1), float64(2), int32(1), int64(5), object(17)\n",
      "memory usage: 50.0+ MB\n"
     ]
    }
   ],
   "source": [
    "films_tmdb_imdb_sup5_2000_60.info()"
   ]
  },
  {
   "cell_type": "code",
   "execution_count": 58,
   "metadata": {},
   "outputs": [
    {
     "data": {
      "text/plain": [
       "status\n",
       "Released    246079\n",
       "Name: count, dtype: int64"
      ]
     },
     "execution_count": 58,
     "metadata": {},
     "output_type": "execute_result"
    }
   ],
   "source": [
    "films_tmdb_imdb_sup5_2000_60['status'].value_counts()"
   ]
  },
  {
   "cell_type": "code",
   "execution_count": 61,
   "metadata": {},
   "outputs": [],
   "source": [
    "films_tmdb_imdb_sup5_2000_60 = films_tmdb_imdb_sup5_2000_60[films_tmdb_imdb_sup5_2000_60['spoken_languages'].str.contains('fr')]"
   ]
  },
  {
   "cell_type": "code",
   "execution_count": 62,
   "metadata": {},
   "outputs": [
    {
     "name": "stdout",
     "output_type": "stream",
     "text": [
      "<class 'pandas.core.frame.DataFrame'>\n",
      "Index: 78195 entries, 133 to 769653\n",
      "Data columns (total 27 columns):\n",
      " #   Column                Non-Null Count  Dtype         \n",
      "---  ------                --------------  -----         \n",
      " 0   adult                 78195 non-null  bool          \n",
      " 1   budget                78195 non-null  int64         \n",
      " 2   genres                78195 non-null  object        \n",
      " 3   id_tmdb               78195 non-null  int64         \n",
      " 4   imdb_id               78195 non-null  object        \n",
      " 5   original_language     78195 non-null  object        \n",
      " 6   original_title        78195 non-null  object        \n",
      " 7   overview              78195 non-null  object        \n",
      " 8   popularity            78195 non-null  float64       \n",
      " 9   poster_path           78195 non-null  object        \n",
      " 10  production_countries  78195 non-null  object        \n",
      " 11  release_date          78195 non-null  datetime64[ns]\n",
      " 12  revenue               78195 non-null  int64         \n",
      " 13  runtime               78195 non-null  int64         \n",
      " 14  spoken_languages      78195 non-null  object        \n",
      " 15  status                78195 non-null  object        \n",
      " 16  title                 78195 non-null  object        \n",
      " 17  vote_average          78195 non-null  float64       \n",
      " 18  vote_count            78195 non-null  int64         \n",
      " 19  directors             78195 non-null  object        \n",
      " 20  writers               78195 non-null  object        \n",
      " 21  nconst                78195 non-null  object        \n",
      " 22  category              78195 non-null  object        \n",
      " 23  characters            78195 non-null  object        \n",
      " 24  primaryName           78195 non-null  object        \n",
      " 25  knownForTitles        78195 non-null  object        \n",
      " 26  year                  78195 non-null  int32         \n",
      "dtypes: bool(1), datetime64[ns](1), float64(2), int32(1), int64(5), object(17)\n",
      "memory usage: 15.9+ MB\n"
     ]
    }
   ],
   "source": [
    "films_tmdb_imdb_sup5_2000_60.info()"
   ]
  }
 ],
 "metadata": {
  "kernelspec": {
   "display_name": "Python 3",
   "language": "python",
   "name": "python3"
  },
  "language_info": {
   "codemirror_mode": {
    "name": "ipython",
    "version": 3
   },
   "file_extension": ".py",
   "mimetype": "text/x-python",
   "name": "python",
   "nbconvert_exporter": "python",
   "pygments_lexer": "ipython3",
   "version": "3.12.4"
  }
 },
 "nbformat": 4,
 "nbformat_minor": 2
}
