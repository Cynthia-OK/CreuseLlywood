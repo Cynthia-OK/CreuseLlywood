{
 "cells": [
  {
   "cell_type": "markdown",
   "metadata": {},
   "source": [
    "dans ce fichier nous allons mettre les requêtes de filtres et nettoyage des données"
   ]
  },
  {
   "cell_type": "code",
   "execution_count": 1,
   "metadata": {},
   "outputs": [],
   "source": [
    "import pandas as pd\n",
    "films_tmdb_imdb = pd.read_csv(\"./donnees/table_films_select.csv\",sep='\\t', low_memory=False)"
   ]
  },
  {
   "cell_type": "code",
   "execution_count": 2,
   "metadata": {},
   "outputs": [],
   "source": [
    "films_tmdb_imdb = films_tmdb_imdb.drop('Unnamed: 0',axis=1)"
   ]
  },
  {
   "cell_type": "code",
   "execution_count": 3,
   "metadata": {},
   "outputs": [
    {
     "name": "stdout",
     "output_type": "stream",
     "text": [
      "<class 'pandas.core.frame.DataFrame'>\n",
      "RangeIndex: 770236 entries, 0 to 770235\n",
      "Data columns (total 28 columns):\n",
      " #   Column                Non-Null Count   Dtype  \n",
      "---  ------                --------------   -----  \n",
      " 0   adult                 770236 non-null  bool   \n",
      " 1   budget                770236 non-null  int64  \n",
      " 2   genres                770236 non-null  object \n",
      " 3   id                    770236 non-null  int64  \n",
      " 4   imdb_id               770236 non-null  object \n",
      " 5   original_language     770236 non-null  object \n",
      " 6   original_title        770236 non-null  object \n",
      " 7   overview              732422 non-null  object \n",
      " 8   popularity            770236 non-null  float64\n",
      " 9   poster_path           729654 non-null  object \n",
      " 10  production_countries  770236 non-null  object \n",
      " 11  release_date          762336 non-null  object \n",
      " 12  revenue               770236 non-null  int64  \n",
      " 13  runtime               770236 non-null  int64  \n",
      " 14  spoken_languages      770236 non-null  object \n",
      " 15  status                770236 non-null  object \n",
      " 16  tagline               244061 non-null  object \n",
      " 17  title                 770236 non-null  object \n",
      " 18  vote_average          770236 non-null  float64\n",
      " 19  vote_count            770236 non-null  int64  \n",
      " 20  tconst                770236 non-null  object \n",
      " 21  directors             770236 non-null  object \n",
      " 22  writers               770236 non-null  object \n",
      " 23  nconst                770138 non-null  object \n",
      " 24  category              770138 non-null  object \n",
      " 25  characters            770138 non-null  object \n",
      " 26  primaryName           770138 non-null  object \n",
      " 27  knownForTitles        770138 non-null  object \n",
      "dtypes: bool(1), float64(2), int64(5), object(20)\n",
      "memory usage: 159.4+ MB\n"
     ]
    }
   ],
   "source": [
    "films_tmdb_imdb.info()"
   ]
  },
  {
   "cell_type": "code",
   "execution_count": 4,
   "metadata": {},
   "outputs": [],
   "source": [
    "films_tmdb_imdb['release_date'] = pd.to_datetime(films_tmdb_imdb['release_date'])"
   ]
  },
  {
   "cell_type": "code",
   "execution_count": 5,
   "metadata": {},
   "outputs": [],
   "source": [
    "films_tmdb_imdb = films_tmdb_imdb.drop('tagline',axis=1)"
   ]
  },
  {
   "cell_type": "code",
   "execution_count": 6,
   "metadata": {},
   "outputs": [
    {
     "data": {
      "text/plain": [
       "adult                       0\n",
       "budget                      0\n",
       "genres                      0\n",
       "id                          0\n",
       "imdb_id                     0\n",
       "original_language           0\n",
       "original_title              0\n",
       "overview                37814\n",
       "popularity                  0\n",
       "poster_path             40582\n",
       "production_countries        0\n",
       "release_date             7900\n",
       "revenue                     0\n",
       "runtime                     0\n",
       "spoken_languages            0\n",
       "status                      0\n",
       "title                       0\n",
       "vote_average                0\n",
       "vote_count                  0\n",
       "tconst                      0\n",
       "directors                   0\n",
       "writers                     0\n",
       "nconst                     98\n",
       "category                   98\n",
       "characters                 98\n",
       "primaryName                98\n",
       "knownForTitles             98\n",
       "dtype: int64"
      ]
     },
     "execution_count": 6,
     "metadata": {},
     "output_type": "execute_result"
    }
   ],
   "source": [
    "films_tmdb_imdb.isna().sum()"
   ]
  },
  {
   "cell_type": "code",
   "execution_count": 7,
   "metadata": {},
   "outputs": [],
   "source": [
    "films_tmdb_imdb.dropna(subset=['overview'],inplace=True)"
   ]
  },
  {
   "cell_type": "code",
   "execution_count": 8,
   "metadata": {},
   "outputs": [],
   "source": [
    "films_tmdb_imdb.dropna(subset=['poster_path'],inplace=True)"
   ]
  },
  {
   "cell_type": "code",
   "execution_count": 9,
   "metadata": {},
   "outputs": [],
   "source": [
    "films_tmdb_imdb.dropna(subset=['release_date'],inplace=True)"
   ]
  },
  {
   "cell_type": "code",
   "execution_count": 10,
   "metadata": {},
   "outputs": [],
   "source": [
    "films_tmdb_imdb.dropna(subset=['nconst','category','characters','primaryName','knownForTitles'],inplace=True)"
   ]
  },
  {
   "cell_type": "code",
   "execution_count": 11,
   "metadata": {},
   "outputs": [],
   "source": [
    "films_tmdb_imdb = films_tmdb_imdb.drop('tconst',axis=1)"
   ]
  },
  {
   "cell_type": "code",
   "execution_count": 12,
   "metadata": {},
   "outputs": [
    {
     "name": "stdout",
     "output_type": "stream",
     "text": [
      "<class 'pandas.core.frame.DataFrame'>\n",
      "Index: 694699 entries, 0 to 770235\n",
      "Data columns (total 26 columns):\n",
      " #   Column                Non-Null Count   Dtype         \n",
      "---  ------                --------------   -----         \n",
      " 0   adult                 694699 non-null  bool          \n",
      " 1   budget                694699 non-null  int64         \n",
      " 2   genres                694699 non-null  object        \n",
      " 3   id                    694699 non-null  int64         \n",
      " 4   imdb_id               694699 non-null  object        \n",
      " 5   original_language     694699 non-null  object        \n",
      " 6   original_title        694699 non-null  object        \n",
      " 7   overview              694699 non-null  object        \n",
      " 8   popularity            694699 non-null  float64       \n",
      " 9   poster_path           694699 non-null  object        \n",
      " 10  production_countries  694699 non-null  object        \n",
      " 11  release_date          694699 non-null  datetime64[ns]\n",
      " 12  revenue               694699 non-null  int64         \n",
      " 13  runtime               694699 non-null  int64         \n",
      " 14  spoken_languages      694699 non-null  object        \n",
      " 15  status                694699 non-null  object        \n",
      " 16  title                 694699 non-null  object        \n",
      " 17  vote_average          694699 non-null  float64       \n",
      " 18  vote_count            694699 non-null  int64         \n",
      " 19  directors             694699 non-null  object        \n",
      " 20  writers               694699 non-null  object        \n",
      " 21  nconst                694699 non-null  object        \n",
      " 22  category              694699 non-null  object        \n",
      " 23  characters            694699 non-null  object        \n",
      " 24  primaryName           694699 non-null  object        \n",
      " 25  knownForTitles        694699 non-null  object        \n",
      "dtypes: bool(1), datetime64[ns](1), float64(2), int64(5), object(17)\n",
      "memory usage: 138.5+ MB\n"
     ]
    }
   ],
   "source": [
    "films_tmdb_imdb.info()"
   ]
  },
  {
   "cell_type": "code",
   "execution_count": 13,
   "metadata": {},
   "outputs": [],
   "source": [
    "films_tmdb_imdb = films_tmdb_imdb.rename(columns={'id': 'id_tmdb'})"
   ]
  },
  {
   "cell_type": "code",
   "execution_count": 14,
   "metadata": {},
   "outputs": [
    {
     "data": {
      "text/plain": [
       "vote_average  popularity\n",
       "0.000         0.600         25684\n",
       "              1.400          3689\n",
       "5.000         0.600          3440\n",
       "0.000         0.840          3334\n",
       "6.000         0.600          3332\n",
       "                            ...  \n",
       "6.800         1.294             1\n",
       "4.100         1.031             1\n",
       "6.672         3.988             1\n",
       "4.900         0.854             1\n",
       "5.900         1.820             1\n",
       "Name: count, Length: 29444, dtype: int64"
      ]
     },
     "execution_count": 14,
     "metadata": {},
     "output_type": "execute_result"
    }
   ],
   "source": [
    "films_tmdb_imdb[['vote_average','popularity']].sort_values(by='vote_average', ascending=False).value_counts()"
   ]
  },
  {
   "cell_type": "code",
   "execution_count": 15,
   "metadata": {},
   "outputs": [],
   "source": [
    "#on va filtrer les films ayant une note sup à 5\n",
    "films_tmdb_imdb_sup5 = films_tmdb_imdb[films_tmdb_imdb['vote_average']>5]"
   ]
  },
  {
   "cell_type": "code",
   "execution_count": 16,
   "metadata": {},
   "outputs": [
    {
     "name": "stdout",
     "output_type": "stream",
     "text": [
      "<class 'pandas.core.frame.DataFrame'>\n",
      "Index: 462885 entries, 0 to 770134\n",
      "Data columns (total 26 columns):\n",
      " #   Column                Non-Null Count   Dtype         \n",
      "---  ------                --------------   -----         \n",
      " 0   adult                 462885 non-null  bool          \n",
      " 1   budget                462885 non-null  int64         \n",
      " 2   genres                462885 non-null  object        \n",
      " 3   id_tmdb               462885 non-null  int64         \n",
      " 4   imdb_id               462885 non-null  object        \n",
      " 5   original_language     462885 non-null  object        \n",
      " 6   original_title        462885 non-null  object        \n",
      " 7   overview              462885 non-null  object        \n",
      " 8   popularity            462885 non-null  float64       \n",
      " 9   poster_path           462885 non-null  object        \n",
      " 10  production_countries  462885 non-null  object        \n",
      " 11  release_date          462885 non-null  datetime64[ns]\n",
      " 12  revenue               462885 non-null  int64         \n",
      " 13  runtime               462885 non-null  int64         \n",
      " 14  spoken_languages      462885 non-null  object        \n",
      " 15  status                462885 non-null  object        \n",
      " 16  title                 462885 non-null  object        \n",
      " 17  vote_average          462885 non-null  float64       \n",
      " 18  vote_count            462885 non-null  int64         \n",
      " 19  directors             462885 non-null  object        \n",
      " 20  writers               462885 non-null  object        \n",
      " 21  nconst                462885 non-null  object        \n",
      " 22  category              462885 non-null  object        \n",
      " 23  characters            462885 non-null  object        \n",
      " 24  primaryName           462885 non-null  object        \n",
      " 25  knownForTitles        462885 non-null  object        \n",
      "dtypes: bool(1), datetime64[ns](1), float64(2), int64(5), object(17)\n",
      "memory usage: 92.3+ MB\n"
     ]
    }
   ],
   "source": [
    "films_tmdb_imdb_sup5.info()"
   ]
  },
  {
   "cell_type": "code",
   "execution_count": 17,
   "metadata": {},
   "outputs": [],
   "source": [
    "from datetime import datetime"
   ]
  },
  {
   "cell_type": "code",
   "execution_count": 18,
   "metadata": {},
   "outputs": [
    {
     "name": "stderr",
     "output_type": "stream",
     "text": [
      "C:\\Users\\gueye\\AppData\\Local\\Temp\\ipykernel_14892\\2621779178.py:1: SettingWithCopyWarning: \n",
      "A value is trying to be set on a copy of a slice from a DataFrame.\n",
      "Try using .loc[row_indexer,col_indexer] = value instead\n",
      "\n",
      "See the caveats in the documentation: https://pandas.pydata.org/pandas-docs/stable/user_guide/indexing.html#returning-a-view-versus-a-copy\n",
      "  films_tmdb_imdb_sup5['year'] = films_tmdb_imdb_sup5['release_date'].dt.year\n"
     ]
    }
   ],
   "source": [
    "films_tmdb_imdb_sup5['year'] = films_tmdb_imdb_sup5['release_date'].dt.year"
   ]
  },
  {
   "cell_type": "code",
   "execution_count": 19,
   "metadata": {},
   "outputs": [
    {
     "name": "stdout",
     "output_type": "stream",
     "text": [
      "<class 'pandas.core.frame.DataFrame'>\n",
      "Index: 462885 entries, 0 to 770134\n",
      "Data columns (total 27 columns):\n",
      " #   Column                Non-Null Count   Dtype         \n",
      "---  ------                --------------   -----         \n",
      " 0   adult                 462885 non-null  bool          \n",
      " 1   budget                462885 non-null  int64         \n",
      " 2   genres                462885 non-null  object        \n",
      " 3   id_tmdb               462885 non-null  int64         \n",
      " 4   imdb_id               462885 non-null  object        \n",
      " 5   original_language     462885 non-null  object        \n",
      " 6   original_title        462885 non-null  object        \n",
      " 7   overview              462885 non-null  object        \n",
      " 8   popularity            462885 non-null  float64       \n",
      " 9   poster_path           462885 non-null  object        \n",
      " 10  production_countries  462885 non-null  object        \n",
      " 11  release_date          462885 non-null  datetime64[ns]\n",
      " 12  revenue               462885 non-null  int64         \n",
      " 13  runtime               462885 non-null  int64         \n",
      " 14  spoken_languages      462885 non-null  object        \n",
      " 15  status                462885 non-null  object        \n",
      " 16  title                 462885 non-null  object        \n",
      " 17  vote_average          462885 non-null  float64       \n",
      " 18  vote_count            462885 non-null  int64         \n",
      " 19  directors             462885 non-null  object        \n",
      " 20  writers               462885 non-null  object        \n",
      " 21  nconst                462885 non-null  object        \n",
      " 22  category              462885 non-null  object        \n",
      " 23  characters            462885 non-null  object        \n",
      " 24  primaryName           462885 non-null  object        \n",
      " 25  knownForTitles        462885 non-null  object        \n",
      " 26  year                  462885 non-null  int32         \n",
      "dtypes: bool(1), datetime64[ns](1), float64(2), int32(1), int64(5), object(17)\n",
      "memory usage: 94.0+ MB\n"
     ]
    }
   ],
   "source": [
    "films_tmdb_imdb_sup5.info()"
   ]
  },
  {
   "cell_type": "code",
   "execution_count": 20,
   "metadata": {},
   "outputs": [],
   "source": [
    "films_tmdb_imdb_sup5_2000 = films_tmdb_imdb_sup5[films_tmdb_imdb_sup5['year']>=2000]"
   ]
  },
  {
   "cell_type": "code",
   "execution_count": 21,
   "metadata": {},
   "outputs": [
    {
     "name": "stdout",
     "output_type": "stream",
     "text": [
      "<class 'pandas.core.frame.DataFrame'>\n",
      "Index: 272237 entries, 70 to 770046\n",
      "Data columns (total 27 columns):\n",
      " #   Column                Non-Null Count   Dtype         \n",
      "---  ------                --------------   -----         \n",
      " 0   adult                 272237 non-null  bool          \n",
      " 1   budget                272237 non-null  int64         \n",
      " 2   genres                272237 non-null  object        \n",
      " 3   id_tmdb               272237 non-null  int64         \n",
      " 4   imdb_id               272237 non-null  object        \n",
      " 5   original_language     272237 non-null  object        \n",
      " 6   original_title        272237 non-null  object        \n",
      " 7   overview              272237 non-null  object        \n",
      " 8   popularity            272237 non-null  float64       \n",
      " 9   poster_path           272237 non-null  object        \n",
      " 10  production_countries  272237 non-null  object        \n",
      " 11  release_date          272237 non-null  datetime64[ns]\n",
      " 12  revenue               272237 non-null  int64         \n",
      " 13  runtime               272237 non-null  int64         \n",
      " 14  spoken_languages      272237 non-null  object        \n",
      " 15  status                272237 non-null  object        \n",
      " 16  title                 272237 non-null  object        \n",
      " 17  vote_average          272237 non-null  float64       \n",
      " 18  vote_count            272237 non-null  int64         \n",
      " 19  directors             272237 non-null  object        \n",
      " 20  writers               272237 non-null  object        \n",
      " 21  nconst                272237 non-null  object        \n",
      " 22  category              272237 non-null  object        \n",
      " 23  characters            272237 non-null  object        \n",
      " 24  primaryName           272237 non-null  object        \n",
      " 25  knownForTitles        272237 non-null  object        \n",
      " 26  year                  272237 non-null  int32         \n",
      "dtypes: bool(1), datetime64[ns](1), float64(2), int32(1), int64(5), object(17)\n",
      "memory usage: 55.3+ MB\n"
     ]
    }
   ],
   "source": [
    "films_tmdb_imdb_sup5_2000.info()"
   ]
  },
  {
   "cell_type": "code",
   "execution_count": 22,
   "metadata": {},
   "outputs": [
    {
     "data": {
      "text/plain": [
       "14672"
      ]
     },
     "execution_count": 22,
     "metadata": {},
     "output_type": "execute_result"
    }
   ],
   "source": [
    "len(films_tmdb_imdb_sup5_2000['id_tmdb'].unique())"
   ]
  },
  {
   "cell_type": "code",
   "execution_count": 28,
   "metadata": {},
   "outputs": [],
   "source": [
    "films_tmdb_imdb_sup5_2000_60 = films_tmdb_imdb_sup5_2000[films_tmdb_imdb_sup5_2000['runtime']>=60]"
   ]
  },
  {
   "cell_type": "code",
   "execution_count": 29,
   "metadata": {},
   "outputs": [
    {
     "name": "stdout",
     "output_type": "stream",
     "text": [
      "<class 'pandas.core.frame.DataFrame'>\n",
      "Index: 246079 entries, 70 to 769918\n",
      "Data columns (total 27 columns):\n",
      " #   Column                Non-Null Count   Dtype         \n",
      "---  ------                --------------   -----         \n",
      " 0   adult                 246079 non-null  bool          \n",
      " 1   budget                246079 non-null  int64         \n",
      " 2   genres                246079 non-null  object        \n",
      " 3   id_tmdb               246079 non-null  int64         \n",
      " 4   imdb_id               246079 non-null  object        \n",
      " 5   original_language     246079 non-null  object        \n",
      " 6   original_title        246079 non-null  object        \n",
      " 7   overview              246079 non-null  object        \n",
      " 8   popularity            246079 non-null  float64       \n",
      " 9   poster_path           246079 non-null  object        \n",
      " 10  production_countries  246079 non-null  object        \n",
      " 11  release_date          246079 non-null  datetime64[ns]\n",
      " 12  revenue               246079 non-null  int64         \n",
      " 13  runtime               246079 non-null  int64         \n",
      " 14  spoken_languages      246079 non-null  object        \n",
      " 15  status                246079 non-null  object        \n",
      " 16  title                 246079 non-null  object        \n",
      " 17  vote_average          246079 non-null  float64       \n",
      " 18  vote_count            246079 non-null  int64         \n",
      " 19  directors             246079 non-null  object        \n",
      " 20  writers               246079 non-null  object        \n",
      " 21  nconst                246079 non-null  object        \n",
      " 22  category              246079 non-null  object        \n",
      " 23  characters            246079 non-null  object        \n",
      " 24  primaryName           246079 non-null  object        \n",
      " 25  knownForTitles        246079 non-null  object        \n",
      " 26  year                  246079 non-null  int32         \n",
      "dtypes: bool(1), datetime64[ns](1), float64(2), int32(1), int64(5), object(17)\n",
      "memory usage: 50.0+ MB\n"
     ]
    }
   ],
   "source": [
    "films_tmdb_imdb_sup5_2000_60.info()"
   ]
  },
  {
   "cell_type": "code",
   "execution_count": 30,
   "metadata": {},
   "outputs": [
    {
     "data": {
      "text/plain": [
       "status\n",
       "Released    246079\n",
       "Name: count, dtype: int64"
      ]
     },
     "execution_count": 30,
     "metadata": {},
     "output_type": "execute_result"
    }
   ],
   "source": [
    "films_tmdb_imdb_sup5_2000_60['status'].value_counts()"
   ]
  },
  {
   "cell_type": "code",
   "execution_count": 32,
   "metadata": {},
   "outputs": [],
   "source": [
    "df_basics = pd.read_csv(\"./donnees/IMDb/title.basics.tsv\", sep='\\t',low_memory=False)"
   ]
  },
  {
   "cell_type": "code",
   "execution_count": 34,
   "metadata": {},
   "outputs": [],
   "source": [
    "films = pd.read_csv(\"./donnees/films_selectionnes.csv\", sep='\\t')"
   ]
  },
  {
   "cell_type": "code",
   "execution_count": 40,
   "metadata": {},
   "outputs": [],
   "source": [
    "verif = pd.merge(films,df_basics, how = 'left',left_on='imdb_id', right_on='tconst')"
   ]
  },
  {
   "cell_type": "code",
   "execution_count": 41,
   "metadata": {},
   "outputs": [
    {
     "name": "stdout",
     "output_type": "stream",
     "text": [
      "<class 'pandas.core.frame.DataFrame'>\n",
      "RangeIndex: 12771 entries, 0 to 12770\n",
      "Data columns (total 32 columns):\n",
      " #   Column                Non-Null Count  Dtype  \n",
      "---  ------                --------------  -----  \n",
      " 0   Unnamed: 0            12771 non-null  int64  \n",
      " 1   adult                 12771 non-null  bool   \n",
      " 2   budget                12771 non-null  int64  \n",
      " 3   genres_x              12771 non-null  object \n",
      " 4   id_tmdb               12771 non-null  int64  \n",
      " 5   imdb_id               12771 non-null  object \n",
      " 6   original_language     12771 non-null  object \n",
      " 7   original_title        12771 non-null  object \n",
      " 8   original_title.1      12771 non-null  object \n",
      " 9   overview              12771 non-null  object \n",
      " 10  popularity            12771 non-null  float64\n",
      " 11  poster_path           12771 non-null  object \n",
      " 12  production_countries  12771 non-null  object \n",
      " 13  release_date          12771 non-null  object \n",
      " 14  revenue               12771 non-null  int64  \n",
      " 15  runtime               12771 non-null  int64  \n",
      " 16  spoken_languages      12771 non-null  object \n",
      " 17  status                12771 non-null  object \n",
      " 18  title                 12771 non-null  object \n",
      " 19  vote_average          12771 non-null  float64\n",
      " 20  vote_count            12771 non-null  int64  \n",
      " 21  directors             12771 non-null  object \n",
      " 22  writers               12771 non-null  object \n",
      " 23  tconst                12771 non-null  object \n",
      " 24  titleType             12771 non-null  object \n",
      " 25  primaryTitle          12771 non-null  object \n",
      " 26  originalTitle         12771 non-null  object \n",
      " 27  isAdult               12771 non-null  object \n",
      " 28  startYear             12771 non-null  object \n",
      " 29  endYear               12771 non-null  object \n",
      " 30  runtimeMinutes        12771 non-null  object \n",
      " 31  genres_y              12771 non-null  object \n",
      "dtypes: bool(1), float64(2), int64(6), object(23)\n",
      "memory usage: 3.0+ MB\n"
     ]
    }
   ],
   "source": [
    "verif.info()"
   ]
  },
  {
   "cell_type": "code",
   "execution_count": 43,
   "metadata": {},
   "outputs": [
    {
     "data": {
      "text/plain": [
       "titleType\n",
       "movie           11015\n",
       "tvMovie           790\n",
       "video             458\n",
       "tvSpecial         359\n",
       "tvEpisode          79\n",
       "tvSeries           39\n",
       "tvMiniSeries       25\n",
       "videoGame           4\n",
       "short               2\n",
       "Name: count, dtype: int64"
      ]
     },
     "execution_count": 43,
     "metadata": {},
     "output_type": "execute_result"
    }
   ],
   "source": [
    "verif['titleType'].value_counts()"
   ]
  },
  {
   "cell_type": "code",
   "execution_count": 55,
   "metadata": {},
   "outputs": [
    {
     "data": {
      "text/html": [
       "<div>\n",
       "<style scoped>\n",
       "    .dataframe tbody tr th:only-of-type {\n",
       "        vertical-align: middle;\n",
       "    }\n",
       "\n",
       "    .dataframe tbody tr th {\n",
       "        vertical-align: top;\n",
       "    }\n",
       "\n",
       "    .dataframe thead th {\n",
       "        text-align: right;\n",
       "    }\n",
       "</style>\n",
       "<table border=\"1\" class=\"dataframe\">\n",
       "  <thead>\n",
       "    <tr style=\"text-align: right;\">\n",
       "      <th></th>\n",
       "      <th>Unnamed: 0</th>\n",
       "      <th>adult</th>\n",
       "      <th>budget</th>\n",
       "      <th>genres_x</th>\n",
       "      <th>id_tmdb</th>\n",
       "      <th>imdb_id</th>\n",
       "      <th>original_language</th>\n",
       "      <th>original_title</th>\n",
       "      <th>original_title.1</th>\n",
       "      <th>overview</th>\n",
       "      <th>...</th>\n",
       "      <th>writers</th>\n",
       "      <th>tconst</th>\n",
       "      <th>titleType</th>\n",
       "      <th>primaryTitle</th>\n",
       "      <th>originalTitle</th>\n",
       "      <th>isAdult</th>\n",
       "      <th>startYear</th>\n",
       "      <th>endYear</th>\n",
       "      <th>runtimeMinutes</th>\n",
       "      <th>genres_y</th>\n",
       "    </tr>\n",
       "  </thead>\n",
       "  <tbody>\n",
       "    <tr>\n",
       "      <th>0</th>\n",
       "      <td>70</td>\n",
       "      <td>False</td>\n",
       "      <td>12800000</td>\n",
       "      <td>['Drama', 'Crime']</td>\n",
       "      <td>16</td>\n",
       "      <td>tt0168629</td>\n",
       "      <td>en</td>\n",
       "      <td>Dancer in the Dark</td>\n",
       "      <td>Dancer in the Dark</td>\n",
       "      <td>Selma, a Czech immigrant on the verge of blind...</td>\n",
       "      <td>...</td>\n",
       "      <td>nm0001885,nm0797604</td>\n",
       "      <td>tt0168629</td>\n",
       "      <td>movie</td>\n",
       "      <td>Dancer in the Dark</td>\n",
       "      <td>Dancer in the Dark</td>\n",
       "      <td>0</td>\n",
       "      <td>2000</td>\n",
       "      <td>\\N</td>\n",
       "      <td>140</td>\n",
       "      <td>Crime,Drama,Musical</td>\n",
       "    </tr>\n",
       "    <tr>\n",
       "      <th>1</th>\n",
       "      <td>109</td>\n",
       "      <td>False</td>\n",
       "      <td>140000000</td>\n",
       "      <td>['Adventure', 'Fantasy', 'Action']</td>\n",
       "      <td>22</td>\n",
       "      <td>tt0325980</td>\n",
       "      <td>en</td>\n",
       "      <td>Pirates of the Caribbean: The Curse of the Bla...</td>\n",
       "      <td>Pirates of the Caribbean: The Curse of the Bla...</td>\n",
       "      <td>Jack Sparrow, a freewheeling 18th-century pira...</td>\n",
       "      <td>...</td>\n",
       "      <td>nm0254645,nm0744429,nm0064181,nm0938684</td>\n",
       "      <td>tt0325980</td>\n",
       "      <td>movie</td>\n",
       "      <td>Pirates of the Caribbean: The Curse of the Bla...</td>\n",
       "      <td>Pirates of the Caribbean: The Curse of the Bla...</td>\n",
       "      <td>0</td>\n",
       "      <td>2003</td>\n",
       "      <td>\\N</td>\n",
       "      <td>143</td>\n",
       "      <td>Action,Adventure,Fantasy</td>\n",
       "    </tr>\n",
       "    <tr>\n",
       "      <th>2</th>\n",
       "      <td>133</td>\n",
       "      <td>False</td>\n",
       "      <td>30000000</td>\n",
       "      <td>['Action', 'Crime']</td>\n",
       "      <td>24</td>\n",
       "      <td>tt0266697</td>\n",
       "      <td>en</td>\n",
       "      <td>Kill Bill: Vol. 1</td>\n",
       "      <td>Kill Bill: Vol. 1</td>\n",
       "      <td>An assassin is shot by her ruthless employer, ...</td>\n",
       "      <td>...</td>\n",
       "      <td>nm0000233,nm0000235</td>\n",
       "      <td>tt0266697</td>\n",
       "      <td>movie</td>\n",
       "      <td>Kill Bill: Vol. 1</td>\n",
       "      <td>Kill Bill: Vol. 1</td>\n",
       "      <td>0</td>\n",
       "      <td>2003</td>\n",
       "      <td>\\N</td>\n",
       "      <td>111</td>\n",
       "      <td>Action,Crime,Thriller</td>\n",
       "    </tr>\n",
       "    <tr>\n",
       "      <th>3</th>\n",
       "      <td>154</td>\n",
       "      <td>False</td>\n",
       "      <td>200000000</td>\n",
       "      <td>['Adventure', 'Fantasy', 'Action']</td>\n",
       "      <td>58</td>\n",
       "      <td>tt0383574</td>\n",
       "      <td>en</td>\n",
       "      <td>Pirates of the Caribbean: Dead Man's Chest</td>\n",
       "      <td>Pirates of the Caribbean: Dead Man's Chest</td>\n",
       "      <td>Captain Jack Sparrow works his way out of a bl...</td>\n",
       "      <td>...</td>\n",
       "      <td>nm0254645,nm0744429,nm0064181,nm0938684</td>\n",
       "      <td>tt0383574</td>\n",
       "      <td>movie</td>\n",
       "      <td>Pirates of the Caribbean: Dead Man's Chest</td>\n",
       "      <td>Pirates of the Caribbean: Dead Man's Chest</td>\n",
       "      <td>0</td>\n",
       "      <td>2006</td>\n",
       "      <td>\\N</td>\n",
       "      <td>151</td>\n",
       "      <td>Action,Adventure,Fantasy</td>\n",
       "    </tr>\n",
       "    <tr>\n",
       "      <th>4</th>\n",
       "      <td>196</td>\n",
       "      <td>False</td>\n",
       "      <td>2000000</td>\n",
       "      <td>['Thriller', 'Crime', 'Drama']</td>\n",
       "      <td>67</td>\n",
       "      <td>tt0445620</td>\n",
       "      <td>en</td>\n",
       "      <td>Paradise Now</td>\n",
       "      <td>Paradise Now</td>\n",
       "      <td>Two childhood friends are recruited for a suic...</td>\n",
       "      <td>...</td>\n",
       "      <td>nm0009463,nm1178208,nm0388293</td>\n",
       "      <td>tt0445620</td>\n",
       "      <td>movie</td>\n",
       "      <td>Paradise Now</td>\n",
       "      <td>Paradise Now</td>\n",
       "      <td>0</td>\n",
       "      <td>2005</td>\n",
       "      <td>\\N</td>\n",
       "      <td>91</td>\n",
       "      <td>Crime,Drama,Thriller</td>\n",
       "    </tr>\n",
       "  </tbody>\n",
       "</table>\n",
       "<p>5 rows × 32 columns</p>\n",
       "</div>"
      ],
      "text/plain": [
       "   Unnamed: 0  adult     budget                            genres_x  id_tmdb  \\\n",
       "0          70  False   12800000                  ['Drama', 'Crime']       16   \n",
       "1         109  False  140000000  ['Adventure', 'Fantasy', 'Action']       22   \n",
       "2         133  False   30000000                 ['Action', 'Crime']       24   \n",
       "3         154  False  200000000  ['Adventure', 'Fantasy', 'Action']       58   \n",
       "4         196  False    2000000      ['Thriller', 'Crime', 'Drama']       67   \n",
       "\n",
       "     imdb_id original_language  \\\n",
       "0  tt0168629                en   \n",
       "1  tt0325980                en   \n",
       "2  tt0266697                en   \n",
       "3  tt0383574                en   \n",
       "4  tt0445620                en   \n",
       "\n",
       "                                      original_title  \\\n",
       "0                                 Dancer in the Dark   \n",
       "1  Pirates of the Caribbean: The Curse of the Bla...   \n",
       "2                                  Kill Bill: Vol. 1   \n",
       "3         Pirates of the Caribbean: Dead Man's Chest   \n",
       "4                                       Paradise Now   \n",
       "\n",
       "                                    original_title.1  \\\n",
       "0                                 Dancer in the Dark   \n",
       "1  Pirates of the Caribbean: The Curse of the Bla...   \n",
       "2                                  Kill Bill: Vol. 1   \n",
       "3         Pirates of the Caribbean: Dead Man's Chest   \n",
       "4                                       Paradise Now   \n",
       "\n",
       "                                            overview  ...  \\\n",
       "0  Selma, a Czech immigrant on the verge of blind...  ...   \n",
       "1  Jack Sparrow, a freewheeling 18th-century pira...  ...   \n",
       "2  An assassin is shot by her ruthless employer, ...  ...   \n",
       "3  Captain Jack Sparrow works his way out of a bl...  ...   \n",
       "4  Two childhood friends are recruited for a suic...  ...   \n",
       "\n",
       "                                   writers     tconst titleType  \\\n",
       "0                      nm0001885,nm0797604  tt0168629     movie   \n",
       "1  nm0254645,nm0744429,nm0064181,nm0938684  tt0325980     movie   \n",
       "2                      nm0000233,nm0000235  tt0266697     movie   \n",
       "3  nm0254645,nm0744429,nm0064181,nm0938684  tt0383574     movie   \n",
       "4            nm0009463,nm1178208,nm0388293  tt0445620     movie   \n",
       "\n",
       "                                        primaryTitle  \\\n",
       "0                                 Dancer in the Dark   \n",
       "1  Pirates of the Caribbean: The Curse of the Bla...   \n",
       "2                                  Kill Bill: Vol. 1   \n",
       "3         Pirates of the Caribbean: Dead Man's Chest   \n",
       "4                                       Paradise Now   \n",
       "\n",
       "                                       originalTitle  isAdult startYear  \\\n",
       "0                                 Dancer in the Dark        0      2000   \n",
       "1  Pirates of the Caribbean: The Curse of the Bla...        0      2003   \n",
       "2                                  Kill Bill: Vol. 1        0      2003   \n",
       "3         Pirates of the Caribbean: Dead Man's Chest        0      2006   \n",
       "4                                       Paradise Now        0      2005   \n",
       "\n",
       "  endYear runtimeMinutes                  genres_y  \n",
       "0      \\N            140       Crime,Drama,Musical  \n",
       "1      \\N            143  Action,Adventure,Fantasy  \n",
       "2      \\N            111     Action,Crime,Thriller  \n",
       "3      \\N            151  Action,Adventure,Fantasy  \n",
       "4      \\N             91      Crime,Drama,Thriller  \n",
       "\n",
       "[5 rows x 32 columns]"
      ]
     },
     "execution_count": 55,
     "metadata": {},
     "output_type": "execute_result"
    }
   ],
   "source": [
    "verif_v2 = verif[(verif['titleType'] == 'movie')]\n",
    "verif_v2.head()"
   ]
  },
  {
   "cell_type": "code",
   "execution_count": 60,
   "metadata": {},
   "outputs": [
    {
     "data": {
      "text/plain": [
       "Index(['Unnamed: 0', 'adult', 'budget', 'genres_x', 'id_tmdb', 'imdb_id',\n",
       "       'original_language', 'original_title', 'original_title.1', 'overview',\n",
       "       'popularity', 'poster_path', 'production_countries', 'release_date',\n",
       "       'revenue', 'runtime', 'spoken_languages', 'status', 'title',\n",
       "       'vote_average', 'vote_count', 'directors', 'writers', 'tconst',\n",
       "       'titleType', 'primaryTitle', 'originalTitle', 'isAdult', 'startYear',\n",
       "       'endYear', 'runtimeMinutes', 'genres_y'],\n",
       "      dtype='object')"
      ]
     },
     "execution_count": 60,
     "metadata": {},
     "output_type": "execute_result"
    }
   ],
   "source": [
    "verif_v2.columns"
   ]
  },
  {
   "cell_type": "code",
   "execution_count": 62,
   "metadata": {},
   "outputs": [],
   "source": [
    "verif_v2 = verif_v2.drop(['isAdult','startYear','endYear','Unnamed: 0','original_title.1','genres_y'],axis=1)"
   ]
  },
  {
   "cell_type": "code",
   "execution_count": 66,
   "metadata": {},
   "outputs": [],
   "source": [
    "from datetime import datetime\n",
    "verif_v2['release_date'] = pd.to_datetime(verif_v2['release_date'])"
   ]
  },
  {
   "cell_type": "code",
   "execution_count": 67,
   "metadata": {},
   "outputs": [],
   "source": [
    "verif_v2['year'] = verif_v2['release_date'].dt.year"
   ]
  },
  {
   "cell_type": "code",
   "execution_count": 68,
   "metadata": {},
   "outputs": [],
   "source": [
    "liste = list(verif_v2['id_tmdb'])"
   ]
  },
  {
   "cell_type": "code",
   "execution_count": 69,
   "metadata": {},
   "outputs": [
    {
     "data": {
      "text/html": [
       "<div>\n",
       "<style scoped>\n",
       "    .dataframe tbody tr th:only-of-type {\n",
       "        vertical-align: middle;\n",
       "    }\n",
       "\n",
       "    .dataframe tbody tr th {\n",
       "        vertical-align: top;\n",
       "    }\n",
       "\n",
       "    .dataframe thead th {\n",
       "        text-align: right;\n",
       "    }\n",
       "</style>\n",
       "<table border=\"1\" class=\"dataframe\">\n",
       "  <thead>\n",
       "    <tr style=\"text-align: right;\">\n",
       "      <th></th>\n",
       "      <th>adult</th>\n",
       "      <th>budget</th>\n",
       "      <th>genres</th>\n",
       "      <th>id_tmdb</th>\n",
       "      <th>imdb_id</th>\n",
       "      <th>original_language</th>\n",
       "      <th>original_title</th>\n",
       "      <th>overview</th>\n",
       "      <th>popularity</th>\n",
       "      <th>poster_path</th>\n",
       "      <th>...</th>\n",
       "      <th>vote_average</th>\n",
       "      <th>vote_count</th>\n",
       "      <th>directors</th>\n",
       "      <th>writers</th>\n",
       "      <th>nconst</th>\n",
       "      <th>category</th>\n",
       "      <th>characters</th>\n",
       "      <th>primaryName</th>\n",
       "      <th>knownForTitles</th>\n",
       "      <th>year</th>\n",
       "    </tr>\n",
       "  </thead>\n",
       "  <tbody>\n",
       "    <tr>\n",
       "      <th>70</th>\n",
       "      <td>False</td>\n",
       "      <td>12800000</td>\n",
       "      <td>['Drama', 'Crime']</td>\n",
       "      <td>16</td>\n",
       "      <td>tt0168629</td>\n",
       "      <td>en</td>\n",
       "      <td>Dancer in the Dark</td>\n",
       "      <td>Selma, a Czech immigrant on the verge of blind...</td>\n",
       "      <td>13.781</td>\n",
       "      <td>/8Wdd3fQfbbQeoSfWpHrDfaFNhBU.jpg</td>\n",
       "      <td>...</td>\n",
       "      <td>7.881</td>\n",
       "      <td>1555</td>\n",
       "      <td>nm0001885</td>\n",
       "      <td>nm0001885,nm0797604</td>\n",
       "      <td>nm0001951</td>\n",
       "      <td>actress</td>\n",
       "      <td>[\"Selma Jezkova\"]</td>\n",
       "      <td>Björk</td>\n",
       "      <td>tt0168629,tt11138512,tt0138545,tt0110413</td>\n",
       "      <td>2000</td>\n",
       "    </tr>\n",
       "    <tr>\n",
       "      <th>71</th>\n",
       "      <td>False</td>\n",
       "      <td>12800000</td>\n",
       "      <td>['Drama', 'Crime']</td>\n",
       "      <td>16</td>\n",
       "      <td>tt0168629</td>\n",
       "      <td>en</td>\n",
       "      <td>Dancer in the Dark</td>\n",
       "      <td>Selma, a Czech immigrant on the verge of blind...</td>\n",
       "      <td>13.781</td>\n",
       "      <td>/8Wdd3fQfbbQeoSfWpHrDfaFNhBU.jpg</td>\n",
       "      <td>...</td>\n",
       "      <td>7.881</td>\n",
       "      <td>1555</td>\n",
       "      <td>nm0001885</td>\n",
       "      <td>nm0001885,nm0797604</td>\n",
       "      <td>nm0000366</td>\n",
       "      <td>actress</td>\n",
       "      <td>[\"Kathy\"]</td>\n",
       "      <td>Catherine Deneuve</td>\n",
       "      <td>tt0283832,tt0061395,tt0168629,tt0058450</td>\n",
       "      <td>2000</td>\n",
       "    </tr>\n",
       "    <tr>\n",
       "      <th>72</th>\n",
       "      <td>False</td>\n",
       "      <td>12800000</td>\n",
       "      <td>['Drama', 'Crime']</td>\n",
       "      <td>16</td>\n",
       "      <td>tt0168629</td>\n",
       "      <td>en</td>\n",
       "      <td>Dancer in the Dark</td>\n",
       "      <td>Selma, a Czech immigrant on the verge of blind...</td>\n",
       "      <td>13.781</td>\n",
       "      <td>/8Wdd3fQfbbQeoSfWpHrDfaFNhBU.jpg</td>\n",
       "      <td>...</td>\n",
       "      <td>7.881</td>\n",
       "      <td>1555</td>\n",
       "      <td>nm0001885</td>\n",
       "      <td>nm0001885,nm0797604</td>\n",
       "      <td>nm0001556</td>\n",
       "      <td>actor</td>\n",
       "      <td>[\"Bill Houston\"]</td>\n",
       "      <td>David Morse</td>\n",
       "      <td>tt0120689,tt0887912,tt0117500,tt0816711</td>\n",
       "      <td>2000</td>\n",
       "    </tr>\n",
       "    <tr>\n",
       "      <th>73</th>\n",
       "      <td>False</td>\n",
       "      <td>12800000</td>\n",
       "      <td>['Drama', 'Crime']</td>\n",
       "      <td>16</td>\n",
       "      <td>tt0168629</td>\n",
       "      <td>en</td>\n",
       "      <td>Dancer in the Dark</td>\n",
       "      <td>Selma, a Czech immigrant on the verge of blind...</td>\n",
       "      <td>13.781</td>\n",
       "      <td>/8Wdd3fQfbbQeoSfWpHrDfaFNhBU.jpg</td>\n",
       "      <td>...</td>\n",
       "      <td>7.881</td>\n",
       "      <td>1555</td>\n",
       "      <td>nm0001885</td>\n",
       "      <td>nm0001885,nm0797604</td>\n",
       "      <td>nm0001780</td>\n",
       "      <td>actor</td>\n",
       "      <td>[\"Jeff\"]</td>\n",
       "      <td>Peter Stormare</td>\n",
       "      <td>tt0116282,tt0168629,tt0355295,tt0360486</td>\n",
       "      <td>2000</td>\n",
       "    </tr>\n",
       "    <tr>\n",
       "      <th>74</th>\n",
       "      <td>False</td>\n",
       "      <td>12800000</td>\n",
       "      <td>['Drama', 'Crime']</td>\n",
       "      <td>16</td>\n",
       "      <td>tt0168629</td>\n",
       "      <td>en</td>\n",
       "      <td>Dancer in the Dark</td>\n",
       "      <td>Selma, a Czech immigrant on the verge of blind...</td>\n",
       "      <td>13.781</td>\n",
       "      <td>/8Wdd3fQfbbQeoSfWpHrDfaFNhBU.jpg</td>\n",
       "      <td>...</td>\n",
       "      <td>7.881</td>\n",
       "      <td>1555</td>\n",
       "      <td>nm0001885</td>\n",
       "      <td>nm0001885,nm0797604</td>\n",
       "      <td>nm0001297</td>\n",
       "      <td>actor</td>\n",
       "      <td>[\"Oldrich Novy\"]</td>\n",
       "      <td>Joel Grey</td>\n",
       "      <td>tt0068327,tt0089901,tt0168629,tt1024715</td>\n",
       "      <td>2000</td>\n",
       "    </tr>\n",
       "  </tbody>\n",
       "</table>\n",
       "<p>5 rows × 27 columns</p>\n",
       "</div>"
      ],
      "text/plain": [
       "    adult    budget              genres  id_tmdb    imdb_id original_language  \\\n",
       "70  False  12800000  ['Drama', 'Crime']       16  tt0168629                en   \n",
       "71  False  12800000  ['Drama', 'Crime']       16  tt0168629                en   \n",
       "72  False  12800000  ['Drama', 'Crime']       16  tt0168629                en   \n",
       "73  False  12800000  ['Drama', 'Crime']       16  tt0168629                en   \n",
       "74  False  12800000  ['Drama', 'Crime']       16  tt0168629                en   \n",
       "\n",
       "        original_title                                           overview  \\\n",
       "70  Dancer in the Dark  Selma, a Czech immigrant on the verge of blind...   \n",
       "71  Dancer in the Dark  Selma, a Czech immigrant on the verge of blind...   \n",
       "72  Dancer in the Dark  Selma, a Czech immigrant on the verge of blind...   \n",
       "73  Dancer in the Dark  Selma, a Czech immigrant on the verge of blind...   \n",
       "74  Dancer in the Dark  Selma, a Czech immigrant on the verge of blind...   \n",
       "\n",
       "    popularity                       poster_path  ... vote_average vote_count  \\\n",
       "70      13.781  /8Wdd3fQfbbQeoSfWpHrDfaFNhBU.jpg  ...        7.881       1555   \n",
       "71      13.781  /8Wdd3fQfbbQeoSfWpHrDfaFNhBU.jpg  ...        7.881       1555   \n",
       "72      13.781  /8Wdd3fQfbbQeoSfWpHrDfaFNhBU.jpg  ...        7.881       1555   \n",
       "73      13.781  /8Wdd3fQfbbQeoSfWpHrDfaFNhBU.jpg  ...        7.881       1555   \n",
       "74      13.781  /8Wdd3fQfbbQeoSfWpHrDfaFNhBU.jpg  ...        7.881       1555   \n",
       "\n",
       "    directors              writers     nconst category         characters  \\\n",
       "70  nm0001885  nm0001885,nm0797604  nm0001951  actress  [\"Selma Jezkova\"]   \n",
       "71  nm0001885  nm0001885,nm0797604  nm0000366  actress          [\"Kathy\"]   \n",
       "72  nm0001885  nm0001885,nm0797604  nm0001556    actor   [\"Bill Houston\"]   \n",
       "73  nm0001885  nm0001885,nm0797604  nm0001780    actor           [\"Jeff\"]   \n",
       "74  nm0001885  nm0001885,nm0797604  nm0001297    actor   [\"Oldrich Novy\"]   \n",
       "\n",
       "          primaryName                            knownForTitles  year  \n",
       "70              Björk  tt0168629,tt11138512,tt0138545,tt0110413  2000  \n",
       "71  Catherine Deneuve   tt0283832,tt0061395,tt0168629,tt0058450  2000  \n",
       "72        David Morse   tt0120689,tt0887912,tt0117500,tt0816711  2000  \n",
       "73     Peter Stormare   tt0116282,tt0168629,tt0355295,tt0360486  2000  \n",
       "74          Joel Grey   tt0068327,tt0089901,tt0168629,tt1024715  2000  \n",
       "\n",
       "[5 rows x 27 columns]"
      ]
     },
     "execution_count": 69,
     "metadata": {},
     "output_type": "execute_result"
    }
   ],
   "source": [
    "films_personnes = films_tmdb_imdb_sup5_2000_60[films_tmdb_imdb_sup5_2000_60['id_tmdb'].isin(liste)]\n",
    "films_personnes.head()"
   ]
  },
  {
   "cell_type": "code",
   "execution_count": 50,
   "metadata": {},
   "outputs": [
    {
     "data": {
      "text/plain": [
       "Index(['adult', 'budget', 'genres', 'id_tmdb', 'imdb_id', 'original_language',\n",
       "       'original_title', 'overview', 'popularity', 'poster_path',\n",
       "       'production_countries', 'release_date', 'revenue', 'runtime',\n",
       "       'spoken_languages', 'status', 'title', 'vote_average', 'vote_count',\n",
       "       'directors', 'writers', 'nconst', 'category', 'characters',\n",
       "       'primaryName', 'knownForTitles', 'year'],\n",
       "      dtype='object')"
      ]
     },
     "execution_count": 50,
     "metadata": {},
     "output_type": "execute_result"
    }
   ],
   "source": [
    "films_personnes.columns"
   ]
  },
  {
   "cell_type": "code",
   "execution_count": 74,
   "metadata": {},
   "outputs": [
    {
     "data": {
      "text/plain": [
       "Index(['adult', 'budget', 'genres_x', 'id_tmdb', 'imdb_id',\n",
       "       'original_language', 'original_title', 'overview', 'popularity',\n",
       "       'poster_path', 'production_countries', 'release_date', 'revenue',\n",
       "       'runtime', 'spoken_languages', 'status', 'title', 'vote_average',\n",
       "       'vote_count', 'directors', 'writers', 'tconst', 'titleType', 'year'],\n",
       "      dtype='object')"
      ]
     },
     "execution_count": 74,
     "metadata": {},
     "output_type": "execute_result"
    }
   ],
   "source": [
    "verif_v2.columns"
   ]
  },
  {
   "cell_type": "code",
   "execution_count": 71,
   "metadata": {},
   "outputs": [],
   "source": [
    "verif_v2 = verif_v2.drop(['originalTitle','runtimeMinutes','primaryTitle'], axis = 1)"
   ]
  },
  {
   "cell_type": "code",
   "execution_count": 75,
   "metadata": {},
   "outputs": [],
   "source": [
    "verif_v2 = verif_v2.drop('titleType',axis=1)"
   ]
  },
  {
   "cell_type": "code",
   "execution_count": 72,
   "metadata": {},
   "outputs": [
    {
     "data": {
      "text/plain": [
       "<Axes: xlabel='runtime'>"
      ]
     },
     "execution_count": 72,
     "metadata": {},
     "output_type": "execute_result"
    },
    {
     "data": {
      "image/png": "[encoded data removed]",
      "text/plain": [
       "<Figure size 640x480 with 1 Axes>"
      ]
     },
     "metadata": {},
     "output_type": "display_data"
    }
   ],
   "source": [
    "import seaborn as sns \n",
    "sns.boxplot(verif_v2,x='runtime')"
   ]
  },
  {
   "cell_type": "markdown",
   "metadata": {},
   "source": [
    "FIN NETTOYAGE DES DONNEES "
   ]
  },
  {
   "cell_type": "code",
   "execution_count": null,
   "metadata": {},
   "outputs": [],
   "source": []
  }
 ],
 "metadata": {
  "kernelspec": {
   "display_name": "base",
   "language": "python",
   "name": "python3"
  },
  "language_info": {
   "codemirror_mode": {
    "name": "ipython",
    "version": 3
   },
   "file_extension": ".py",
   "mimetype": "text/x-python",
   "name": "python",
   "nbconvert_exporter": "python",
   "pygments_lexer": "ipython3",
   "version": "3.12.4"
  }
 },
 "nbformat": 4,
 "nbformat_minor": 2
}
