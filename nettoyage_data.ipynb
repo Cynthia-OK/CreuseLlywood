{
 "cells": [
  {
   "cell_type": "markdown",
   "metadata": {},
   "source": [
    "dans ce fichier nous allons mettre les requêtes de filtres et nettoyage des données"
   ]
  },
  {
   "cell_type": "markdown",
   "metadata": {},
   "source": [
    "Import pandas"
   ]
  },
  {
   "cell_type": "code",
   "execution_count": null,
   "metadata": {},
   "outputs": [],
   "source": [
    "import pandas as pd"
   ]
  },
  {
   "cell_type": "markdown",
   "metadata": {},
   "source": [
    "Import des données : tables entières"
   ]
  },
  {
   "cell_type": "code",
   "execution_count": null,
   "metadata": {},
   "outputs": [],
   "source": [
    "\n",
    "\n",
    "tmdb = pd.read_csv(\"./Data/TMDB/tmdb_full.csv\", low_memory=False)\n",
    "\n",
    "# title_akas = pd.read_csv(\"./Data/IMDb/title.akas.tsv/title.akas.tsv\", sep=\"\\t\", low_memory=False)\n",
    "\n",
    "\n",
    "# title_basics = pd.read_csv(\"./Data/IMDb/title.basics.tsv/title.basics.tsv\", sep=\"\\t\", low_memory=False)\n",
    "\n",
    "\n",
    "# title_crew = pd.read_csv(\"./Data/IMDb/title.crew.tsv/title.crew.tsv\", sep=\"\\t\", low_memory=False)\n",
    "\n",
    "\n",
    "# title_episode = pd.read_csv(\"./Data/IMDb/title.episode.tsv/title.episode.tsv\", sep=\"\\t\", low_memory=False)\n",
    "\n",
    "\n",
    "# title_principals = pd.read_csv(\"./Data/IMDb/title.principals.tsv/title.principals.tsv\", sep=\"\\t\", low_memory=False)\n",
    "\n",
    "\n",
    "# title_ratings = pd.read_csv(\"./Data/IMDb/title.ratings.tsv/title.ratings.tsv\", sep=\"\\t\", low_memory=False)\n",
    "\n",
    "\n",
    "# name_basics = pd.read_csv(\"./Data/IMDb/name.basics.tsv/name.basics.tsv\", sep=\"\\t\", low_memory=False)"
   ]
  }
 ],
 "metadata": {
  "language_info": {
   "name": "python"
  }
 },
 "nbformat": 4,
 "nbformat_minor": 2
}
